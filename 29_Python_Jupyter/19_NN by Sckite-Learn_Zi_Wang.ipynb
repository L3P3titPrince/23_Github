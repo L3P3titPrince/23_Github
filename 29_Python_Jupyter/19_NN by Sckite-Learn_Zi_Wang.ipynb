{
 "cells": [
  {
   "cell_type": "markdown",
   "metadata": {},
   "source": [
    "<a id=\"1.Summary\"></a>\n",
    "# 1.Summary"
   ]
  },
  {
   "cell_type": "markdown",
   "metadata": {},
   "source": [
    "Neural Network"
   ]
  },
  {
   "cell_type": "markdown",
   "metadata": {},
   "source": [
    "<br>"
   ]
  },
  {
   "cell_type": "markdown",
   "metadata": {},
   "source": [
    "<a id=\"2.Table of Contents\"></a>\n",
    "# 2.Tabole of Contents\n",
    "<a href=\"#1.Summary\">Click this Link back to Top</a>"
   ]
  },
  {
   "cell_type": "markdown",
   "metadata": {},
   "source": [
    "<ol>\n",
    "    <li><a href=\"#1.Summary\">Summary</a></li>\n",
    "    <li><a href=\"#2.Tabole of Contents\">Tabole of Contents</a></li>\n",
    "    <li><a href=\"#3.Import Function\">Import Function</a></li>\n",
    "    <li><a href=\"#4.Fit and Plot\">Fit and Plot</a></li>\n",
    "    <li><a href=\"#5.Performance Measures\">Performance Measures</a></li>\n",
    "    <li><a href=\"#6.Cross-Validation\">Cross-Validation</a></li>\n",
    "    <li><a href=\"#7.Pruning\">Pruning</a></li>\n",
    "    <li><a href=\"#8.Report\">Report</a></li>\n",
    "    <li><a href=\"#9.Discussion\">Discussion</a></li>\n",
    "    <li><a href=\"#10.Unused Code\">Unused Code</a></li>\n",
    "</ol>"
   ]
  },
  {
   "cell_type": "markdown",
   "metadata": {},
   "source": [
    "<a id=\"3.Import Function\"></a>\n",
    "# 3.Import Function\n",
    "<a href=\"#2.Table of Contents\">Click this Link back to Top</a>"
   ]
  },
  {
   "cell_type": "code",
   "execution_count": 1,
   "metadata": {},
   "outputs": [],
   "source": [
    "import copy\n",
    "import time\n",
    "import pandas as pd\n",
    "import numpy as np\n",
    "from tqdm.notebook import tqdm\n",
    "from IPython.display import Image\n",
    "\n",
    "from sklearn.model_selection import train_test_split\n",
    "from sklearn.neural_network import MLPClassifier\n",
    "from sklearn.metrics import confusion_matrix"
   ]
  },
  {
   "cell_type": "markdown",
   "metadata": {},
   "source": [
    "<br>"
   ]
  },
  {
   "cell_type": "markdown",
   "metadata": {},
   "source": [
    "<a id=\"4.Read and Split\"></a>\n",
    "# 4.Read and Split\n",
    "<a href=\"#2.Table of Contents\">Click this Link back to Top</a>"
   ]
  },
  {
   "cell_type": "code",
   "execution_count": 2,
   "metadata": {},
   "outputs": [],
   "source": [
    "def read_split(data_path):\n",
    "    \"\"\"\n",
    "    \"\"\"\n",
    "    df = pd.read_csv(data_path)\n",
    "    # survived, 0=No, 1=Yes  809 not survived, 500 survived\n",
    "    # slibsp = number of siblings / spouses aboard the Titanic\n",
    "    # parch = number of parents / children aboard the Titanic\n",
    "    # fare = Passenger Fare\n",
    "    # ticket = ticket number (This is total random, i think is irrelevant)\n",
    "    # cabin = cabin number (This is total random, i think is irrelevant)\n",
    "    # embarked = Port of Embarkation (C = Cherbourg, Q = Queenstown, S = Southampton)\n",
    "    # body = Body Identification Number (This is total random, i think is irrelevant)\n",
    "    # home.dest: Home/destination, maybe we need split this column\n",
    "    # we need decide which columns should be used when we\n",
    "    \n",
    "    #**********************Preprocess Data************************\n",
    "    # Because decision tree only can process numerical data, we change string data into numerical value\n",
    "    df['pclass'] = df['pclass'].map( {'1st': 1, '2nd': 2, '3rd':3} )\n",
    "    df['sex'] = df['sex'].map( {'female': 0, 'male': 1} ).astype(int)\n",
    "    #**********************Preprocess Data************************\n",
    "    \n",
    "    # extract features we need\n",
    "    feature_cols = ['pclass', 'sex','age', 'sibsp', 'survived']\n",
    "    # \n",
    "    df_extract = df[feature_cols]\n",
    "    # ommit NA exmpale\n",
    "    df_ommit = df_extract.dropna()\n",
    "    X = df_ommit[feature_cols]\n",
    "    label = ['survived']\n",
    "    y = df_ommit[label]\n",
    "    X_train, X_test, y_train, y_test = train_test_split(X, y ,test_size =0.2, random_state=1024)\n",
    "    \n",
    "    return X_train, X_test, y_train, y_test, df_ommit"
   ]
  },
  {
   "cell_type": "code",
   "execution_count": 3,
   "metadata": {},
   "outputs": [],
   "source": [
    "# data_path = \"03_data/13_Titanic.csv\"\n",
    "# X_train, X_test, y_train, y_test, df_ommit = read_split(data_path)"
   ]
  },
  {
   "cell_type": "code",
   "execution_count": 4,
   "metadata": {},
   "outputs": [],
   "source": [
    "def nn_model(X_train, X_test, y_train, y_test, l2_penalty = 1e-5, lr= 1e-2):\n",
    "    \"\"\"\n",
    "    l2_penalty is used to shrink the paramters scale\n",
    "    \n",
    "    \"\"\"\n",
    "    # we have four features, so input units is four. If we need two hidden layer, n_layer will be 4-2 = 2(hiden layer)\n",
    "    # when early_stopping is True, it will use 10% as validation \n",
    "    clf = MLPClassifier(hidden_layer_sizes=(40, 40), \\\n",
    "                        activation = 'logistic', \\\n",
    "                        solver='adam',\\\n",
    "                        alpha=1e-2, \\\n",
    "                        learning_rate = 'constant', \\\n",
    "                        learning_rate_init = lr, \\\n",
    "                        momentum = 0.9, \\\n",
    "#                         n_iter_no_change = 10, \\\n",
    "                        random_state=1024)\n",
    "    history = clf.fit(X_train.iloc[:,:-1], y_train)\n",
    "    score = clf.score(X_test.iloc[:,:-1], y_test)\n",
    "   #clf.predict_proba([[2., 2.], [1., 2.]])\n",
    "    # using X_train of fours feature columns with the model we have trained ---clf----to get predict result\n",
    "    # and use argmax to get more bigger index from one row. Finally put it into dataframe\n",
    "    X_train['train_predit'] = np.argmax(clf.predict_proba(X_train.iloc[:,:-1]), axis=1).reshape(-1,1)\n",
    "    X_test['train_predit'] = np.argmax(clf.predict_proba(X_test.iloc[:,:-1]), axis=1).reshape(-1,1)\n",
    "    return score, history, clf, X_train, X_test"
   ]
  },
  {
   "cell_type": "code",
   "execution_count": 5,
   "metadata": {},
   "outputs": [],
   "source": [
    "def confusion_maxtrx(X_train, X_test, y_train, y_test):\n",
    "    \"\"\"\n",
    "    \"\"\"\n",
    "    tn, fp, fn, tp = confusion_matrix(X_train.iloc[:,-1], y_train).ravel()\n",
    "    print(f\"in-sample percent survivors correctly predicted (on training set) is {round(tp/(tp+fn)*100, 2)}%\")\n",
    "    print(f\"in-sample percent fatalities correctly predicted (on training set) is {round(tn/(tn+fp)*100, 2)}%\")\n",
    "    tn, fp, fn, tp = confusion_matrix(X_test.iloc[:,-1], y_test).ravel()\n",
    "    print(f\"in-sample percent survivors correctly predicted (on test set) is {round(tp/(tp+fn)*100, 2)}%\")\n",
    "    print(f\"in-sample percent fatalities correctly predicted (on test set) is {round(tn/(tn+fp)*100, 2)}%\")\n",
    "    \n",
    "    return None"
   ]
  },
  {
   "cell_type": "code",
   "execution_count": 6,
   "metadata": {},
   "outputs": [],
   "source": [
    "def second_model(X_train, X_test, y_train, y_test, l2_penalty = 1e-5, lr= 1e-4):\n",
    "    \"\"\"\n",
    "    l2_penalty is used to shrink the paramters scale\n",
    "    \n",
    "    \"\"\"\n",
    "    # we have four features, so input units is four. If we need two hidden layer, n_layer will be 4-2 = 2(hiden layer)\n",
    "    # when early_stopping is True, it will use 10% as validation \n",
    "    clf = MLPClassifier(hidden_layer_sizes=(50, 50), \\\n",
    "                        activation = 'logistic', \\\n",
    "                        solver='sgd',\\\n",
    "                        alpha=1e-5, \\\n",
    "                        learning_rate = 'constant', \\\n",
    "                        learning_rate_init = lr, \\\n",
    "                        momentum = 0.99, \\\n",
    "                        early_stopping = True, \\\n",
    "                        n_iter_no_change = 10, \\\n",
    "                        random_state=1024)\n",
    "    history = clf.fit(X_train.iloc[:,:-1], y_train)\n",
    "    score = clf.score(X_test.iloc[:,:-1], y_test)\n",
    "    X_train['train_predit'] = np.argmax(clf.predict_proba(X_train.iloc[:,:-1]), axis=1).reshape(-1,1)\n",
    "    X_test['train_predit'] = np.argmax(clf.predict_proba(X_test.iloc[:,:-1]), axis=1).reshape(-1,1)\n",
    "    \n",
    "    return score, history, clf, X_train, X_test"
   ]
  },
  {
   "cell_type": "markdown",
   "metadata": {},
   "source": [
    "<a id=\"9.Main Function\"></a>\n",
    "# 9.Main Function\n",
    "<a href=\"#2.Table of Contents\">Click this Link back to Top</a>"
   ]
  },
  {
   "cell_type": "code",
   "execution_count": 10,
   "metadata": {},
   "outputs": [],
   "source": [
    "def main_function():\n",
    "    \"\"\"\n",
    "    \"\"\"\n",
    "    data_path = \"03_data/13_Titanic.csv\"\n",
    "    # Step 1 Read and Split\n",
    "    print(\"*\"*30, \"Step 1 Read and Split\", \"*\"*30)\n",
    "    X_train, X_test, y_train, y_test, df = read_split(data_path)\n",
    "    \n",
    "    print(\"*\"*40, \"Second Model\", \"*\"*40)\n",
    "#     X_train, X_test, y_train, y_test, df = read_split(data_path)\n",
    "    score, history, clf, X_train, X_test = second_model(X_train, X_test, y_train, y_test, l2_penalty = 1e-2, lr= 1e-2)\n",
    "    confusion_maxtrx(X_train, X_test, y_train, y_test)\n",
    "    print('\\n',end='\\n')\n",
    "    \n",
    "    # Step 2 fit DecisionTree function\n",
    "    print(\"*\"*30, \"Step 3 Check Performance\", \"*\"*30)\n",
    "    print(\"*\"*40, \"First Model\", \"*\"*40)\n",
    "    X_train, X_test, y_train, y_test, df = read_split(data_path)\n",
    "    score, history, clf, X_train, X_test = nn_model(X_train, X_test, y_train, y_test, l2_penalty = 1e-2, lr= 1e-2)\n",
    "    confusion_maxtrx(X_train, X_test, y_train, y_test)\n",
    "    print('\\n',end='\\n')\n",
    "    \n",
    "\n",
    "#     print(\"*\"*30, \"Step 2 fit DecisionTree function\", \"*\"*30)\n",
    "#     image_path_1 = \"04_images/14_titanic_DT.png\"\n",
    "#     clf = fit_plot(X_train, X_test, y_train, y_test, image_path_1)\n",
    "#     display(Image(filename=image_path_1))\n",
    "    \n",
    "#     # Step 3 performance measures\n",
    "#     print(\"*\"*30, \"Step 3 performance measures\", \"*\"*30)\n",
    "#     measures(X_train, X_test, y_train, y_test, df, clf)\n",
    "    \n",
    "#     # Step 4 use cross validation find best paramters\n",
    "#     print(\"*\"*30, \"Step 4 use cross validation find best paramters\", \"*\"*30)\n",
    "#     top_params = gridsearch(X_train, y_train,clf)\n",
    "    \n",
    "#     # Step 5 Prune Tree with best paramtesrs and plot \n",
    "#     print(\"*\"*30, \"Step 5 Prune Tree with best paramtesrs and plot \", \"*\"*30)\n",
    "#     prune_grid = prue_plot(top_params, X_train, X_test, y_train, y_test)\n",
    "#     plt.show()\n",
    "    \n",
    "#     # Step 6 plot best pruning tree model \n",
    "#     print(\"*\"*30, \"Step 6 plot best pruning tree model \", \"*\"*30)\n",
    "#     image_path_2 = \"04_images/15_Best_DescionTree.png\"\n",
    "#     #clf = DecisionTreeClassifier(max_depth=4,**prune_grid)\n",
    "#     clf_history = fit_plot(X_train, X_test, y_train, y_test, image_path_2, prune_grid)\n",
    "#     display(Image(filename=image_path_2))\n",
    "    return df, score, history, clf, X_train, X_test\n",
    "    "
   ]
  },
  {
   "cell_type": "code",
   "execution_count": 11,
   "metadata": {},
   "outputs": [
    {
     "name": "stdout",
     "output_type": "stream",
     "text": [
      "****************************** Step 1 Read and Split ******************************\n",
      "**************************************** Second Model ****************************************\n",
      "in-sample percent survivors correctly predicted (on training set) is 88.89%\n",
      "in-sample percent fatalities correctly predicted (on training set) is 58.52%\n",
      "in-sample percent survivors correctly predicted (on test set) is 100.0%\n",
      "in-sample percent fatalities correctly predicted (on test set) is 64.42%\n",
      "\n",
      "\n",
      "****************************** Step 3 Check Performance ******************************\n",
      "**************************************** First Model ****************************************\n"
     ]
    },
    {
     "name": "stderr",
     "output_type": "stream",
     "text": [
      "D:\\ProgramData\\Anaconda3\\envs\\06_ten_GPU_22\\lib\\site-packages\\sklearn\\utils\\validation.py:72: DataConversionWarning: A column-vector y was passed when a 1d array was expected. Please change the shape of y to (n_samples, ), for example using ravel().\n",
      "  return f(**kwargs)\n",
      "D:\\ProgramData\\Anaconda3\\envs\\06_ten_GPU_22\\lib\\site-packages\\sklearn\\utils\\validation.py:72: DataConversionWarning: A column-vector y was passed when a 1d array was expected. Please change the shape of y to (n_samples, ), for example using ravel().\n",
      "  return f(**kwargs)\n"
     ]
    },
    {
     "name": "stdout",
     "output_type": "stream",
     "text": [
      "in-sample percent survivors correctly predicted (on training set) is 83.56%\n",
      "in-sample percent fatalities correctly predicted (on training set) is 80.33%\n",
      "in-sample percent survivors correctly predicted (on test set) is 87.5%\n",
      "in-sample percent fatalities correctly predicted (on test set) is 82.47%\n",
      "\n",
      "\n"
     ]
    }
   ],
   "source": [
    "if __name__==\"__main__\":\n",
    "    df, score, history, clf, X_train, X_test = main_function()"
   ]
  },
  {
   "cell_type": "code",
   "execution_count": 9,
   "metadata": {},
   "outputs": [
    {
     "data": {
      "image/png": "[encoded data removed]",
      "text/plain": [
       "<IPython.core.display.Image object>"
      ]
     },
     "execution_count": 9,
     "metadata": {},
     "output_type": "execute_result"
    }
   ],
   "source": [
    "Image(\"04_images/16_DT.png\")"
   ]
  },
  {
   "cell_type": "markdown",
   "metadata": {},
   "source": [
    "<a id=\"10. Step 4 Compare\"></a>\n",
    "# 10. Step 4 Compare\n",
    "<a href=\"#2.Table of Contents\">Click this Link back to Top</a>"
   ]
  },
  {
   "cell_type": "markdown",
   "metadata": {},
   "source": [
    "The fatalities have no siginificant different accuracy for both algorightm. But, at survivors part, Neural Network is performance better than Decision Tree. "
   ]
  },
  {
   "cell_type": "code",
   "execution_count": 12,
   "metadata": {},
   "outputs": [
    {
     "data": {
      "text/plain": [
       "0.8380952380952381"
      ]
     },
     "execution_count": 12,
     "metadata": {},
     "output_type": "execute_result"
    }
   ],
   "source": [
    "score"
   ]
  },
  {
   "cell_type": "markdown",
   "metadata": {},
   "source": [
    "For the accuracy aspect, Neural Network can reach 83.81% mean accuracy, Decsion Tree can only get 79% accuracy"
   ]
  }
 ],
 "metadata": {
  "kernelspec": {
   "display_name": "Python 3",
   "language": "python",
   "name": "python3"
  },
  "language_info": {
   "codemirror_mode": {
    "name": "ipython",
    "version": 3
   },
   "file_extension": ".py",
   "mimetype": "text/x-python",
   "name": "python",
   "nbconvert_exporter": "python",
   "pygments_lexer": "ipython3",
   "version": "3.8.5"
  }
 },
 "nbformat": 4,
 "nbformat_minor": 4
}
