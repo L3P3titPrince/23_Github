{
 "cells": [
  {
   "cell_type": "markdown",
   "metadata": {},
   "source": [
    "<a id=\"1.Summary\"></a>\n",
    "# 1.Summary"
   ]
  },
  {
   "cell_type": "markdown",
   "metadata": {},
   "source": [
    "You will need to use the Penn Treebank corpus for this assignment. Four data fles are provided: train.txt,\n",
    "train.5k.txt, valid.txt, and input.txt. You can use train.txt to train your models and use valid.txt for testing.\n",
    "File input.txt can be used for a sanity check on whether the model produces coherent sequences of words for\n",
    "unseen data with no next word."
   ]
  },
  {
   "cell_type": "markdown",
   "metadata": {},
   "source": [
    "<br>"
   ]
  },
  {
   "cell_type": "markdown",
   "metadata": {},
   "source": [
    "<a id=\"2.Table of Contents\"></a>\n",
    "# 2.Table of Contents\n",
    "<a href=\"#1.Summary\">Click this Link back to Top</a>"
   ]
  },
  {
   "cell_type": "markdown",
   "metadata": {},
   "source": [
    "<ol>\n",
    "    <li><a href=\"#1.Summary\">Summary</a></li>\n",
    "    <li><a href=\"#2.Table of Contents\">Table of Contents</a></li>\n",
    "    <li><a href=\"#3.N-gram\">N-gram</a></li>\n",
    "    <ul>\n",
    "       <li><a href=\"#3.1 Preprocess\">3.1 Preprocess</a></li>\n",
    "       <li><a href=\"#3.2 Bigram\">3.2 Bigram</a></li> \n",
    "       <li><a href=\"#3.3 Trigram\">3.3 Trigram</a></li>\n",
    "       <li><a href=\"#3.4 Good Turing Smoothing\">3.4 Good Turing Smoothing</a></li> \n",
    "       <li><a href=\"#3.5 Kneser-Ney Smoothing\">3.5 Kneser-Ney Smoothing</a></li> \n",
    "       <li><a href=\"#3.6 Predict\">3.6 Predict</a></li> \n",
    "       <li><a href=\"#3.7 Kneser-Ney N-gram Prediction\">3.7 Kneser-Ney N-gram Prediction</a></li>  \n",
    "    </ul>\n",
    "    <li><a href=\"#4.RNN\">RNN</a></li>\n",
    "    <ul>\n",
    "       <li><a href=\"#4.1 Initial Parameters\">4.1 Initial Parameters</a></li>\n",
    "       <li><a href=\"#4.2 Forward Pass\">4.2 Forward Pass</a></li> \n",
    "       <li><a href=\"#4.3 Loss\">4.3 Loss</a></li>\n",
    "       <li><a href=\"#4.4 Traing Step\">4.4 Traing Step</a></li> \n",
    "       <li><a href=\"#4.5 Perplexity\">4.5 Perplexity</a></li> \n",
    "       <li><a href=\"#4.6 Predict Words\">4.6 Predict Words</a></li>   \n",
    "    </ul>\n",
    "    <li><a href=\"#5.Unused Code\">Unused Code</a></li>\n",
    "</ol>"
   ]
  },
  {
   "cell_type": "markdown",
   "metadata": {},
   "source": [
    "<br>"
   ]
  },
  {
   "cell_type": "markdown",
   "metadata": {},
   "source": [
    "<a id=\"3.N-gram\"></a>\n",
    "# 3.N-gram\n",
    "<a href=\"#1.Summary\">Click this Link back to Top</a>"
   ]
  },
  {
   "cell_type": "code",
   "execution_count": 3,
   "metadata": {},
   "outputs": [],
   "source": [
    "import tensorflow as tf"
   ]
  },
  {
   "cell_type": "code",
   "execution_count": 1,
   "metadata": {},
   "outputs": [],
   "source": [
    "import re\n",
    "\n",
    "import numpy as np \n",
    "import pandas as pd\n",
    "from tqdm import tqdm\n",
    "import tensorflow as tf\n",
    "\n",
    "from tensorflow import keras\n",
    "from tensorflow.keras.preprocessing.text import Tokenizer\n",
    "from tensorflow.keras.preprocessing.sequence import pad_sequences\n",
    "from tensorflow.keras.models import Sequential\n",
    "from tensorflow.keras.layers import Embedding, SimpleRNN\n",
    "from tensorflow.keras import layers\n",
    "from tensorflow.keras.models import Model\n",
    "import tensorflow_transform as tft\n",
    "import matplotlib.pyplot as plt"
   ]
  },
  {
   "cell_type": "code",
   "execution_count": 70,
   "metadata": {},
   "outputs": [],
   "source": [
    "from nltk import ngrams\n",
    "import nltk\n",
    "import copy"
   ]
  },
  {
   "cell_type": "markdown",
   "metadata": {},
   "source": [
    "<a id=\"3.1 Preprocess\"></a>\n",
    "## 3.1 Preprocess\n",
    "<a href=\"#1.Summary\">Click this Link back to Top</a>"
   ]
  },
  {
   "cell_type": "markdown",
   "metadata": {},
   "source": [
    "Preprocess the train and validation data, build the vocabulary, tokenize, etc. Here is another concen, in our raw data, there are a lot of <unk> and punctuation. Sometimes"
   ]
  },
  {
   "cell_type": "code",
   "execution_count": 7,
   "metadata": {},
   "outputs": [],
   "source": [
    "class preprocess(object):\n",
    "    \"\"\"\n",
    "    This class contain read_file() and token() functions. In the future, maybe we can use main() to direct\n",
    "    process and generate a new DataFrame with cleaned data\n",
    "    \"\"\"\n",
    "    def __init__(self):\n",
    "        \"\"\"\n",
    "        This function is used to transfer hyperparameters between functions in CLASS \n",
    "        \"\"\"\n",
    "        #self.test = test\n",
    "        \n",
    "    def read_file(self, path):\n",
    "        \"\"\"\n",
    "        Provide local path and output a DataFrame with new column\n",
    "        \"\"\"\n",
    "        df = pd.read_csv(path,names= ['test'])\n",
    "        self.df = df\n",
    "        #print(path)\n",
    "        return df\n",
    "        \n",
    "    def token(self, df):\n",
    "        \"\"\"\n",
    "        clean->tokenizer->sequence\n",
    "        Arugs:\n",
    "        -----\n",
    "        df:array-like\n",
    "            input a full\n",
    "        \"\"\"\n",
    "        # create a new list to fill in clearned text\n",
    "        clean_list=[]\n",
    "        for i in range(len(df)):\n",
    "            # using regix to only extract letters, other puncuation \\n \\t will not be included\n",
    "            cleaned_data = re.sub(r'[^A-Za-z. ]', '', df['test'][i])\n",
    "            # \n",
    "            clean_list.append(cleaned_data)\n",
    "        #create a new column with cleaned data\n",
    "        df['cleaned'] = clean_list\n",
    "        \n",
    "        #\n",
    "        tokenizer = Tokenizer(oov_token=\"<OOV>\")\n",
    "        #transfor sentence to number vector\n",
    "        tokenizer.fit_on_texts(df['cleaned'])\n",
    "        # get the index of each indivudule word\n",
    "        word_index = tokenizer.word_index\n",
    "        \n",
    "        #only choose most frequency 10,000 word_index and transfrom sentences \n",
    "        #with them into number vector like[564, 452, 23, 1]\n",
    "        #the out of vocabulary wiht be give 1. Maximize number of texts_to_sequences()\n",
    "        #will be 9999, which means the 10000th frequceny will \n",
    "        #not show in this sequcen\n",
    "        sequences = tokenizer.texts_to_sequences(df['cleaned'])\n",
    "        \n",
    "        # ***********************Random Print Part***********************\n",
    "        # random pick a row from sequnce\n",
    "        random_num = np.random.randint(0,len(sequences))\n",
    "        print(f\"Random pick the {random_num}th from corpus sequence\")\n",
    "        print(f\"Current vectorized sequnce is {sequences[random_num]}\")\n",
    "        print(f\"Converted back to string:\", \" \".join(list(word_index.keys())[list(word_index.values()).index(i)] \\\n",
    "                                                     for i in sequences[random_num]))\n",
    "        \n",
    "        # ***********************Random Print Part***********************\n",
    "        \n",
    "        return sequences, word_index, df\n",
    "    \n",
    "    def main(self):\n",
    "        path_input = \"03_data/13_a3-data/input.txt\" \n",
    "        path_train5k = \"03_data/13_a3-data/train.5k.txt\"\n",
    "        path_train = \"03_data/13_a3-data/train.txt\"\n",
    "        path_valid = \"03_data/13_a3-data/valid.txt\"\n",
    "        df_input = read_file(path_input)\n",
    "        seq, word_index,df = token(df_input)"
   ]
  },
  {
   "cell_type": "markdown",
   "metadata": {},
   "source": [
    "<br>"
   ]
  },
  {
   "cell_type": "markdown",
   "metadata": {},
   "source": [
    "<a id=\"3.2 Bigram\"></a>\n",
    "## 3.2 Bigram\n",
    "<a href=\"#1.Summary\">Click this Link back to Top</a>"
   ]
  },
  {
   "cell_type": "code",
   "execution_count": 19,
   "metadata": {},
   "outputs": [],
   "source": [
    "def ngram(seq, word_index, df, grams=2):\n",
    "    \"\"\"\n",
    "    Maunally put sequence transform to 2-grams sequence with one by one and inser 2-gram sequcen into \n",
    "    DataFrame with a new column ['bigram']\n",
    "    \n",
    "    Argus:\n",
    "    -----\n",
    "    seq:list\n",
    "        sequence come from preprocess() function, which is tokenizer and sequence result. Each number represent\n",
    "        a word by a int number\n",
    "    \n",
    "    word_index:index\n",
    "        used to find mapping relation between sequence number and real word\n",
    "    \"\"\"\n",
    "    # add DataFrame with a new column \"sequence\" and fill it with seq list\n",
    "    df['sequence'] = seq\n",
    "    # cereate a new empty column to contain bigram\n",
    "    df['bigram'] = \"\"\n",
    "    # change this column into changable type 'object'\n",
    "    df['bigram'] = df['bigram'].astype('object')\n",
    "    \n",
    "    # j iterate through samples of seq/df\n",
    "    for j in tqdm(range(len(seq))):\n",
    "        # clear  ngram list to contain bigram list\n",
    "        ngrams_list=[]\n",
    "        # iterate through every element in one row list\n",
    "        for i in range(len(seq[j])-grams):\n",
    "            # create a new sub-list from i to i+grams, like [i:i+2]\n",
    "            seq_bi = seq[j][i:i+grams]\n",
    "#                print(seq_bi)\n",
    "#                 if seq_bi not in ngrams.keys():\n",
    "#                     ngrams[seq_bi] = []\n",
    "            # add these sub-list into\n",
    "            ngrams_list.append(seq_bi)\n",
    "            #print(ngrams_list)\n",
    "        # for one sell in df, insert with bigram list\n",
    "        df.at[j,'bigram'] = ngrams_list\n",
    "    return df"
   ]
  },
  {
   "cell_type": "markdown",
   "metadata": {},
   "source": [
    "<br>"
   ]
  },
  {
   "cell_type": "markdown",
   "metadata": {},
   "source": [
    "<a id=\"3.3 Trigram\"></a>\n",
    "## 3.3 Trigram\n",
    "<a href=\"#1.Summary\">Click this Link back to Top</a>"
   ]
  },
  {
   "cell_type": "code",
   "execution_count": 156,
   "metadata": {},
   "outputs": [],
   "source": [
    "def ngram_nltk(df, num, col_num='cleaned'):\n",
    "    \"\"\"\n",
    "    \"\"\"\n",
    "    # nltk.\n",
    "    #n_grams_list = []\n",
    "    df_copy = df.copy()\n",
    "    df_copy['bigram_nltk'] = \"\"\n",
    "    # change this column into changable type 'object'\n",
    "    df_copy['bigram_nltk'] = df_copy['bigram_nltk'].astype('object')\n",
    "    n_grams_list = []\n",
    "    for idx,i in tqdm(enumerate(df_copy[col_num])):\n",
    "        #print(idx)\n",
    "        n_grams = ngrams(nltk.word_tokenize(str(i)), num)\n",
    "        ngrams_str = [ ' '.join(grams) for grams in n_grams]\n",
    "        for j in ngrams_str:\n",
    "            n_grams_list.append(j)\n",
    "        df_copy.loc[idx,'bigram_nltk'] = ngrams_str\n",
    "    df_copy.loc['total', 'bigram_nltk'] = n_grams_list\n",
    "    return df_copy"
   ]
  },
  {
   "cell_type": "code",
   "execution_count": 162,
   "metadata": {},
   "outputs": [
    {
     "name": "stderr",
     "output_type": "stream",
     "text": [
      "3165it [00:00, 3800.49it/s]\n"
     ]
    }
   ],
   "source": [
    "df_3 = ngram_nltk(df_input, 2)"
   ]
  },
  {
   "cell_type": "markdown",
   "metadata": {},
   "source": [
    "<br>"
   ]
  },
  {
   "cell_type": "markdown",
   "metadata": {},
   "source": [
    "<a id=\"3.4 Good Turing Smoothing\"></a>\n",
    "## 3.4 Good Turing Smoothing\n",
    "<a href=\"#1.Summary\">Click this Link back to Top</a>"
   ]
  },
  {
   "cell_type": "code",
   "execution_count": 120,
   "metadata": {},
   "outputs": [
    {
     "ename": "NameError",
     "evalue": "name 'all_sents_tokens' is not defined",
     "output_type": "error",
     "traceback": [
      "\u001b[1;31m---------------------------------------------------------------------------\u001b[0m",
      "\u001b[1;31mNameError\u001b[0m                                 Traceback (most recent call last)",
      "\u001b[1;32m<ipython-input-120-464e4f69eadf>\u001b[0m in \u001b[0;36m<module>\u001b[1;34m\u001b[0m\n\u001b[0;32m     10\u001b[0m \u001b[1;33m\u001b[0m\u001b[0m\n\u001b[0;32m     11\u001b[0m \u001b[1;33m\u001b[0m\u001b[0m\n\u001b[1;32m---> 12\u001b[1;33m \u001b[0mall_trigrams\u001b[0m \u001b[1;33m=\u001b[0m \u001b[1;33m(\u001b[0m \u001b[0mngram\u001b[0m \u001b[1;32mfor\u001b[0m \u001b[0msent\u001b[0m \u001b[1;32min\u001b[0m \u001b[0mall_sents_tokens\u001b[0m \u001b[1;32mfor\u001b[0m \u001b[0mngram\u001b[0m \u001b[1;32min\u001b[0m \u001b[0mngrams\u001b[0m\u001b[1;33m(\u001b[0m\u001b[0msent\u001b[0m\u001b[1;33m,\u001b[0m \u001b[1;36m3\u001b[0m\u001b[1;33m,\u001b[0m \u001b[0mpad_left\u001b[0m \u001b[1;33m=\u001b[0m \u001b[1;32mTrue\u001b[0m\u001b[1;33m,\u001b[0m \u001b[0mpad_right\u001b[0m \u001b[1;33m=\u001b[0m \u001b[1;32mTrue\u001b[0m\u001b[1;33m)\u001b[0m\u001b[1;33m)\u001b[0m\u001b[1;33m\u001b[0m\u001b[1;33m\u001b[0m\u001b[0m\n\u001b[0m\u001b[0;32m     13\u001b[0m \u001b[0mfreq_dist\u001b[0m \u001b[1;33m=\u001b[0m \u001b[0mnltk\u001b[0m\u001b[1;33m.\u001b[0m\u001b[0mFreqDist\u001b[0m\u001b[1;33m(\u001b[0m\u001b[0mall_trigrams\u001b[0m\u001b[1;33m)\u001b[0m\u001b[1;33m\u001b[0m\u001b[1;33m\u001b[0m\u001b[0m\n\u001b[0;32m     14\u001b[0m \u001b[0mgt_trigram\u001b[0m \u001b[1;33m=\u001b[0m \u001b[0mnltk\u001b[0m\u001b[1;33m.\u001b[0m\u001b[0mSimpleGoodTuringProbDist\u001b[0m\u001b[1;33m(\u001b[0m\u001b[0mfreq_dist\u001b[0m\u001b[1;33m)\u001b[0m\u001b[1;33m\u001b[0m\u001b[1;33m\u001b[0m\u001b[0m\n",
      "\u001b[1;31mNameError\u001b[0m: name 'all_sents_tokens' is not defined"
     ]
    }
   ],
   "source": [
    "def nltk_tri_pred(model, w1, w2):\n",
    "    prob_sum = 0\n",
    "    possible_next_w = defaultdict(lambda: 0)\n",
    "    for i in model.samples():\n",
    "        if i[0] == w1 and i[1] == w2: # given previous word\n",
    "            prob_sum += model.prob(i)\n",
    "#             print(\"{0}:{1}\".format(i, model.prob(i)))\n",
    "            possible_next_w[i[2]] = model.prob(i)\n",
    "    return possible_next_w\n",
    "\n",
    "\n",
    "\n",
    "\n",
    "# all_trigrams = ( ngram for sent in all_sents_tokens for ngram in ngrams(sent, 3, pad_left = True, pad_right = True))\n",
    "# freq_dist = nltk.FreqDist(all_trigrams)\n",
    "# gt_trigram = nltk.SimpleGoodTuringProbDist(freq_dist)\n",
    "    "
   ]
  },
  {
   "cell_type": "markdown",
   "metadata": {},
   "source": [
    "<a id=\"3.5 Kneser-Ney Smoothing\"></a>\n",
    "## 3.5 Kneser-Ney Smoothing\n",
    "<a href=\"#1.Summary\">Click this Link back to Top</a>"
   ]
  },
  {
   "cell_type": "code",
   "execution_count": null,
   "metadata": {},
   "outputs": [],
   "source": [
    "def nltk_tri_pred(model, w1, w2):\n",
    "    prob_sum = 0\n",
    "    possible_next_w = defaultdict(lambda: None)\n",
    "    for i in model.samples():\n",
    "        if i[0] == w1 and i[1] == w2: # given previous word\n",
    "            prob_sum += model.prob(i)\n",
    "#             print(\"{0}:{1}\".format(i, model.prob(i)))\n",
    "            possible_next_w[i[2]] = model.prob(i)\n",
    "    return possible_next_w\n",
    "\n",
    "# all_trigrams = ( ngram for sent in all_sents_tokens for ngram in ngrams(sent, 3, pad_left = True, pad_right = True))\n",
    "# freq_dist = nltk.FreqDist(all_trigrams)\n",
    "# kneser_ney = nltk.KneserNeyProbDist(freq_dist, discount=0.75)\n",
    "\n",
    "w1,w2 = \"said\",'milton'\n",
    "nltk_tri_pred(kneser_ney, w1, w2)\n"
   ]
  },
  {
   "cell_type": "markdown",
   "metadata": {},
   "source": [
    "<a id=\"3.6 Predict\"></a>\n",
    "## 3.6 Predict\n",
    "<a href=\"#1.Summary\">Click this Link back to Top</a>"
   ]
  },
  {
   "cell_type": "code",
   "execution_count": 322,
   "metadata": {},
   "outputs": [],
   "source": [
    "def predict_ngram(df, first_row):\n",
    "    \"\"\"\n",
    "    This functino used only for predict bigram model\n",
    "    \n",
    "    Argus:\n",
    "    ---\n",
    "    df:ndarry-like\n",
    "        This dataframe must come from preprocess() function, which means have ['cleaned'] column\n",
    "    \"\"\"\n",
    "    #********************Build Unigram DataFrame***********************************\n",
    "    #create a dictionary {key=word : value=probabilty}\n",
    "    #create a DataFrame, index is words and column['value_cout', 'probabilty']\n",
    "    #before we caculate bigram, we need cacualte unigram first\n",
    "    df_unigram = ngram_nltk(df, 1, 'cleaned')\n",
    "    # count the occurance times of very \n",
    "    unigram_series = pd.Series(df_unigram.loc['total','bigram_nltk']).value_counts()\n",
    "    #create a new dataframe,which contain words itself and its cooresponding counts\n",
    "    df_prob_uni = pd.DataFrame(unigram_series, index=unigram_series.index, columns=['value_counts'])\n",
    "    # caculate the condition probabitlyf of indivudal words\n",
    "    df_prob_uni['probability'] = df_prob_uni['value_counts'] / unigram_series.sum()\n",
    "    #********************Build Unigram DataFrame***********************************\n",
    "    \n",
    "    \n",
    "    #********************Build Bigram DataFrame***********************************\n",
    "    # create bigram dataframe from ngram_nltk() fuction\n",
    "    df_bigram = ngram_nltk(df, 2, 'cleaned')\n",
    "    # count the time of very pair of two gram key pair\n",
    "    bigram_series = pd.Series(df_bigram.loc['total','bigram_nltk']).value_counts()\n",
    "    # create bigram dataframe with words pair as index. we need change index later\n",
    "    df_prob_bi = pd.DataFrame(bigram_series.index, \\\n",
    "                          index=bigram_series.index, \\\n",
    "                          columns=['bigram_pairs'])\n",
    "    # create a new column with his word pair, next step we need change index to numercial\n",
    "    df_prob_bi['value_counts'] = bigram_series\n",
    "    # create a new column for ward pair, this is conditinal probability\n",
    "    df_prob_bi['probability'] = df_prob_bi['value_counts'] / bigram_series.sum()\n",
    "    #extract two words into split column, we need use i_1 and i to caculate bigram probabilty\n",
    "    for i in df_prob_bi['bigram_pairs']:\n",
    "        #split bigram word pair into two column\n",
    "        m,n = df_prob_bi['bigram_pairs'][i].split(' ')\n",
    "        df_prob_bi.loc[i, 'First(i-1)'] = m\n",
    "        df_prob_bi.loc[i, 'Second(i)'] = n\n",
    "    # caculate row and column\n",
    "    m, n = df_prob_bi.shape\n",
    "    # change index into numercial value\n",
    "    df_prob_bi.index = np.arange(0, m)\n",
    "    #********************Build Bigram DataFrame***********************************\n",
    "    \n",
    "    \n",
    "    #*********************Cacualte Next Word****************************\n",
    "    #p(w_i | w_i-1) = C(w_i-1, w_i) / c(w_i-1)\n",
    "    for i in range(m):\n",
    "        c_bigram = df_prob_bi.loc[i,'probability']\n",
    "        #select the probabilty from unigram index == first word in bigram model\n",
    "        c_w_i_1 = df_prob_uni.loc[df_prob_uni.index == df_prob_bi.loc[i,'First(i-1)'], 'probability']\n",
    "        df_prob_bi.loc[i, 'joint_prob'] = float(c_bigram / c_w_i_1)\n",
    "    #     df_prob_bi.loc[i, 'joint_prob'] = 0\n",
    "    #*********************Cacualte Next Word****************************\n",
    "    \n",
    "    \n",
    "    #***********************Display Part*******************************\n",
    "    for i in range(30):\n",
    "        sentence = df_input.loc[i, 'cleaned']\n",
    "        word = sentence.split(' ')[-2]\n",
    "        #print(word)\n",
    "        next_prob = df_prob_bi.loc[df_prob_bi['First(i-1)']==word, 'joint_prob'].max()\n",
    "        #print(next_prob)\n",
    "    #     next_word = df_prob_bi.loc[df_prob_bi['joint_prob']==next_prob, 'Second(i)'].iloc[0]\n",
    "        try:\n",
    "            next_word = df_prob_bi.loc[df_prob_bi['joint_prob']==next_prob, 'Second(i)'].iloc[0]\n",
    "        except:\n",
    "            next_word = \"OUT OF VOCABULARY\"\n",
    "        print(f\"SENTCEN: {sentence}, PREDICT WORD: {next_word}\")\n",
    "    #***********************Display Part*******************************\n",
    "    \n",
    "    \n",
    "    return df_prob_bi"
   ]
  },
  {
   "cell_type": "code",
   "execution_count": 323,
   "metadata": {},
   "outputs": [
    {
     "name": "stderr",
     "output_type": "stream",
     "text": [
      "3165it [00:00, 3948.39it/s]\n",
      "3165it [00:00, 3402.12it/s]\n"
     ]
    },
    {
     "name": "stdout",
     "output_type": "stream",
     "text": [
      "SENTCEN: but while the new york stock exchange did nt fall , PREDICT WORD: the\n",
      "SENTCEN: some circuit breakers installed after the october N crash failed , PREDICT WORD: to\n",
      "SENTCEN: the N stock specialist firms on the big board floor , PREDICT WORD: market\n",
      "SENTCEN: big investment banks refused to step up to the plate , PREDICT WORD: OUT OF VOCABULARY\n",
      "SENTCEN: heavy selling of standard  poor s stock index futures , PREDICT WORD: said\n",
      "SENTCEN: seven big board stocks ual amr bankamerica walt disney capital , PREDICT WORD: of\n",
      "SENTCEN: once again the specialists were not able to handle the , PREDICT WORD: unk\n",
      "SENTCEN: unk james unk chairman of specialists henderson brothers inc. it , PREDICT WORD: s\n",
      "SENTCEN: when the dollar is in a unk even central banks , PREDICT WORD: the\n",
      "SENTCEN: speculators are calling for a degree of liquidity that is , PREDICT WORD: the\n",
      "SENTCEN: many money managers and some traders had already left their , PREDICT WORD: the\n",
      "SENTCEN: then in a unk plunge the dow jones industrials in , PREDICT WORD: the\n",
      "SENTCEN: unk trading accelerated to N million shares a record for , PREDICT WORD: the\n",
      "SENTCEN: at the end of the day N million shares were , PREDICT WORD: nt\n",
      "SENTCEN: the dow s decline was second in point terms only , PREDICT WORD: N\n",
      "SENTCEN: in percentage terms however the dow s dive was the , PREDICT WORD: unk\n",
      "SENTCEN: shares of ual the parent of united airlines were extremely , PREDICT WORD: OUT OF VOCABULARY\n",
      "SENTCEN: wall street s takeoverstock speculators or risk arbitragers had placed , PREDICT WORD: market\n",
      "SENTCEN: at N p.m. edt came the unk news the big , PREDICT WORD: board\n",
      "SENTCEN: on the exchange floor as soon as ual stopped trading , PREDICT WORD: do\n",
      "SENTCEN: several traders could be seen shaking their heads when the , PREDICT WORD: unk\n",
      "SENTCEN: for weeks the market had been nervous about takeovers after , PREDICT WORD: be\n",
      "SENTCEN: and N minutes after the ual trading halt came news , PREDICT WORD: just\n",
      "SENTCEN: arbitragers could nt dump their ual stock but they rid , PREDICT WORD: for\n",
      "SENTCEN: for example their selling caused trading halts to be declared , PREDICT WORD: OUT OF VOCABULARY\n",
      "SENTCEN: but as panic spread speculators began to sell bluechip stocks , PREDICT WORD: are\n",
      "SENTCEN: when trading was halted in philip morris the stock was , PREDICT WORD: unk\n",
      "SENTCEN: selling unk because of waves of automatic stoploss orders which , PREDICT WORD: is\n",
      "SENTCEN: most of the stock selling pressure came from wall street , PREDICT WORD: N\n",
      "SENTCEN: traders said most of their major institutional investors on the , PREDICT WORD: unk\n"
     ]
    },
    {
     "data": {
      "text/html": [
       "<div>\n",
       "<style scoped>\n",
       "    .dataframe tbody tr th:only-of-type {\n",
       "        vertical-align: middle;\n",
       "    }\n",
       "\n",
       "    .dataframe tbody tr th {\n",
       "        vertical-align: top;\n",
       "    }\n",
       "\n",
       "    .dataframe thead th {\n",
       "        text-align: right;\n",
       "    }\n",
       "</style>\n",
       "<table border=\"1\" class=\"dataframe\">\n",
       "  <thead>\n",
       "    <tr style=\"text-align: right;\">\n",
       "      <th></th>\n",
       "      <th>bigram_pairs</th>\n",
       "      <th>value_counts</th>\n",
       "      <th>probability</th>\n",
       "      <th>First(i-1)</th>\n",
       "      <th>Second(i)</th>\n",
       "      <th>joint_prob</th>\n",
       "    </tr>\n",
       "  </thead>\n",
       "  <tbody>\n",
       "    <tr>\n",
       "      <th>0</th>\n",
       "      <td>of the</td>\n",
       "      <td>187</td>\n",
       "      <td>0.006608</td>\n",
       "      <td>of</td>\n",
       "      <td>the</td>\n",
       "      <td>0.256686</td>\n",
       "    </tr>\n",
       "    <tr>\n",
       "      <th>1</th>\n",
       "      <td>N N</td>\n",
       "      <td>167</td>\n",
       "      <td>0.005902</td>\n",
       "      <td>N</td>\n",
       "      <td>N</td>\n",
       "      <td>0.243673</td>\n",
       "    </tr>\n",
       "    <tr>\n",
       "      <th>2</th>\n",
       "      <td>the unk</td>\n",
       "      <td>167</td>\n",
       "      <td>0.005902</td>\n",
       "      <td>the</td>\n",
       "      <td>unk</td>\n",
       "      <td>0.085291</td>\n",
       "    </tr>\n",
       "    <tr>\n",
       "      <th>3</th>\n",
       "      <td>in the</td>\n",
       "      <td>147</td>\n",
       "      <td>0.005195</td>\n",
       "      <td>in</td>\n",
       "      <td>the</td>\n",
       "      <td>0.261507</td>\n",
       "    </tr>\n",
       "    <tr>\n",
       "      <th>4</th>\n",
       "      <td>unk unk</td>\n",
       "      <td>134</td>\n",
       "      <td>0.004735</td>\n",
       "      <td>unk</td>\n",
       "      <td>unk</td>\n",
       "      <td>0.080884</td>\n",
       "    </tr>\n",
       "    <tr>\n",
       "      <th>...</th>\n",
       "      <td>...</td>\n",
       "      <td>...</td>\n",
       "      <td>...</td>\n",
       "      <td>...</td>\n",
       "      <td>...</td>\n",
       "      <td>...</td>\n",
       "    </tr>\n",
       "    <tr>\n",
       "      <th>17741</th>\n",
       "      <td>most competitive</td>\n",
       "      <td>1</td>\n",
       "      <td>0.000035</td>\n",
       "      <td>most</td>\n",
       "      <td>competitive</td>\n",
       "      <td>0.019170</td>\n",
       "    </tr>\n",
       "    <tr>\n",
       "      <th>17742</th>\n",
       "      <td>a rough</td>\n",
       "      <td>1</td>\n",
       "      <td>0.000035</td>\n",
       "      <td>a</td>\n",
       "      <td>rough</td>\n",
       "      <td>0.001540</td>\n",
       "    </tr>\n",
       "    <tr>\n",
       "      <th>17743</th>\n",
       "      <td>will get</td>\n",
       "      <td>1</td>\n",
       "      <td>0.000035</td>\n",
       "      <td>will</td>\n",
       "      <td>get</td>\n",
       "      <td>0.007668</td>\n",
       "    </tr>\n",
       "    <tr>\n",
       "      <th>17744</th>\n",
       "      <td>growing official</td>\n",
       "      <td>1</td>\n",
       "      <td>0.000035</td>\n",
       "      <td>growing</td>\n",
       "      <td>official</td>\n",
       "      <td>0.123539</td>\n",
       "    </tr>\n",
       "    <tr>\n",
       "      <th>17745</th>\n",
       "      <td>the phoenix</td>\n",
       "      <td>1</td>\n",
       "      <td>0.000035</td>\n",
       "      <td>the</td>\n",
       "      <td>phoenix</td>\n",
       "      <td>0.000511</td>\n",
       "    </tr>\n",
       "  </tbody>\n",
       "</table>\n",
       "<p>17746 rows × 6 columns</p>\n",
       "</div>"
      ],
      "text/plain": [
       "           bigram_pairs  value_counts  probability First(i-1)    Second(i)  \\\n",
       "0                of the           187     0.006608         of          the   \n",
       "1                   N N           167     0.005902          N            N   \n",
       "2               the unk           167     0.005902        the          unk   \n",
       "3                in the           147     0.005195         in          the   \n",
       "4               unk unk           134     0.004735        unk          unk   \n",
       "...                 ...           ...          ...        ...          ...   \n",
       "17741  most competitive             1     0.000035       most  competitive   \n",
       "17742           a rough             1     0.000035          a        rough   \n",
       "17743          will get             1     0.000035       will          get   \n",
       "17744  growing official             1     0.000035    growing     official   \n",
       "17745       the phoenix             1     0.000035        the      phoenix   \n",
       "\n",
       "       joint_prob  \n",
       "0        0.256686  \n",
       "1        0.243673  \n",
       "2        0.085291  \n",
       "3        0.261507  \n",
       "4        0.080884  \n",
       "...           ...  \n",
       "17741    0.019170  \n",
       "17742    0.001540  \n",
       "17743    0.007668  \n",
       "17744    0.123539  \n",
       "17745    0.000511  \n",
       "\n",
       "[17746 rows x 6 columns]"
      ]
     },
     "execution_count": 323,
     "metadata": {},
     "output_type": "execute_result"
    }
   ],
   "source": [
    "predict_ngram(df_input, first_row = 30)"
   ]
  },
  {
   "cell_type": "markdown",
   "metadata": {},
   "source": [
    "<br>"
   ]
  },
  {
   "cell_type": "markdown",
   "metadata": {},
   "source": [
    "<a id=\"3.7 Kneser-Ney N-gram Prediction\"></a>\n",
    "## 3.7 Kneser-Ney N-gram Prediction\n",
    "<a href=\"#1.Summary\">Click this Link back to Top</a>"
   ]
  },
  {
   "cell_type": "code",
   "execution_count": null,
   "metadata": {},
   "outputs": [],
   "source": []
  },
  {
   "cell_type": "code",
   "execution_count": 5,
   "metadata": {},
   "outputs": [
    {
     "name": "stdout",
     "output_type": "stream",
     "text": [
      "Random pick the 252th from corpus sequence\n",
      "Current vectorized sequnce is [205, 9, 456, 12, 1008, 2450, 6, 533, 3, 427]\n",
      "Converted back to string: quantum s lot is mostly tied to polyethylene unk used\n"
     ]
    }
   ],
   "source": [
    "if __name__==\"__main__\":\n",
    "    path_input = \"03_data/13_a3-data/input.txt\" \n",
    "    path_train5k = \"03_data/13_a3-data/train.5k.txt\"\n",
    "    path_train = \"03_data/13_a3-data/train.txt\"\n",
    "    path_valid = \"03_data/13_a3-data/valid.txt\"\n",
    "    pre = preprocess()\n",
    "    df_input = pre.read_file(path_input)\n",
    "    df_train5k = pre.read_file(path_train5k)\n",
    "    df_train = pre.read_file(path_train)\n",
    "    df_valid = pre.read_file(path_valid)\n",
    "    seq, word_index,df = pre.token(df_input)\n",
    "    #df = ngram(seq, word_index, df, grams=2)"
   ]
  },
  {
   "cell_type": "markdown",
   "metadata": {},
   "source": [
    "<a id=\"4.RNN\"></a>\n",
    "# 4.RNN\n",
    "<a href=\"#1.Summary\">Click this Link back to Top</a>"
   ]
  },
  {
   "cell_type": "markdown",
   "metadata": {},
   "source": [
    "<a id=\"4.1 Initial Parameters\"></a>\n",
    "## 4.1 Initial Parameters\n",
    "<a href=\"#1.Summary\">Click this Link back to Top</a>"
   ]
  },
  {
   "cell_type": "code",
   "execution_count": 56,
   "metadata": {},
   "outputs": [],
   "source": [
    "#max lengh of vocaubulary \n",
    "# vocab_size = 11\n",
    "#embedding layer dimension\n",
    "# embedding_dim = 32\n",
    "#unit of SimpleRNN\n",
    "#rnn_units = 64"
   ]
  },
  {
   "cell_type": "markdown",
   "metadata": {},
   "source": [
    "<a id=\"4.2 Forward Pass\"></a>\n",
    "## 4.2 Forward Pass\n",
    "<a href=\"#1.Summary\">Click this Link back to Top</a>"
   ]
  },
  {
   "cell_type": "code",
   "execution_count": null,
   "metadata": {},
   "outputs": [],
   "source": [
    "def build_model(vocab_size, embedding_dim, rnn_units, batch_size):\n",
    "    model = tf.keras.Sequential([\n",
    "    tf.keras.layers.Embedding(vocab_size, embedding_dim,\n",
    "                              batch_input_shape=[batch_size, None]),\n",
    "    tf.keras.layers.GRU(rnn_units,\n",
    "                        return_sequences=True,\n",
    "                        stateful=True,\n",
    "                        recurrent_initializer='glorot_uniform'),\n",
    "    tf.keras.layers.Dense(vocab_size)\n",
    "    ])\n",
    "    return model"
   ]
  },
  {
   "cell_type": "code",
   "execution_count": null,
   "metadata": {},
   "outputs": [],
   "source": [
    "# vocab_size = 11\n",
    "# embedding_dim = 32\n",
    "# rnn_units = 64\n",
    "# BATCH_SIZE = 16\n",
    "# model_1 = build_model(vocab_size, embedding_dim, rnn_units, BATCH_SIZE)"
   ]
  },
  {
   "cell_type": "code",
   "execution_count": null,
   "metadata": {},
   "outputs": [],
   "source": [
    "def rnn_model():\n",
    "    # before we input data, we need set up seq_length and padding our data\n",
    "    # seq_length should use plot to decide boundary\n",
    "\n",
    "    # ********************************************************\n",
    "    # for each input sequence, maybe we need right shift one word\n",
    "    # ********************************************************\n",
    "\n",
    "    seq_length =11\n",
    "    #input_layer1 = layers.Input(shape=seq_length)\n",
    "    # first layer is Embedding, output_idm is number of units/cells\n",
    "    emb_layer2 = layers.Embedding(input_dim = seq_length, output_dim = 32)(input_layer1)\n",
    "    # second layer is RNN\n",
    "    rnn_layer3 = layers.SimpleRNN(units = 32, activation='relu', return_sequences=True)(emb_layer2)\n",
    "    # rnn_layer2 = layers.GRU(units = 32, activation='relu')(input_layer1)\n",
    "    # only contain one hidden layer\n",
    "    output_layer4 = layers.Dense(units=seq_length)(rnn_layer3)\n",
    "    model_1 = Model(inputs = input_layer1, outputs = output_layer4)\n",
    "\n",
    "\n",
    "    model_1.summary()\n",
    "    # tensorboard_callback = tf.keras.callbacks.TensorBoard(log_dir=\"./logs\")\n",
    "    # model_rnn = \n",
    "    \n",
    "    return model_1"
   ]
  },
  {
   "cell_type": "code",
   "execution_count": 48,
   "metadata": {},
   "outputs": [],
   "source": [
    "def lstm_model(total_words, max_sequence_len, emb_dim=1024):\n",
    "    \"\"\"\n",
    "    \n",
    "    \"\"\"\n",
    "    # before we input data, we need set up total_words and padding our data\n",
    "    # total_words should use plot to decide boundary\n",
    "\n",
    "    # ********************************************************\n",
    "    # for each input sequence, maybe we need right shift one word\n",
    "    # ********************************************************\n",
    "\n",
    "    #total_words =11\n",
    "    #input_layer1 = layers.Input(shape=total_words)\n",
    "    # first layer is Embedding, output_idm is number of units/cells\n",
    "    emb_layer2 = layers.Embedding(input_dim = total_words, \\\n",
    "                                  output_dim = emb_dim, \\\n",
    "                                  input_length=max_sequence_len-1)\n",
    "    # second layer is RNN\n",
    "#     lstm_layer3 = layers.LSTM(units = 2048, activation='relu', return_sequences=True)(emb_layer2)\n",
    "    lstm_layer3 = layers.Bidirectional(layers.LSTM(2048))(emb_layer2)\n",
    "    # rnn_layer2 = layers.GRU(units = 32, activation='relu')(input_layer1)\n",
    "    # only contain one hidden layer\n",
    "    output_layer4 = layers.Dense(units=total_words)(lstm_layer3)\n",
    "    model = Model(inputs = emb_layer2, outputs = output_layer4)\n",
    "    adam = tf.keras.optimizers.Adam(lr=1e-3)\n",
    "    model.compile(loss='categorical_crossentropy', optimizer=adam, metrics=['accuracy'])\n",
    "    model.summary()\n",
    "    # tensorboard_callback = tf.keras.callbacks.TensorBoard(log_dir=\"./logs\")\n",
    "    # model_rnn = \n",
    "    # history = model.fit(xs, ys, epochs=10, verbos=1 )\n",
    "    return model"
   ]
  },
  {
   "cell_type": "code",
   "execution_count": 89,
   "metadata": {},
   "outputs": [],
   "source": [
    "def lstm_mod(total_words, max_sequence_len):\n",
    "    print(total_words)\n",
    "    model = Sequential()\n",
    "    model.add(layers.Embedding(total_words, 100, input_length=max_sequence_len-1))\n",
    "    model.add(layers.Bidirectional(layers.LSTM(150)))\n",
    "    model.add(layers.Dense(total_words, activation='softmax'))\n",
    "    adam = tf.keras.optimizers.Adam(lr=0.01)\n",
    "    model.compile(loss='categorical_crossentropy', optimizer=adam, metrics=['accuracy'])\n",
    "    #earlystop = EarlyStopping(monitor='val_loss', min_delta=0, patience=5, verbose=0, mode='auto')\n",
    "    model.summary()\n",
    "    return model"
   ]
  },
  {
   "cell_type": "code",
   "execution_count": 88,
   "metadata": {},
   "outputs": [
    {
     "data": {
      "text/plain": [
       "9868"
      ]
     },
     "execution_count": 88,
     "metadata": {},
     "output_type": "execute_result"
    }
   ],
   "source": [
    "total_words"
   ]
  },
  {
   "cell_type": "code",
   "execution_count": 91,
   "metadata": {},
   "outputs": [
    {
     "data": {
      "text/plain": [
       "12"
      ]
     },
     "execution_count": 91,
     "metadata": {},
     "output_type": "execute_result"
    }
   ],
   "source": [
    "max_sequence_len"
   ]
  },
  {
   "cell_type": "code",
   "execution_count": 90,
   "metadata": {},
   "outputs": [
    {
     "name": "stdout",
     "output_type": "stream",
     "text": [
      "9868\n",
      "Model: \"sequential_8\"\n",
      "_________________________________________________________________\n",
      "Layer (type)                 Output Shape              Param #   \n",
      "=================================================================\n",
      "embedding_13 (Embedding)     (None, 11, 100)           986800    \n",
      "_________________________________________________________________\n",
      "bidirectional_11 (Bidirectio (None, 300)               301200    \n",
      "_________________________________________________________________\n",
      "dense_8 (Dense)              (None, 9868)              2970268   \n",
      "=================================================================\n",
      "Total params: 4,258,268\n",
      "Trainable params: 4,258,268\n",
      "Non-trainable params: 0\n",
      "_________________________________________________________________\n"
     ]
    }
   ],
   "source": [
    "model_3 = lstm_mod(total_words, max_sequence_len)"
   ]
  },
  {
   "cell_type": "code",
   "execution_count": 55,
   "metadata": {},
   "outputs": [
    {
     "name": "stdout",
     "output_type": "stream",
     "text": [
      "Train on 28337 samples\n",
      "Epoch 1/10\n",
      "28337/28337 [==============================] - 24s 857us/sample - loss: 6.4521 - accuracy: 0.1000\n",
      "Epoch 2/10\n",
      "28337/28337 [==============================] - 18s 648us/sample - loss: 5.5810 - accuracy: 0.1514\n",
      "Epoch 3/10\n",
      "28337/28337 [==============================] - 18s 653us/sample - loss: 4.8539 - accuracy: 0.1825\n",
      "Epoch 4/10\n",
      "28337/28337 [==============================] - 19s 654us/sample - loss: 4.1897 - accuracy: 0.2221\n",
      "Epoch 5/10\n",
      "28337/28337 [==============================] - 19s 670us/sample - loss: 3.6203 - accuracy: 0.2699- loss: 3.6192 - accuracy: 0.\n",
      "Epoch 6/10\n",
      "28337/28337 [==============================] - 19s 662us/sample - loss: 3.1579 - accuracy: 0.3242\n",
      "Epoch 7/10\n",
      "28337/28337 [==============================] - 19s 660us/sample - loss: 2.8197 - accuracy: 0.3682\n",
      "Epoch 8/10\n",
      "28337/28337 [==============================] - 18s 652us/sample - loss: 2.5343 - accuracy: 0.4109\n",
      "Epoch 9/10\n",
      "28337/28337 [==============================] - 19s 655us/sample - loss: 2.3248 - accuracy: 0.4516\n",
      "Epoch 10/10\n",
      "28337/28337 [==============================] - 19s 676us/sample - loss: 2.1388 - accuracy: 0.4872\n"
     ]
    }
   ],
   "source": [
    "# history = model_3.fit(xs, ys, epochs=10, verbose=1)"
   ]
  },
  {
   "cell_type": "code",
   "execution_count": null,
   "metadata": {},
   "outputs": [],
   "source": []
  },
  {
   "cell_type": "code",
   "execution_count": 57,
   "metadata": {},
   "outputs": [],
   "source": [
    "# from IPython.display import SVG\n",
    "# from tensorflow.keras.utils import model_to_dot, plot_model\n",
    "\n",
    "# SVG(plot_model(model_1,dpi=60,show_shapes=True, show_layer_names=True).create(prog='dot', format='svg'))\n",
    "\n",
    "# dot_img_file = '04_images/14_model_1.png'\n",
    "# # plot_model(model_1, to_file=dot_img_file, show_shapes=True)\n",
    "# plot_model(model_1, to_file='04_images/15_model_96DPI.svg')"
   ]
  },
  {
   "cell_type": "markdown",
   "metadata": {},
   "source": [
    "<a id=\"4.3 Loss\"></a>\n",
    "## 4.3 Loss\n",
    "<a href=\"#1.Summary\">Click this Link back to Top</a>"
   ]
  },
  {
   "cell_type": "code",
   "execution_count": null,
   "metadata": {},
   "outputs": [],
   "source": []
  },
  {
   "cell_type": "markdown",
   "metadata": {},
   "source": [
    "<a id=\"4.4 Traing Step\"></a>\n",
    "## 4.4 Traing Step\n",
    "<a href=\"#1.Summary\">Click this Link back to Top</a>"
   ]
  },
  {
   "cell_type": "code",
   "execution_count": 72,
   "metadata": {},
   "outputs": [
    {
     "name": "stdout",
     "output_type": "stream",
     "text": [
      "Random pick the 733th from corpus sequence\n",
      "Current vectorized sequnce is [7, 141, 14, 2, 33, 9, 77, 111, 12, 2690]\n",
      "Converted back to string: a spokesman said the company s first quarter is historically\n",
      "Random pick the 4844th from corpus sequence\n",
      "Current vectorized sequnce is [85, 43, 936, 1223, 209, 731, 305, 882, 3, 436, 23, 1106, 53, 5, 2, 3, 1092, 63, 92, 8, 936, 34, 8, 2, 589, 632]\n",
      "Converted back to string: last year pennsylvania supreme court justice john p unk called mr okicki one of the unk judges not only in pennsylvania but in the united states\n",
      "Random pick the 21347th from corpus sequence\n",
      "Current vectorized sequnce is [68, 2, 947, 516, 67, 926, 186, 4447, 22, 126]\n",
      "Converted back to string: if the situation changes i ll get stuck with them\n",
      "Random pick the 266th from corpus sequence\n",
      "Current vectorized sequnce is [45, 3, 12, 958, 3, 7, 3, 534, 19, 2458]\n",
      "Converted back to string: one unk is george unk a unk analyst at oppenheimer\n"
     ]
    }
   ],
   "source": [
    "if __name__==\"__main__\":\n",
    "    path_input = \"03_data/13_a3-data/input.txt\" \n",
    "    path_train5k = \"03_data/13_a3-data/train.5k.txt\"\n",
    "    path_train = \"03_data/13_a3-data/train.txt\"\n",
    "    path_valid = \"03_data/13_a3-data/valid.txt\"\n",
    "    \n",
    "    #call Class preprocess()\n",
    "    pre = preprocess()\n",
    "    df_input = pre.read_file(path_input)\n",
    "    df_train5k = pre.read_file(path_train5k)\n",
    "    df_train = pre.read_file(path_train)\n",
    "    df_valid = pre.read_file(path_valid)\n",
    "    seq_input, word_index_input,df_input = pre.token(df_input)\n",
    "    seq_train5k, word_index_train5k,df_train5k = pre.token(df_train5k)\n",
    "    seq_train, word_index_train,df_train = pre.token(df_train)\n",
    "    seq_valid, word_index_valid,df_valid = pre.token(df_input)\n",
    "    #df = ngram(seq, word_index, df, grams=2)"
   ]
  },
  {
   "cell_type": "code",
   "execution_count": 72,
   "metadata": {},
   "outputs": [
    {
     "data": {
      "text/plain": [
       "(42068, 2)"
      ]
     },
     "execution_count": 72,
     "metadata": {},
     "output_type": "execute_result"
    }
   ],
   "source": [
    "df_train.shape"
   ]
  },
  {
   "cell_type": "code",
   "execution_count": 96,
   "metadata": {},
   "outputs": [
    {
     "name": "stdout",
     "output_type": "stream",
     "text": [
      "9868\n",
      "Model: \"sequential_10\"\n",
      "_________________________________________________________________\n",
      "Layer (type)                 Output Shape              Param #   \n",
      "=================================================================\n",
      "embedding_15 (Embedding)     (None, 79, 100)           986800    \n",
      "_________________________________________________________________\n",
      "bidirectional_13 (Bidirectio (None, 300)               301200    \n",
      "_________________________________________________________________\n",
      "dense_10 (Dense)             (None, 9868)              2970268   \n",
      "=================================================================\n",
      "Total params: 4,258,268\n",
      "Trainable params: 4,258,268\n",
      "Non-trainable params: 0\n",
      "_________________________________________________________________\n",
      "Train on 42068 samples\n",
      "Epoch 1/30\n",
      "42068/42068 [==============================] - 69s 2ms/sample - loss: 6.4533 - accuracy: 0.1913\n",
      "Epoch 2/30\n",
      "42068/42068 [==============================] - 66s 2ms/sample - loss: 5.1368 - accuracy: 0.2625\n",
      "Epoch 3/30\n",
      "42068/42068 [==============================] - 65s 2ms/sample - loss: 4.3004 - accuracy: 0.2954\n",
      "Epoch 4/30\n",
      "42068/42068 [==============================] - 66s 2ms/sample - loss: 3.8990 - accuracy: 0.3176\n",
      "Epoch 5/30\n",
      "42068/42068 [==============================] - 66s 2ms/sample - loss: 3.2078 - accuracy: 0.3716\n",
      "Epoch 6/30\n",
      "42068/42068 [==============================] - 65s 2ms/sample - loss: 2.8467 - accuracy: 0.4115\n",
      "Epoch 7/30\n",
      "42068/42068 [==============================] - 67s 2ms/sample - loss: 2.5983 - accuracy: 0.4410\n",
      "Epoch 8/30\n",
      "42068/42068 [==============================] - 67s 2ms/sample - loss: 2.4368 - accuracy: 0.4655\n",
      "Epoch 9/30\n",
      "42068/42068 [==============================] - 67s 2ms/sample - loss: 2.3002 - accuracy: 0.4852\n",
      "Epoch 10/30\n",
      "42068/42068 [==============================] - 67s 2ms/sample - loss: 2.2079 - accuracy: 0.4987\n",
      "Epoch 11/30\n",
      "42068/42068 [==============================] - 67s 2ms/sample - loss: 2.1274 - accuracy: 0.5101\n",
      "Epoch 12/30\n",
      "42068/42068 [==============================] - 67s 2ms/sample - loss: 2.0492 - accuracy: 0.5227\n",
      "Epoch 13/30\n",
      "42068/42068 [==============================] - 66s 2ms/sample - loss: 2.0092 - accuracy: 0.5314\n",
      "Epoch 14/30\n",
      "42068/42068 [==============================] - 66s 2ms/sample - loss: 1.9503 - accuracy: 0.5425\n",
      "Epoch 15/30\n",
      "42068/42068 [==============================] - 66s 2ms/sample - loss: 1.9491 - accuracy: 0.5419\n",
      "Epoch 16/30\n",
      "42068/42068 [==============================] - 66s 2ms/sample - loss: 1.8931 - accuracy: 0.5496\n",
      "Epoch 17/30\n",
      "42068/42068 [==============================] - 66s 2ms/sample - loss: 1.8263 - accuracy: 0.5602\n",
      "Epoch 18/30\n",
      "42068/42068 [==============================] - 67s 2ms/sample - loss: 1.7915 - accuracy: 0.5711\n",
      "Epoch 19/30\n",
      "42068/42068 [==============================] - 66s 2ms/sample - loss: 1.7784 - accuracy: 0.5703\n",
      "Epoch 20/30\n",
      "42068/42068 [==============================] - 65s 2ms/sample - loss: 1.7612 - accuracy: 0.5724\n",
      "Epoch 21/30\n",
      "42068/42068 [==============================] - 66s 2ms/sample - loss: 1.7603 - accuracy: 0.5705\n",
      "Epoch 22/30\n",
      "42068/42068 [==============================] - 65s 2ms/sample - loss: 1.7395 - accuracy: 0.5783\n",
      "Epoch 23/30\n",
      "42068/42068 [==============================] - ETA: 0s - loss: 1.6657 - accuracy: 0.59 - 68s 2ms/sample - loss: 1.6660 - accuracy: 0.5912\n",
      "Epoch 24/30\n",
      "42068/42068 [==============================] - 65s 2ms/sample - loss: 1.6663 - accuracy: 0.5928s - los\n",
      "Epoch 25/30\n",
      "42068/42068 [==============================] - 65s 2ms/sample - loss: 1.6496 - accuracy: 0.5972\n",
      "Epoch 26/30\n",
      "42068/42068 [==============================] - 65s 2ms/sample - loss: 1.6281 - accuracy: 0.6015\n",
      "Epoch 27/30\n",
      "42068/42068 [==============================] - 65s 2ms/sample - loss: 1.6291 - accuracy: 0.6010\n",
      "Epoch 28/30\n",
      "42068/42068 [==============================] - 65s 2ms/sample - loss: 1.5998 - accuracy: 0.6036\n",
      "Epoch 29/30\n",
      "42068/42068 [==============================] - 72s 2ms/sample - loss: 1.5840 - accuracy: 0.6098\n",
      "Epoch 30/30\n",
      "42068/42068 [==============================] - 73s 2ms/sample - loss: 1.5564 - accuracy: 0.6145\n"
     ]
    }
   ],
   "source": [
    "   \n",
    "#     # seq_length is the max length of these questions\n",
    "#     seq_length = 11\n",
    "#     # maintain the sentence into same length\n",
    "#     # padded = pad_sequences(sequences)\n",
    "#     # If you want zero at the end, using padding='post'\n",
    "#     padded = pad_sequences(seq, padding='post', maxlen=seq_length, truncating='post')\n",
    "\n",
    "    # ************************************Train Data*****************************\n",
    "tokenizer = Tokenizer()\n",
    "tokenizer.fit_on_texts(df_train['cleaned'])\n",
    "total_words = len(word_index_train) + 1\n",
    "\n",
    "# we will populate this with sub sequence with \n",
    "input_sequences = []\n",
    "for line in df_train['cleaned']:\n",
    "    #texts_to sequnce will create a list, so it will be list nested into another list. So we need [0] to extarct\n",
    "    #provide current token for current line according to tokenizer.fit_on_text() dictonary\n",
    "    token_list = tokenizer.texts_to_sequences([line])[0]\n",
    "    token_list = [i+1 for i in token_list ]\n",
    "    #print(token_list)\n",
    "    for i in range(len(token_list)-1, len(token_list)):\n",
    "        #generate a sequence contain from first one to last one\n",
    "        n_gram_sequence = token_list[:i+1]\n",
    "        input_sequences.append(n_gram_sequence)\n",
    "\n",
    "# pad sequences, because we need last one as a non-zero real words, so we add zero in the front\n",
    "# we can see out very last word as Y and other, from first to end before Y as \"input_X\"\n",
    "max_sequence_len = max([len(x) for x in input_sequences])\n",
    "#print(max_sequence_len)\n",
    "input_sequences = np.array(pad_sequences(input_sequences, maxlen=max_sequence_len, padding='pre'))\n",
    "\n",
    "# create predictors and label\n",
    "xs_train, labels = input_sequences[:,:-1],input_sequences[:,-1]\n",
    "# Finally we want our our Y to be catigorical and become one-hot encoding\n",
    "# Here is a odd \"+1\", because I add 1 tiwice, first is to match index for <oov> missing, \n",
    "# second is len(tokenizer.word_index) = 4016, but len(word_index) = 4017\n",
    "ys_train = tf.keras.utils.to_categorical(labels, num_classes=total_words, dtype='uint64')\n",
    "\n",
    "# m = len(labels)\n",
    "# y_mapped=np.zeros((m, total_words))\n",
    "# for i in range(0,m):\n",
    "#     #print(i)\n",
    "#     y_mapped[i, labels[i]]=1;\n",
    "# ************************************Train Data*****************************\n",
    "\n",
    "\n",
    "model_3 = lstm_mod(total_words, max_sequence_len)\n",
    "history = model_3.fit(xs_train, ys_train, epochs=30,verbose=1)"
   ]
  },
  {
   "cell_type": "code",
   "execution_count": 101,
   "metadata": {},
   "outputs": [
    {
     "name": "stdout",
     "output_type": "stream",
     "text": [
      "INFO:tensorflow:Assets written to: my_model\\assets\n"
     ]
    }
   ],
   "source": [
    "# !mkdir -p saved_model_3\n",
    "model_3.save('my_model')"
   ]
  },
  {
   "cell_type": "code",
   "execution_count": 103,
   "metadata": {},
   "outputs": [],
   "source": [
    "model_3.save(\"my_h5_model_3.h5\")"
   ]
  },
  {
   "cell_type": "code",
   "execution_count": 107,
   "metadata": {},
   "outputs": [
    {
     "name": "stdout",
     "output_type": "stream",
     "text": [
      "3165/3165 [==============================] - 3s 985us/sample - loss: 18.7225 - accuracy: 0.0562\n"
     ]
    },
    {
     "data": {
      "text/plain": [
       "[18.722465580221602, 0.056240126]"
      ]
     },
     "execution_count": 107,
     "metadata": {},
     "output_type": "execute_result"
    }
   ],
   "source": [
    "    \n",
    "# ************************************Test Data********************************\n",
    "tokenizer.fit_on_texts(df_train['cleaned'])\n",
    "total_words = len(word_index_train) + 1\n",
    "\n",
    "# we will populate this with sub sequence with \n",
    "input_sequences = []\n",
    "for line in df_valid['cleaned']:\n",
    "    #texts_to sequnce will create a list, so it will be list nested into another list. So we need [0] to extarct\n",
    "    #provide current token for current line according to tokenizer.fit_on_text() dictonary\n",
    "    token_list = tokenizer.texts_to_sequences([line])[0]\n",
    "    token_list = [i+1 for i in token_list ]\n",
    "    #print(token_list),only extract the last full sequence\n",
    "    for i in range(len(token_list)-1, len(token_list)):\n",
    "        #generate a sequence contain from first one to last one\n",
    "        n_gram_sequence = token_list[:i+1]\n",
    "        input_sequences.append(n_gram_sequence)\n",
    "\n",
    "# pad sequences, because we need last one as a non-zero real words, so we add zero in the front\n",
    "# we can see out very last word as Y and other, from first to end before Y as \"input_X\"\n",
    "max_sequence_len = max([len(x) for x in input_sequences])\n",
    "#print(max_sequence_len)\n",
    "input_sequences = np.array(pad_sequences(input_sequences, maxlen=80, padding='pre'))\n",
    "\n",
    "# create predictors and label\n",
    "xs_test, labels = input_sequences[:,:-1],input_sequences[:,-1]\n",
    "# Finally we want our our Y to be catigorical and become one-hot encoding\n",
    "# Here is a odd \"+1\", because I add 1 tiwice, first is to match index for <oov> missing, \n",
    "# second is len(tokenizer.word_index) = 4016, but len(word_index) = 4017\n",
    "ys_test = tf.keras.utils.to_categorical(labels, num_classes=total_words)\n",
    "\n",
    "\n",
    "\n",
    "\n",
    "model_3.evaluate(xs_test, ys_test)"
   ]
  },
  {
   "cell_type": "code",
   "execution_count": 112,
   "metadata": {},
   "outputs": [
    {
     "data": {
      "image/png": "[encoded data removed]",
      "text/plain": [
       "<Figure size 432x288 with 1 Axes>"
      ]
     },
     "metadata": {
      "needs_background": "light"
     },
     "output_type": "display_data"
    },
    {
     "data": {
      "image/png": "[encoded data removed]",
      "text/plain": [
       "<Figure size 432x288 with 1 Axes>"
      ]
     },
     "metadata": {
      "needs_background": "light"
     },
     "output_type": "display_data"
    }
   ],
   "source": [
    "acc = history.history['accuracy']\n",
    "loss = history.history['loss']\n",
    "\n",
    "epochs = range(len(acc))\n",
    "\n",
    "plt.plot(epochs, acc, 'bo', label='Training acc')\n",
    "plt.title('Training  accuracy')\n",
    "plt.legend()\n",
    "\n",
    "plt.figure()\n",
    "\n",
    "plt.plot(epochs, loss, 'bo', label='Training loss')\n",
    "plt.title('Training  loss')\n",
    "plt.legend()\n",
    "\n",
    "plt.show()"
   ]
  },
  {
   "cell_type": "code",
   "execution_count": 113,
   "metadata": {},
   "outputs": [
    {
     "data": {
      "image/png": "[encoded data removed]",
      "text/plain": [
       "<Figure size 432x288 with 1 Axes>"
      ]
     },
     "metadata": {
      "needs_background": "light"
     },
     "output_type": "display_data"
    }
   ],
   "source": [
    "def plot_graphs(history, string):\n",
    "    plt.plot(history.history[string])\n",
    "    plt.xlabel(\"Epochs\")\n",
    "    plt.ylabel(string)\n",
    "    plt.show()\n",
    "plot_graphs(history, 'accuracy')"
   ]
  },
  {
   "cell_type": "markdown",
   "metadata": {},
   "source": [
    "<br>"
   ]
  },
  {
   "cell_type": "markdown",
   "metadata": {},
   "source": [
    "<a id=\"4.5 Perplexity\"></a>\n",
    "## 4.5 Perplexity\n",
    "<a href=\"#1.Summary\">Click this Link back to Top</a>"
   ]
  },
  {
   "cell_type": "code",
   "execution_count": 10,
   "metadata": {},
   "outputs": [],
   "source": [
    "def K_perp(y_true, y_pred):\n",
    "    CE = K.categorical_crossentropy(y_true, y_pred)\n",
    "    perplexity = K.exp(K.mean(CE))\n",
    "    return perplexity\n",
    "\n",
    "\n",
    "from sklearn.metrics import log_loss \n",
    "def np_perp(y_true, y_pred):\n",
    "    CE = log_loss(y_true, y_pred, eps=1e-15, normalize=True, sample_weight=None, labels=None)\n",
    "    perplexity = np.exp(np.mean(CE))\n",
    "    return perplexity"
   ]
  },
  {
   "cell_type": "code",
   "execution_count": null,
   "metadata": {},
   "outputs": [],
   "source": []
  },
  {
   "cell_type": "markdown",
   "metadata": {},
   "source": [
    "<a id=\"4.6 Predict Words\"></a>\n",
    "## 4.6 Predict Words\n",
    "<a href=\"#1.Summary\">Click this Link back to Top</a>"
   ]
  },
  {
   "cell_type": "code",
   "execution_count": 119,
   "metadata": {},
   "outputs": [
    {
     "name": "stdout",
     "output_type": "stream",
     "text": [
      "predict setence is but while the new york stock exchange did nt fall  [longest]\n",
      "predict setence is some circuit breakers installed after the october N crash failed  [remember]\n",
      "predict setence is the N stock specialist firms on the big board floor  [of]\n",
      "predict setence is big investment banks refused to step up to the plate  [n]\n",
      "predict setence is heavy selling of standard  poor s stock index futures  [n]\n",
      "predict setence is seven big board stocks ual amr bankamerica walt disney capital  [july]\n",
      "predict setence is once again the specialists were not able to handle the  [spent]\n",
      "predict setence is unk james unk chairman of specialists henderson brothers inc. it  [significant]\n",
      "predict setence is when the dollar is in a unk even central banks  [n]\n",
      "predict setence is speculators are calling for a degree of liquidity that is  [also]\n",
      "predict setence is many money managers and some traders had already left their  [defense]\n",
      "predict setence is then in a unk plunge the dow jones industrials in  [lawsuits]\n",
      "predict setence is unk trading accelerated to N million shares a record for  [athletic]\n",
      "predict setence is at the end of the day N million shares were  [selling]\n",
      "predict setence is the dow s decline was second in point terms only  [lines]\n",
      "predict setence is in percentage terms however the dow s dive was the  [on]\n",
      "predict setence is shares of ual the parent of united airlines were extremely  [by]\n",
      "predict setence is wall street s takeoverstock speculators or risk arbitragers had placed  [on]\n",
      "predict setence is at N p.m. edt came the unk news the big  [revenue]\n",
      "predict setence is on the exchange floor as soon as ual stopped trading  [n]\n",
      "predict setence is several traders could be seen shaking their heads when the  [thing]\n",
      "predict setence is for weeks the market had been nervous about takeovers after  [n]\n",
      "predict setence is and N minutes after the ual trading halt came news  [jones]\n",
      "predict setence is arbitragers could nt dump their ual stock but they rid  [committee]\n",
      "predict setence is for example their selling caused trading halts to be declared  [of]\n",
      "predict setence is but as panic spread speculators began to sell bluechip stocks  [of]\n",
      "predict setence is when trading was halted in philip morris the stock was  [n]\n",
      "predict setence is selling unk because of waves of automatic stoploss orders which  [much]\n",
      "predict setence is most of the stock selling pressure came from wall street  [n]\n",
      "predict setence is traders said most of their major institutional investors on the  [n]\n"
     ]
    }
   ],
   "source": [
    "for line in df_input['cleaned'][0:30]:\n",
    "    token_list = tokenizer.texts_to_sequences([line])[0]\n",
    "    token_list = pad_sequences([token_list], maxlen=79, padding='pre')\n",
    "    predicted = model_3.predict_classes(token_list, verbose=0)\n",
    "    output_word = \"\"\n",
    "    for word, index in tokenizer.word_index.items():\n",
    "        if index == predicted:\n",
    "            output_word = word\n",
    "            break\n",
    "    line += \" \" + \"[\" + output_word + \"]\"\n",
    "    print(f\"predict setence is {line}\")"
   ]
  },
  {
   "cell_type": "code",
   "execution_count": null,
   "metadata": {},
   "outputs": [],
   "source": []
  },
  {
   "cell_type": "code",
   "execution_count": null,
   "metadata": {},
   "outputs": [],
   "source": []
  },
  {
   "cell_type": "code",
   "execution_count": null,
   "metadata": {},
   "outputs": [],
   "source": []
  },
  {
   "cell_type": "markdown",
   "metadata": {},
   "source": [
    "<a id=\"5.Unused Code\"></a>\n",
    "# 5.Unused Code\n",
    "<a href=\"#1.Summary\">Click this Link back to Top</a>"
   ]
  },
  {
   "cell_type": "code",
   "execution_count": null,
   "metadata": {},
   "outputs": [],
   "source": []
  },
  {
   "cell_type": "code",
   "execution_count": null,
   "metadata": {},
   "outputs": [],
   "source": []
  },
  {
   "cell_type": "code",
   "execution_count": null,
   "metadata": {},
   "outputs": [],
   "source": [
    "for i in seq[50]:\n",
    "    print(i)"
   ]
  },
  {
   "cell_type": "code",
   "execution_count": null,
   "metadata": {},
   "outputs": [],
   "source": [
    "a = np.array([[1, 2], [3, 4]])\n",
    "b = np.array([[5, 6]])"
   ]
  },
  {
   "cell_type": "code",
   "execution_count": null,
   "metadata": {},
   "outputs": [],
   "source": [
    "np.concatenate((a, b), axis=0)"
   ]
  },
  {
   "cell_type": "code",
   "execution_count": null,
   "metadata": {},
   "outputs": [],
   "source": [
    "list(mydict.keys())[list(mydict.values()).index(16)]"
   ]
  },
  {
   "cell_type": "code",
   "execution_count": null,
   "metadata": {},
   "outputs": [],
   "source": [
    "list(word_index.keys())[list(word_index.values()).index(156)]"
   ]
  },
  {
   "cell_type": "code",
   "execution_count": null,
   "metadata": {},
   "outputs": [],
   "source": [
    "word_index.items()"
   ]
  },
  {
   "cell_type": "code",
   "execution_count": null,
   "metadata": {},
   "outputs": [],
   "source": [
    "for i in "
   ]
  },
  {
   "cell_type": "code",
   "execution_count": null,
   "metadata": {},
   "outputs": [],
   "source": [
    "for word, idx in word_index.items():\n",
    "    if idx == 156:\n",
    "        print(word)"
   ]
  },
  {
   "cell_type": "code",
   "execution_count": null,
   "metadata": {},
   "outputs": [],
   "source": [
    "seq[0]"
   ]
  },
  {
   "cell_type": "code",
   "execution_count": null,
   "metadata": {},
   "outputs": [],
   "source": [
    "len_list=[]\n",
    "for i in seq:\n",
    "    len_list.append(len(i))"
   ]
  },
  {
   "cell_type": "code",
   "execution_count": null,
   "metadata": {},
   "outputs": [],
   "source": [
    "plt.plot(np.arange(len(len_list)),len_list)"
   ]
  },
  {
   "cell_type": "code",
   "execution_count": null,
   "metadata": {},
   "outputs": [],
   "source": []
  },
  {
   "cell_type": "code",
   "execution_count": null,
   "metadata": {},
   "outputs": [],
   "source": [
    "seed_text = \"I've got a bad feeling about this\"\n",
    "next_words = 100\n",
    "  \n",
    "for _ in range(next_words):\n",
    "    token_list = tokenizer.texts_to_sequences([seed_text])[0]\n",
    "    token_list = pad_sequences([token_list], maxlen=max_sequence_len-1, padding='pre')\n",
    "    predicted = model.predict_classes(token_list, verbose=0)\n",
    "    output_word = \"\"\n",
    "    for word, index in tokenizer.word_index.items():\n",
    "        if index == predicted:\n",
    "            output_word = word\n",
    "            break\n",
    "    seed_text += \" \" + output_word\n",
    "print(seed_text)"
   ]
  },
  {
   "cell_type": "code",
   "execution_count": 56,
   "metadata": {},
   "outputs": [
    {
     "name": "stdout",
     "output_type": "stream",
     "text": [
      "1-gram:  ['A class', 'class is', 'is a', 'a blueprint', 'blueprint for', 'for the', 'the object', 'object .']\n"
     ]
    }
   ],
   "source": [
    "def extract_ngrams(data, num):\n",
    "    n_grams = ngrams(nltk.word_tokenize(data), num)\n",
    "    return [ ' '.join(grams) for grams in n_grams]\n",
    " \n",
    "data = 'A class is a blueprint for the object.'\n",
    " \n",
    "print(\"1-gram: \", extract_ngrams(data, 2))"
   ]
  },
  {
   "cell_type": "code",
   "execution_count": null,
   "metadata": {},
   "outputs": [],
   "source": []
  },
  {
   "cell_type": "code",
   "execution_count": null,
   "metadata": {},
   "outputs": [],
   "source": [
    "from collections import Counter, defaultdict\n",
    "\n",
    "# Create a placeholder for model\n",
    "model = defaultdict(lambda: defaultdict(lambda: 0))\n",
    "\n",
    "# Count frequency of co-occurance  \n",
    "for sentence in df_input:\n",
    "    for w1, w2, w3 in trigrams(sentence, pad_right=True, pad_left=True):\n",
    "        model[(w1, w2)][w3] += 1\n",
    " \n",
    "# Let's transform the counts to probabilities\n",
    "for w1_w2 in model:\n",
    "    total_count = float(sum(model[w1_w2].values()))\n",
    "    for w3 in model[w1_w2]:\n",
    "        model[w1_w2][w3] /= total_count\n"
   ]
  },
  {
   "cell_type": "code",
   "execution_count": 122,
   "metadata": {},
   "outputs": [
    {
     "name": "stdout",
     "output_type": "stream",
     "text": [
      "Start sentence: 0     but while the new york stock exchange did nt f...\n",
      "1     some circuit breakers installed after the octo...\n",
      "2     the N stock specialist firms on the big board ...\n",
      "3     big investment banks refused to step up to the...\n",
      "4     heavy selling of standard  poor s stock index ...\n",
      "5     seven big board stocks ual amr bankamerica wal...\n",
      "6     once again the specialists were not able to ha...\n",
      "7     unk james unk chairman of specialists henderso...\n",
      "8       when the dollar is in a unk even central banks \n",
      "9     speculators are calling for a degree of liquid...\n",
      "10    many money managers and some traders had alrea...\n",
      "11    then in a unk plunge the dow jones industrials...\n",
      "12    unk trading accelerated to N million shares a ...\n",
      "13         at the end of the day N million shares were \n",
      "14    the dow s decline was second in point terms only \n",
      "15    in percentage terms however the dow s dive was...\n",
      "16    shares of ual the parent of united airlines we...\n",
      "17    wall street s takeoverstock speculators or ris...\n",
      "18             at N p.m. edt came the unk news the big \n",
      "19    on the exchange floor as soon as ual stopped t...\n",
      "20    several traders could be seen shaking their he...\n",
      "21    for weeks the market had been nervous about ta...\n",
      "22    and N minutes after the ual trading halt came ...\n",
      "23    arbitragers could nt dump their ual stock but ...\n",
      "24    for example their selling caused trading halts...\n",
      "25    but as panic spread speculators began to sell ...\n",
      "26    when trading was halted in philip morris the s...\n",
      "27    selling unk because of waves of automatic stop...\n",
      "28    most of the stock selling pressure came from w...\n",
      "29    traders said most of their major institutional...\n",
      "Name: cleaned, dtype: object\n",
      "2-gram sentence: \"\n"
     ]
    },
    {
     "ename": "NameError",
     "evalue": "name 'xrange' is not defined",
     "output_type": "error",
     "traceback": [
      "\u001b[1;31m---------------------------------------------------------------------------\u001b[0m",
      "\u001b[1;31mNameError\u001b[0m                                 Traceback (most recent call last)",
      "\u001b[1;32m<ipython-input-122-b361fd917d23>\u001b[0m in \u001b[0;36m<module>\u001b[1;34m\u001b[0m\n\u001b[0;32m     11\u001b[0m \u001b[1;33m\u001b[0m\u001b[0m\n\u001b[0;32m     12\u001b[0m \u001b[0mprint\u001b[0m\u001b[1;33m(\u001b[0m\u001b[1;34m\"2-gram sentence: \\\"\"\u001b[0m\u001b[1;33m,\u001b[0m\u001b[1;33m)\u001b[0m\u001b[1;33m\u001b[0m\u001b[1;33m\u001b[0m\u001b[0m\n\u001b[1;32m---> 13\u001b[1;33m \u001b[0mget2GramSentence\u001b[0m\u001b[1;33m(\u001b[0m\u001b[0mword\u001b[0m\u001b[1;33m,\u001b[0m \u001b[1;36m20\u001b[0m\u001b[1;33m)\u001b[0m\u001b[1;33m\u001b[0m\u001b[1;33m\u001b[0m\u001b[0m\n\u001b[0m",
      "\u001b[1;32m<ipython-input-122-b361fd917d23>\u001b[0m in \u001b[0;36mget2GramSentence\u001b[1;34m(sentence, n)\u001b[0m\n\u001b[0;32m      1\u001b[0m \u001b[1;32mdef\u001b[0m \u001b[0mget2GramSentence\u001b[0m\u001b[1;33m(\u001b[0m\u001b[0msentence\u001b[0m\u001b[1;33m,\u001b[0m \u001b[0mn\u001b[0m \u001b[1;33m=\u001b[0m \u001b[1;36m50\u001b[0m\u001b[1;33m)\u001b[0m\u001b[1;33m:\u001b[0m\u001b[1;33m\u001b[0m\u001b[1;33m\u001b[0m\u001b[0m\n\u001b[1;32m----> 2\u001b[1;33m     \u001b[1;32mfor\u001b[0m \u001b[0mi\u001b[0m \u001b[1;32min\u001b[0m \u001b[0mxrange\u001b[0m\u001b[1;33m(\u001b[0m\u001b[0mn\u001b[0m\u001b[1;33m)\u001b[0m\u001b[1;33m:\u001b[0m\u001b[1;33m\u001b[0m\u001b[1;33m\u001b[0m\u001b[0m\n\u001b[0m\u001b[0;32m      3\u001b[0m         \u001b[0mprint\u001b[0m\u001b[1;33m(\u001b[0m\u001b[0msentence\u001b[0m\u001b[1;33m)\u001b[0m\u001b[1;33m\u001b[0m\u001b[1;33m\u001b[0m\u001b[0m\n\u001b[0;32m      4\u001b[0m         \u001b[1;31m# Find Next word\u001b[0m\u001b[1;33m\u001b[0m\u001b[1;33m\u001b[0m\u001b[1;33m\u001b[0m\u001b[0m\n\u001b[0;32m      5\u001b[0m         \u001b[0mword\u001b[0m \u001b[1;33m=\u001b[0m \u001b[0mnext\u001b[0m\u001b[1;33m(\u001b[0m\u001b[1;33m(\u001b[0m\u001b[0melement\u001b[0m\u001b[1;33m[\u001b[0m\u001b[1;36m0\u001b[0m\u001b[1;33m]\u001b[0m\u001b[1;33m[\u001b[0m\u001b[1;36m1\u001b[0m\u001b[1;33m]\u001b[0m \u001b[1;32mfor\u001b[0m \u001b[0melement\u001b[0m \u001b[1;32min\u001b[0m \u001b[0mgram2\u001b[0m \u001b[1;32mif\u001b[0m \u001b[0melement\u001b[0m\u001b[1;33m[\u001b[0m\u001b[1;36m0\u001b[0m\u001b[1;33m]\u001b[0m\u001b[1;33m[\u001b[0m\u001b[1;36m0\u001b[0m\u001b[1;33m]\u001b[0m \u001b[1;33m==\u001b[0m \u001b[0mword\u001b[0m\u001b[1;33m)\u001b[0m\u001b[1;33m,\u001b[0m \u001b[1;32mNone\u001b[0m\u001b[1;33m)\u001b[0m\u001b[1;33m\u001b[0m\u001b[1;33m\u001b[0m\u001b[0m\n",
      "\u001b[1;31mNameError\u001b[0m: name 'xrange' is not defined"
     ]
    }
   ],
   "source": [
    "def get2GramSentence(sentence, n = 1):\n",
    "    for i in range(n):\n",
    "        print(sentence)\n",
    "        # Find Next word\n",
    "        word = next((element[0][1] for element in gram2 if element[0][0] == word), None)\n",
    "        if not word:\n",
    "            break\n",
    "\n",
    "word = df_input[\"cleaned\"][0:30]\n",
    "print(\"Start sentence: %s\" % word)\n",
    "\n",
    "print(\"2-gram sentence: \\\"\",)\n",
    "get2GramSentence(word, 20)"
   ]
  }
 ],
 "metadata": {
  "kernelspec": {
   "display_name": "Python 3",
   "language": "python",
   "name": "python3"
  },
  "language_info": {
   "codemirror_mode": {
    "name": "ipython",
    "version": 3
   },
   "file_extension": ".py",
   "mimetype": "text/x-python",
   "name": "python",
   "nbconvert_exporter": "python",
   "pygments_lexer": "ipython3",
   "version": "3.7.9"
  }
 },
 "nbformat": 4,
 "nbformat_minor": 4
}
