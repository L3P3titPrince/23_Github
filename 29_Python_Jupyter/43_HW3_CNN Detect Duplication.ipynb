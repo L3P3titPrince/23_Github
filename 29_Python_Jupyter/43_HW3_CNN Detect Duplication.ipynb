{
 "cells": [
  {
   "cell_type": "markdown",
   "metadata": {},
   "source": [
    "# Assignment 2: CNN"
   ]
  },
  {
   "cell_type": "markdown",
   "metadata": {},
   "source": [
    "#### Option 1: Paper Reading\n",
    "- Pick one of the following papers, understand its key ideas, and replicate the experiments using the datasets described in the paper or your own dataset.\n",
    "    - Convolutional Neural Network Architectures for Matching Natural Language Sentences, https://arxiv.org/pdf/1503.03244.pdf\n",
    "    - Matching Networks for One Shot Learning , https://arxiv.org/pdf/1606.04080v2.pdf\n",
    "    - Prototypical Networks for Few-shot Learning, https://arxiv.org/pdf/1703.05175v2.pdf\n",
    "- Requirements:\n",
    "    - Write a report summarizing the key idea, your experiment results, and your analysis and critique\n",
    "    - Give a 5-10 min oral presentation in class"
   ]
  },
  {
   "cell_type": "markdown",
   "metadata": {},
   "source": [
    "#### Option 2: Siamese CNN "
   ]
  },
  {
   "cell_type": "markdown",
   "metadata": {},
   "source": [
    "In this Assignment, let's use CNN to detect duplicate sentences. Two datasets have been prepared for you: train.csv and test.csv. Both files are in the following format"
   ]
  },
  {
   "cell_type": "markdown",
   "metadata": {},
   "source": [
    "|question1 | question2 |is_duplicate|\n",
    "|------|------|-------|\n",
    "|How do you take a screenshot on a Mac laptop?|  How do I take a screenshot on my MacBook Pro? ...|   1 |\n",
    "|Is the US election rigged?|  Was the US election rigged?|   1 |\n",
    "|How scary is it to drive on the road to Hana g...|  Do I need a four-wheel-drive car to drive all ...\t|  0  |\n",
    "|...|...| ...|"
   ]
  },
  {
   "cell_type": "markdown",
   "metadata": {},
   "source": [
    "Follow the instructions below to clasify the sentence pairs in the training dataset and then test the model using test.csv."
   ]
  },
  {
   "cell_type": "markdown",
   "metadata": {},
   "source": [
    "#### 1. Define a **class** called \"text_processor\" to preporcess text:\n",
    "- first create **\"\\_\\_init\\_\\_\"** function:\n",
    "    - set the *class attributes*: MAX_SEN_LEN (max sentence length) and MAX_WORDS (max number of words in corpus). You'll need to explore the dataset to set these two parameters properly\n",
    "    - initialize a tokenizer with parameter num_words = MAX_WORDS and set the tokenizer object as a *class object*\n",
    "    - fit the tokenizer using the training sentence pairs (i.e. method \"*fit_on_texts*\")\n",
    "- create a function **\"generate_seq\"** which does the following:\n",
    "    - take a list of sentences as an input \n",
    "    - generates padded sequences from the sentences using the class tokenizer object define above\n",
    "    - retrun the padding sequences"
   ]
  },
  {
   "cell_type": "code",
   "execution_count": 2,
   "metadata": {},
   "outputs": [
    {
     "name": "stderr",
     "output_type": "stream",
     "text": [
      "Using TensorFlow backend.\n",
      "D:\\ProgramData\\Anaconda3\\envs\\03_ten1131_keras231\\lib\\site-packages\\tensorflow\\python\\framework\\dtypes.py:526: FutureWarning: Passing (type, 1) or '1type' as a synonym of type is deprecated; in a future version of numpy, it will be understood as (type, (1,)) / '(1,)type'.\n",
      "  _np_qint8 = np.dtype([(\"qint8\", np.int8, 1)])\n",
      "D:\\ProgramData\\Anaconda3\\envs\\03_ten1131_keras231\\lib\\site-packages\\tensorflow\\python\\framework\\dtypes.py:527: FutureWarning: Passing (type, 1) or '1type' as a synonym of type is deprecated; in a future version of numpy, it will be understood as (type, (1,)) / '(1,)type'.\n",
      "  _np_quint8 = np.dtype([(\"quint8\", np.uint8, 1)])\n",
      "D:\\ProgramData\\Anaconda3\\envs\\03_ten1131_keras231\\lib\\site-packages\\tensorflow\\python\\framework\\dtypes.py:528: FutureWarning: Passing (type, 1) or '1type' as a synonym of type is deprecated; in a future version of numpy, it will be understood as (type, (1,)) / '(1,)type'.\n",
      "  _np_qint16 = np.dtype([(\"qint16\", np.int16, 1)])\n",
      "D:\\ProgramData\\Anaconda3\\envs\\03_ten1131_keras231\\lib\\site-packages\\tensorflow\\python\\framework\\dtypes.py:529: FutureWarning: Passing (type, 1) or '1type' as a synonym of type is deprecated; in a future version of numpy, it will be understood as (type, (1,)) / '(1,)type'.\n",
      "  _np_quint16 = np.dtype([(\"quint16\", np.uint16, 1)])\n",
      "D:\\ProgramData\\Anaconda3\\envs\\03_ten1131_keras231\\lib\\site-packages\\tensorflow\\python\\framework\\dtypes.py:530: FutureWarning: Passing (type, 1) or '1type' as a synonym of type is deprecated; in a future version of numpy, it will be understood as (type, (1,)) / '(1,)type'.\n",
      "  _np_qint32 = np.dtype([(\"qint32\", np.int32, 1)])\n",
      "D:\\ProgramData\\Anaconda3\\envs\\03_ten1131_keras231\\lib\\site-packages\\tensorflow\\python\\framework\\dtypes.py:535: FutureWarning: Passing (type, 1) or '1type' as a synonym of type is deprecated; in a future version of numpy, it will be understood as (type, (1,)) / '(1,)type'.\n",
      "  np_resource = np.dtype([(\"resource\", np.ubyte, 1)])\n"
     ]
    }
   ],
   "source": [
    "# Add import\n",
    "from keras.layers import Embedding, Dense, Conv1D, MaxPooling1D, Dropout, Activation, Input, Flatten, Concatenate\n",
    "import pandas as pd\n",
    "import numpy as np\n",
    "import matplotlib.pyplot as plt\n",
    "import nltk,string\n",
    "from gensim import corpora\n",
    "from keras.models import Model\n",
    "\n",
    "\n",
    "from keras.preprocessing.text import Tokenizer\n",
    "from keras.preprocessing.sequence import pad_sequences\n",
    "from sklearn.model_selection import train_test_split\n",
    " \n",
    "\n",
    "# fix random number\n",
    "from numpy.random import seed\n",
    "seed(123)\n",
    "from tensorflow import set_random_seed\n",
    "set_random_seed(231)"
   ]
  },
  {
   "cell_type": "code",
   "execution_count": 2,
   "metadata": {},
   "outputs": [],
   "source": [
    "# Define text_preprocessor class\n",
    "class text_preprocessor(object):\n",
    "    \n",
    "    # define __init__ function    \n",
    "    def __init__(self, max_sen_len, max_words, docs):\n",
    "        \n",
    "        # add your code here\n",
    "        # set sentence/document length\n",
    "        self.max_sen_len = max_sen_len\n",
    "        \n",
    "        # set the maximum number of words to be used\n",
    "        #max_word will define the max value of tokenizer\n",
    "        self.max_words = max_words\n",
    "        \n",
    "        #set data to self.doc\n",
    "        self.docs = docs\n",
    "        #print(self.docs.head()) #success\n",
    "        \n",
    "        #self.word = tokenizer.word_index\n",
    "        #these two line create dictornary, give index to each words\n",
    "        \n",
    "        self.tokenizer = Tokenizer(num_words=self.max_words)\n",
    "        tokenizer.fit_on_texts(self.docs)\n",
    "    # define generate_seq function \n",
    "    def generate_seq(self, docs):\n",
    "        \n",
    "        sequences = None\n",
    "        \n",
    "        # add your code here\n",
    "        # convert each document to a list of word index as a sequence\n",
    "        # get a Keras tokenizer\n",
    "        # https://keras.io/preprocessing/text/\n",
    "        #don't put tokenize in here\n",
    "        #if you tokenize here, you will create a brand new dictonary/volcapbulaer\n",
    "        tokenizer = Tokenizer(num_words=self.max_words)\n",
    "        \n",
    "        #Updates internal vocabulary based on a list of texts. This method creates the vocabulary index based on word frequency. \n",
    "        #So if you give it something like, \"The cat sat on the mat.\" It will create a dictionary s.t. word_index[\"the\"] = 1; word_index[\"cat\"] = 2 \n",
    "        #it is word -> index dictionary so every word gets a unique integer value. 0 is reserved for padding. \n",
    "        #So lower integer means more frequent word (often the first few are stop words because they appear a lot).\n",
    "        \n",
    "        tokenizer.fit_on_texts(self.docs)\n",
    "        #Transforms each text in texts to a sequence of integers. So it basically takes each word in the text \n",
    "        #and replaces it with its corresponding integer value from the word_index dictionary. \n",
    "        #Nothing more, nothing less, certainly no magic involved.\n",
    "        \n",
    "        sequences = tokenizer.texts_to_sequences(self.docs)\n",
    "        \n",
    "        #this is final result, it's a \n",
    "        padded_sequences = pad_sequences(sequences, \\\n",
    "                                 maxlen=self.max_sen_len, \\\n",
    "                                 padding='post', \\\n",
    "                                 truncating='post')\n",
    "\n",
    "        word_index = tokenizer.word_index\n",
    "        word_count = tokenizer.word_counts\n",
    "        #print('Number of Unique Tokens',len(word_index))\n",
    "        #print(word_count)\n",
    "        #print(padded_sequences.shape)\n",
    "        #print(type(padded_sequences))\n",
    "        self.word = tokenizer.word_index\n",
    "        \n",
    "        return padded_sequences\n",
    "    "
   ]
  },
  {
   "cell_type": "markdown",
   "metadata": {},
   "source": [
    "#### 2. Create a function \"cnn_model\" to define a CNN model as follows:\n",
    "- take parameters: FILTER_SIZERS (a list of Conv1D filter sizes), NUM_FILTERS (the number of filters), MAX_WORDS, MAX_SEN_LEN, and EMBEDDING_DIM (dimision of word vectors)\n",
    "- define a CNN model with **Conv1D** using the specifified FILTER_SIZERS and NUM_FILTERS. For example, if FILTER_SIZERS=[1,2,3] and NUM_FILTERS=64, your model may look like the figure below.\n",
    "- return this CNN model"
   ]
  },
  {
   "cell_type": "markdown",
   "metadata": {},
   "source": [
    "<img src='04_Images/12_cnn_model.png' width='50%'>"
   ]
  },
  {
   "cell_type": "code",
   "execution_count": 3,
   "metadata": {},
   "outputs": [],
   "source": [
    "# define CNN model\n",
    "def cnn_model(EMBEDDING_DIM, \\\n",
    "              # word vector dimension\n",
    "              FILTER_SIZES,\\\n",
    "              # filter sizes as a list\n",
    "              MAX_WORDS, \\\n",
    "              # total number of words\n",
    "              MAX_SEN_LEN, \\\n",
    "              # max words in a doc\n",
    "              #NAME = 'cnn',\\\n",
    "              NUM_FILTERS\\\n",
    "              #add input layer from outside\n",
    "              #outside_input\n",
    "              ):            \n",
    "    \n",
    "    model = None\n",
    "    \n",
    "    # add your code here\n",
    "    # define input layer, where a sentence represented as\n",
    "    # 1 dimension array with integers\n",
    "    main_input = Input(shape=(MAX_SEN_LEN,), dtype='int32', name='main_input')\n",
    "    \n",
    "    # define the embedding layer\n",
    "    # input_dim is the size of all words +1,because we will use wide convolution, we add zero before first input layer\n",
    "    # where 1 is for the padding symbol\n",
    "    # output_dim is the word vector dimension\n",
    "    # input_length is the max. length of a document\n",
    "    # input to embedding layer is the \"main_input\" layer\n",
    "    embed_1 = Embedding(input_dim=MAX_WORDS+1, \\\n",
    "                    output_dim=EMBEDDING_DIM, \\\n",
    "                    input_length=MAX_SEN_LEN,\\\n",
    "                    name='embedding')(main_input)  \n",
    "    \n",
    "\n",
    "    # define 1D convolution layer\n",
    "    # 64 filters are used\n",
    "    # a filter slides through each word (kernel_size=1)\n",
    "    # input to this layer is the embedding layer\n",
    "    conv1d_1= Conv1D(filters=NUM_FILTERS, kernel_size=FILTER_SIZES[0], \\\n",
    "                     name='conv_unigram',\\\n",
    "                     activation='relu')(embed_1)\n",
    "\n",
    "    # define a 1-dimension MaxPooling \n",
    "    # to take the output of the previous convolution layer\n",
    "    # the convolution layer produce \n",
    "    # MAX_SEN_LEN-1+1 values as ouput (???)\n",
    "    pool_1 = MaxPooling1D(MAX_SEN_LEN-1+1, \\\n",
    "                          name='pool_unigram')(conv1d_1)\n",
    "\n",
    "    # The pooling layer creates output \n",
    "    # in the size of (# of sample, 1, 64)  \n",
    "    # remove one dimension since the size is 1\n",
    "    flat_1 = Flatten(name='flat_unigram')(pool_1)\n",
    "\n",
    "    \n",
    "    #***********************************************************************************#\n",
    "    \n",
    "    \n",
    "    # following the same logic to define \n",
    "    # filters for bigram\n",
    "    conv1d_2= Conv1D(filters=NUM_FILTERS, kernel_size=FILTER_SIZES[1], \\\n",
    "                     name='conv_bigram',\\\n",
    "                     activation='relu')(embed_1)\n",
    "    pool_2 = MaxPooling1D(MAX_SEN_LEN-2+1, name='pool_bigram')(conv1d_2)\n",
    "    flat_2 = Flatten(name='flat_bigram')(pool_2)\n",
    "\n",
    "    \n",
    "    \n",
    "    #***********************************************************************************#\n",
    "        \n",
    "    # filters for trigram\n",
    "    conv1d_3= Conv1D(filters=NUM_FILTERS, kernel_size=FILTER_SIZES[2], \\\n",
    "                     name='conv_trigram',activation='relu')(embed_1)\n",
    "    pool_3 = MaxPooling1D(MAX_SEN_LEN-3+1, name='pool_trigram')(conv1d_3)\n",
    "    flat_3 = Flatten(name='flat_trigram')(pool_3)\n",
    "\n",
    "    # Concatenate flattened output\n",
    "    z=Concatenate(name='concate')([flat_1, flat_2, flat_3])\n",
    "\n",
    "    # create the model with input layer\n",
    "    # and the output layer\n",
    "    model = Model(inputs=main_input, outputs=z)\n",
    "    #model.summary()\n",
    "    \n",
    "    return model"
   ]
  },
  {
   "cell_type": "markdown",
   "metadata": {},
   "source": [
    "#### 3. Define three architecutres as described below. You may add appropriate regularizers in each model:\n",
    "- Model A: Use one CNN described above to process each question **without any parameter sharing**. Concatenate features extracted from both CNNs and then use a dense layer to predict the output\n",
    "- Model B: Use a **shared** CNN to process both questions. Concatenate features extracted from the CNN and then use a dense layer to predict the output\n",
    "- Model C: Use a shared CNN to process both questions. Then take the **absolute difference** between the feature vectors extracted from the CNN (hint, use keras \"Lambda\" layer), and connect the difference to a dense layer to predict the output\n",
    "- Model D (**Bonus**): You can come up with your own architecture as long as it can outperform the above models\n"
   ]
  },
  {
   "cell_type": "markdown",
   "metadata": {},
   "source": [
    "##### Reference architectures"
   ]
  },
  {
   "cell_type": "markdown",
   "metadata": {},
   "source": [
    "| Model A | Model B   | Model C |\n",
    "|:------:|:------:|:---------:|\n",
    "|   <img src=\"04_Images/09_model_a.png\"/>| <img src=\"04_Images/10_model_b.png\" />| <img src=\"04_Images/11_model_c.png\"/> |\n",
    "\n"
   ]
  },
  {
   "cell_type": "code",
   "execution_count": 4,
   "metadata": {},
   "outputs": [],
   "source": [
    "# define Model A\n",
    "def model_A(EMBEDDING_DIM, FILTER_SIZES,MAX_WORDS, MAX_SEN_LEN, NUM_FILTERS,):\n",
    "    \n",
    "    \n",
    "    model = None\n",
    "    \n",
    "    # add your code here\n",
    "    q1_input = Input(shape=(MAX_SEN_LEN,), dtype='int32', name='q1_input')\n",
    "    q2_input = Input(shape=(MAX_SEN_LEN,), dtype='int32', name='q2_input')\n",
    "    \n",
    "    \n",
    "    left_cnn = cnn_model(EMBEDDING_DIM, FILTER_SIZES,MAX_WORDS, MAX_SEN_LEN, NUM_FILTERS)\n",
    "    left = left_cnn(q1_input)\n",
    "    #print(type(left_cnn))\n",
    "    right_cnn = cnn_model(EMBEDDING_DIM, FILTER_SIZES,MAX_WORDS, MAX_SEN_LEN, NUM_FILTERS)\n",
    "    right = right_cnn(q2_input)\n",
    "    #print(type(right_cnn))\n",
    "    con_layer=Concatenate(name='concate')([left, right])\n",
    "    \n",
    "    # Create a dropout layer\n",
    "    # In each iteration only 50% units are turned on\n",
    "    drop_1=Dropout(rate=0.5, name='dropout')(con_layer)\n",
    "\n",
    "    # Create a dense layer\n",
    "    dense_1 = Dense(192, activation='relu', name='dense')(drop_1)\n",
    "    # Create the output layer\n",
    "    preds = Dense(1, activation='sigmoid', name='output')(dense_1)\n",
    "    model = Model(inputs=[q1_input,q2_input], outputs=preds)\n",
    "    #model.summary()\n",
    "    \n",
    "    \n",
    "    return model"
   ]
  },
  {
   "cell_type": "code",
   "execution_count": 5,
   "metadata": {},
   "outputs": [],
   "source": [
    "# define Model B\n",
    "\n",
    "def model_B(EMBEDDING_DIM, FILTER_SIZES,MAX_WORDS, MAX_SEN_LEN, NUM_FILTERS,):\n",
    "    \n",
    "    model = None\n",
    "    \n",
    "    # add your code here\n",
    "    q1_input = Input(shape=(MAX_SEN_LEN,), dtype='int32', name='q1_input')\n",
    "    q2_input = Input(shape=(MAX_SEN_LEN,), dtype='int32', name='q2_input')\n",
    "    \n",
    "    \n",
    "    cnn = cnn_model(EMBEDDING_DIM, FILTER_SIZES,MAX_WORDS, MAX_SEN_LEN, NUM_FILTERS)\n",
    "\n",
    "    con_layer=Concatenate(name='concate')([cnn(q1_input), cnn(q2_input)])\n",
    "    \n",
    "    # Create a dropout layer\n",
    "    # In each iteration only 50% units are turned on\n",
    "    drop_1=Dropout(rate=0.5, name='dropout')(con_layer)\n",
    "\n",
    "    # Create a dense layer\n",
    "    dense_1 = Dense(192, activation='relu', name='dense')(drop_1)\n",
    "    # Create the output layer\n",
    "    preds = Dense(1, activation='sigmoid', name='output')(dense_1)\n",
    "    model = Model(inputs=[q1_input,q2_input], outputs=preds)\n",
    "    model.summary()\n",
    "    \n",
    "    return model\n",
    "\n"
   ]
  },
  {
   "cell_type": "code",
   "execution_count": 6,
   "metadata": {},
   "outputs": [],
   "source": [
    "# define Model C\n",
    "\n",
    "def model_C(EMBEDDING_DIM, FILTER_SIZES,MAX_WORDS, MAX_SEN_LEN, NUM_FILTERS,):\n",
    "    from keras.layers import Lambda\n",
    "    from keras import backend as K\n",
    "#     from keras.utils import plot_model\n",
    "#     import pydot\n",
    "    \n",
    "    model = None\n",
    "    \n",
    "    # add your code here\n",
    "    q1_input = Input(shape=(MAX_SEN_LEN,), dtype='int32', name='q1_input')\n",
    "    q2_input = Input(shape=(MAX_SEN_LEN,), dtype='int32', name='q2_input')\n",
    "    \n",
    "    \n",
    "    cnn = cnn_model(EMBEDDING_DIM, FILTER_SIZES,MAX_WORDS, MAX_SEN_LEN, NUM_FILTERS)\n",
    "\n",
    "    #con_layer=Concatenate(name='concate')([cnn(q1_input), cnn(q2_input)])\n",
    "    \n",
    "    Diff = Lambda(lambda tensors:K.abs(tensors[0] - tensors[1]))([cnn(q1_input), cnn(q2_input)]) \n",
    "    # Create a dropout layer\n",
    "    # In each iteration only 50% units are turned on\n",
    "    drop_1=Dropout(rate=0.5, name='dropout')(Diff)\n",
    "\n",
    "    # Create a dense layer\n",
    "    dense_1 = Dense(192, activation='relu', name='dense')(drop_1)\n",
    "    # Create the output layer\n",
    "    preds = Dense(1, activation='sigmoid', name='output')(dense_1)\n",
    "    model = Model(inputs=[q1_input,q2_input], outputs=preds)\n",
    "    model.summary()\n",
    "   \n",
    "    #plot_model(model, to_file='04_Images/model.png')\n",
    "    return model"
   ]
  },
  {
   "cell_type": "markdown",
   "metadata": {},
   "source": [
    "#### 4. Define a function \"train_model\" to:\n",
    "- Train a model provided as an input parameter\n",
    "- Use appropriate techniques to ensure you don't overfit the model\n",
    "- Plot training history to make sure your model is reasonable good\n",
    "- Using the testing dataset, calculate precision, recall, and F-1 score of each class (assuming 0.5 probabbility threshould), and also report AUC score.\n"
   ]
  },
  {
   "cell_type": "code",
   "execution_count": 7,
   "metadata": {},
   "outputs": [],
   "source": [
    "# define train_model function\n",
    "\n",
    "def train_model(model, \\\n",
    "                q1_train, q2_train, y_train, \\\n",
    "                q1_val, q2_val, y_val, \\\n",
    "                q1_test, q2_test, y_test, \\\n",
    "                BATCH_SIZE, \\\n",
    "                NUM_EPOCHES\n",
    "               ):\n",
    "    from sklearn.metrics import confusion_matrix, classification_report\n",
    "    from sklearn.metrics import roc_curve, auc, precision_recall_curve\n",
    "    \n",
    "    # compile and train model\n",
    "    # process test dataset\n",
    "    model.compile(loss=\"binary_crossentropy\", \\\n",
    "              optimizer=\"adam\", \\\n",
    "              metrics=[\"accuracy\"]\n",
    "                 )\n",
    "    \n",
    "    #BATCH_SIZE = 64\n",
    "    #NUM_EPOCHES = 10\n",
    "\n",
    "    # fit the model and save fitting history to \"training\"\n",
    "    training=model.fit([q1_train, q2_train],y_train, \\\n",
    "                   batch_size=BATCH_SIZE, \\\n",
    "                   epochs=NUM_EPOCHES,\\\n",
    "                   validation_data=[[q1_val, q2_val],y_val], \\\n",
    "                   #verbose=2\n",
    "                        )\n",
    "    \n",
    "    # plot training history\n",
    "    # the fitting history is saved as dictionary\n",
    "    # covert the dictionary to dataframe\n",
    "    df_hist=pd.DataFrame.from_dict(training.history)\n",
    "    df_hist.columns=[ \"val_loss\", \"val_acc\", \"train_loss\",\"train_acc\"]\n",
    "    df_hist.index.name='epoch'\n",
    "    print(df_hist)\n",
    "\n",
    "    # plot training history\n",
    "    fig, axes = plt.subplots(nrows=1, ncols=2, figsize=(8,3));\n",
    "\n",
    "    df_hist[[\"train_acc\", \"val_acc\"]].plot(ax=axes[0]);\n",
    "    df_hist[[\"train_loss\", \"val_loss\"]].plot(ax=axes[1]);\n",
    "    plt.show();\n",
    "    \n",
    "    # predict testing samples\n",
    "    y_pred = model.predict([q1_test,q2_test])\n",
    "\n",
    "    \n",
    "    \n",
    "    \n",
    "    # print classfication report\n",
    "    \n",
    "    print(classification_report(y_test, y_pred[:] > 0.5))\n",
    "    \n",
    "    # calculate ROC AUC\n",
    "    fpr, tpr, thresholds = roc_curve(y_test, y_pred)\n",
    "    print('AUC: {:.2f}'.format(auc(fpr, tpr)))\n",
    "\n",
    "    plt.figure(figsize = (15, 7))\n",
    "    plt.plot(fpr, tpr, color = 'darkorange', lw = 2, label = 'Logistic')\n",
    "    plt.plot([0, 1], [0, 1], color = 'navy', lw = 2, linestyle = '--', label = 'No skill')\n",
    "    plt.title('AUC of Siamese Network Model')\n",
    "    plt.xlabel('False Positive Rate')\n",
    "    plt.ylabel('True Positive Rate')\n",
    "    plt.xlim([0.0, 1.0])\n",
    "    plt.ylim([0.0, 1.0])\n",
    "    plt.legend()\n",
    "    plt.show();\n",
    "    \n",
    "    # add your code here\n",
    "    \n",
    "    "
   ]
  },
  {
   "cell_type": "markdown",
   "metadata": {},
   "source": [
    "#### 5. Call the function \"train_model\" to get the performance of each model. Show your analysis as markdowns on the following:\n",
    "- How did you choose the hyperparaters: FILTER_SIZES,NUM_FILTERS, MAX_SEN_LEN, MAX_WORDS, EMBEDDING_DIM\n",
    "- Analyze each architecture to understand its pros and cons\n",
    "- Which architecture is the most effective and why is it effective for this classification task?\n",
    "- What regularizers did you use and why did it work?\n",
    "- What features do you think CNN can successfully extract? What kind of useful features could be missed by CNN?"
   ]
  },
  {
   "cell_type": "code",
   "execution_count": 4,
   "metadata": {},
   "outputs": [
    {
     "name": "stdout",
     "output_type": "stream",
     "text": [
      "105\n"
     ]
    },
    {
     "ename": "NameError",
     "evalue": "name 'text_preprocessor' is not defined",
     "output_type": "error",
     "traceback": [
      "\u001b[1;31m---------------------------------------------------------------------------\u001b[0m",
      "\u001b[1;31mNameError\u001b[0m                                 Traceback (most recent call last)",
      "\u001b[1;32m<ipython-input-4-04d6fc4cdccd>\u001b[0m in \u001b[0;36m<module>\u001b[1;34m\u001b[0m\n\u001b[0;32m     44\u001b[0m \u001b[1;33m\u001b[0m\u001b[0m\n\u001b[0;32m     45\u001b[0m \u001b[1;33m\u001b[0m\u001b[0m\n\u001b[1;32m---> 46\u001b[1;33m     \u001b[0mseq_1\u001b[0m \u001b[1;33m=\u001b[0m \u001b[0mtext_preprocessor\u001b[0m\u001b[1;33m(\u001b[0m\u001b[0mMAX_SEN_LEN\u001b[0m\u001b[1;33m,\u001b[0m \u001b[0mMAX_WORDS\u001b[0m\u001b[1;33m,\u001b[0m \u001b[0mX_train\u001b[0m\u001b[1;33m[\u001b[0m\u001b[1;34m'question1'\u001b[0m\u001b[1;33m]\u001b[0m\u001b[1;33m)\u001b[0m\u001b[1;33m\u001b[0m\u001b[1;33m\u001b[0m\u001b[0m\n\u001b[0m\u001b[0;32m     47\u001b[0m     \u001b[0mdata1_train\u001b[0m\u001b[1;33m=\u001b[0m \u001b[0mseq_1\u001b[0m\u001b[1;33m.\u001b[0m\u001b[0mgenerate_seq\u001b[0m\u001b[1;33m(\u001b[0m\u001b[0mX_train\u001b[0m\u001b[1;33m[\u001b[0m\u001b[1;34m'question1'\u001b[0m\u001b[1;33m]\u001b[0m\u001b[1;33m)\u001b[0m\u001b[1;33m\u001b[0m\u001b[1;33m\u001b[0m\u001b[0m\n\u001b[0;32m     48\u001b[0m \u001b[1;33m\u001b[0m\u001b[0m\n",
      "\u001b[1;31mNameError\u001b[0m: name 'text_preprocessor' is not defined"
     ]
    }
   ],
   "source": [
    "# Train and test each model\n",
    "if __name__ == \"__main__\":  \n",
    " \n",
    "    #read data\n",
    "    #our train.csv have three column ,[questin1] and [question2] are string sentence. Next step we should transfer sentence into vector\n",
    "    df_train = pd.read_csv('03_data/21_train.csv')\n",
    "    df_test = pd.read_csv('03_data/22_test.csv')\n",
    "    \n",
    "    X_train, X_val, Y_train, Y_val = train_test_split(\\\n",
    "                        df_train.iloc[:,:2], df_train['is_duplicate'],\\\n",
    "                        test_size=0.3, random_state=1)\n",
    "    # Set hyper parameters\n",
    "    #maybe means, first is unigram(kernel_size=1), second is bigram(kernel_size=2), third is trigram(kernel_size=3)\n",
    "    FILTER_SIZES = [1, 2, 3]\n",
    "    \n",
    "    #how manny feature maps to extract\n",
    "    NUM_FILTERS = 64\n",
    "    \n",
    "    #I think this parameter is saame as MAX_SEN_LEN\n",
    "    #MAX_DOC_LEN = 500\n",
    "    \n",
    "    #for these two column sentence, the lengthist is 105 words in single sentence\n",
    "    MAX_SEN_LEN = len(df_train['question1'].max())\n",
    "    \n",
    "    #this is definnation of tokenzier max token value, smaller and less feature, and greater value will get more features\n",
    "    #typical we setup 10000 to adapat requirement of word feature extract\n",
    "    MAX_WORDS = 10000\n",
    "    \n",
    "    #the output dimention of embedding input layers \n",
    "    EMBEDDING_DIM = 200\n",
    "    \n",
    "    BATCH_SIZE = 256\n",
    "    \n",
    "    NUM_EPOCHES = 5\n",
    "    \n",
    "    #try to find the max length of these two questions set\n",
    "    print(len(df_train['question1'].max()))\n",
    "    \n",
    "\n",
    "    \n",
    "    data1_test = df_test['question1']\n",
    "    data2_test = df_test['question2']\n",
    "    Y_test = df_test['is_duplicate']\n",
    "    \n",
    "    \n",
    "    seq_1 = text_preprocessor(MAX_SEN_LEN, MAX_WORDS, X_train['question1'])\n",
    "    data1_train= seq_1.generate_seq(X_train['question1'])\n",
    "    \n",
    "    seq_2 = text_preprocessor(MAX_SEN_LEN, MAX_WORDS, X_train['question2'])\n",
    "    data2_train= seq_2.generate_seq(X_train['question2'])\n",
    "    \n",
    "    seq_3 = text_preprocessor(MAX_SEN_LEN, MAX_WORDS, X_val['question1'])\n",
    "    data1_val= seq_3.generate_seq(X_val['question1'])\n",
    "    \n",
    "    seq_4 = text_preprocessor(MAX_SEN_LEN, MAX_WORDS, X_val['question2'])\n",
    "    data2_val = seq_4.generate_seq(X_val['question2'])\n",
    "    \n",
    "    seq_5 = text_preprocessor(MAX_SEN_LEN, MAX_WORDS, df_test['question1'])\n",
    "    data1_test = seq_5.generate_seq(df_test['question1'])\n",
    "    \n",
    "    seq_6 = text_preprocessor(MAX_SEN_LEN, MAX_WORDS, df_test['question2'])\n",
    "    data2_test = seq_6.generate_seq(df_test['question2'])\n",
    "    \n",
    "    #print(type(data_1))\n",
    "    \n",
    "    \n",
    "    #print(q1_train)\n",
    "    #print(q1_train.shape)\n",
    "   \n",
    "    # train and test model A/B/C\n",
    "    a= model_A(EMBEDDING_DIM, FILTER_SIZES,MAX_WORDS,MAX_SEN_LEN,NUM_FILTERS)\n",
    "    b= model_B(EMBEDDING_DIM, FILTER_SIZES,MAX_WORDS,MAX_SEN_LEN,NUM_FILTERS)\n",
    "    c= model_C(EMBEDDING_DIM, FILTER_SIZES,MAX_WORDS,MAX_SEN_LEN,NUM_FILTERS)\n",
    "\n",
    "\n",
    "    train_model(a, \\\n",
    "                data1_train, data2_train,Y_train, \\\n",
    "                data1_val, data2_val,Y_val, \\\n",
    "                data1_test, data2_test,Y_test, \\\n",
    "                BATCH_SIZE, \\\n",
    "                NUM_EPOCHES\n",
    "               )\n",
    "\n",
    "\n",
    "    model=None\n",
    "\n",
    "\n",
    "    train_model(b, \\\n",
    "                data1_train, data2_train,Y_train, \\\n",
    "                data1_val, data2_val,Y_val, \\\n",
    "                data1_test, data2_test,Y_test, \\\n",
    "                BATCH_SIZE, \\\n",
    "                NUM_EPOCHES\n",
    "               )\n",
    "    \n",
    "    model=None\n",
    "    train_model(c, \\\n",
    "                data1_train, data2_train,Y_train, \\\n",
    "                data1_val, data2_val,Y_val, \\\n",
    "                data1_test, data2_test,Y_test, \\\n",
    "                BATCH_SIZE, \\\n",
    "                NUM_EPOCHES\n",
    "               )\n",
    "    \n",
    "\n",
    "    \n",
    "    # add your code here"
   ]
  },
  {
   "cell_type": "code",
   "execution_count": null,
   "metadata": {},
   "outputs": [],
   "source": []
  },
  {
   "cell_type": "code",
   "execution_count": null,
   "metadata": {},
   "outputs": [],
   "source": []
  },
  {
   "cell_type": "markdown",
   "metadata": {},
   "source": [
    "6. Hyperparameter choose and answers"
   ]
  },
  {
   "cell_type": "code",
   "execution_count": 9,
   "metadata": {},
   "outputs": [
    {
     "name": "stdout",
     "output_type": "stream",
     "text": [
      "word frequency: \n",
      "         freq\n",
      "android    57\n",
      "phone      83\n",
      "is       3347\n",
      "best      851\n",
      "up         97\n",
      "to       2493\n",
      "range      19\n",
      "of       1984\n",
      "15000       5\n",
      "i        2498\n",
      "   word_freq  count   percent    cumsum\n",
      "0          1   6338  0.527683  0.527683\n",
      "1          2   1878  0.156357  0.684040\n",
      "2          3    875  0.072850  0.756890\n",
      "3          4    538  0.044792  0.801682\n",
      "4          5    390  0.032470  0.834152\n"
     ]
    },
    {
     "data": {
      "image/png": "[encoded data removed]",
      "text/plain": [
       "<Figure size 432x288 with 1 Axes>"
      ]
     },
     "metadata": {
      "needs_background": "light"
     },
     "output_type": "display_data"
    }
   ],
   "source": [
    "import matplotlib.pyplot as plt\n",
    "import numpy as np\n",
    "import pandas as pd\n",
    "\n",
    "MAX_NB_WORDS =10000\n",
    "tokenizer = Tokenizer(num_words=MAX_NB_WORDS)\n",
    "tokenizer.fit_on_texts(df_train[\"question1\"])\n",
    "\n",
    "\n",
    "df_count=pd.DataFrame.from_dict(tokenizer.word_counts, \\\n",
    "                          orient=\"index\")\n",
    "df_count.columns=['freq']\n",
    "print(\"word frequency: \")\n",
    "print(df_count.head(10))\n",
    "\n",
    "# get histogram of word count\n",
    "df_count=df_count['freq'].value_counts().reset_index()\n",
    "df_count.columns=['word_freq','count']\n",
    "\n",
    "# sort by word_freq\n",
    "df_count=df_count.sort_values(by='word_freq')\n",
    "\n",
    "# convert absolute counts to precentage\n",
    "df_count['percent']=df_count['count']/len(tokenizer.word_counts)\n",
    "# get cumulative percentage\n",
    "df_count['cumsum']=df_count['percent'].cumsum()\n",
    "\n",
    "print(df_count.head())\n",
    "\n",
    "df_count.iloc[0:50].plot(x='word_freq', y='cumsum');\n",
    "\n",
    "plt.show();\n"
   ]
  },
  {
   "cell_type": "markdown",
   "metadata": {},
   "source": [
    "<br>"
   ]
  },
  {
   "cell_type": "markdown",
   "metadata": {},
   "source": [
    "<br>"
   ]
  },
  {
   "cell_type": "markdown",
   "metadata": {},
   "source": [
    "<br>"
   ]
  },
  {
   "cell_type": "markdown",
   "metadata": {},
   "source": [
    "- Q:How did you choose the hyperparaters: FILTER_SIZES,NUM_FILTERS, MAX_SEN_LEN, MAX_WORDS, EMBEDDING_DIM\n",
    "- A:FILTER_SIZES is the filter matrix-grim, in this problem we chouse[1,2,3], sometimes we can choose [2,3,4] which are less sensitive than [1,2,3]. \n",
    "- NUM_FILTERs are number of featuer maps, if we want more feature map we should increase but this will increaes running time.\n",
    "- MAX_SEN_LEN is decide by most of length of sentcen ,if 80% sentenc nomore than 30 words, we should choose word to in accerlate model. - - MAX_WORDS are max number of word_vecter can represent, 10000 is too big, according to our model 2000 is enough"
   ]
  },
  {
   "cell_type": "markdown",
   "metadata": {},
   "source": [
    "- Q: Analyze each architecture to understand its pros and cons\n",
    "- A:Model A have didn't input and increase the diffcults of calsscifation. Model B is better than A from classiciation. And Model C is the best of all from effectiveness."
   ]
  },
  {
   "cell_type": "markdown",
   "metadata": {},
   "source": [
    "- Q: Which architecture is the most effective and why is it effective for this classification task?\n",
    "- A: Model C is most effective because it cacluate the distance between qustion1 vector and question2 vecter and give a more small dimention to classification."
   ]
  },
  {
   "cell_type": "markdown",
   "metadata": {},
   "source": [
    "- Q:What regularizers did you use and why did it work?\n",
    "- A:dropout decrease the nosize of useless word without harm accuracy"
   ]
  },
  {
   "cell_type": "markdown",
   "metadata": {},
   "source": [
    "- Q:What features do you think CNN can successfully extract? What kind of useful features could be missed by CNN?\n",
    "- A:short phrase which have similar meaning will be every easy to extract"
   ]
  },
  {
   "cell_type": "code",
   "execution_count": null,
   "metadata": {},
   "outputs": [],
   "source": []
  },
  {
   "cell_type": "code",
   "execution_count": null,
   "metadata": {},
   "outputs": [],
   "source": []
  },
  {
   "cell_type": "code",
   "execution_count": 13,
   "metadata": {},
   "outputs": [
    {
     "name": "stdout",
     "output_type": "stream",
     "text": [
      "<class 'pandas.core.series.Series'>\n"
     ]
    }
   ],
   "source": [
    "#test_model:\n",
    "df_5 = pd.read_csv('03_data/21_train.csv')\n",
    "\n",
    "df_5\n",
    "\n",
    "\n",
    "\n",
    "len(df_5['question1'])\n",
    "\n",
    "print(type(df_5['question1']))"
   ]
  },
  {
   "cell_type": "code",
   "execution_count": 21,
   "metadata": {},
   "outputs": [
    {
     "data": {
      "text/html": [
       "<div>\n",
       "<style scoped>\n",
       "    .dataframe tbody tr th:only-of-type {\n",
       "        vertical-align: middle;\n",
       "    }\n",
       "\n",
       "    .dataframe tbody tr th {\n",
       "        vertical-align: top;\n",
       "    }\n",
       "\n",
       "    .dataframe thead th {\n",
       "        text-align: right;\n",
       "    }\n",
       "</style>\n",
       "<table border=\"1\" class=\"dataframe\">\n",
       "  <thead>\n",
       "    <tr style=\"text-align: right;\">\n",
       "      <th></th>\n",
       "      <th>question1</th>\n",
       "      <th>question2</th>\n",
       "      <th>is_duplicate</th>\n",
       "    </tr>\n",
       "  </thead>\n",
       "  <tbody>\n",
       "    <tr>\n",
       "      <th>0</th>\n",
       "      <td>Android phone is best up to range of 15000?</td>\n",
       "      <td>Which is the best smartphone in India under Rs...</td>\n",
       "      <td>1.0</td>\n",
       "    </tr>\n",
       "    <tr>\n",
       "      <th>1</th>\n",
       "      <td>I forgot my Gmail username and have no access ...</td>\n",
       "      <td>How would I retrieve my Yahoo account without ...</td>\n",
       "      <td>0.0</td>\n",
       "    </tr>\n",
       "    <tr>\n",
       "      <th>2</th>\n",
       "      <td>What were the major effects of the cambodia ea...</td>\n",
       "      <td>What were the major effects of the cambodia ea...</td>\n",
       "      <td>1.0</td>\n",
       "    </tr>\n",
       "    <tr>\n",
       "      <th>3</th>\n",
       "      <td>What are the best ways to clean a Jansport bac...</td>\n",
       "      <td>What are some safe ways of washing my JanSport...</td>\n",
       "      <td>1.0</td>\n",
       "    </tr>\n",
       "    <tr>\n",
       "      <th>4</th>\n",
       "      <td>How can I download Arrow season 5?</td>\n",
       "      <td>How can I download Arrow Season 3?</td>\n",
       "      <td>0.0</td>\n",
       "    </tr>\n",
       "    <tr>\n",
       "      <th>...</th>\n",
       "      <td>...</td>\n",
       "      <td>...</td>\n",
       "      <td>...</td>\n",
       "    </tr>\n",
       "    <tr>\n",
       "      <th>9995</th>\n",
       "      <td>How is personification presented in Macbeth?</td>\n",
       "      <td>What are examples of personification in Macbeth?</td>\n",
       "      <td>0.0</td>\n",
       "    </tr>\n",
       "    <tr>\n",
       "      <th>9996</th>\n",
       "      <td>What are catapults? How are they used?</td>\n",
       "      <td>What are catapults?</td>\n",
       "      <td>1.0</td>\n",
       "    </tr>\n",
       "    <tr>\n",
       "      <th>9997</th>\n",
       "      <td>What country has never kicked out the jews?</td>\n",
       "      <td>Is there a single stupid egotist here in Quora...</td>\n",
       "      <td>0.0</td>\n",
       "    </tr>\n",
       "    <tr>\n",
       "      <th>9998</th>\n",
       "      <td>How do I recover my Google account password if...</td>\n",
       "      <td>How can I recover my Google account if my reco...</td>\n",
       "      <td>1.0</td>\n",
       "    </tr>\n",
       "    <tr>\n",
       "      <th>9999</th>\n",
       "      <td>Where can I find a list of the best Telegram g...</td>\n",
       "      <td>How can I join Telegram philosopgy group?</td>\n",
       "      <td>0.0</td>\n",
       "    </tr>\n",
       "  </tbody>\n",
       "</table>\n",
       "<p>10000 rows × 3 columns</p>\n",
       "</div>"
      ],
      "text/plain": [
       "                                              question1  \\\n",
       "0           Android phone is best up to range of 15000?   \n",
       "1     I forgot my Gmail username and have no access ...   \n",
       "2     What were the major effects of the cambodia ea...   \n",
       "3     What are the best ways to clean a Jansport bac...   \n",
       "4                    How can I download Arrow season 5?   \n",
       "...                                                 ...   \n",
       "9995       How is personification presented in Macbeth?   \n",
       "9996             What are catapults? How are they used?   \n",
       "9997        What country has never kicked out the jews?   \n",
       "9998  How do I recover my Google account password if...   \n",
       "9999  Where can I find a list of the best Telegram g...   \n",
       "\n",
       "                                              question2  is_duplicate  \n",
       "0     Which is the best smartphone in India under Rs...           1.0  \n",
       "1     How would I retrieve my Yahoo account without ...           0.0  \n",
       "2     What were the major effects of the cambodia ea...           1.0  \n",
       "3     What are some safe ways of washing my JanSport...           1.0  \n",
       "4                    How can I download Arrow Season 3?           0.0  \n",
       "...                                                 ...           ...  \n",
       "9995   What are examples of personification in Macbeth?           0.0  \n",
       "9996                                What are catapults?           1.0  \n",
       "9997  Is there a single stupid egotist here in Quora...           0.0  \n",
       "9998  How can I recover my Google account if my reco...           1.0  \n",
       "9999          How can I join Telegram philosopgy group?           0.0  \n",
       "\n",
       "[10000 rows x 3 columns]"
      ]
     },
     "execution_count": 21,
     "metadata": {},
     "output_type": "execute_result"
    }
   ],
   "source": [
    "df_5"
   ]
  },
  {
   "cell_type": "code",
   "execution_count": 18,
   "metadata": {},
   "outputs": [],
   "source": [
    "text_1 = 'The quick brown fox jumped over the lazy dog'"
   ]
  },
  {
   "cell_type": "code",
   "execution_count": 27,
   "metadata": {},
   "outputs": [],
   "source": [
    "from keras.preprocessing.text import Tokenizer, hashing_trick, one_hot, text_to_word_sequence"
   ]
  },
  {
   "cell_type": "markdown",
   "metadata": {},
   "source": [
    "We have four way to preprocess text type:\n",
    " - Tokenizer\n",
    " - hashing_trick\n",
    " - one_hot\n",
    " - text_to_word_sequence"
   ]
  },
  {
   "cell_type": "code",
   "execution_count": 39,
   "metadata": {},
   "outputs": [],
   "source": [
    "words_1 = text_to_word_sequence(text_1)"
   ]
  },
  {
   "cell_type": "code",
   "execution_count": 40,
   "metadata": {},
   "outputs": [
    {
     "data": {
      "text/plain": [
       "['the', 'quick', 'brown', 'fox', 'jumped', 'over', 'the', 'lazy', 'dog']"
      ]
     },
     "execution_count": 40,
     "metadata": {},
     "output_type": "execute_result"
    }
   ],
   "source": [
    "words_1"
   ]
  },
  {
   "cell_type": "code",
   "execution_count": 51,
   "metadata": {},
   "outputs": [],
   "source": [
    "result_1 = [one_hot(d, n=9) for d in words_1]"
   ]
  },
  {
   "cell_type": "code",
   "execution_count": 52,
   "metadata": {},
   "outputs": [
    {
     "data": {
      "text/plain": [
       "[[2], [8], [1], [1], [7], [4], [2], [6], [6]]"
      ]
     },
     "execution_count": 52,
     "metadata": {},
     "output_type": "execute_result"
    }
   ],
   "source": [
    "result_1"
   ]
  },
  {
   "cell_type": "code",
   "execution_count": 14,
   "metadata": {},
   "outputs": [],
   "source": [
    "token = Tokenizer(10)"
   ]
  },
  {
   "cell_type": "code",
   "execution_count": 19,
   "metadata": {},
   "outputs": [],
   "source": [
    "token.fit_on_texts(text_1)"
   ]
  },
  {
   "cell_type": "code",
   "execution_count": 20,
   "metadata": {},
   "outputs": [
    {
     "name": "stdout",
     "output_type": "stream",
     "text": [
      "OrderedDict([('t', 2), ('h', 2), ('e', 4), ('q', 1), ('u', 2), ('i', 1), ('c', 1), ('k', 1), ('b', 1), ('r', 2), ('o', 4), ('w', 1), ('n', 1), ('f', 1), ('x', 1), ('j', 1), ('m', 1), ('p', 1), ('d', 2), ('v', 1), ('l', 1), ('a', 1), ('z', 1), ('y', 1), ('g', 1)])\n"
     ]
    }
   ],
   "source": [
    "print(token.word_counts)"
   ]
  }
 ],
 "metadata": {
  "kernelspec": {
   "display_name": "Python 3",
   "language": "python",
   "name": "python3"
  },
  "language_info": {
   "codemirror_mode": {
    "name": "ipython",
    "version": 3
   },
   "file_extension": ".py",
   "mimetype": "text/x-python",
   "name": "python",
   "nbconvert_exporter": "python",
   "pygments_lexer": "ipython3",
   "version": "3.6.10"
  }
 },
 "nbformat": 4,
 "nbformat_minor": 2
}
