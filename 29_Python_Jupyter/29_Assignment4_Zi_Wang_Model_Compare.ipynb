{
 "cells": [
  {
   "cell_type": "markdown",
   "metadata": {},
   "source": [
    "<a id=\"1.Summary\"></a>\n",
    "# 1.Summary"
   ]
  },
  {
   "cell_type": "markdown",
   "metadata": {},
   "source": [
    "Logistic Regression, Neural Network, CNN, LSTM in Classiification and Sentiment Analysis"
   ]
  },
  {
   "cell_type": "markdown",
   "metadata": {},
   "source": [
    "<a id=\"2.Table of Contents\"></a>\n",
    "# 2.Table of Contents\n",
    "<a href=\"#1.Summary\">Click this Link back to Top</a>"
   ]
  },
  {
   "cell_type": "markdown",
   "metadata": {},
   "source": [
    "<ol>\n",
    "    <li><a href=\"#1.Summary\">Summary</a></li>\n",
    "    <li><a href=\"#2.Table of Contents\">Table of Contents</a></li>\n",
    "    <li><a href=\"#3.Document Classification\">Document Classification</a></li>\n",
    "    <ul>\n",
    "       <li><a href=\"#3.1 Preprocess\">3.1 Preprocess</a></li>\n",
    "       <ul>\n",
    "           <li><a href=\"#3.1.1 Import Data\">3.1.1 Import Data</a></li>\n",
    "           <li><a href=\"#3.1.2 Clean Data\">3.1.2 Clean Data</a></li>\n",
    "           <li><a href=\"#3.1.3 EDA for hyperparameters\">3.1.3 EDA for hyperparameters</a></li>\n",
    "           <li><a href=\"#3.1.4 TFIDF\">3.1.4 TFIDF</a></li>\n",
    "           <li><a href=\"#3.1.5 GLOVE\">3.1.5 GLOVE</a></li>\n",
    "           <li><a href=\"#3.1.6 Split Data\">3.1.6 Split Data</a></li>\n",
    "       </ul>\n",
    "       <li><a href=\"#3.2 Build Models\">3.2 Build Models</a></li> \n",
    "       <ul>\n",
    "           <li><a href=\"#3.2.1 CNN Model\">3.2.1 CNN Model</a></li>\n",
    "           <li><a href=\"#3.2.2 LSTM Model\">3.2.2 LSTM Model</a></li>\n",
    "           <li><a href=\"#3.2.3 Logistic Model\">3.2.3 Logistic Model</a></li>\n",
    "           <li><a href=\"#3.2.4 Normal Neural Network\">3.2.4 Normal Neural Network</a></li>\n",
    "       </ul>\n",
    "       <li><a href=\"#3.3 Backpropagation\">3.3 Backpropagation and Train</a></li>\n",
    "       <li><a href=\"#3.4 Hyperparameter Tuning\">3.4 Hyperparameter Tuning</a></li> \n",
    "       <li><a href=\"#3.5 Main Function\">3.5 Main Function</a></li> \n",
    "       <li><a href=\"#3.6 Compare Models\">3.6 Compare Models</a></li> \n",
    "    </ul>\n",
    "    <li><a href=\"#4.Sentiment Analysis\">Sentiment Analysis</a></li>\n",
    "    <ul>\n",
    "       <li><a href=\"#4.1 Read Data\">4.1 Read Data</a></li>\n",
    "       <li><a href=\"#4.3 Main Function\">4.3 Main Function</a></li> \n",
    "    </ul>\n",
    "    <li><a href=\"#5.Unused Code\">Unused Code</a></li>\n",
    "</ol>"
   ]
  },
  {
   "cell_type": "markdown",
   "metadata": {},
   "source": [
    "<br>"
   ]
  },
  {
   "cell_type": "code",
   "execution_count": 1,
   "metadata": {},
   "outputs": [],
   "source": [
    "import os\n",
    "import re\n",
    "import string\n",
    "import sys\n",
    "# monitor each step spend time\n",
    "import time\n",
    "# do not use equal for duplicate\n",
    "import copy\n",
    "import numpy as np\n",
    "import pandas as pd\n",
    "\n",
    "from IPython.display import Image\n",
    "\n",
    "#we need use bs4 to eliminate html\n",
    "from bs4 import BeautifulSoup\n",
    "from collections import defaultdict\n",
    "from nltk.corpus import stopwords\n",
    "#it seems not working well\n",
    "from sklearn.feature_extraction.text import TfidfVectorizer\n",
    "from sklearn.model_selection import train_test_split\n",
    "from sklearn.metrics import classification_report\n",
    "from sklearn.metrics import precision_recall_fscore_support\n",
    "from sklearn.model_selection import KFold\n",
    "from sklearn.linear_model import LogisticRegression\n",
    "\n",
    "import tensorflow as tf\n",
    "#for the neural network part, we need use tensorflow and keras as backend\n",
    "from tensorflow import keras\n",
    "#keras only can complete simple text preprocess work\n",
    "from tensorflow.keras.preprocessing.text import Tokenizer\n",
    "from tensorflow.keras.preprocessing.sequence import pad_sequences\n",
    "from tensorflow.keras.layers import Embedding, Dense, Conv1D, MaxPooling1D, \\\n",
    "Dropout, Activation, Input, Flatten, Concatenate, LSTM\n",
    "from tensorflow.keras import Model\n",
    "from tensorflow.keras import optimizers\n",
    "from tensorflow.keras.utils import to_categorical\n",
    "from tensorflow.keras import metrics\n",
    "from tensorflow.keras.utils import model_to_dot, plot_model\n",
    "import matplotlib.pyplot as plt\n",
    "\n",
    "#this function is used to monitor \n",
    "from tqdm.notebook import tqdm\n",
    "\n",
    "import tensorflow_addons as tfa\n",
    "\n",
    "from tensorflow_addons.metrics import F1Score\n",
    "\n",
    "import tensorflow as tf\n",
    "from tensorboard.plugins.hparams import api as hp"
   ]
  },
  {
   "cell_type": "markdown",
   "metadata": {},
   "source": [
    "<a id=\"3.Document Classification\"></a>\n",
    "# 3.Document Classification\n",
    "<a href=\"#1.Summary\">Click this Link back to Top</a>"
   ]
  },
  {
   "cell_type": "markdown",
   "metadata": {},
   "source": [
    "<a id=\"3.1 Preprocess Data\"></a>\n",
    "## 3.1 Preprocess Data\n",
    "<a href=\"#1.Summary\">Click this Link back to Top</a>"
   ]
  },
  {
   "cell_type": "markdown",
   "metadata": {},
   "source": [
    "Divde each document into multiple paragramps. Each graph will be one example, one element in list. Text in the begining to demenstrate info will be discarded. All data will be formed into a DataFrame, which have \"AUTHOR\" and \"CLASSIFY\" column. This function only extract data without preprocess"
   ]
  },
  {
   "cell_type": "markdown",
   "metadata": {},
   "source": [
    "This part is too scattered, we need integrate them into a CLASS or other type to transform and define hyperparamer more standarded"
   ]
  },
  {
   "cell_type": "markdown",
   "metadata": {},
   "source": [
    "<a id=\"3.1.1 Import Data\"></a>\n",
    "### 3.1.1 Import Data\n",
    "<a href=\"#1.Summary\">Click this Link back to Top</a>"
   ]
  },
  {
   "cell_type": "code",
   "execution_count": 2,
   "metadata": {},
   "outputs": [],
   "source": [
    "def import_data():\n",
    "    \"\"\"\n",
    "    Each text have different issues, so i can not use one function to pro\n",
    "    cess all raw data\n",
    "    \n",
    "    Return:\n",
    "    --------\n",
    "    df:DataFrame\n",
    "        concatenate all data into one DataFrame with column ['AUTHOR', 'CLASSIFIY']\n",
    "    data_1:list\n",
    "        from Fyodor Dostoyevsky, and categrorial as 0\n",
    "    data_2:list\n",
    "        from Arthur Conan Doyle, and categorized as 1\n",
    "    data_3:list\n",
    "        from Jane Austen, and\n",
    "    \"\"\"\n",
    "    print(\"*\"*50,\"Start import data\", \"*\"*50)\n",
    "    start_time = time.time()\n",
    "    #Due to txt contain 'gbk', we have to read this file as binary code style, but binary leave more issues\n",
    "    with open('03_data/11_Project Gutenberg Data/28054-0.txt', 'rb') as f:\n",
    "        #First we use normal read\n",
    "        #Second, we should decode binary with utf-8, which will turn binary back to string\n",
    "        #Thrid, we need split raw text into paragraph, according to data, \n",
    "        #every paragraph are seperated by '\\r\\n\\r\\n'\n",
    "        #In binary new line is\"\\r\\n\\r\\n\". In string new line is \"\\n\\n\"\n",
    "        lines_1 = f.read().decode('utf-8').split('\\r\\n\\r\\n')\n",
    "    #we only need main content, so eliminate header of each raw data. \n",
    "    #We only keep content from first paragraph title\n",
    "    index_1 = lines_1.index('Chapter I. Fyodor Pavlovitch Karamazov')\n",
    "    data_1 = lines_1[index_1+1:]\n",
    "    while(\"\" in data_1) : \n",
    "        data_1.remove(\"\") \n",
    "    print(f'For category one, Fyodor Dostoyevsky, we have {len(data_1)} examples')\n",
    "    \n",
    "    \n",
    "    #lines_2 can read directly\n",
    "    with open('03_data/11_Project Gutenberg Data/pg1661.txt') as f:\n",
    "        #we can use '\\n\\n' to split paragraph\n",
    "        lines_2 = f.read().split('\\n\\n')\n",
    "    #we only want main content of this book\n",
    "    index_2 = lines_2.index('\\nADVENTURE I. A SCANDAL IN BOHEMIA') \n",
    "    #due to technical reason, i can't elimiate some extra paragraph, so we add two after index\n",
    "    data_2 = lines_2[index_2+2:]\n",
    "    while(\"\" in data_2) : \n",
    "        data_2.remove(\"\") \n",
    "    print(f'For category two, Arthur Conan Doyle, we have {len(data_2)} examples')\n",
    "    \n",
    "    # open thrid author, still read binary\n",
    "    with open('03_data/11_Project Gutenberg Data/pg31100.txt',  'rb') as f:\n",
    "        # use wrapping line to split book into paragraphs\n",
    "        lines_3 = f.read().decode('utf-8').split('\\r\\n\\r\\n')\n",
    "    index_3 = lines_3.index('\\r\\nChapter 1')\n",
    "    data_3 = lines_3[index_3+1:]\n",
    "    while(\"\" in data_3) : \n",
    "        data_3.remove(\"\") \n",
    "    print(f'For category three, Fyodor Dostoyevsky, we have {len(data_3)} examples')\n",
    "    \n",
    "    #it's more convient to transform data into pandas DataFrame\n",
    "    # dut to keras.to_category(), we change label from 1-3 to 0-2\n",
    "    # build a dictionary for DataFrame transformation\n",
    "    data = {'AUTHOR':data_1+data_2+data_3, 'CLASSIFY':[0]*len(data_1)+[1]*len(data_2)+[2]*len(data_3)}\n",
    "    df = pd.DataFrame(data)\n",
    "    cost_time = round((time.time()- start_time),4)\n",
    "    print(\"*\"*40,\"End import_data() with {} second\".format(cost_time), \"*\"*40, end='\\n\\n')\n",
    "    \n",
    "    return df"
   ]
  },
  {
   "cell_type": "markdown",
   "metadata": {},
   "source": [
    "<br>"
   ]
  },
  {
   "cell_type": "markdown",
   "metadata": {},
   "source": [
    "<a id=\"3.1.2 Clean Data\"></a>\n",
    "### 3.1.2 Clean Data\n",
    "<a href=\"#1.Summary\">Click this Link back to Top</a>"
   ]
  },
  {
   "cell_type": "code",
   "execution_count": 3,
   "metadata": {},
   "outputs": [],
   "source": [
    "def clean_data(df, column_1, column_2, stopwords_fun = False):\n",
    "    \"\"\"\n",
    "    steps\n",
    "    1.lowercase()\n",
    "    3.remove special puncuation\n",
    "    4.remove string puncuation\n",
    "    5.only reserve words\n",
    "    6.remove stop words(if we eliminate most frequcen word, do we still this? and did this affect LSTM?) so i put a switch\n",
    "    \n",
    "    Argus:\n",
    "    -----\n",
    "    df:DataFrame\n",
    "        Input come from import_data() [column_1] is garagrph corpus, ['CLASSIFY'] is author name for classifcation purpose\n",
    "    stopwrods_fun:boolen\n",
    "        True, remove stopwords; False, do not remove stopwords\n",
    "        \n",
    "\n",
    "    Return:\n",
    "    ------\n",
    "    courpus_df:DataFrame\n",
    "        Because we use apply(lambda) to process each cell in DataFrame, so output is still that DataFrame\n",
    "    \"\"\"\n",
    "    print(\"*\"*50,\"Start Clean data\", \"*\"*50)\n",
    "    start_time = time.time()\n",
    "    #original datatype is serise, first transfrom to string and get lower() case text\n",
    "    corpus_2 = df[column_1].str.lower()\n",
    "\n",
    "    #using bs4 to eliminate html\n",
    "    #soup = BeautifulSoup(corpus_2, 'lxml')\n",
    "    #corpus_3 = soup.get_text()\n",
    "    corpus_3 = corpus_2.apply(lambda x: remove_html(x))\n",
    "\n",
    "    # this \n",
    "    #any speical punctuation in filter sring should add \"\\\" before it\n",
    "    #corpus_3 = re.sub('\\[.*?\\]', '', corpus_2.to_string)\n",
    "    #corpus_2.str.replace('\\\\r','',regex=True)\n",
    "    #!\"#$%&()*\\+,-./:;<=>\\?@\\[\\\\\\]^_`{|}~\\\\t\\\\n\\\\r\\“\n",
    "    corpus_4 = corpus_3.apply(lambda x: remove_regex(x))\n",
    "    \n",
    "    #use sring.puncutation to eliminate, but we should first remove url. I believe this should be last step\n",
    "    corpus_5 = corpus_4.apply(lambda x: remove_pun(x))\n",
    "    \n",
    "\n",
    "        \n",
    "    #only reserve words\n",
    "    pattern=r'[a-zA-Z][-._a-zA-Z]*[a-zA-Z]'\n",
    "    corpus_6 = [\" \".join(re.findall(pattern, x)) for x in corpus_5]\n",
    "    \n",
    "    \n",
    "    if stopwords_fun:\n",
    "        # remove stop words\n",
    "        corpus_7 = []\n",
    "        for sentence in tqdm(corpus_6):\n",
    "            corpus_7.append(remove_stopwords(sentence))\n",
    "#         corpus_7 = corpus_6.apply(lambda x: remove_stopwords(x))\n",
    "#         corpus_7 = [remove_stopwords(x) for x in corpus_6]\n",
    "    else:\n",
    "        corpus_7 = corpus_6.copy()\n",
    "        \n",
    "    #we sitll need to manipulate with index because it contain important relationship between corpus and claasify\n",
    "    #list to pd.Series\n",
    "    corpus_8 = pd.Series(np.array(corpus_7))\n",
    "    #extract classify column\n",
    "    classify_col = df[column_2]\n",
    "    #build a new data dictionary for generating DataFrame\n",
    "    data_2 = {column_1:corpus_8, column_2:classify_col}\n",
    "    #build a dataFrame with AUTHOR and CLASSIFY infomation. For now, the index of df and corpus_8 are identical\n",
    "    corpus_df = pd.DataFrame(data_2)\n",
    "#     print(type(corpus_df))\n",
    "    \n",
    "    cost_time = round((time.time()- start_time),4)\n",
    "    print(\"*\"*40,\"End clean_data() with {} second\".format(cost_time), \"*\"*40, end='\\n\\n')\n",
    "    \n",
    "    return corpus_df\n",
    "\n",
    "def remove_pun(text):\n",
    "    \"\"\"\n",
    "    The reason i use seperate function is that pandas.apply can manipulate with column value. \n",
    "    If we use loop directly, we will get a join corpus without paragraph structure\n",
    "    \n",
    "    Argus:\n",
    "    ------\n",
    "    text:string\n",
    "        This input is one cell of DataFrame and we consider it as string to manipulate\n",
    "    \"\"\"\n",
    "    no_pun = \"\".join([c for c in text if c not in string.punctuation])\n",
    "    return no_pun\n",
    "\n",
    "def remove_html(text):\n",
    "    \"\"\"\n",
    "    Use bs4 to extract text\n",
    "    \"\"\"\n",
    "    soup = BeautifulSoup(text, 'lxml')\n",
    "    no_html = soup.get_text()\n",
    "    return no_html\n",
    "\n",
    "def remove_regex(text):\n",
    "    \"\"\"\n",
    "    It was designed to remove special punctuation and character which we can't manipulate with string.puncutation effectively\n",
    "    \"\"\"\n",
    "    #remove url\n",
    "    no_reg = re.sub(r'^https?:\\/\\/.*[\\r\\n]*', '', text)\n",
    "    #remove numbers\n",
    "    no_reg = re.sub('\\w*\\d\\w*', '', no_reg)\n",
    "    return no_reg\n",
    "\n",
    "def remove_stopwords(sentence):\n",
    "    stop_words_set = set(stopwords.words(\"english\"))\n",
    "    no_stopwords = \" \".join([word for word in sentence.split(\" \") if not word in stop_words_set])\n",
    "#     for word in text:\n",
    "#         if word not in stopwords.words(\"english\"):\n",
    "#             output = output + \" \" + word\n",
    "    return no_stopwords"
   ]
  },
  {
   "cell_type": "markdown",
   "metadata": {},
   "source": [
    "<br>"
   ]
  },
  {
   "cell_type": "markdown",
   "metadata": {},
   "source": [
    "<a id=\"3.1.3 EDA for hyperparameters\"></a>\n",
    "### 3.1.3 EDA for hyperparameters\n",
    "<a href=\"#1.Summary\">Click this Link back to Top</a>"
   ]
  },
  {
   "cell_type": "code",
   "execution_count": 4,
   "metadata": {},
   "outputs": [],
   "source": [
    "def eda(df):\n",
    "    \"\"\"\n",
    "    use statisc and plot to determine hyperparameters, such as MAX_SEQ_LEN, TOP_WORDS\n",
    "    Arugs:\n",
    "    ------\n",
    "    \n",
    "    \"\"\"\n",
    "    # get the 'AUTHOR' column sentence length\n",
    "    sentence_len = [len(x) for x in df[df.columns[0]]]\n",
    "    sentence_len_arr = np.array(sentence_len)\n",
    "    # change the type to numpy array and get 95%/90%/85%th percentile of the data value\n",
    "    print(f\"95%th percentile of {df.columns[0]} sentence lenght is {np.percentile(sentence_len_arr, 95)}\")\n",
    "    print(f\"90%th percentile of {df.columns[0]} sentence lenght is {np.percentile(sentence_len_arr, 90)}\")\n",
    "    print(f\"85%th percentile of {df.columns[0]} sentence lenght is {np.percentile(sentence_len_arr, 85)}\")\n",
    "    # get sorted \n",
    "    sentence_len.sort()\n",
    "    plt.plot(np.arange(len(sentence_len)), sentence_len)\n",
    "    plt.title(\"Sentence Length Distribution\")\n",
    "    plt.xlabel(\"Sentence Amount\")\n",
    "    plt.ylabel(\"Sentence Length\")\n",
    "    plt.show()\n",
    "    print(f\"For MAX_SEQ_LEN, 1000 words in one sentce will reasonable to preseve 90% sentence and delete outlier value\")\n",
    "    \n",
    "    \n",
    "    return None"
   ]
  },
  {
   "cell_type": "markdown",
   "metadata": {},
   "source": [
    "<br>"
   ]
  },
  {
   "cell_type": "markdown",
   "metadata": {},
   "source": [
    "<a id=\"3.1.4 TFIDF\"></a>\n",
    "### 3.1.4 TFIDF\n",
    "<a href=\"#1.Summary\">Click this Link back to Top</a>"
   ]
  },
  {
   "cell_type": "markdown",
   "metadata": {},
   "source": [
    "TFIDF not word2vect, it just cacualte a numerical value for each word and concatenate into sentence to build a matrix"
   ]
  },
  {
   "cell_type": "code",
   "execution_count": 5,
   "metadata": {},
   "outputs": [],
   "source": [
    "def tfidf(df, vectorizer=None, to_cat= True):\n",
    "    \"\"\"\n",
    "    we use this function to complete preprocessing cleaning and tfidf function. Becuase we have to mentain \n",
    "    the relationship between corpus and his lable, we have several times list to DataFrame processes.\n",
    "    I didn't show EDA part for setting up \n",
    "    \n",
    "    Parameters:\n",
    "    ------------\n",
    "    df:pandas.DataFrame\n",
    "        DataFrame, contain ['AUTHOR'] and ['CLASSIFY']. This is raw data.\n",
    "        \n",
    "    vectorizer:cofig\n",
    "        When we apply to \n",
    "            \n",
    "    Return:\n",
    "    -------\n",
    "    X_vector:array\n",
    "        Dimension = (cleaned example, TOP_WORDS).Cleaned data and transformed to TFIDF format \n",
    "        with original sequence, which means can be matched withcooresponding y_labels.\n",
    "        \n",
    "    y_vector:\n",
    "        Dimension = (no. cleaned examples, NUM_LABELS)=(9630,3)\n",
    "        \n",
    "    \n",
    "    \"\"\"\n",
    "    print(\"*\"*50,\"Start TFIDF transfrom\", \"*\"*50)\n",
    "    start_time = time.time()\n",
    "    # build a vocabulary that only consider the top max_features ordered by term frequency across the corpus.\n",
    "    TOP_WORDS = 10000\n",
    "    \n",
    "    #tokens = corpus.apply(lambda x: x.split())\n",
    "    #tokens = word_tokenize(tokens)\n",
    "    #tokens = word_tokenize(corpus.str)\n",
    "    \n",
    "    #Stemming and Lemmatizing:   \n",
    "    #Coreference resolution\n",
    "    \n",
    "   \n",
    "     #*****************************cut down Part of optimization******************************************\n",
    "#     #we can't directly drop column because index will dynamicly decrease, but we can gather index of drop\n",
    "#     index_drop=[]\n",
    "#     #iteration through all DataFrame\n",
    "#     for i in range(len(df)):\n",
    "#         #according to plot and statitc result,>600 have 2628, <60 have 3540, so we only need 60<data<600\n",
    "#         if len(df.iloc[i,0])<60 or len(df.iloc[i,0])>600:\n",
    "#             #delete too big and too small\n",
    "#             index_drop.append(i)\n",
    "#     print(f\"before drop shape={df.shape}\")\n",
    "    \n",
    "#     #drop row by list but remain old index number\n",
    "#     df = df.drop(index_drop,axis=0)\n",
    "#     print(f\"after drop shape={df.shape}\")\n",
    "#     #re.finall(\\w+)  \n",
    "#     #*****************************cut down Part of optimization******************************************\n",
    "    \n",
    "    # inintial we need use vectorizer from train to process test data\n",
    "    if vectorizer == None:\n",
    "        vectorizer = TfidfVectorizer(stop_words='english', max_features = TOP_WORDS)\n",
    "        #when we built a vect, we need to import all words as corpus combination to generate a TFIDF dictornary\n",
    "        vect = vectorizer.fit([\" \".join(df['AUTHOR'].tolist())])\n",
    "        #after fit, we need to use dictionary to transform our coupus into TFIDF(we can use sum() to check sparse)\n",
    "        data_2 = vect.transform(df['AUTHOR']).toarray()\n",
    "        X_vector = np.array(data_2)\n",
    "    else:\n",
    "        vect = vectorizer.fit([\" \".join(df['AUTHOR'].tolist())])\n",
    "        #after fit, we need to use dictionary to transform our coupus into TFIDF(we can use sum() to check sparse)\n",
    "        X_vector = vect.transform(df['AUTHOR']).toarray()\n",
    "\n",
    "    if to_categorical == True:\n",
    "        #To remain the relation between AUTHOR vector and CLASSIFY labels, we also output y_vector coorespondingly\n",
    "        y_vector = to_categorical(np.array(df['CLASSIFY']))\n",
    "    else:\n",
    "        y_vector = df['CLASSIFY']\n",
    "        \n",
    "    cost_time = round((time.time()- start_time),4)\n",
    "    print(\"*\"*40,\"End tfidf() with {} second\".format(cost_time), \"*\"*40, end='\\n\\n')\n",
    "    \n",
    "    return df, X_vector, y_vector, vect"
   ]
  },
  {
   "cell_type": "code",
   "execution_count": 6,
   "metadata": {},
   "outputs": [],
   "source": [
    "# df_3, X_vector, y_vector, vect = tfidf(df_2, vectorizer=None, to_cat= True)\n",
    "# X_train, X_test, y_train, y_test = train_test_split(X_vector, y_vector, \\\n",
    "#                                                         test_size=0.2, random_state=0)"
   ]
  },
  {
   "cell_type": "code",
   "execution_count": null,
   "metadata": {},
   "outputs": [],
   "source": []
  },
  {
   "cell_type": "markdown",
   "metadata": {},
   "source": [
    "<br>"
   ]
  },
  {
   "cell_type": "markdown",
   "metadata": {},
   "source": [
    "<a id=\"3.1.5 GLOVE\"></a>\n",
    "### 3.1.5 GLOVE\n",
    "<a href=\"#1.Summary\">Click this Link back to Top</a>"
   ]
  },
  {
   "cell_type": "markdown",
   "metadata": {},
   "source": [
    "Use Tokenizer() to build padded matrix and use word vector from GLOVE to replace each word"
   ]
  },
  {
   "cell_type": "code",
   "execution_count": 7,
   "metadata": {},
   "outputs": [],
   "source": [
    "def tokenize_data(df, column_1):\n",
    "    \"\"\"\n",
    "    Arugs:\n",
    "    -----\n",
    "    df:DataFrame\n",
    "        input DataFrame come from cleaned data\n",
    "    \n",
    "    \"\"\"\n",
    "    print(\"*\"*50,\"Start tokenize_data process\", \"*\"*50)\n",
    "    start_time = time.time()\n",
    "    #we only want most 10,000 frequncy word.Although we can vector 29567 vector from our courps. \n",
    "    #Because we care most frequncy words in this sentence. for example \"to\" \"of\" \"in\". Maybe they are stopwords which should be eliminate\n",
    "    #When can see word_index is the integrated dictionary for {word:number} pair but, after texts_to_sequcens() we only get most frequcn 10000\n",
    "    TOP_WORDS = 10000\n",
    "    \n",
    "    #max_lenght define the max lenght of each sentence. Because the length of sentence is unbalance, we should ignore that too long part\n",
    "    #after define this parameter, we also define the column of input matrix, which will be (No.examples , MAX_SEQ_LEN)\n",
    "    MAX_SEQ_LEN = 500\n",
    "    \n",
    "    # only keep most frequcey {TOP_WORDS} words in croups\n",
    "    # this parameters will not affect word_index, word_index still the totoal unique words list. \n",
    "    # Typically, we need use EDA to decide TOP_WORDS, capure the 80% most frequency words\n",
    "    #tokenizer = Tokenizer(num_words=100, oov_token=\"<OOV>\")\n",
    "    tokenizer = Tokenizer(num_words=TOP_WORDS, oov_token=\"<OOV>\")\n",
    "    \n",
    "    #transfor sentence to number vector\n",
    "    tokenizer.fit_on_texts(sentence for sentence in df[column_1])\n",
    "    \n",
    "    #a = tokenizer.tranform(sten)\n",
    "    \n",
    "    #get the index of each indivudule word\n",
    "    word_index = tokenizer.word_index\n",
    "    \n",
    "    #only choose most frequency 10,000 word_index and transfrom sentences with them into number vector like[564, 452, 23, 1]\n",
    "    #the out of vocabulary wiht be give 1. Maximize number of texts_to_sequences() will be 9999, which means the 10000th frequceny will \n",
    "    #not show in this sequcen\n",
    "    # this is temporay matrix container, we can replace with any other pretrained word vector\n",
    "    sequences = tokenizer.texts_to_sequences(sentence for sentence in df[column_1])\n",
    "    \n",
    "    #maintain the sentence into same length\n",
    "    #padded = pad_sequences(sequences)\n",
    "    #If you want zero at the end, using padding='post'\n",
    "    padded = pad_sequences(sequences, padding='post', maxlen=MAX_SEQ_LEN, truncating='post')\n",
    "    \n",
    "    cost_time = round((time.time()- start_time),4)\n",
    "    print(\"*\"*40,\"End tokenizer_data with {} seconds\".format(cost_time), \"*\"*40, end='\\n\\n')\n",
    "    \n",
    "    return tokenizer, word_index, sequences, padded"
   ]
  },
  {
   "cell_type": "code",
   "execution_count": 8,
   "metadata": {},
   "outputs": [],
   "source": [
    "def glove_vect(word_index, df):\n",
    "    \"\"\"\n",
    "    Argus:\n",
    "    ------\n",
    "    word_index:dict\n",
    "        unique word dictionary from tokenize_data(). For this exampl,e word_index contain a dictionary from 27014 words to a number\n",
    "        which number represent frequence and ordered from most ferquency to least frequency\n",
    "    \n",
    "    Returns:\n",
    "    --------\n",
    "    \"\"\"\n",
    "    print(\"*\"*50,\"Start glove_vect() process\", \"*\"*50)\n",
    "    start_time = time.time()\n",
    "    # key = words;  values = word vector\n",
    "    embedding_index = {}\n",
    "    # split by line and first word in line is the word represented, following 50 numbers is pre-trained word vector\n",
    "    f = open(r\"D:\\Downloads\\glove.6B\\glove.6B.50d.txt\", 'r', encoding='utf-8')\n",
    "    for line in f:\n",
    "        values = line.split()\n",
    "        word = values[0]\n",
    "        coefs = np.asarray(values[1:], dtype='float32')\n",
    "        # embeddings_index will be a dict representing relationship between word and its pretrained 50 dimension vector\n",
    "        embedding_index[word] = coefs\n",
    "    f.close()\n",
    "    \n",
    "    # this is depended on which GLOVE was choosed\n",
    "    EMBEDDING_DIM = 50\n",
    "    # create a empty matrix to filled in glove, this matrix will be a 27015(27014+1) by 50 dimension matrix\n",
    "    embedding_matrix = np.zeros((len(word_index) + 1, EMBEDDING_DIM))\n",
    "    # take the key=word and vlaue=i to iterate\n",
    "    for word, i in tqdm(word_index.items()):\n",
    "        # get the corresponding 50d vectro of \"word\" , for example 'the' (50,) vector\n",
    "        embedding_vector = embedding_index.get(word)\n",
    "        # if we can find word in GLOVE, he will have a None-Zero vector.\n",
    "        # if we didn't find, this row/word will be np.zero\n",
    "        if embedding_vector is not None:\n",
    "            # words not found in embedding index will be all-zeros.\n",
    "            embedding_matrix[i] = embedding_vector\n",
    "\n",
    "    cost_time = round((time.time()- start_time),4)\n",
    "    print(\"*\"*40,\"End glove_vect() with {} seconds\".format(cost_time), \"*\"*40, end='\\n\\n')\n",
    "    return embedding_matrix, embedding_index"
   ]
  },
  {
   "cell_type": "markdown",
   "metadata": {},
   "source": [
    "An Embedding layer should be fed sequences of integers, i.e. a 2D input of shape (samples, indices). These input sequences should be padded so that they all have the same length in a batch of input data (although an Embedding layer is capable of processing sequence of heterogenous length, if you don't pass an explicit input_length argument to the layer).\n",
    "\n",
    "All that the Embedding layer does is to map the integer inputs to the vectors found at the corresponding index in the embedding matrix, i.e. the sequence [1, 2] would be converted to [embeddings[1], embeddings[2]]. This means that the output of the Embedding layer will be a 3D tensor of shape (samples, sequence_length, embedding_dim)."
   ]
  },
  {
   "cell_type": "code",
   "execution_count": 9,
   "metadata": {},
   "outputs": [],
   "source": [
    "def embedding(word_index, padded, embedding_matrix):\n",
    "    \"\"\"\n",
    "    Typically method is transform word vector first and find cooresponding word in a sentcen, using word vector to concatenate setence vector\n",
    "    But i can't find a tokenize() function to using seperate dictionary to complete tokenziation process\n",
    "    Embedding can do that. When you set trainale=False, the weights, embedding_matrix, will be change and mapping word vector by word\n",
    "    \n",
    "    Argus:\n",
    "    -----\n",
    "    word_index:dictionary\n",
    "        provide a index <-> word mapping table\n",
    "    \n",
    "    padded:array\n",
    "        (number of example, MAX_SEQ_LEN)\n",
    "        \n",
    "    embedding_matrix:dictionary\n",
    "        provide a word <-> word vector mapping table\n",
    "        \n",
    "        \n",
    "    \"\"\"\n",
    "    print(\"*\"*50,\"Start embedding process\", \"*\"*50)\n",
    "    start_time = time.time()\n",
    "    # max sequence/sentence length is 100\n",
    "    MAX_SEQ_LEN = 500\n",
    "    EMBEDDING_DIM = 50\n",
    "    sequence_input = Input(shape=(MAX_SEQ_LEN,), dtype='int32')\n",
    "    embedding_layer = Embedding(len(word_index) + 1,\n",
    "                                EMBEDDING_DIM,\n",
    "                                weights=[embedding_matrix],\n",
    "                                input_length=MAX_SEQ_LEN,\n",
    "                                trainable=False)\n",
    "    # (number of sample, MAX_SEQ_LEN, EMBEDING_DIM)\n",
    "    output = embedding_layer(padded)\n",
    "    \n",
    "    cost_time = round((time.time()- start_time),4)\n",
    "    print(\"*\"*40,\"End embedding() with {} seconds\".format(cost_time), \"*\"*40, end='\\n\\n')\n",
    "    \n",
    "    return output, embedding_layer"
   ]
  },
  {
   "cell_type": "markdown",
   "metadata": {},
   "source": [
    "<br>"
   ]
  },
  {
   "cell_type": "markdown",
   "metadata": {},
   "source": [
    "<a id=\"3.1.6 Split Data\"></a>\n",
    "### 3.1.6 Split Data\n",
    "<a href=\"#1.Summary\">Click this Link back to Top</a>"
   ]
  },
  {
   "cell_type": "code",
   "execution_count": 10,
   "metadata": {},
   "outputs": [],
   "source": [
    "def mapped(df):\n",
    "    \"\"\"\n",
    "    one-hot vector classifier\n",
    "    \"\"\"\n",
    "    y = df[column_2]\n",
    "    #we set label dimension as (m, num_labels)\n",
    "    NUM_LABELS = 3\n",
    "    m=y.shape[0]\n",
    "    y_mapped=np.zeros((m, NUM_LABELS))\n",
    "    #Due to y is DataFrame, we need to manipulate it with .iloc[]\n",
    "    #y.iloc[i] = 1/2/3 which is not convinent index of columns(0-2), so we need minus 1, which menas 1/2/3 will appear ONE at 0/1/2 postion\n",
    "    for i in range(0,m):\n",
    "        y_mapped[i, y.iloc[i]-1]=1;\n",
    "    df['one-hot_CLASSIFY'] = list(y_mapped)\n",
    "    \n",
    "    return df\n",
    "\n",
    "def split_data(padded,df, test_size=0.2):\n",
    "    \"\"\"\n",
    "    Parameters:\n",
    "    -----------\n",
    "    df:DataFrame\n",
    "        This is coming from data_import. This is still raw data with corpus inside. After data split\n",
    "        tfidf() function will complete data preprocess\n",
    "        \n",
    "    test_size:float\n",
    "        you can change percentage\n",
    "    \"\"\"\n",
    "    print(\"*\"*50,\"Start train_test_split\", \"*\"*50)\n",
    "    start_time = time.time()\n",
    "#     df =mapped(df)\n",
    "    column_2 = df.columns[1]\n",
    "    labels_2 = to_categorical(np.asarray(df[column_2]))\n",
    "    # padded result only fit for CNN model\n",
    "    X_vector = padded\n",
    "#     y_vector = df['one-hot_CLASSIFY']\n",
    "    y_vector = labels_2\n",
    "    X_train, X_test, y_train, y_test = train_test_split(X_vector, y_vector, \\\n",
    "                                                        test_size=0.2, random_state=37)\n",
    "    X_train, X_val, y_train, y_val = train_test_split(X_train, y_train, test_size = 0.2, random_state = 37)\n",
    "    cost_time = round((time.time()- start_time),4)\n",
    "    print(\"*\"*40,\"End embedding() with {} seconds\".format(cost_time), \"*\"*40, end='\\n\\n')\n",
    "    \n",
    "    return X_train, X_test, X_val, y_train, y_test, y_val"
   ]
  },
  {
   "cell_type": "code",
   "execution_count": 11,
   "metadata": {},
   "outputs": [],
   "source": [
    "# df_1 = import_data()\n",
    "# df_2 = clean_data(df_1, column_1='AUTHOR', column_2='CLASSIFY')\n",
    "# tokenizer, word_index, sequences, padded = tokenize_data(df_2, column_1=df_2.columns[0])\n",
    "# X_train, X_test, X_val, y_train, y_test, y_val = split_data(padded,df_2, test_size=0.2)"
   ]
  },
  {
   "cell_type": "code",
   "execution_count": 12,
   "metadata": {},
   "outputs": [],
   "source": [
    "# X_test.shape"
   ]
  },
  {
   "cell_type": "markdown",
   "metadata": {},
   "source": [
    "<br>"
   ]
  },
  {
   "cell_type": "markdown",
   "metadata": {},
   "source": [
    "<a id=\"3.2 Build Models\"></a>\n",
    "## 3.2 Build Models\n",
    "<a href=\"#1.Summary\">Click this Link back to Top</a>"
   ]
  },
  {
   "cell_type": "markdown",
   "metadata": {},
   "source": [
    "An Embedding layer should be fed sequences of integers, i.e. a 2D input of shape (samples, indices). These input sequences should be padded so that they all have the same length in a batch of input data (although an Embedding layer is capable of processing sequence of heterogenous length, if you don't pass an explicit input_length argument to the layer).\n",
    "\n",
    "All that the Embedding layer does is to map the integer inputs to the vectors found at the corresponding index in the embedding matrix, i.e. the sequence [1, 2] would be converted to [embeddings[1], embeddings[2]]. This means that the output of the Embedding layer will be a 3D tensor of shape (samples, sequence_length, embedding_dim)."
   ]
  },
  {
   "cell_type": "markdown",
   "metadata": {},
   "source": [
    "<a id=\"3.2.1 CNN Model\"></a>\n",
    "### 3.2.1 CNN Model\n",
    "<a href=\"#1.Summary\">Click this Link back to Top</a>"
   ]
  },
  {
   "cell_type": "code",
   "execution_count": 13,
   "metadata": {},
   "outputs": [],
   "source": [
    "def cnn_model(word_index, embedding_matrix, output_act='sigmoid', output_units=2):\n",
    "    \"\"\"\n",
    "    For the CNN model, set zero paddings to the input matrix and use at least two convolutional layers \n",
    "    (each layer includes convolution, activation, and maxpooling).\n",
    "    \"\"\"\n",
    "    # reset model variable\n",
    "    model = None\n",
    "    #*************Hyperparameter**************\n",
    "    MAX_LENGTH = 500\n",
    "    EMBEDDING_DIM = 50\n",
    "    VOCAB_SIZE = 10000\n",
    "    #*************Hyperparameter**************\n",
    "    # input will be (100, 50) matrix, which is one sentence\n",
    "    input_layer_1 = Input(shape=(MAX_LENGTH,), dtype='float32', name='input_layer_1')\n",
    "    # embedding layer output shape is (number of examples, MAX_SEQUENCE_LENGTH, EMBEDDING_DIM)\n",
    "    # input_dim = 27015, \n",
    "    embedding_layer_2 = Embedding( \\\n",
    "                                  input_dim = len(word_index) + 1, \\\n",
    "                                  output_dim = EMBEDDING_DIM, \\\n",
    "                                  weights=[embedding_matrix], \\\n",
    "                                  input_length=MAX_LENGTH, \\\n",
    "                                  trainable=False, \\\n",
    "                                  name = \"embedding_layer_2\"\n",
    "                                 )(input_layer_1)\n",
    "    # filer =32, kernel_size =5. output will be (number of example=190345, MAX_LENGTH-kneral_size+1 =100-5+1, filer )\n",
    "    conv1d_layer_3 = Conv1D(filters = 32, kernel_size = 5, activation = 'relu', name = 'conv1D_layer_3')(embedding_layer_2)\n",
    "    pooling_layer_4 = MaxPooling1D(pool_size = 5)(conv1d_layer_3)\n",
    "    conv1d_layer_5 = Conv1D(filters = 32, kernel_size = 5 , activation ='relu', name = 'conv1D_layer_5')(pooling_layer_4)\n",
    "    pooling_layer_6 = MaxPooling1D(pool_size = 5)(conv1d_layer_5)\n",
    "    flatten_layer_7 = Flatten()(pooling_layer_6)\n",
    "    dense_layer_8 = Dense(units = 128, activation='relu')(flatten_layer_7)\n",
    "    output_layer_9 = Dense(output_units, activation = output_act)(dense_layer_8)\n",
    "    model = Model(inputs = input_layer_1, outputs = output_layer_9, name='CNN_Model')\n",
    "    model.summary()\n",
    "    \n",
    "    #first way to generate image\n",
    "    dot_img_file = '04_images/16_CNN_model.png'\n",
    "    plot_model(model, to_file=dot_img_file, show_shapes=True)\n",
    "    display(Image(filename='04_images/16_CNN_model.png'))\n",
    "#     plot_model(model, show_shapes=True, dpi=128))\n",
    "    \n",
    "    return model"
   ]
  },
  {
   "cell_type": "markdown",
   "metadata": {},
   "source": [
    "<br>"
   ]
  },
  {
   "cell_type": "markdown",
   "metadata": {},
   "source": [
    "<a id=\"3.2.2 LSTM Model\"></a>\n",
    "### 3.2.2 LSTM Model\n",
    "<a href=\"#1.Summary\">Click this Link back to Top</a>"
   ]
  },
  {
   "cell_type": "code",
   "execution_count": 14,
   "metadata": {},
   "outputs": [],
   "source": [
    "def lstm_model(word_index, embedding_matrix, output_act='sigmoid', output_units=2):\n",
    "    \"\"\"\n",
    "    \"\"\"\n",
    "    # reset model variable\n",
    "    model = None\n",
    "    #*************Hyperparameter**************\n",
    "    MAX_LENGTH = 500\n",
    "    EMBEDDING_DIM = 50\n",
    "    VOCAB_SIZE = 10000\n",
    "    #*************Hyperparameter**************\n",
    "    # input will be (100, 50) matrix, which is one sentence\n",
    "    input_layer_1 = Input(shape=(MAX_LENGTH,), dtype='float32', name='input_layer_1')\n",
    "    # embedding layer output shape is (number of examples, MAX_SEQUENCE_LENGTH, EMBEDDING_DIM)\n",
    "    # input_dim = 27015, \n",
    "    embedding_layer_2 = Embedding( \\\n",
    "                                  input_dim = len(word_index) + 1, \\\n",
    "                                  output_dim = EMBEDDING_DIM, \\\n",
    "                                  weights=[embedding_matrix], \\\n",
    "                                  input_length=MAX_LENGTH, \\\n",
    "                                  trainable=False, \\\n",
    "                                  name = \"embedding_layer_2\"\n",
    "                                 )(input_layer_1)\n",
    "    lstm_layer_3 = LSTM(50, dropout=0.2, recurrent_dropout=0.2)(embedding_layer_2)\n",
    "    output_layer_4 = Dense(output_units, activation=output_act)(lstm_layer_3)\n",
    "    model = Model(inputs = input_layer_1, outputs = output_layer_4, name='LSTM_Model')\n",
    "    model.summary()\n",
    "    \n",
    "#         # Display model graph - optional\n",
    "#     G = model_to_dot (model)\n",
    "#     Image(G.create (prog = \"dot\", format = \"png\"))\n",
    "#     display(Image(filename='04_images/16_CNN_model.png'))\n",
    "    dot_img_file = '04_images/17_LSTM_model.png'\n",
    "    plot_model(model, to_file=dot_img_file, show_shapes=True)\n",
    "    display(Image(filename='04_images/17_LSTM_model.png'))\n",
    "\n",
    "    return model"
   ]
  },
  {
   "cell_type": "code",
   "execution_count": 15,
   "metadata": {},
   "outputs": [],
   "source": [
    "# lstm_model(word_index, embedding_matrix)"
   ]
  },
  {
   "cell_type": "markdown",
   "metadata": {},
   "source": [
    "<br>"
   ]
  },
  {
   "cell_type": "markdown",
   "metadata": {},
   "source": [
    "<a id=\"3.2.3 Logistic Model\"></a>\n",
    "### 3.2.3 Logistic Model\n",
    "<a href=\"#1.Summary\">Click this Link back to Top</a>"
   ]
  },
  {
   "cell_type": "code",
   "execution_count": 16,
   "metadata": {},
   "outputs": [],
   "source": [
    "def lg_model(X_train, X_test, X_val, y_train, y_test, y_val):\n",
    "    \"\"\"\n",
    "    \"\"\"\n",
    "    clf = LogisticRegression(random_state=0, multi_class='multinomial').fit(X_train, y_train)\n",
    "    acc = clf.score(X_test, y_test)\n",
    "    # get the label prediction\n",
    "    y_pred = clf.predict(X_test)\n",
    "    # get metrics\n",
    "    precision, recall, fbeta_score, support = precision_recall_fscore_support(y_test, y_pred, average='macro')\n",
    "    history = {'precision':precision, 'recall':recall, 'fbeta_score': fbeta_score}\n",
    "    \n",
    "    return history"
   ]
  },
  {
   "cell_type": "code",
   "execution_count": 17,
   "metadata": {},
   "outputs": [],
   "source": [
    "# history = lg_model(X_train, X_test, X_val, y_train, y_test, y_val)"
   ]
  },
  {
   "cell_type": "markdown",
   "metadata": {},
   "source": [
    "<br>"
   ]
  },
  {
   "cell_type": "markdown",
   "metadata": {},
   "source": [
    "<a id=\"3.2.4 Normal Neural Network\"></a>\n",
    "### 3.2.4 Normal Neural Network\n",
    "<a href=\"#1.Summary\">Click this Link back to Top</a>"
   ]
  },
  {
   "cell_type": "code",
   "execution_count": 18,
   "metadata": {},
   "outputs": [],
   "source": [
    "def nn_model(X_train, X_test, y_train, y_test, epoch_num =3):\n",
    "    \"\"\"\n",
    "    Neural Network Mode\n",
    "    \n",
    "    Parameters:\n",
    "    ----------\n",
    "    X_train:array-like\n",
    "        n / NUM_FEATURES = 10000 = MAX_DOC_LEN. This paramters is decided by tfidf function\n",
    "    \"\"\"\n",
    "    #this hyperparamter linkage with tfidf() function\n",
    "    MAX_DOC_LEN = 500\n",
    "    #because this is three classify problem\n",
    "    NUM_LABLES =3\n",
    "    \n",
    "    #*****************model built******************************\n",
    "    input_layer = Input(shape=(MAX_DOC_LEN,), dtype='float32', name='input_layer')\n",
    "    #\n",
    "    dense_layer_1 = Dense(1024, activation='relu', name='dense_1')(input_layer)\n",
    "    dense_layer_2 = Dense(64, activation='relu',name=\"dense_2\")(dense_layer_1)\n",
    "    #Due to multi-classify problem, we choose softmax as our output activation function\n",
    "    output_layer = Dense(NUM_LABLES, activation='softmax',name=\"output\")(dense_layer_2)\n",
    "    model_a = Model(inputs=input_layer, outputs=output_layer, name='model_a')\n",
    "    model_a.summary()\n",
    "    #***************model built****************************\n",
    "    \n",
    "    \n",
    "    dot_img_file = '04_images/10_model.png'\n",
    "    tf.keras.utils.plot_model(model_a, to_file=dot_img_file, show_shapes=True)\n",
    "    model_a.compile(loss='categorical_crossentropy', optimizer='adam', metrics=['accuracy'])\n",
    "    history = model_a.fit(X_train, \\\n",
    "                          y_train, \\\n",
    "                            epochs = epoch_num, \\\n",
    "                            validation_data = (X_test, y_test), \\\n",
    "                            verbose = 1\n",
    "                           )\n",
    "    return history"
   ]
  },
  {
   "cell_type": "code",
   "execution_count": 19,
   "metadata": {},
   "outputs": [],
   "source": [
    "# X_train, X_test, X_val, y_train, y_test, y_val = split_data(padded,df_2,test_size=0.2)\n",
    "# history_nn = nn_model(X_train, X_test, y_train, y_test, epoch_num =3)"
   ]
  },
  {
   "cell_type": "markdown",
   "metadata": {},
   "source": [
    "<br>"
   ]
  },
  {
   "cell_type": "markdown",
   "metadata": {},
   "source": [
    "<a id=\"3.3 Backpropagation\"></a>\n",
    "## 3.3 Backpropagation and Train\n",
    "<a href=\"#1.Summary\">Click this Link back to Top</a>"
   ]
  },
  {
   "cell_type": "markdown",
   "metadata": {},
   "source": [
    "use val to grid search and use test to caculate validataion"
   ]
  },
  {
   "cell_type": "code",
   "execution_count": 20,
   "metadata": {},
   "outputs": [],
   "source": [
    "def compile_fit(model_input, X_train, X_test, X_val, y_train, y_test, y_val, loss_fun, epoch_num=3):\n",
    "    \"\"\"\n",
    "    \"\"\"\n",
    "    start_time = time.time()\n",
    "    print(\"*\"*40,\"Start {} Processing\".format(model_input._name), \"*\"*40)\n",
    "    \n",
    "    model = model_input\n",
    "    METRICS = [\n",
    "          metrics.TruePositives(name='tp'),\n",
    "          metrics.FalsePositives(name='fp'),\n",
    "          metrics.TrueNegatives(name='tn'),\n",
    "          metrics.FalseNegatives(name='fn'), \n",
    "          metrics.CategoricalAccuracy(name='accuracy'),\n",
    "          metrics.Precision(name='precision'),\n",
    "          metrics.Recall(name='recall'),\n",
    "          metrics.AUC(name='auc'),\n",
    "          F1Score(num_classes = int(y_train.shape[1]), name='F1')\n",
    "    ]\n",
    "\n",
    "    learning_rate = 1e-3\n",
    "    opt_adam = optimizers.Adam(lr = learning_rate, decay=1e-6)\n",
    "    model.compile(loss=loss_fun, \\\n",
    "                  optimizer=opt_adam, \\\n",
    "                  metrics = METRICS)\n",
    "    history = model.fit(X_train, y_train, validation_data=(X_test, y_test), \\\n",
    "                        epochs=epoch_num, batch_size=128)\n",
    "    # dic = ['loss', 'accuracy', 'val_loss','val_accuracy']\n",
    "    history_dict = [x for x in history.history]\n",
    "    # model.predict(train_features[:10])\n",
    "\n",
    "    print(\"*\"*50)\n",
    "    x_axis = list(range(epoch_num))\n",
    "    # loss\n",
    "    plt.plot(x_axis, history.history[history_dict[0]], color = 'r', lw = 2, label = history_dict[0])\n",
    "    # val_loss\n",
    "    plt.plot(x_axis, history.history[history_dict[10]], color = 'y', lw = 2, label = history_dict[10])\n",
    "    # accuracy\n",
    "    plt.plot(x_axis, history.history[history_dict[5]], color = 'b', lw = 2, label = history_dict[5])\n",
    "    # validataion_accuracy\n",
    "    plt.plot(x_axis, history.history[history_dict[15]], color = 'k', lw = 2, label = history_dict[15])\n",
    "    plt.title(model_input._name)\n",
    "    plt.legend()\n",
    "    plt.xlabel('Epochs')\n",
    "    # plt.ylabel(str(dic[i]))\n",
    "    plt.show()\n",
    "    \n",
    "    cost_time = round((time.time()- start_time),4)\n",
    "    print(\"*\"*40,\"End {} with {} seconds\".format(model_input._name, cost_time), \"*\"*40, end='\\n\\n')\n",
    "    return history"
   ]
  },
  {
   "cell_type": "code",
   "execution_count": 21,
   "metadata": {},
   "outputs": [],
   "source": [
    "# history = compile_fit(cnn_model(word_index, embedding_matrix), X_train, X_test, X_val, y_train, y_test, y_val)"
   ]
  },
  {
   "cell_type": "code",
   "execution_count": 22,
   "metadata": {},
   "outputs": [],
   "source": [
    "# df_1 = import_data()\n",
    "# df_2 = clean_data(df_1, column_1=df_1.columns[0], column_2=df_1.columns[1])\n",
    "# eda(df_2)\n",
    "# tokenizer, word_index, sequences, padded = tokenize_data(df_2, column_1=df_2.columns[0])\n",
    "# embedding_matrix, embedding_index = glove_vect(word_index, df_2)\n",
    "# # actually, we don't directly this output\n",
    "# #     output = embedding(word_index, padded, embedding_matrix)\n",
    "# X_train, X_test, X_val, y_train, y_test, y_val = split_data(padded,df_2,test_size=0.2)"
   ]
  },
  {
   "cell_type": "code",
   "execution_count": 23,
   "metadata": {},
   "outputs": [],
   "source": [
    "#     history_cnn = compile_fit(cnn_model(word_index, embedding_matrix, output_act='softmax', output_units=3), \\\n",
    "#                           X_train, X_test, X_val, y_train, y_test, y_val, loss_fun = 'categorical_crossentropy',epoch_num=3)"
   ]
  },
  {
   "cell_type": "markdown",
   "metadata": {},
   "source": [
    "<br>"
   ]
  },
  {
   "cell_type": "markdown",
   "metadata": {},
   "source": [
    "<a id=\"3.4 Hyperparameter Tuning\"></a>\n",
    "## 3.4 Hyperparameter Tuning\n",
    "<a href=\"#1.Summary\">Click this Link back to Top</a>"
   ]
  },
  {
   "cell_type": "code",
   "execution_count": 24,
   "metadata": {},
   "outputs": [],
   "source": [
    "%load_ext tensorboard\n",
    "\n",
    "# rm -rf ./logs/"
   ]
  },
  {
   "cell_type": "code",
   "execution_count": 25,
   "metadata": {},
   "outputs": [],
   "source": [
    "def hyper_tuning():\n",
    "    \"\"\"\n",
    "    using validataion data to choose hyperparameters\n",
    "    \n",
    "    CURRENT TUNING:\n",
    "    --------------\n",
    "    Tuning the following hyperparamter\n",
    "    hidden_unit: this is for LSTM\n",
    "    num_filter: FOR CNN\n",
    "\n",
    "    \n",
    "    FURTHER TUNING:\n",
    "    --------------\n",
    "    kernel_filter: filter size for CNN\n",
    "    dropout_rate : for LSTM\n",
    "    \"\"\"\n",
    "    # LSTM hidden layer units amount \n",
    "    HP_HIDDEN_UNIT = hp.Hpara('hidden_unit', hp.Discrete([32, 50, 64]))\n",
    "    # default is 32\n",
    "    HP_NUM_FILTER = hp.Hpara('num_filter', hp.Discrete(['16','32', '64']))\n",
    "    # we use accuracy to measure hyperparameter performance\n",
    "    METRIC_ACCURACY = 'accuracy'\n",
    "    \n",
    "    with tenserflow.create_file_writer('06_files/50_hparam_tuning').as_default():\n",
    "        hp.hparams_config( \\\n",
    "                         hparams = [HP_HIDDEN_UNIT, HP_NUM_FILTER], \\\n",
    "                         metrics = [hp.Metric(METRIC_ACCURACY, display_name = 'Accuracy')]\n",
    "                         )\n",
    "    \n",
    "    "
   ]
  },
  {
   "cell_type": "markdown",
   "metadata": {},
   "source": [
    "<br>"
   ]
  },
  {
   "cell_type": "markdown",
   "metadata": {},
   "source": [
    "<br>"
   ]
  },
  {
   "cell_type": "markdown",
   "metadata": {},
   "source": [
    "<br>"
   ]
  },
  {
   "cell_type": "markdown",
   "metadata": {},
   "source": [
    "<a id=\"3.6 Compare Models\"></a>\n",
    "## 3.6 Compare Models\n",
    "<a href=\"#1.Summary\">Click this Link back to Top</a>"
   ]
  },
  {
   "cell_type": "code",
   "execution_count": 26,
   "metadata": {},
   "outputs": [],
   "source": [
    "def compare(history_cnn, history_lstm):\n",
    "    \"\"\"\n",
    "    \"\"\"\n",
    "    epoch_num = 3\n",
    "    \n",
    "    metrics = {'test_recall': 17, 'test_precision': 16, 'test_f1':19, 'test_accuracy':15}\n",
    "    \n",
    "    # due to we only focus on test data result, we only extract validation(import X_test and y_test) data\n",
    "    history_dict = [x for x in history_cnn.history]\n",
    "    \n",
    "    for key in metrics:\n",
    "        x_axis = list(range(epoch_num))\n",
    "        # val_recall = test_recall\n",
    "        plt.plot(x_axis, history_cnn.history[history_dict[metrics[key]]], color = 'r', lw = 2, label = key+str('CNN'))\n",
    "        plt.plot(x_axis, history_lstm.history[history_dict[metrics[key]]], color = 'y', lw = 2, label = key+'LSTM')\n",
    "#         plt.plot(x_axis, history_nn.history[history_dict[metrics[key]]], color = 'y', lw = 2, label = key+'LSTM')\n",
    "#         # val_precision = test_recall\n",
    "#         plt.plot(x_axis, history.history[history_dict[16]], color = 'y', lw = 2, label = history_dict[16])\n",
    "#         # val_f1score = test_f1score\n",
    "#         plt.plot(x_axis, history.history[history_dict[19], color = 'b', lw = 2, label = history_dict[19])\n",
    "#         # test_accuracy\n",
    "#         plt.plot(x_axis, history.history[history_dict[15]], color = 'k', lw = 2, label = 'test_accuracy')\n",
    "        plt.title(key)\n",
    "        plt.legend()\n",
    "        plt.xlabel('Epochs')\n",
    "        # plt.ylabel(str(dic[i]))\n",
    "        plt.show()\n",
    "    return None"
   ]
  },
  {
   "cell_type": "code",
   "execution_count": 27,
   "metadata": {},
   "outputs": [],
   "source": [
    "# compare(history_cnn, history_cnn)"
   ]
  },
  {
   "cell_type": "markdown",
   "metadata": {},
   "source": [
    "<a id=\"3.5 Main Function\"></a>\n",
    "## 3.5 Main Function\n",
    "<a href=\"#1.Summary\">Click this Link back to Top</a>"
   ]
  },
  {
   "cell_type": "code",
   "execution_count": 30,
   "metadata": {},
   "outputs": [],
   "source": [
    "def main_1():\n",
    "    \"\"\"\n",
    "    1.import data\n",
    "    2.clean data\n",
    "    3.tokenizer data\n",
    "    4.load glove and using glove to build word vector sentence\n",
    "    5.using glove to build word vector sentence\n",
    "    6.split data\n",
    "    7.Train GLOVE + CNN\n",
    "    8.Train GLOVE + LSTM\n",
    "    9.TFIDF data\n",
    "    10.split data\n",
    "    9.Train TFIDF + LR\n",
    "    10.Train TFIDF + Normal NN\n",
    "    \"\"\"\n",
    "    df_1 = import_data()\n",
    "    df_2 = clean_data(df_1, column_1=df_1.columns[0], column_2=df_1.columns[1])\n",
    "    eda(df_2)\n",
    "    tokenizer, word_index, sequences, padded = tokenize_data(df_2, column_1=df_2.columns[0])\n",
    "    embedding_matrix, embedding_index = glove_vect(word_index, df_2)\n",
    "    # actually, we don't directly this output\n",
    "#     output = embedding(word_index, padded, embedding_matrix)\n",
    "    X_train, X_test, X_val, y_train, y_test, y_val = split_data(padded,df_2,test_size=0.2)\n",
    "    history_cnn = None\n",
    "    history_lstm = None\n",
    "    history_cnn = compile_fit(cnn_model(word_index, embedding_matrix, output_act='softmax', output_units=3), \\\n",
    "                          X_train, X_test, X_val, y_train, y_test, y_val, loss_fun = 'categorical_crossentropy',epoch_num=3)\n",
    "\n",
    "    history_lstm = compile_fit(lstm_model(word_index, embedding_matrix, output_act='softmax', output_units=3), \\\n",
    "                          X_train, X_test, X_val, y_train, y_test, y_val, loss_fun = 'categorical_crossentropy', epoch_num=3)\n",
    "    \n",
    "    compare(history_cnn, history_lstm)\n",
    "\n",
    "    # TFIDF\n",
    "    df_3, X_vector, y_vector, vect = tfidf(df_2, vectorizer=None)\n",
    "    X_train, X_test, X_val, y_train, y_test, y_val = split_data(padded,df_2,test_size=0.2)\n",
    "#     history_lr = \n",
    "    \n",
    "    return df_2, word_index, sequences, padded, embedding_matrix, history_cnn, history_lstm"
   ]
  },
  {
   "cell_type": "code",
   "execution_count": 31,
   "metadata": {},
   "outputs": [
    {
     "name": "stdout",
     "output_type": "stream",
     "text": [
      "************************************************** Start import data **************************************************\n",
      "For category one, Fyodor Dostoyevsky, we have 6039 examples\n",
      "For category two, Arthur Conan Doyle, we have 2590 examples\n",
      "For category three, Fyodor Dostoyevsky, we have 11105 examples\n",
      "**************************************** End import_data() with 0.1496 second ****************************************\n",
      "\n",
      "************************************************** Start Clean data **************************************************\n",
      "**************************************** End clean_data() with 7.7862 second ****************************************\n",
      "\n",
      "95%th percentile of AUTHOR sentence lenght is 1140.3499999999985\n",
      "90%th percentile of AUTHOR sentence lenght is 816.0\n",
      "85%th percentile of AUTHOR sentence lenght is 641.0\n"
     ]
    },
    {
     "data": {
      "image/png": "[encoded data removed]",
      "text/plain": [
       "<Figure size 432x288 with 1 Axes>"
      ]
     },
     "metadata": {
      "needs_background": "light"
     },
     "output_type": "display_data"
    },
    {
     "name": "stdout",
     "output_type": "stream",
     "text": [
      "For MAX_SEQ_LEN, 1000 words in one sentce will reasonable to preseve 90% sentence and delete outlier value\n",
      "************************************************** Start tokenize_data process **************************************************\n",
      "**************************************** End tokenizer_data with 1.9259 seconds ****************************************\n",
      "\n",
      "************************************************** Start glove_vect() process **************************************************\n"
     ]
    },
    {
     "data": {
      "application/vnd.jupyter.widget-view+json": {
       "model_id": "2f3f5ff4d41b45f3b4569f8955eea309",
       "version_major": 2,
       "version_minor": 0
      },
      "text/plain": [
       "HBox(children=(FloatProgress(value=0.0, max=27014.0), HTML(value='')))"
      ]
     },
     "metadata": {},
     "output_type": "display_data"
    },
    {
     "name": "stdout",
     "output_type": "stream",
     "text": [
      "\n",
      "**************************************** End glove_vect() with 7.5219 seconds ****************************************\n",
      "\n",
      "************************************************** Start train_test_split **************************************************\n",
      "**************************************** End embedding() with 0.0608 seconds ****************************************\n",
      "\n",
      "Model: \"CNN_Model\"\n",
      "_________________________________________________________________\n",
      "Layer (type)                 Output Shape              Param #   \n",
      "=================================================================\n",
      "input_layer_1 (InputLayer)   [(None, 500)]             0         \n",
      "_________________________________________________________________\n",
      "embedding_layer_2 (Embedding (None, 500, 50)           1350750   \n",
      "_________________________________________________________________\n",
      "conv1D_layer_3 (Conv1D)      (None, 496, 32)           8032      \n",
      "_________________________________________________________________\n",
      "max_pooling1d (MaxPooling1D) (None, 99, 32)            0         \n",
      "_________________________________________________________________\n",
      "conv1D_layer_5 (Conv1D)      (None, 95, 32)            5152      \n",
      "_________________________________________________________________\n",
      "max_pooling1d_1 (MaxPooling1 (None, 19, 32)            0         \n",
      "_________________________________________________________________\n",
      "flatten (Flatten)            (None, 608)               0         \n",
      "_________________________________________________________________\n",
      "dense (Dense)                (None, 128)               77952     \n",
      "_________________________________________________________________\n",
      "dense_1 (Dense)              (None, 3)                 387       \n",
      "=================================================================\n",
      "Total params: 1,442,273\n",
      "Trainable params: 91,523\n",
      "Non-trainable params: 1,350,750\n",
      "_________________________________________________________________\n"
     ]
    },
    {
     "data": {
      "image/png": "[encoded data removed]",
      "text/plain": [
       "<IPython.core.display.Image object>"
      ]
     },
     "metadata": {},
     "output_type": "display_data"
    },
    {
     "name": "stdout",
     "output_type": "stream",
     "text": [
      "**************************************** Start CNN_Model Processing ****************************************\n",
      "Train on 12629 samples, validate on 3947 samples\n",
      "Epoch 1/3\n",
      "12629/12629 [==============================] - 9s 726us/sample - loss: 0.8022 - tp: 6411.0000 - fp: 2364.0000 - tn: 22894.0000 - fn: 6218.0000 - accuracy: 0.6524 - precision: 0.7306 - recall: 0.5076 - auc: 0.8221 - F1: 0.4254 - val_loss: 0.5696 - val_tp: 2710.0000 - val_fp: 529.0000 - val_tn: 7365.0000 - val_fn: 1237.0000 - val_accuracy: 0.7646 - val_precision: 0.8367 - val_recall: 0.6866 - val_auc: 0.9135 - val_F1: 0.5360\n",
      "Epoch 2/3\n",
      "12629/12629 [==============================] - 4s 296us/sample - loss: 0.5295 - tp: 8949.0000 - fp: 1573.0000 - tn: 23685.0000 - fn: 3680.0000 - accuracy: 0.7793 - precision: 0.8505 - recall: 0.7086 - auc: 0.9255 - F1: 0.5893 - val_loss: 0.4987 - val_tp: 2846.0000 - val_fp: 487.0000 - val_tn: 7407.0000 - val_fn: 1101.0000 - val_accuracy: 0.7922 - val_precision: 0.8539 - val_recall: 0.7211 - val_auc: 0.9334 - val_F1: 0.6457\n",
      "Epoch 3/3\n",
      "12629/12629 [==============================] - 4s 293us/sample - loss: 0.4484 - tp: 9436.0000 - fp: 1342.0000 - tn: 23916.0000 - fn: 3193.0000 - accuracy: 0.8123 - precision: 0.8755 - recall: 0.7472 - auc: 0.9466 - F1: 0.6963 - val_loss: 0.4738 - val_tp: 2917.0000 - val_fp: 493.0000 - val_tn: 7401.0000 - val_fn: 1030.0000 - val_accuracy: 0.8021 - val_precision: 0.8554 - val_recall: 0.7390 - val_auc: 0.9407 - val_F1: 0.6697\n",
      "**************************************************\n"
     ]
    },
    {
     "data": {
      "image/png": "[encoded data removed]",
      "text/plain": [
       "<Figure size 432x288 with 1 Axes>"
      ]
     },
     "metadata": {
      "needs_background": "light"
     },
     "output_type": "display_data"
    },
    {
     "name": "stdout",
     "output_type": "stream",
     "text": [
      "**************************************** End CNN_Model with 17.7496 seconds ****************************************\n",
      "\n",
      "Model: \"LSTM_Model\"\n",
      "_________________________________________________________________\n",
      "Layer (type)                 Output Shape              Param #   \n",
      "=================================================================\n",
      "input_layer_1 (InputLayer)   [(None, 500)]             0         \n",
      "_________________________________________________________________\n",
      "embedding_layer_2 (Embedding (None, 500, 50)           1350750   \n",
      "_________________________________________________________________\n",
      "lstm (LSTM)                  (None, 50)                20200     \n",
      "_________________________________________________________________\n",
      "dense_2 (Dense)              (None, 3)                 153       \n",
      "=================================================================\n",
      "Total params: 1,371,103\n",
      "Trainable params: 20,353\n",
      "Non-trainable params: 1,350,750\n",
      "_________________________________________________________________\n"
     ]
    },
    {
     "data": {
      "image/png": "[encoded data removed]",
      "text/plain": [
       "<IPython.core.display.Image object>"
      ]
     },
     "metadata": {},
     "output_type": "display_data"
    },
    {
     "name": "stdout",
     "output_type": "stream",
     "text": [
      "**************************************** Start LSTM_Model Processing ****************************************\n",
      "Train on 12629 samples, validate on 3947 samples\n",
      "Epoch 1/3\n",
      "12629/12629 [==============================] - 103s 8ms/sample - loss: 0.9780 - tp: 5152.0000 - fp: 4065.0000 - tn: 21193.0000 - fn: 7477.0000 - accuracy: 0.5590 - precision: 0.5590 - recall: 0.4079 - auc: 0.7084 - F1: 0.2540 - val_loss: 0.9498 - val_tp: 2218.0000 - val_fp: 1729.0000 - val_tn: 6165.0000 - val_fn: 1729.0000 - val_accuracy: 0.5619 - val_precision: 0.5619 - val_recall: 0.5619 - val_auc: 0.7173 - val_F1: 0.2398\n",
      "Epoch 2/3\n",
      "12629/12629 [==============================] - 91s 7ms/sample - loss: 0.9531 - tp: 7011.0000 - fp: 5449.0000 - tn: 19809.0000 - fn: 5618.0000 - accuracy: 0.5628 - precision: 0.5627 - recall: 0.5552 - auc: 0.7162 - F1: 0.2401 - val_loss: 0.9492 - val_tp: 2218.0000 - val_fp: 1729.0000 - val_tn: 6165.0000 - val_fn: 1729.0000 - val_accuracy: 0.5619 - val_precision: 0.5619 - val_recall: 0.5619 - val_auc: 0.7174 - val_F1: 0.2398\n",
      "Epoch 3/3\n",
      "12629/12629 [==============================] - 102s 8ms/sample - loss: 0.9530 - tp: 7106.0000 - fp: 5521.0000 - tn: 19737.0000 - fn: 5523.0000 - accuracy: 0.5628 - precision: 0.5628 - recall: 0.5627 - auc: 0.7138 - F1: 0.2401 - val_loss: 0.9495 - val_tp: 2218.0000 - val_fp: 1729.0000 - val_tn: 6165.0000 - val_fn: 1729.0000 - val_accuracy: 0.5619 - val_precision: 0.5619 - val_recall: 0.5619 - val_auc: 0.7175 - val_F1: 0.2398\n",
      "**************************************************\n"
     ]
    },
    {
     "data": {
      "image/png": "[encoded data removed]",
      "text/plain": [
       "<Figure size 432x288 with 1 Axes>"
      ]
     },
     "metadata": {
      "needs_background": "light"
     },
     "output_type": "display_data"
    },
    {
     "name": "stdout",
     "output_type": "stream",
     "text": [
      "**************************************** End LSTM_Model with 297.4894 seconds ****************************************\n",
      "\n"
     ]
    },
    {
     "data": {
      "image/png": "[encoded data removed]",
      "text/plain": [
       "<Figure size 432x288 with 1 Axes>"
      ]
     },
     "metadata": {
      "needs_background": "light"
     },
     "output_type": "display_data"
    },
    {
     "data": {
      "image/png": "[encoded data removed]",
      "text/plain": [
       "<Figure size 432x288 with 1 Axes>"
      ]
     },
     "metadata": {
      "needs_background": "light"
     },
     "output_type": "display_data"
    },
    {
     "data": {
      "image/png": "[encoded data removed]",
      "text/plain": [
       "<Figure size 432x288 with 1 Axes>"
      ]
     },
     "metadata": {
      "needs_background": "light"
     },
     "output_type": "display_data"
    },
    {
     "data": {
      "image/png": "[encoded data removed]",
      "text/plain": [
       "<Figure size 432x288 with 1 Axes>"
      ]
     },
     "metadata": {
      "needs_background": "light"
     },
     "output_type": "display_data"
    },
    {
     "name": "stdout",
     "output_type": "stream",
     "text": [
      "************************************************** Start TFIDF transfrom **************************************************\n",
      "**************************************** End tfidf() with 3.3842 second ****************************************\n",
      "\n",
      "************************************************** Start train_test_split **************************************************\n",
      "**************************************** End embedding() with 0.0618 seconds ****************************************\n",
      "\n"
     ]
    }
   ],
   "source": [
    "if __name__==\"__main__\":\n",
    "    df_2, word_index, sequences, padded, embedding_matrix, history_cnn, history_lstm = main_1()"
   ]
  },
  {
   "cell_type": "markdown",
   "metadata": {},
   "source": [
    "<br>"
   ]
  },
  {
   "cell_type": "code",
   "execution_count": null,
   "metadata": {},
   "outputs": [],
   "source": []
  },
  {
   "cell_type": "code",
   "execution_count": null,
   "metadata": {},
   "outputs": [],
   "source": []
  },
  {
   "cell_type": "markdown",
   "metadata": {},
   "source": [
    "<br>"
   ]
  },
  {
   "cell_type": "markdown",
   "metadata": {},
   "source": [
    "<br>"
   ]
  },
  {
   "cell_type": "markdown",
   "metadata": {},
   "source": [
    "<br>"
   ]
  },
  {
   "cell_type": "markdown",
   "metadata": {},
   "source": [
    "<a id=\"4.Sentiment Analysis\"></a>\n",
    "# 4.Sentiment Analysis\n",
    "<a href=\"#1.Summary\">Click this Link back to Top</a>"
   ]
  },
  {
   "cell_type": "markdown",
   "metadata": {},
   "source": [
    "<a id=\"4.1 Read Data\"></a>\n",
    "## 4.1 Read Data\n",
    "<a href=\"#1.Summary\">Click this Link back to Top</a>"
   ]
  },
  {
   "cell_type": "code",
   "execution_count": 32,
   "metadata": {},
   "outputs": [],
   "source": [
    "def read_data():\n",
    "    \"\"\"\n",
    "    \"\"\"\n",
    "    with open(\"03_data/20_a4-data/q2/negative.review\",'r', encoding='utf-8', errors='ignore') as f:\n",
    "        # get all lines in this file\n",
    "        lines_1 = f.read()\n",
    "        # use bs4 to parse into bs4 format\n",
    "        soup_1 = BeautifulSoup(lines_1, 'lxml')\n",
    "        # according to requirements, we only need tag <review_text>. So, we extract 1000 records\n",
    "        corpus_1 = soup_1.find_all('review_text')\n",
    "        # using (.string) to get content between <review_text> and </review_text>\n",
    "        list_1 = [x.string for x in corpus_1]\n",
    "        \n",
    "    with open(\"03_data/20_a4-data/q2/positive.review\",'r', encoding='utf-8', errors='ignore') as f:\n",
    "        # get all lines in this file\n",
    "        lines_2 = f.read()\n",
    "        # use bs4 to parse into bs4 format\n",
    "        soup_2 = BeautifulSoup(lines_2, 'lxml')\n",
    "        # according to requirements, we only need tag <review_text>. So, we extract 1000 records\n",
    "        corpus_2 = soup_2.find_all('review_text')\n",
    "        # using (.string) to get content between <review_text> and </review_text>\n",
    "        list_2 = [x.string for x in corpus_2]\n",
    "        \n",
    "    data = {'REVIEW':list_1+list_2, 'SENTIMENT':[0]*len(list_1)+[1]*len(list_2)}\n",
    "    df = pd.DataFrame(data)\n",
    "    \n",
    "    \n",
    "    return df"
   ]
  },
  {
   "cell_type": "code",
   "execution_count": null,
   "metadata": {},
   "outputs": [],
   "source": []
  },
  {
   "cell_type": "code",
   "execution_count": null,
   "metadata": {},
   "outputs": [],
   "source": []
  },
  {
   "cell_type": "markdown",
   "metadata": {},
   "source": [
    "<a id=\"4.3 Main Function\"></a>\n",
    "## 4.3 Main Function\n",
    "<a href=\"#1.Summary\">Click this Link back to Top</a>"
   ]
  },
  {
   "cell_type": "code",
   "execution_count": 33,
   "metadata": {},
   "outputs": [],
   "source": [
    "def main_2():\n",
    "    \"\"\"\n",
    "    1.readdata\n",
    "    2.clean data\n",
    "    3.tokenizer data\n",
    "    4.load glove and using glove to build word vector sentence\n",
    "    5.using glove to build word vector sentence\n",
    "    6.split data\n",
    "    7.Train CNN\n",
    "    8.Train LSTM\n",
    "    9.Train LR\n",
    "    10.Train Normal NN\n",
    "    \"\"\"\n",
    "    df_1 = read_data()\n",
    "    df_2 = clean_data(df_1, column_1=df_1.columns[0], column_2=df_1.columns[1])\n",
    "    tokenizer, word_index, sequences, padded = tokenize_data(df_2, column_1=df_2.columns[0])\n",
    "    embedding_matrix, embedding_index = glove_vect(word_index, df_2)\n",
    "    # actually, we don't directly this output\n",
    "    output = embedding(word_index, padded, embedding_matrix)\n",
    "    X_train, X_test, X_val, y_train, y_test, y_val = split_data(padded, df_2, test_size=0.2)\n",
    "    \n",
    "    history_cnn = compile_fit(cnn_model(word_index, embedding_matrix, output_act='sigmoid', output_units=2), \\\n",
    "                          X_train, X_test, X_val, y_train, y_test, y_val, loss_fun = 'binary_crossentropy', epoch_num=3)\n",
    "\n",
    "    history_lstm = compile_fit(lstm_model(word_index, embedding_matrix, output_act='sigmoid', output_units=2), \\\n",
    "                          X_train, X_test, X_val, y_train, y_test, y_val, loss_fun = 'binary_crossentropy', epoch_num=3)\n",
    "\n",
    "    \n",
    "    return df_2, tokenizer, word_index, sequences, padded, embedding_index, embedding_matrix, output"
   ]
  },
  {
   "cell_type": "code",
   "execution_count": null,
   "metadata": {},
   "outputs": [],
   "source": [
    "# df_1 = read_data()\n",
    "# df_2 = clean_data(df_1, column_1=df_1.columns[0], column_2=df_1.columns[1])\n",
    "# tokenizer, word_index, sequences, padded = tokenize_data(df_2, column_1=df_2.columns[0])\n",
    "# embedding_matrix, embedding_index = glove_vect(word_index, df_2)\n",
    "\n",
    "# embedding_matrix.shape\n",
    "\n",
    "# len(word_index)"
   ]
  },
  {
   "cell_type": "code",
   "execution_count": 34,
   "metadata": {},
   "outputs": [
    {
     "name": "stdout",
     "output_type": "stream",
     "text": [
      "************************************************** Start Clean data **************************************************\n",
      "**************************************** End clean_data() with 1.219 second ****************************************\n",
      "\n",
      "************************************************** Start tokenize_data process **************************************************\n",
      "**************************************** End tokenizer_data with 0.4245 seconds ****************************************\n",
      "\n",
      "************************************************** Start glove_vect() process **************************************************\n"
     ]
    },
    {
     "data": {
      "application/vnd.jupyter.widget-view+json": {
       "model_id": "2c5036594ab549039faf1daa4035fe94",
       "version_major": 2,
       "version_minor": 0
      },
      "text/plain": [
       "HBox(children=(FloatProgress(value=0.0, max=23830.0), HTML(value='')))"
      ]
     },
     "metadata": {},
     "output_type": "display_data"
    },
    {
     "name": "stdout",
     "output_type": "stream",
     "text": [
      "\n",
      "**************************************** End glove_vect() with 8.6081 seconds ****************************************\n",
      "\n",
      "************************************************** Start embedding process **************************************************\n",
      "**************************************** End embedding() with 0.2219 seconds ****************************************\n",
      "\n",
      "************************************************** Start train_test_split **************************************************\n",
      "**************************************** End embedding() with 0.009 seconds ****************************************\n",
      "\n",
      "Model: \"CNN_Model\"\n",
      "_________________________________________________________________\n",
      "Layer (type)                 Output Shape              Param #   \n",
      "=================================================================\n",
      "input_layer_1 (InputLayer)   [(None, 500)]             0         \n",
      "_________________________________________________________________\n",
      "embedding_layer_2 (Embedding (None, 500, 50)           1191550   \n",
      "_________________________________________________________________\n",
      "conv1D_layer_3 (Conv1D)      (None, 496, 32)           8032      \n",
      "_________________________________________________________________\n",
      "max_pooling1d_2 (MaxPooling1 (None, 99, 32)            0         \n",
      "_________________________________________________________________\n",
      "conv1D_layer_5 (Conv1D)      (None, 95, 32)            5152      \n",
      "_________________________________________________________________\n",
      "max_pooling1d_3 (MaxPooling1 (None, 19, 32)            0         \n",
      "_________________________________________________________________\n",
      "flatten_1 (Flatten)          (None, 608)               0         \n",
      "_________________________________________________________________\n",
      "dense_3 (Dense)              (None, 128)               77952     \n",
      "_________________________________________________________________\n",
      "dense_4 (Dense)              (None, 2)                 258       \n",
      "=================================================================\n",
      "Total params: 1,282,944\n",
      "Trainable params: 91,394\n",
      "Non-trainable params: 1,191,550\n",
      "_________________________________________________________________\n"
     ]
    },
    {
     "data": {
      "image/png": "[encoded data removed]",
      "text/plain": [
       "<IPython.core.display.Image object>"
      ]
     },
     "metadata": {},
     "output_type": "display_data"
    },
    {
     "name": "stdout",
     "output_type": "stream",
     "text": [
      "**************************************** Start CNN_Model Processing ****************************************\n",
      "Train on 1280 samples, validate on 400 samples\n",
      "Epoch 1/3\n",
      "1280/1280 [==============================] - 4s 3ms/sample - loss: 0.7019 - tp: 643.0000 - fp: 617.0000 - tn: 663.0000 - fn: 637.0000 - accuracy: 0.5109 - precision: 0.5103 - recall: 0.5023 - auc: 0.5100 - F1: 0.4906 - val_loss: 0.6927 - val_tp: 203.0000 - val_fp: 184.0000 - val_tn: 216.0000 - val_fn: 197.0000 - val_accuracy: 0.5250 - val_precision: 0.5245 - val_recall: 0.5075 - val_auc: 0.5311 - val_F1: 0.5008\n",
      "Epoch 2/3\n",
      "1280/1280 [==============================] - 0s 318us/sample - loss: 0.6706 - tp: 747.0000 - fp: 472.0000 - tn: 808.0000 - fn: 533.0000 - accuracy: 0.5992 - precision: 0.6128 - recall: 0.5836 - auc: 0.6411 - F1: 0.5991 - val_loss: 0.6717 - val_tp: 234.0000 - val_fp: 169.0000 - val_tn: 231.0000 - val_fn: 166.0000 - val_accuracy: 0.5850 - val_precision: 0.5806 - val_recall: 0.5850 - val_auc: 0.6308 - val_F1: 0.5424\n",
      "Epoch 3/3\n",
      "1280/1280 [==============================] - 0s 309us/sample - loss: 0.6452 - tp: 789.0000 - fp: 436.0000 - tn: 844.0000 - fn: 491.0000 - accuracy: 0.6383 - precision: 0.6441 - recall: 0.6164 - auc: 0.6886 - F1: 0.6347 - val_loss: 0.6760 - val_tp: 232.0000 - val_fp: 172.0000 - val_tn: 228.0000 - val_fn: 168.0000 - val_accuracy: 0.5700 - val_precision: 0.5743 - val_recall: 0.5800 - val_auc: 0.6122 - val_F1: 0.4805\n",
      "**************************************************\n"
     ]
    },
    {
     "data": {
      "image/png": "[encoded data removed]",
      "text/plain": [
       "<Figure size 432x288 with 1 Axes>"
      ]
     },
     "metadata": {
      "needs_background": "light"
     },
     "output_type": "display_data"
    },
    {
     "name": "stdout",
     "output_type": "stream",
     "text": [
      "**************************************** End CNN_Model with 5.9968 seconds ****************************************\n",
      "\n",
      "Model: \"LSTM_Model\"\n",
      "_________________________________________________________________\n",
      "Layer (type)                 Output Shape              Param #   \n",
      "=================================================================\n",
      "input_layer_1 (InputLayer)   [(None, 500)]             0         \n",
      "_________________________________________________________________\n",
      "embedding_layer_2 (Embedding (None, 500, 50)           1191550   \n",
      "_________________________________________________________________\n",
      "lstm_1 (LSTM)                (None, 50)                20200     \n",
      "_________________________________________________________________\n",
      "dense_5 (Dense)              (None, 2)                 102       \n",
      "=================================================================\n",
      "Total params: 1,211,852\n",
      "Trainable params: 20,302\n",
      "Non-trainable params: 1,191,550\n",
      "_________________________________________________________________\n"
     ]
    },
    {
     "data": {
      "image/png": "[encoded data removed]",
      "text/plain": [
       "<IPython.core.display.Image object>"
      ]
     },
     "metadata": {},
     "output_type": "display_data"
    },
    {
     "name": "stdout",
     "output_type": "stream",
     "text": [
      "**************************************** Start LSTM_Model Processing ****************************************\n",
      "Train on 1280 samples, validate on 400 samples\n",
      "Epoch 1/3\n",
      "1280/1280 [==============================] - 16s 13ms/sample - loss: 0.6936 - tp: 662.0000 - fp: 635.0000 - tn: 645.0000 - fn: 618.0000 - accuracy: 0.5133 - precision: 0.5104 - recall: 0.5172 - auc: 0.5036 - F1: 0.4637 - val_loss: 0.6933 - val_tp: 187.0000 - val_fp: 207.0000 - val_tn: 193.0000 - val_fn: 213.0000 - val_accuracy: 0.4725 - val_precision: 0.4746 - val_recall: 0.4675 - val_auc: 0.4773 - val_F1: 0.3209\n",
      "Epoch 2/3\n",
      "1280/1280 [==============================] - 11s 8ms/sample - loss: 0.6917 - tp: 655.0000 - fp: 613.0000 - tn: 667.0000 - fn: 625.0000 - accuracy: 0.5188 - precision: 0.5166 - recall: 0.5117 - auc: 0.5225 - F1: 0.3515 - val_loss: 0.6935 - val_tp: 187.0000 - val_fp: 209.0000 - val_tn: 191.0000 - val_fn: 213.0000 - val_accuracy: 0.4725 - val_precision: 0.4722 - val_recall: 0.4675 - val_auc: 0.4787 - val_F1: 0.3209\n",
      "Epoch 3/3\n",
      "1280/1280 [==============================] - 9s 7ms/sample - loss: 0.6915 - tp: 662.0000 - fp: 619.0000 - tn: 661.0000 - fn: 618.0000 - accuracy: 0.5188 - precision: 0.5168 - recall: 0.5172 - auc: 0.5176 - F1: 0.3487 - val_loss: 0.6941 - val_tp: 189.0000 - val_fp: 209.0000 - val_tn: 191.0000 - val_fn: 211.0000 - val_accuracy: 0.4725 - val_precision: 0.4749 - val_recall: 0.4725 - val_auc: 0.4759 - val_F1: 0.3209\n",
      "**************************************************\n"
     ]
    },
    {
     "data": {
      "image/png": "[encoded data removed]",
      "text/plain": [
       "<Figure size 432x288 with 1 Axes>"
      ]
     },
     "metadata": {
      "needs_background": "light"
     },
     "output_type": "display_data"
    },
    {
     "name": "stdout",
     "output_type": "stream",
     "text": [
      "**************************************** End LSTM_Model with 35.9761 seconds ****************************************\n",
      "\n"
     ]
    }
   ],
   "source": [
    "if __name__==\"__main__\":\n",
    "    df_2, tokenizer, word_index, sequences, padded, embedding_index, embedding_matrix, output = main_2()"
   ]
  },
  {
   "cell_type": "code",
   "execution_count": null,
   "metadata": {},
   "outputs": [],
   "source": []
  },
  {
   "cell_type": "code",
   "execution_count": null,
   "metadata": {},
   "outputs": [],
   "source": []
  },
  {
   "cell_type": "code",
   "execution_count": null,
   "metadata": {},
   "outputs": [],
   "source": []
  },
  {
   "cell_type": "code",
   "execution_count": null,
   "metadata": {},
   "outputs": [],
   "source": []
  },
  {
   "cell_type": "code",
   "execution_count": null,
   "metadata": {},
   "outputs": [],
   "source": []
  },
  {
   "cell_type": "markdown",
   "metadata": {},
   "source": [
    "<a id=\"5.Unused Code\"></a>\n",
    "# 5.Unused Code\n",
    "<a href=\"#1.Summary\">Click this Link back to Top</a>"
   ]
  },
  {
   "cell_type": "code",
   "execution_count": null,
   "metadata": {},
   "outputs": [],
   "source": [
    "def load_glove(with_indexes=True):\n",
    "    \"\"\"\n",
    "    I have 50dimension - 300 dimension, At puning stage i will use 50 dimension, but i will replace when i submit.\n",
    "    This is one type of pretrained word vector. \n",
    "    https://github.com/guillaume-chevalier/GloVe-as-a-TensorFlow-Embedding-Layer\n",
    "    \n",
    "    Argus:\n",
    "    -----\n",
    "    \n",
    "    Return:\n",
    "    ------\n",
    "    word_to_index_dict:dictionary\n",
    "        this contain {\"word\":index} and order by frequence {'the': 0,  ',': 1,'.': 2,'of': 3}\n",
    "    index_to_embedding_array:np.array\n",
    "        matrix with each word vecotr, for instance, 'the' vector will be a (50,) vector\n",
    "    \n",
    "    \"\"\"\n",
    "    # load the GloVe vectors in a dictionary:\n",
    "#     embeddings_index = {}\n",
    "#     # according to train speed, we can change \n",
    "#     f = open(r\"D:\\Downloads\\glove.6B\\glove.6B.50d.txt\", 'r', encoding='utf-8')\n",
    "#     for line in tqdm(f):\n",
    "#         # \n",
    "#         values = line.split()\n",
    "#         word = values[0]\n",
    "#         coefs = np.asarray(values[1:], dtype='float32')\n",
    "#         embeddings_index[word] = coefs\n",
    "#     f.close()\n",
    "#     print('Found %s word vectors.' % len(embeddings_index))\n",
    "#     return embeddings_index\n",
    "\n",
    "\n",
    "    if with_indexes:\n",
    "        word_to_index_dict = dict()\n",
    "        index_to_embedding_array = []\n",
    "    else:\n",
    "        word_to_embedding_dict = dict()\n",
    "\n",
    "    with open(r\"D:\\Downloads\\glove.6B\\glove.6B.50d.txt\", 'r', encoding='utf-8') as glove_file:\n",
    "        # i is idx, \n",
    "        for (i, line) in tqdm(enumerate(glove_file)):\n",
    "            # vector is split by whitespace\n",
    "            split = line.split(' ')\n",
    "            # the first item is word\n",
    "            word = split[0]\n",
    "            # next [1:51] is dimension, because i read 50 dimension pretrain vector\n",
    "            representation = split[1:]\n",
    "            # transform to float type\n",
    "            representation = np.array(\n",
    "                [float(val) for val in representation]\n",
    "            )\n",
    "            # if we need index, add another seperate dictionary \n",
    "            if with_indexes:\n",
    "                word_to_index_dict[word] = i\n",
    "                index_to_embedding_array.append(representation)\n",
    "            else:\n",
    "                word_to_embedding_dict[word] = representation\n",
    "        _WORD_NOT_FOUND = [0.0]* len(representation)  # Empty representation for unknown words.\n",
    "    if with_indexes:\n",
    "        _LAST_INDEX = i + 1\n",
    "        word_to_index_dict = defaultdict(lambda: _LAST_INDEX, word_to_index_dict)\n",
    "        index_to_embedding_array = np.array(index_to_embedding_array + [_WORD_NOT_FOUND])\n",
    "        #\n",
    "        return word_to_index_dict, index_to_embedding_array\n",
    "    else:\n",
    "        word_to_embedding_dict = defaultdict(lambda: _WORD_NOT_FOUND)\n",
    "        return word_to_embedding_dict"
   ]
  },
  {
   "cell_type": "code",
   "execution_count": null,
   "metadata": {},
   "outputs": [],
   "source": [
    "def glove_output(word_to_index_dict, index_to_embedding_array):\n",
    "    \"\"\"\n",
    "    This part is only for validation and test\n",
    "    \"\"\"\n",
    "    vocab_size, embedding_dim = index_to_embedding.shape\n",
    "    print(\"Embedding is of shape: {}\".format(index_to_embedding.shape))\n",
    "    print(\"This means (number of words, number of dimensions per word)\\n\")\n",
    "    print(\"The first words are words that tend occur more often.\")\n",
    "\n",
    "    print(\"Note: for unknown words, the representation is an empty vector,\\n\"\n",
    "          \"and the index is the last one. The dictionnary has a limit:\")\n",
    "    print(\"    {} --> {} --> {}\".format(\"A word\", \"Index in embedding\", \"Representation\"))\n",
    "    \n",
    "    word = \"worsdfkljsdf\"\n",
    "    idx = word_to_index[word]\n",
    "    embd = list(np.array(index_to_embedding[idx], dtype=int))  # \"int\" for compact print only.\n",
    "    print(\"    {} --> {} --> {}\".format(word, idx, embd))\n",
    "    \n",
    "    word = \"the\"\n",
    "    idx = word_to_index[word]\n",
    "    embd = list(index_to_embedding[idx])  # \"int\" for compact print only.\n",
    "    print(\"    {} --> {} --> {}\".format(word, idx, embd))"
   ]
  },
  {
   "cell_type": "code",
   "execution_count": null,
   "metadata": {},
   "outputs": [],
   "source": [
    "'''This script loads pre-trained word embeddings (GloVe embeddings)\n",
    "into a frozen Keras Embedding layer, and uses it to\n",
    "train a text classification model on the 20 Newsgroup dataset\n",
    "(classification of newsgroup messages into 20 different categories).\n",
    "GloVe embedding data can be found at:\n",
    "http://nlp.stanford.edu/data/glove.6B.zip\n",
    "(source page: http://nlp.stanford.edu/projects/glove/)\n",
    "20 Newsgroup data can be found at:\n",
    "http://www.cs.cmu.edu/afs/cs.cmu.edu/project/theo-20/www/data/news20.html\n",
    "'''\n",
    "\n",
    "from __future__ import print_function\n",
    "\n",
    "import os\n",
    "import sys\n",
    "import numpy as np\n",
    "from tensorflow.keras.preprocessing.text import Tokenizer\n",
    "from tensorflow.keras.preprocessing.sequence import pad_sequences\n",
    "from tensorflow.keras.utils import to_categorical\n",
    "from tensorflow.keras.layers import Dense, Input, GlobalMaxPooling1D\n",
    "from tensorflow.keras.layers import Conv1D, MaxPooling1D, Embedding\n",
    "from tensorflow.keras.models import Model\n",
    "from tensorflow.keras.initializers import Constant\n",
    "\n",
    "\n",
    "BASE_DIR = 'D:\\\\Downloads\\\\'\n",
    "GLOVE_DIR = os.path.join(BASE_DIR, 'glove.6B')\n",
    "TEXT_DATA_DIR = os.path.join(BASE_DIR, '20_newsgroup')\n",
    "MAX_SEQUENCE_LENGTH = 1000\n",
    "MAX_NUM_WORDS = 20000\n",
    "EMBEDDING_DIM = 100\n",
    "VALIDATION_SPLIT = 0.2\n",
    "\n",
    "# first, build index mapping words in the embeddings set\n",
    "# to their embedding vector\n",
    "\n",
    "print('Indexing word vectors.')\n",
    "\n",
    "embeddings_index = {}\n",
    "# change encoding to utf-8 for glove.6B dataset\n",
    "with open(os.path.join(GLOVE_DIR, \"glove.6B.50d.txt\"), encoding='utf-8') as f:\n",
    "    for line in f:\n",
    "        values = line.split()\n",
    "        word = values[0]\n",
    "        coefs = np.asarray(values[1:], dtype='float32')\n",
    "        embeddings_index[word] = coefs\n",
    "\n",
    "print('Found %s word vectors.' % len(embeddings_index))\n",
    "\n",
    "# second, prepare text samples and their labels\n",
    "print('Processing text dataset')\n",
    "\n",
    "texts = []  # list of text samples\n",
    "labels_index = {}  # dictionary mapping label name to numeric id\n",
    "labels = []  # list of label ids\n",
    "for name in sorted(os.listdir(TEXT_DATA_DIR)):\n",
    "    path = os.path.join(TEXT_DATA_DIR, name)\n",
    "    if os.path.isdir(path):\n",
    "        label_id = len(labels_index)\n",
    "        labels_index[name] = label_id\n",
    "        for fname in sorted(os.listdir(path)):\n",
    "            if fname.isdigit():\n",
    "                fpath = os.path.join(path, fname)\n",
    "                if sys.version_info < (3,):\n",
    "                    f = open(fpath)\n",
    "                else:\n",
    "                    f = open(fpath, encoding='latin-1')\n",
    "                t = f.read()\n",
    "                i = t.find('\\n\\n')  # skip header\n",
    "                if 0 < i:\n",
    "                    t = t[i:]\n",
    "                texts.append(t)\n",
    "                f.close()\n",
    "                labels.append(label_id)\n",
    "\n",
    "print('Found %s texts.' % len(texts))"
   ]
  },
  {
   "cell_type": "code",
   "execution_count": null,
   "metadata": {},
   "outputs": [],
   "source": [
    "# type(labels)\n",
    "\n",
    "# labels[1987]\n",
    "\n",
    "# labels_2 = to_categorical(np.asarray(labels))\n",
    "\n",
    "# labels_2.shape"
   ]
  },
  {
   "cell_type": "code",
   "execution_count": null,
   "metadata": {},
   "outputs": [],
   "source": [
    "    # If i use 50d glove, this will be 50, max dimension is 300 dimendsion\n",
    "#     EMBEDDING_DIM = 50\n",
    "#     # create a empty matrix to filled in glove\n",
    "#     embedding_matrix = np.zero((len(word_index) + 1, EMBEDDING_DIM))\n",
    "#     for word, i in word_index.items():\n",
    "#         embedding_vector = embeddings_index.get(word)\n",
    "#         if embedding_vector is not None:\n",
    "#             embedding_matrix[i] = embedding_vector\n",
    "#     print(\" Completed!\")\n",
    "#     df_1 = tf.nn.embedding_lookup(params = index_to_embedding_array, word_to_index[word], max_norm=None, name=None)\n",
    "#     for idx, sentence in tqdm(enumerate(df['AUTHOR'][0:5])):\n",
    "#         word_list = sentence.split(' ')\n",
    "#         index_list = \n",
    "#         df_1 = tf.nn.embedding_lookup(index_to_embedding_array, [0,1])\n",
    "#     return df_1\n",
    "#     tensor_list=[]\n",
    "#     for idx, sentence in tqdm(enumerate(df['AUTHOR'])):\n",
    "#         word_list = sentence.split(' ')\n",
    "#         index_list=[]\n",
    "#         for word in word_list:\n",
    "#             index_word = word_to_index_dict[word]\n",
    "#             index_list.append(index_word)\n",
    "#         tensor_col = tf.nn.embedding_lookup(index_to_embedding_array, index_list)\n",
    "#         tensor_list.append(tensor_col)\n",
    "#     df['tensor_col'] = tensor_list\n",
    "#     return df"
   ]
  }
 ],
 "metadata": {
  "kernelspec": {
   "display_name": "Python 3",
   "language": "python",
   "name": "python3"
  },
  "language_info": {
   "codemirror_mode": {
    "name": "ipython",
    "version": 3
   },
   "file_extension": ".py",
   "mimetype": "text/x-python",
   "name": "python",
   "nbconvert_exporter": "python",
   "pygments_lexer": "ipython3",
   "version": "3.7.9"
  }
 },
 "nbformat": 4,
 "nbformat_minor": 4
}
