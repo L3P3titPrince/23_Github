{
 "cells": [
  {
   "cell_type": "code",
   "execution_count": 2,
   "metadata": {},
   "outputs": [],
   "source": [
    "import pandas as pd"
   ]
  },
  {
   "cell_type": "code",
   "execution_count": 5,
   "metadata": {},
   "outputs": [],
   "source": [
    "data = pd.read_csv('/Users/chenshunchao/Downloads/youtube-new/USvideos.csv')"
   ]
  },
  {
   "cell_type": "code",
   "execution_count": 6,
   "metadata": {},
   "outputs": [
    {
     "data": {
      "text/html": [
       "<div>\n",
       "<style scoped>\n",
       "    .dataframe tbody tr th:only-of-type {\n",
       "        vertical-align: middle;\n",
       "    }\n",
       "\n",
       "    .dataframe tbody tr th {\n",
       "        vertical-align: top;\n",
       "    }\n",
       "\n",
       "    .dataframe thead th {\n",
       "        text-align: right;\n",
       "    }\n",
       "</style>\n",
       "<table border=\"1\" class=\"dataframe\">\n",
       "  <thead>\n",
       "    <tr style=\"text-align: right;\">\n",
       "      <th></th>\n",
       "      <th>video_id</th>\n",
       "      <th>trending_date</th>\n",
       "      <th>title</th>\n",
       "      <th>channel_title</th>\n",
       "      <th>category_id</th>\n",
       "      <th>publish_time</th>\n",
       "      <th>tags</th>\n",
       "      <th>views</th>\n",
       "      <th>likes</th>\n",
       "      <th>dislikes</th>\n",
       "      <th>comment_count</th>\n",
       "      <th>thumbnail_link</th>\n",
       "      <th>comments_disabled</th>\n",
       "      <th>ratings_disabled</th>\n",
       "      <th>video_error_or_removed</th>\n",
       "      <th>description</th>\n",
       "    </tr>\n",
       "  </thead>\n",
       "  <tbody>\n",
       "    <tr>\n",
       "      <td>0</td>\n",
       "      <td>2kyS6SvSYSE</td>\n",
       "      <td>17.14.11</td>\n",
       "      <td>WE WANT TO TALK ABOUT OUR MARRIAGE</td>\n",
       "      <td>CaseyNeistat</td>\n",
       "      <td>22</td>\n",
       "      <td>2017-11-13T17:13:01.000Z</td>\n",
       "      <td>SHANtell martin</td>\n",
       "      <td>748374</td>\n",
       "      <td>57527</td>\n",
       "      <td>2966</td>\n",
       "      <td>15954</td>\n",
       "      <td>https://i.ytimg.com/vi/2kyS6SvSYSE/default.jpg</td>\n",
       "      <td>False</td>\n",
       "      <td>False</td>\n",
       "      <td>False</td>\n",
       "      <td>SHANTELL'S CHANNEL - https://www.youtube.com/s...</td>\n",
       "    </tr>\n",
       "    <tr>\n",
       "      <td>1</td>\n",
       "      <td>1ZAPwfrtAFY</td>\n",
       "      <td>17.14.11</td>\n",
       "      <td>The Trump Presidency: Last Week Tonight with J...</td>\n",
       "      <td>LastWeekTonight</td>\n",
       "      <td>24</td>\n",
       "      <td>2017-11-13T07:30:00.000Z</td>\n",
       "      <td>last week tonight trump presidency|\"last week ...</td>\n",
       "      <td>2418783</td>\n",
       "      <td>97185</td>\n",
       "      <td>6146</td>\n",
       "      <td>12703</td>\n",
       "      <td>https://i.ytimg.com/vi/1ZAPwfrtAFY/default.jpg</td>\n",
       "      <td>False</td>\n",
       "      <td>False</td>\n",
       "      <td>False</td>\n",
       "      <td>One year after the presidential election, John...</td>\n",
       "    </tr>\n",
       "    <tr>\n",
       "      <td>2</td>\n",
       "      <td>5qpjK5DgCt4</td>\n",
       "      <td>17.14.11</td>\n",
       "      <td>Racist Superman | Rudy Mancuso, King Bach &amp; Le...</td>\n",
       "      <td>Rudy Mancuso</td>\n",
       "      <td>23</td>\n",
       "      <td>2017-11-12T19:05:24.000Z</td>\n",
       "      <td>racist superman|\"rudy\"|\"mancuso\"|\"king\"|\"bach\"...</td>\n",
       "      <td>3191434</td>\n",
       "      <td>146033</td>\n",
       "      <td>5339</td>\n",
       "      <td>8181</td>\n",
       "      <td>https://i.ytimg.com/vi/5qpjK5DgCt4/default.jpg</td>\n",
       "      <td>False</td>\n",
       "      <td>False</td>\n",
       "      <td>False</td>\n",
       "      <td>WATCH MY PREVIOUS VIDEO ▶ \\n\\nSUBSCRIBE ► http...</td>\n",
       "    </tr>\n",
       "    <tr>\n",
       "      <td>3</td>\n",
       "      <td>puqaWrEC7tY</td>\n",
       "      <td>17.14.11</td>\n",
       "      <td>Nickelback Lyrics: Real or Fake?</td>\n",
       "      <td>Good Mythical Morning</td>\n",
       "      <td>24</td>\n",
       "      <td>2017-11-13T11:00:04.000Z</td>\n",
       "      <td>rhett and link|\"gmm\"|\"good mythical morning\"|\"...</td>\n",
       "      <td>343168</td>\n",
       "      <td>10172</td>\n",
       "      <td>666</td>\n",
       "      <td>2146</td>\n",
       "      <td>https://i.ytimg.com/vi/puqaWrEC7tY/default.jpg</td>\n",
       "      <td>False</td>\n",
       "      <td>False</td>\n",
       "      <td>False</td>\n",
       "      <td>Today we find out if Link is a Nickelback amat...</td>\n",
       "    </tr>\n",
       "    <tr>\n",
       "      <td>4</td>\n",
       "      <td>d380meD0W0M</td>\n",
       "      <td>17.14.11</td>\n",
       "      <td>I Dare You: GOING BALD!?</td>\n",
       "      <td>nigahiga</td>\n",
       "      <td>24</td>\n",
       "      <td>2017-11-12T18:01:41.000Z</td>\n",
       "      <td>ryan|\"higa\"|\"higatv\"|\"nigahiga\"|\"i dare you\"|\"...</td>\n",
       "      <td>2095731</td>\n",
       "      <td>132235</td>\n",
       "      <td>1989</td>\n",
       "      <td>17518</td>\n",
       "      <td>https://i.ytimg.com/vi/d380meD0W0M/default.jpg</td>\n",
       "      <td>False</td>\n",
       "      <td>False</td>\n",
       "      <td>False</td>\n",
       "      <td>I know it's been a while since we did this sho...</td>\n",
       "    </tr>\n",
       "  </tbody>\n",
       "</table>\n",
       "</div>"
      ],
      "text/plain": [
       "      video_id trending_date  \\\n",
       "0  2kyS6SvSYSE      17.14.11   \n",
       "1  1ZAPwfrtAFY      17.14.11   \n",
       "2  5qpjK5DgCt4      17.14.11   \n",
       "3  puqaWrEC7tY      17.14.11   \n",
       "4  d380meD0W0M      17.14.11   \n",
       "\n",
       "                                               title          channel_title  \\\n",
       "0                 WE WANT TO TALK ABOUT OUR MARRIAGE           CaseyNeistat   \n",
       "1  The Trump Presidency: Last Week Tonight with J...        LastWeekTonight   \n",
       "2  Racist Superman | Rudy Mancuso, King Bach & Le...           Rudy Mancuso   \n",
       "3                   Nickelback Lyrics: Real or Fake?  Good Mythical Morning   \n",
       "4                           I Dare You: GOING BALD!?               nigahiga   \n",
       "\n",
       "   category_id              publish_time  \\\n",
       "0           22  2017-11-13T17:13:01.000Z   \n",
       "1           24  2017-11-13T07:30:00.000Z   \n",
       "2           23  2017-11-12T19:05:24.000Z   \n",
       "3           24  2017-11-13T11:00:04.000Z   \n",
       "4           24  2017-11-12T18:01:41.000Z   \n",
       "\n",
       "                                                tags    views   likes  \\\n",
       "0                                    SHANtell martin   748374   57527   \n",
       "1  last week tonight trump presidency|\"last week ...  2418783   97185   \n",
       "2  racist superman|\"rudy\"|\"mancuso\"|\"king\"|\"bach\"...  3191434  146033   \n",
       "3  rhett and link|\"gmm\"|\"good mythical morning\"|\"...   343168   10172   \n",
       "4  ryan|\"higa\"|\"higatv\"|\"nigahiga\"|\"i dare you\"|\"...  2095731  132235   \n",
       "\n",
       "   dislikes  comment_count                                  thumbnail_link  \\\n",
       "0      2966          15954  https://i.ytimg.com/vi/2kyS6SvSYSE/default.jpg   \n",
       "1      6146          12703  https://i.ytimg.com/vi/1ZAPwfrtAFY/default.jpg   \n",
       "2      5339           8181  https://i.ytimg.com/vi/5qpjK5DgCt4/default.jpg   \n",
       "3       666           2146  https://i.ytimg.com/vi/puqaWrEC7tY/default.jpg   \n",
       "4      1989          17518  https://i.ytimg.com/vi/d380meD0W0M/default.jpg   \n",
       "\n",
       "   comments_disabled  ratings_disabled  video_error_or_removed  \\\n",
       "0              False             False                   False   \n",
       "1              False             False                   False   \n",
       "2              False             False                   False   \n",
       "3              False             False                   False   \n",
       "4              False             False                   False   \n",
       "\n",
       "                                         description  \n",
       "0  SHANTELL'S CHANNEL - https://www.youtube.com/s...  \n",
       "1  One year after the presidential election, John...  \n",
       "2  WATCH MY PREVIOUS VIDEO ▶ \\n\\nSUBSCRIBE ► http...  \n",
       "3  Today we find out if Link is a Nickelback amat...  \n",
       "4  I know it's been a while since we did this sho...  "
      ]
     },
     "execution_count": 6,
     "metadata": {},
     "output_type": "execute_result"
    }
   ],
   "source": [
    "data.head()"
   ]
  },
  {
   "cell_type": "code",
   "execution_count": 123,
   "metadata": {
    "scrolled": true
   },
   "outputs": [],
   "source": [
    "data = data[['category_id', 'title', 'tags', 'description']]"
   ]
  },
  {
   "cell_type": "code",
   "execution_count": 124,
   "metadata": {},
   "outputs": [
    {
     "data": {
      "text/html": [
       "<div>\n",
       "<style scoped>\n",
       "    .dataframe tbody tr th:only-of-type {\n",
       "        vertical-align: middle;\n",
       "    }\n",
       "\n",
       "    .dataframe tbody tr th {\n",
       "        vertical-align: top;\n",
       "    }\n",
       "\n",
       "    .dataframe thead th {\n",
       "        text-align: right;\n",
       "    }\n",
       "</style>\n",
       "<table border=\"1\" class=\"dataframe\">\n",
       "  <thead>\n",
       "    <tr style=\"text-align: right;\">\n",
       "      <th></th>\n",
       "      <th>category_id</th>\n",
       "      <th>title</th>\n",
       "      <th>tags</th>\n",
       "      <th>description</th>\n",
       "    </tr>\n",
       "  </thead>\n",
       "  <tbody>\n",
       "    <tr>\n",
       "      <th>0</th>\n",
       "      <td>22</td>\n",
       "      <td>WE WANT TO TALK ABOUT OUR MARRIAGE</td>\n",
       "      <td>SHANtell martin</td>\n",
       "      <td>SHANTELL'S CHANNEL - https://www.youtube.com/s...</td>\n",
       "    </tr>\n",
       "    <tr>\n",
       "      <th>1</th>\n",
       "      <td>24</td>\n",
       "      <td>The Trump Presidency: Last Week Tonight with J...</td>\n",
       "      <td>last week tonight trump presidency|\"last week ...</td>\n",
       "      <td>One year after the presidential election, John...</td>\n",
       "    </tr>\n",
       "    <tr>\n",
       "      <th>2</th>\n",
       "      <td>23</td>\n",
       "      <td>Racist Superman | Rudy Mancuso, King Bach &amp; Le...</td>\n",
       "      <td>racist superman|\"rudy\"|\"mancuso\"|\"king\"|\"bach\"...</td>\n",
       "      <td>WATCH MY PREVIOUS VIDEO ▶ \\n\\nSUBSCRIBE ► http...</td>\n",
       "    </tr>\n",
       "    <tr>\n",
       "      <th>3</th>\n",
       "      <td>24</td>\n",
       "      <td>Nickelback Lyrics: Real or Fake?</td>\n",
       "      <td>rhett and link|\"gmm\"|\"good mythical morning\"|\"...</td>\n",
       "      <td>Today we find out if Link is a Nickelback amat...</td>\n",
       "    </tr>\n",
       "    <tr>\n",
       "      <th>4</th>\n",
       "      <td>24</td>\n",
       "      <td>I Dare You: GOING BALD!?</td>\n",
       "      <td>ryan|\"higa\"|\"higatv\"|\"nigahiga\"|\"i dare you\"|\"...</td>\n",
       "      <td>I know it's been a while since we did this sho...</td>\n",
       "    </tr>\n",
       "  </tbody>\n",
       "</table>\n",
       "</div>"
      ],
      "text/plain": [
       "   category_id                                              title  \\\n",
       "0           22                 WE WANT TO TALK ABOUT OUR MARRIAGE   \n",
       "1           24  The Trump Presidency: Last Week Tonight with J...   \n",
       "2           23  Racist Superman | Rudy Mancuso, King Bach & Le...   \n",
       "3           24                   Nickelback Lyrics: Real or Fake?   \n",
       "4           24                           I Dare You: GOING BALD!?   \n",
       "\n",
       "                                                tags  \\\n",
       "0                                    SHANtell martin   \n",
       "1  last week tonight trump presidency|\"last week ...   \n",
       "2  racist superman|\"rudy\"|\"mancuso\"|\"king\"|\"bach\"...   \n",
       "3  rhett and link|\"gmm\"|\"good mythical morning\"|\"...   \n",
       "4  ryan|\"higa\"|\"higatv\"|\"nigahiga\"|\"i dare you\"|\"...   \n",
       "\n",
       "                                         description  \n",
       "0  SHANTELL'S CHANNEL - https://www.youtube.com/s...  \n",
       "1  One year after the presidential election, John...  \n",
       "2  WATCH MY PREVIOUS VIDEO ▶ \\n\\nSUBSCRIBE ► http...  \n",
       "3  Today we find out if Link is a Nickelback amat...  \n",
       "4  I know it's been a while since we did this sho...  "
      ]
     },
     "execution_count": 124,
     "metadata": {},
     "output_type": "execute_result"
    }
   ],
   "source": [
    "data.head()"
   ]
  },
  {
   "cell_type": "code",
   "execution_count": 125,
   "metadata": {},
   "outputs": [],
   "source": [
    "data_J = pd.read_json('/Users/chenshunchao/Downloads/youtube-new/US_category_id.json')"
   ]
  },
  {
   "cell_type": "code",
   "execution_count": 126,
   "metadata": {},
   "outputs": [
    {
     "data": {
      "text/plain": [
       "'Film & Animation'"
      ]
     },
     "execution_count": 126,
     "metadata": {},
     "output_type": "execute_result"
    }
   ],
   "source": [
    "data_J['items'][0]['snippet']['title']"
   ]
  },
  {
   "cell_type": "code",
   "execution_count": 127,
   "metadata": {},
   "outputs": [
    {
     "data": {
      "text/plain": [
       "{'kind': 'youtube#videoCategory',\n",
       " 'etag': '\"m2yskBQFythfE4irbTIeOgYYfBU/Xy1mB4_yLrHy_BmKmPBggty2mZQ\"',\n",
       " 'id': '1',\n",
       " 'snippet': {'channelId': 'UCBR8-60-B28hp2BmDPdntcQ',\n",
       "  'title': 'Film & Animation',\n",
       "  'assignable': True}}"
      ]
     },
     "execution_count": 127,
     "metadata": {},
     "output_type": "execute_result"
    }
   ],
   "source": [
    "data_J['items'][0]"
   ]
  },
  {
   "cell_type": "code",
   "execution_count": 128,
   "metadata": {},
   "outputs": [],
   "source": [
    "# replaced all the ID numbers by their corresponding categories\n",
    "\n",
    "ids=[]\n",
    "for index, row in data.iterrows():\n",
    "    search_id=row['category_id']\n",
    "    \n",
    "    for i in range (len(data_J)):\n",
    "        if str(search_id)==data_J['items'][i]['id']:\n",
    "            ids.append(data_J['items'][i]['snippet']['title'])\n",
    "        \n",
    "data['new_id']=ids"
   ]
  },
  {
   "cell_type": "code",
   "execution_count": 129,
   "metadata": {},
   "outputs": [
    {
     "name": "stdout",
     "output_type": "stream",
     "text": [
      "(40949, 5)\n"
     ]
    },
    {
     "data": {
      "text/html": [
       "<div>\n",
       "<style scoped>\n",
       "    .dataframe tbody tr th:only-of-type {\n",
       "        vertical-align: middle;\n",
       "    }\n",
       "\n",
       "    .dataframe tbody tr th {\n",
       "        vertical-align: top;\n",
       "    }\n",
       "\n",
       "    .dataframe thead th {\n",
       "        text-align: right;\n",
       "    }\n",
       "</style>\n",
       "<table border=\"1\" class=\"dataframe\">\n",
       "  <thead>\n",
       "    <tr style=\"text-align: right;\">\n",
       "      <th></th>\n",
       "      <th>category_id</th>\n",
       "      <th>title</th>\n",
       "      <th>tags</th>\n",
       "      <th>description</th>\n",
       "      <th>new_id</th>\n",
       "    </tr>\n",
       "  </thead>\n",
       "  <tbody>\n",
       "    <tr>\n",
       "      <th>0</th>\n",
       "      <td>22</td>\n",
       "      <td>WE WANT TO TALK ABOUT OUR MARRIAGE</td>\n",
       "      <td>SHANtell martin</td>\n",
       "      <td>SHANTELL'S CHANNEL - https://www.youtube.com/s...</td>\n",
       "      <td>People &amp; Blogs</td>\n",
       "    </tr>\n",
       "    <tr>\n",
       "      <th>1</th>\n",
       "      <td>24</td>\n",
       "      <td>The Trump Presidency: Last Week Tonight with J...</td>\n",
       "      <td>last week tonight trump presidency|\"last week ...</td>\n",
       "      <td>One year after the presidential election, John...</td>\n",
       "      <td>Entertainment</td>\n",
       "    </tr>\n",
       "    <tr>\n",
       "      <th>2</th>\n",
       "      <td>23</td>\n",
       "      <td>Racist Superman | Rudy Mancuso, King Bach &amp; Le...</td>\n",
       "      <td>racist superman|\"rudy\"|\"mancuso\"|\"king\"|\"bach\"...</td>\n",
       "      <td>WATCH MY PREVIOUS VIDEO ▶ \\n\\nSUBSCRIBE ► http...</td>\n",
       "      <td>Comedy</td>\n",
       "    </tr>\n",
       "    <tr>\n",
       "      <th>3</th>\n",
       "      <td>24</td>\n",
       "      <td>Nickelback Lyrics: Real or Fake?</td>\n",
       "      <td>rhett and link|\"gmm\"|\"good mythical morning\"|\"...</td>\n",
       "      <td>Today we find out if Link is a Nickelback amat...</td>\n",
       "      <td>Entertainment</td>\n",
       "    </tr>\n",
       "    <tr>\n",
       "      <th>4</th>\n",
       "      <td>24</td>\n",
       "      <td>I Dare You: GOING BALD!?</td>\n",
       "      <td>ryan|\"higa\"|\"higatv\"|\"nigahiga\"|\"i dare you\"|\"...</td>\n",
       "      <td>I know it's been a while since we did this sho...</td>\n",
       "      <td>Entertainment</td>\n",
       "    </tr>\n",
       "  </tbody>\n",
       "</table>\n",
       "</div>"
      ],
      "text/plain": [
       "   category_id                                              title  \\\n",
       "0           22                 WE WANT TO TALK ABOUT OUR MARRIAGE   \n",
       "1           24  The Trump Presidency: Last Week Tonight with J...   \n",
       "2           23  Racist Superman | Rudy Mancuso, King Bach & Le...   \n",
       "3           24                   Nickelback Lyrics: Real or Fake?   \n",
       "4           24                           I Dare You: GOING BALD!?   \n",
       "\n",
       "                                                tags  \\\n",
       "0                                    SHANtell martin   \n",
       "1  last week tonight trump presidency|\"last week ...   \n",
       "2  racist superman|\"rudy\"|\"mancuso\"|\"king\"|\"bach\"...   \n",
       "3  rhett and link|\"gmm\"|\"good mythical morning\"|\"...   \n",
       "4  ryan|\"higa\"|\"higatv\"|\"nigahiga\"|\"i dare you\"|\"...   \n",
       "\n",
       "                                         description          new_id  \n",
       "0  SHANTELL'S CHANNEL - https://www.youtube.com/s...  People & Blogs  \n",
       "1  One year after the presidential election, John...   Entertainment  \n",
       "2  WATCH MY PREVIOUS VIDEO ▶ \\n\\nSUBSCRIBE ► http...          Comedy  \n",
       "3  Today we find out if Link is a Nickelback amat...   Entertainment  \n",
       "4  I know it's been a while since we did this sho...   Entertainment  "
      ]
     },
     "execution_count": 129,
     "metadata": {},
     "output_type": "execute_result"
    }
   ],
   "source": [
    "print(data.shape)\n",
    "data.head()"
   ]
  },
  {
   "cell_type": "code",
   "execution_count": 130,
   "metadata": {},
   "outputs": [],
   "source": [
    "data_set = data.drop(columns = ['category_id'])"
   ]
  },
  {
   "cell_type": "code",
   "execution_count": 131,
   "metadata": {},
   "outputs": [
    {
     "data": {
      "text/html": [
       "<div>\n",
       "<style scoped>\n",
       "    .dataframe tbody tr th:only-of-type {\n",
       "        vertical-align: middle;\n",
       "    }\n",
       "\n",
       "    .dataframe tbody tr th {\n",
       "        vertical-align: top;\n",
       "    }\n",
       "\n",
       "    .dataframe thead th {\n",
       "        text-align: right;\n",
       "    }\n",
       "</style>\n",
       "<table border=\"1\" class=\"dataframe\">\n",
       "  <thead>\n",
       "    <tr style=\"text-align: right;\">\n",
       "      <th></th>\n",
       "      <th>title</th>\n",
       "      <th>tags</th>\n",
       "      <th>description</th>\n",
       "      <th>new_id</th>\n",
       "    </tr>\n",
       "  </thead>\n",
       "  <tbody>\n",
       "    <tr>\n",
       "      <th>0</th>\n",
       "      <td>WE WANT TO TALK ABOUT OUR MARRIAGE</td>\n",
       "      <td>SHANtell martin</td>\n",
       "      <td>SHANTELL'S CHANNEL - https://www.youtube.com/s...</td>\n",
       "      <td>People &amp; Blogs</td>\n",
       "    </tr>\n",
       "    <tr>\n",
       "      <th>1</th>\n",
       "      <td>The Trump Presidency: Last Week Tonight with J...</td>\n",
       "      <td>last week tonight trump presidency|\"last week ...</td>\n",
       "      <td>One year after the presidential election, John...</td>\n",
       "      <td>Entertainment</td>\n",
       "    </tr>\n",
       "    <tr>\n",
       "      <th>2</th>\n",
       "      <td>Racist Superman | Rudy Mancuso, King Bach &amp; Le...</td>\n",
       "      <td>racist superman|\"rudy\"|\"mancuso\"|\"king\"|\"bach\"...</td>\n",
       "      <td>WATCH MY PREVIOUS VIDEO ▶ \\n\\nSUBSCRIBE ► http...</td>\n",
       "      <td>Comedy</td>\n",
       "    </tr>\n",
       "    <tr>\n",
       "      <th>3</th>\n",
       "      <td>Nickelback Lyrics: Real or Fake?</td>\n",
       "      <td>rhett and link|\"gmm\"|\"good mythical morning\"|\"...</td>\n",
       "      <td>Today we find out if Link is a Nickelback amat...</td>\n",
       "      <td>Entertainment</td>\n",
       "    </tr>\n",
       "    <tr>\n",
       "      <th>4</th>\n",
       "      <td>I Dare You: GOING BALD!?</td>\n",
       "      <td>ryan|\"higa\"|\"higatv\"|\"nigahiga\"|\"i dare you\"|\"...</td>\n",
       "      <td>I know it's been a while since we did this sho...</td>\n",
       "      <td>Entertainment</td>\n",
       "    </tr>\n",
       "  </tbody>\n",
       "</table>\n",
       "</div>"
      ],
      "text/plain": [
       "                                               title  \\\n",
       "0                 WE WANT TO TALK ABOUT OUR MARRIAGE   \n",
       "1  The Trump Presidency: Last Week Tonight with J...   \n",
       "2  Racist Superman | Rudy Mancuso, King Bach & Le...   \n",
       "3                   Nickelback Lyrics: Real or Fake?   \n",
       "4                           I Dare You: GOING BALD!?   \n",
       "\n",
       "                                                tags  \\\n",
       "0                                    SHANtell martin   \n",
       "1  last week tonight trump presidency|\"last week ...   \n",
       "2  racist superman|\"rudy\"|\"mancuso\"|\"king\"|\"bach\"...   \n",
       "3  rhett and link|\"gmm\"|\"good mythical morning\"|\"...   \n",
       "4  ryan|\"higa\"|\"higatv\"|\"nigahiga\"|\"i dare you\"|\"...   \n",
       "\n",
       "                                         description          new_id  \n",
       "0  SHANTELL'S CHANNEL - https://www.youtube.com/s...  People & Blogs  \n",
       "1  One year after the presidential election, John...   Entertainment  \n",
       "2  WATCH MY PREVIOUS VIDEO ▶ \\n\\nSUBSCRIBE ► http...          Comedy  \n",
       "3  Today we find out if Link is a Nickelback amat...   Entertainment  \n",
       "4  I know it's been a while since we did this sho...   Entertainment  "
      ]
     },
     "execution_count": 131,
     "metadata": {},
     "output_type": "execute_result"
    }
   ],
   "source": [
    "data_set.head()"
   ]
  },
  {
   "cell_type": "code",
   "execution_count": 135,
   "metadata": {},
   "outputs": [],
   "source": [
    "# clean tags data\n",
    "\n",
    "import re\n",
    "import nltk\n",
    "# nltk.download('stopwords')\n",
    "from nltk.corpus import stopwords\n",
    "from nltk.stem.porter import PorterStemmer\n",
    "corpus1 = []\n",
    "for i in range(0, len(data_set)):\n",
    "    tag = re.sub('[^a-zA-Z]', ' ', data_set['tags'][i])\n",
    "    tag = tag.lower().split()\n",
    "    ps = PorterStemmer()\n",
    "    tag = [ps.stem(word) for word in tag if not word in set(stopwords.words ('english'))]\n",
    "    tag = ' '.join(tag)\n",
    "    corpus1.append(tag)\n"
   ]
  },
  {
   "cell_type": "code",
   "execution_count": 140,
   "metadata": {},
   "outputs": [],
   "source": [
    "data_set['tags'] = corpus1"
   ]
  },
  {
   "cell_type": "code",
   "execution_count": 141,
   "metadata": {},
   "outputs": [
    {
     "data": {
      "text/html": [
       "<div>\n",
       "<style scoped>\n",
       "    .dataframe tbody tr th:only-of-type {\n",
       "        vertical-align: middle;\n",
       "    }\n",
       "\n",
       "    .dataframe tbody tr th {\n",
       "        vertical-align: top;\n",
       "    }\n",
       "\n",
       "    .dataframe thead th {\n",
       "        text-align: right;\n",
       "    }\n",
       "</style>\n",
       "<table border=\"1\" class=\"dataframe\">\n",
       "  <thead>\n",
       "    <tr style=\"text-align: right;\">\n",
       "      <th></th>\n",
       "      <th>title</th>\n",
       "      <th>tags</th>\n",
       "      <th>description</th>\n",
       "      <th>new_id</th>\n",
       "    </tr>\n",
       "  </thead>\n",
       "  <tbody>\n",
       "    <tr>\n",
       "      <th>0</th>\n",
       "      <td>WE WANT TO TALK ABOUT OUR MARRIAGE</td>\n",
       "      <td>shantel martin</td>\n",
       "      <td>SHANTELL'S CHANNEL - https://www.youtube.com/s...</td>\n",
       "      <td>People &amp; Blogs</td>\n",
       "    </tr>\n",
       "    <tr>\n",
       "      <th>1</th>\n",
       "      <td>The Trump Presidency: Last Week Tonight with J...</td>\n",
       "      <td>last week tonight trump presid last week tonig...</td>\n",
       "      <td>One year after the presidential election, John...</td>\n",
       "      <td>Entertainment</td>\n",
       "    </tr>\n",
       "    <tr>\n",
       "      <th>2</th>\n",
       "      <td>Racist Superman | Rudy Mancuso, King Bach &amp; Le...</td>\n",
       "      <td>racist superman rudi mancuso king bach racist ...</td>\n",
       "      <td>WATCH MY PREVIOUS VIDEO ▶ \\n\\nSUBSCRIBE ► http...</td>\n",
       "      <td>Comedy</td>\n",
       "    </tr>\n",
       "    <tr>\n",
       "      <th>3</th>\n",
       "      <td>Nickelback Lyrics: Real or Fake?</td>\n",
       "      <td>rhett link gmm good mythic morn rhett link goo...</td>\n",
       "      <td>Today we find out if Link is a Nickelback amat...</td>\n",
       "      <td>Entertainment</td>\n",
       "    </tr>\n",
       "    <tr>\n",
       "      <th>4</th>\n",
       "      <td>I Dare You: GOING BALD!?</td>\n",
       "      <td>ryan higa higatv nigahiga dare idi rhpc dare t...</td>\n",
       "      <td>I know it's been a while since we did this sho...</td>\n",
       "      <td>Entertainment</td>\n",
       "    </tr>\n",
       "  </tbody>\n",
       "</table>\n",
       "</div>"
      ],
      "text/plain": [
       "                                               title  \\\n",
       "0                 WE WANT TO TALK ABOUT OUR MARRIAGE   \n",
       "1  The Trump Presidency: Last Week Tonight with J...   \n",
       "2  Racist Superman | Rudy Mancuso, King Bach & Le...   \n",
       "3                   Nickelback Lyrics: Real or Fake?   \n",
       "4                           I Dare You: GOING BALD!?   \n",
       "\n",
       "                                                tags  \\\n",
       "0                                     shantel martin   \n",
       "1  last week tonight trump presid last week tonig...   \n",
       "2  racist superman rudi mancuso king bach racist ...   \n",
       "3  rhett link gmm good mythic morn rhett link goo...   \n",
       "4  ryan higa higatv nigahiga dare idi rhpc dare t...   \n",
       "\n",
       "                                         description          new_id  \n",
       "0  SHANTELL'S CHANNEL - https://www.youtube.com/s...  People & Blogs  \n",
       "1  One year after the presidential election, John...   Entertainment  \n",
       "2  WATCH MY PREVIOUS VIDEO ▶ \\n\\nSUBSCRIBE ► http...          Comedy  \n",
       "3  Today we find out if Link is a Nickelback amat...   Entertainment  \n",
       "4  I know it's been a while since we did this sho...   Entertainment  "
      ]
     },
     "execution_count": 141,
     "metadata": {},
     "output_type": "execute_result"
    }
   ],
   "source": [
    "data_set.head()"
   ]
  },
  {
   "cell_type": "code",
   "execution_count": 152,
   "metadata": {},
   "outputs": [
    {
     "name": "stdout",
     "output_type": "stream",
     "text": [
      "-- 64.60618090629578 seconds --\n"
     ]
    }
   ],
   "source": [
    "# clean title data\n",
    "\n",
    "import time\n",
    "start_time = time.time()\n",
    "corpus2 = []\n",
    "for i in range(0, len(data_set)):\n",
    "    tit = re.sub('[^a-zA-Z]', ' ', data_set['title'][i])\n",
    "    tit = tit.lower().split()\n",
    "    ps = PorterStemmer()\n",
    "    tit = [ps.stem(word) for word in tit if not word in set(stopwords.words ('english'))]\n",
    "    tit = ' '.join(tit)\n",
    "    corpus2.append(tit)\n",
    "print(\"-- %s seconds --\" % (time.time() - start_time))"
   ]
  },
  {
   "cell_type": "code",
   "execution_count": 154,
   "metadata": {},
   "outputs": [],
   "source": [
    "data_set['title'] = corpus2"
   ]
  },
  {
   "cell_type": "code",
   "execution_count": 163,
   "metadata": {},
   "outputs": [
    {
     "data": {
      "text/html": [
       "<div>\n",
       "<style scoped>\n",
       "    .dataframe tbody tr th:only-of-type {\n",
       "        vertical-align: middle;\n",
       "    }\n",
       "\n",
       "    .dataframe tbody tr th {\n",
       "        vertical-align: top;\n",
       "    }\n",
       "\n",
       "    .dataframe thead th {\n",
       "        text-align: right;\n",
       "    }\n",
       "</style>\n",
       "<table border=\"1\" class=\"dataframe\">\n",
       "  <thead>\n",
       "    <tr style=\"text-align: right;\">\n",
       "      <th></th>\n",
       "      <th>title</th>\n",
       "      <th>tags</th>\n",
       "      <th>description</th>\n",
       "      <th>new_id</th>\n",
       "    </tr>\n",
       "  </thead>\n",
       "  <tbody>\n",
       "    <tr>\n",
       "      <th>0</th>\n",
       "      <td>want talk marriag</td>\n",
       "      <td>shantel martin</td>\n",
       "      <td>SHANTELL'S CHANNEL - https://www.youtube.com/s...</td>\n",
       "      <td>People &amp; Blogs</td>\n",
       "    </tr>\n",
       "    <tr>\n",
       "      <th>1</th>\n",
       "      <td>trump presid last week tonight john oliv hbo</td>\n",
       "      <td>last week tonight trump presid last week tonig...</td>\n",
       "      <td>One year after the presidential election, John...</td>\n",
       "      <td>Entertainment</td>\n",
       "    </tr>\n",
       "    <tr>\n",
       "      <th>2</th>\n",
       "      <td>racist superman rudi mancuso king bach lele pon</td>\n",
       "      <td>racist superman rudi mancuso king bach racist ...</td>\n",
       "      <td>WATCH MY PREVIOUS VIDEO ▶ \\n\\nSUBSCRIBE ► http...</td>\n",
       "      <td>Comedy</td>\n",
       "    </tr>\n",
       "    <tr>\n",
       "      <th>3</th>\n",
       "      <td>nickelback lyric real fake</td>\n",
       "      <td>rhett link gmm good mythic morn rhett link goo...</td>\n",
       "      <td>Today we find out if Link is a Nickelback amat...</td>\n",
       "      <td>Entertainment</td>\n",
       "    </tr>\n",
       "    <tr>\n",
       "      <th>4</th>\n",
       "      <td>dare go bald</td>\n",
       "      <td>ryan higa higatv nigahiga dare idi rhpc dare t...</td>\n",
       "      <td>I know it's been a while since we did this sho...</td>\n",
       "      <td>Entertainment</td>\n",
       "    </tr>\n",
       "  </tbody>\n",
       "</table>\n",
       "</div>"
      ],
      "text/plain": [
       "                                             title  \\\n",
       "0                                want talk marriag   \n",
       "1     trump presid last week tonight john oliv hbo   \n",
       "2  racist superman rudi mancuso king bach lele pon   \n",
       "3                       nickelback lyric real fake   \n",
       "4                                     dare go bald   \n",
       "\n",
       "                                                tags  \\\n",
       "0                                     shantel martin   \n",
       "1  last week tonight trump presid last week tonig...   \n",
       "2  racist superman rudi mancuso king bach racist ...   \n",
       "3  rhett link gmm good mythic morn rhett link goo...   \n",
       "4  ryan higa higatv nigahiga dare idi rhpc dare t...   \n",
       "\n",
       "                                         description          new_id  \n",
       "0  SHANTELL'S CHANNEL - https://www.youtube.com/s...  People & Blogs  \n",
       "1  One year after the presidential election, John...   Entertainment  \n",
       "2  WATCH MY PREVIOUS VIDEO ▶ \\n\\nSUBSCRIBE ► http...          Comedy  \n",
       "3  Today we find out if Link is a Nickelback amat...   Entertainment  \n",
       "4  I know it's been a while since we did this sho...   Entertainment  "
      ]
     },
     "execution_count": 163,
     "metadata": {},
     "output_type": "execute_result"
    }
   ],
   "source": [
    "data_set.head()"
   ]
  },
  {
   "cell_type": "code",
   "execution_count": 168,
   "metadata": {},
   "outputs": [
    {
     "name": "stdout",
     "output_type": "stream",
     "text": [
      "-- 1224.6449739933014 seconds --\n"
     ]
    }
   ],
   "source": [
    "# clean description data, it is really time consuming \n",
    "\n",
    "start_time = time.time()\n",
    "corpus3 = []\n",
    "for i in range(0, len(data_set)):\n",
    "    des = re.sub('[^a-zA-Z]', ' ', str(data_set['description'][i]))\n",
    "    des = des.lower().split()\n",
    "    ps = PorterStemmer()\n",
    "    des = [ps.stem(word) for word in des if not word in set(stopwords.words ('english'))]\n",
    "    des = ' '.join(des)\n",
    "    corpus3.append(des)\n",
    "print(\"-- %s seconds --\" % (time.time() - start_time))"
   ]
  },
  {
   "cell_type": "code",
   "execution_count": 170,
   "metadata": {},
   "outputs": [],
   "source": [
    "data_set['description'] = corpus3"
   ]
  },
  {
   "cell_type": "code",
   "execution_count": 171,
   "metadata": {},
   "outputs": [
    {
     "data": {
      "text/html": [
       "<div>\n",
       "<style scoped>\n",
       "    .dataframe tbody tr th:only-of-type {\n",
       "        vertical-align: middle;\n",
       "    }\n",
       "\n",
       "    .dataframe tbody tr th {\n",
       "        vertical-align: top;\n",
       "    }\n",
       "\n",
       "    .dataframe thead th {\n",
       "        text-align: right;\n",
       "    }\n",
       "</style>\n",
       "<table border=\"1\" class=\"dataframe\">\n",
       "  <thead>\n",
       "    <tr style=\"text-align: right;\">\n",
       "      <th></th>\n",
       "      <th>title</th>\n",
       "      <th>tags</th>\n",
       "      <th>description</th>\n",
       "      <th>new_id</th>\n",
       "    </tr>\n",
       "  </thead>\n",
       "  <tbody>\n",
       "    <tr>\n",
       "      <th>0</th>\n",
       "      <td>want talk marriag</td>\n",
       "      <td>shantel martin</td>\n",
       "      <td>shantel channel http www youtub com shantellma...</td>\n",
       "      <td>People &amp; Blogs</td>\n",
       "    </tr>\n",
       "    <tr>\n",
       "      <th>1</th>\n",
       "      <td>trump presid last week tonight john oliv hbo</td>\n",
       "      <td>last week tonight trump presid last week tonig...</td>\n",
       "      <td>one year presidenti elect john oliv discuss le...</td>\n",
       "      <td>Entertainment</td>\n",
       "    </tr>\n",
       "    <tr>\n",
       "      <th>2</th>\n",
       "      <td>racist superman rudi mancuso king bach lele pon</td>\n",
       "      <td>racist superman rudi mancuso king bach racist ...</td>\n",
       "      <td>watch previou video n nsubscrib http www youtu...</td>\n",
       "      <td>Comedy</td>\n",
       "    </tr>\n",
       "    <tr>\n",
       "      <th>3</th>\n",
       "      <td>nickelback lyric real fake</td>\n",
       "      <td>rhett link gmm good mythic morn rhett link goo...</td>\n",
       "      <td>today find link nickelback amateur secret nick...</td>\n",
       "      <td>Entertainment</td>\n",
       "    </tr>\n",
       "    <tr>\n",
       "      <th>4</th>\n",
       "      <td>dare go bald</td>\n",
       "      <td>ryan higa higatv nigahiga dare idi rhpc dare t...</td>\n",
       "      <td>know sinc show back might best episod yet nlea...</td>\n",
       "      <td>Entertainment</td>\n",
       "    </tr>\n",
       "  </tbody>\n",
       "</table>\n",
       "</div>"
      ],
      "text/plain": [
       "                                             title  \\\n",
       "0                                want talk marriag   \n",
       "1     trump presid last week tonight john oliv hbo   \n",
       "2  racist superman rudi mancuso king bach lele pon   \n",
       "3                       nickelback lyric real fake   \n",
       "4                                     dare go bald   \n",
       "\n",
       "                                                tags  \\\n",
       "0                                     shantel martin   \n",
       "1  last week tonight trump presid last week tonig...   \n",
       "2  racist superman rudi mancuso king bach racist ...   \n",
       "3  rhett link gmm good mythic morn rhett link goo...   \n",
       "4  ryan higa higatv nigahiga dare idi rhpc dare t...   \n",
       "\n",
       "                                         description          new_id  \n",
       "0  shantel channel http www youtub com shantellma...  People & Blogs  \n",
       "1  one year presidenti elect john oliv discuss le...   Entertainment  \n",
       "2  watch previou video n nsubscrib http www youtu...          Comedy  \n",
       "3  today find link nickelback amateur secret nick...   Entertainment  \n",
       "4  know sinc show back might best episod yet nlea...   Entertainment  "
      ]
     },
     "execution_count": 171,
     "metadata": {},
     "output_type": "execute_result"
    }
   ],
   "source": [
    "data_set.head()"
   ]
  },
  {
   "cell_type": "code",
   "execution_count": 9,
   "metadata": {},
   "outputs": [],
   "source": [
    "# Output the after-cleaned data to csv\n",
    "\n",
    "data_set.to_csv(r'/Users/chenshunchao/Downloads/youtube-new/US_cleaned.csv', index = False)"
   ]
  },
  {
   "cell_type": "code",
   "execution_count": 173,
   "metadata": {},
   "outputs": [
    {
     "name": "stdout",
     "output_type": "stream",
     "text": [
      "<class 'pandas.core.frame.DataFrame'>\n",
      "RangeIndex: 40949 entries, 0 to 40948\n",
      "Data columns (total 4 columns):\n",
      "title          40949 non-null object\n",
      "tags           40949 non-null object\n",
      "description    40949 non-null object\n",
      "new_id         40949 non-null object\n",
      "dtypes: object(4)\n",
      "memory usage: 1.2+ MB\n"
     ]
    }
   ],
   "source": [
    "data_set.info()"
   ]
  },
  {
   "cell_type": "code",
   "execution_count": 174,
   "metadata": {},
   "outputs": [
    {
     "data": {
      "text/plain": [
       "title          0\n",
       "tags           0\n",
       "description    0\n",
       "new_id         0\n",
       "dtype: int64"
      ]
     },
     "execution_count": 174,
     "metadata": {},
     "output_type": "execute_result"
    }
   ],
   "source": [
    "data_set.isnull().sum()"
   ]
  },
  {
   "cell_type": "code",
   "execution_count": 179,
   "metadata": {},
   "outputs": [
    {
     "data": {
      "text/plain": [
       "(40949, 4)"
      ]
     },
     "execution_count": 179,
     "metadata": {},
     "output_type": "execute_result"
    }
   ],
   "source": [
    "data_set.shape"
   ]
  },
  {
   "cell_type": "code",
   "execution_count": 1,
   "metadata": {},
   "outputs": [],
   "source": [
    "import numpy as np\n",
    "import pandas as pd\n",
    "import matplotlib.pyplot as plt"
   ]
  },
  {
   "cell_type": "code",
   "execution_count": 3,
   "metadata": {},
   "outputs": [],
   "source": [
    "data_set = pd.read_csv('/Users/chenshunchao/Downloads/youtube-new/US_cleaned.csv', index_col = 0)"
   ]
  },
  {
   "cell_type": "code",
   "execution_count": 7,
   "metadata": {},
   "outputs": [],
   "source": [
    "# add views to the csv for checking the category trends \n",
    "data_set['Views'] = data['views']"
   ]
  },
  {
   "cell_type": "code",
   "execution_count": 8,
   "metadata": {},
   "outputs": [
    {
     "data": {
      "text/html": [
       "<div>\n",
       "<style scoped>\n",
       "    .dataframe tbody tr th:only-of-type {\n",
       "        vertical-align: middle;\n",
       "    }\n",
       "\n",
       "    .dataframe tbody tr th {\n",
       "        vertical-align: top;\n",
       "    }\n",
       "\n",
       "    .dataframe thead th {\n",
       "        text-align: right;\n",
       "    }\n",
       "</style>\n",
       "<table border=\"1\" class=\"dataframe\">\n",
       "  <thead>\n",
       "    <tr style=\"text-align: right;\">\n",
       "      <th></th>\n",
       "      <th>title</th>\n",
       "      <th>tags</th>\n",
       "      <th>description</th>\n",
       "      <th>new_id</th>\n",
       "      <th>Views</th>\n",
       "    </tr>\n",
       "    <tr>\n",
       "      <th>Unnamed: 0</th>\n",
       "      <th></th>\n",
       "      <th></th>\n",
       "      <th></th>\n",
       "      <th></th>\n",
       "      <th></th>\n",
       "    </tr>\n",
       "  </thead>\n",
       "  <tbody>\n",
       "    <tr>\n",
       "      <td>0</td>\n",
       "      <td>want talk marriag</td>\n",
       "      <td>shantel martin</td>\n",
       "      <td>shantel channel http www youtub com shantellma...</td>\n",
       "      <td>People &amp; Blogs</td>\n",
       "      <td>748374</td>\n",
       "    </tr>\n",
       "    <tr>\n",
       "      <td>1</td>\n",
       "      <td>trump presid last week tonight john oliv hbo</td>\n",
       "      <td>last week tonight trump presid last week tonig...</td>\n",
       "      <td>one year presidenti elect john oliv discuss le...</td>\n",
       "      <td>Entertainment</td>\n",
       "      <td>2418783</td>\n",
       "    </tr>\n",
       "    <tr>\n",
       "      <td>2</td>\n",
       "      <td>racist superman rudi mancuso king bach lele pon</td>\n",
       "      <td>racist superman rudi mancuso king bach racist ...</td>\n",
       "      <td>watch previou video n nsubscrib http www youtu...</td>\n",
       "      <td>Comedy</td>\n",
       "      <td>3191434</td>\n",
       "    </tr>\n",
       "    <tr>\n",
       "      <td>3</td>\n",
       "      <td>nickelback lyric real fake</td>\n",
       "      <td>rhett link gmm good mythic morn rhett link goo...</td>\n",
       "      <td>today find link nickelback amateur secret nick...</td>\n",
       "      <td>Entertainment</td>\n",
       "      <td>343168</td>\n",
       "    </tr>\n",
       "    <tr>\n",
       "      <td>4</td>\n",
       "      <td>dare go bald</td>\n",
       "      <td>ryan higa higatv nigahiga dare idi rhpc dare t...</td>\n",
       "      <td>know sinc show back might best episod yet nlea...</td>\n",
       "      <td>Entertainment</td>\n",
       "      <td>2095731</td>\n",
       "    </tr>\n",
       "  </tbody>\n",
       "</table>\n",
       "</div>"
      ],
      "text/plain": [
       "                                                      title  \\\n",
       "Unnamed: 0                                                    \n",
       "0                                         want talk marriag   \n",
       "1              trump presid last week tonight john oliv hbo   \n",
       "2           racist superman rudi mancuso king bach lele pon   \n",
       "3                                nickelback lyric real fake   \n",
       "4                                              dare go bald   \n",
       "\n",
       "                                                         tags  \\\n",
       "Unnamed: 0                                                      \n",
       "0                                              shantel martin   \n",
       "1           last week tonight trump presid last week tonig...   \n",
       "2           racist superman rudi mancuso king bach racist ...   \n",
       "3           rhett link gmm good mythic morn rhett link goo...   \n",
       "4           ryan higa higatv nigahiga dare idi rhpc dare t...   \n",
       "\n",
       "                                                  description          new_id  \\\n",
       "Unnamed: 0                                                                      \n",
       "0           shantel channel http www youtub com shantellma...  People & Blogs   \n",
       "1           one year presidenti elect john oliv discuss le...   Entertainment   \n",
       "2           watch previou video n nsubscrib http www youtu...          Comedy   \n",
       "3           today find link nickelback amateur secret nick...   Entertainment   \n",
       "4           know sinc show back might best episod yet nlea...   Entertainment   \n",
       "\n",
       "              Views  \n",
       "Unnamed: 0           \n",
       "0            748374  \n",
       "1           2418783  \n",
       "2           3191434  \n",
       "3            343168  \n",
       "4           2095731  "
      ]
     },
     "execution_count": 8,
     "metadata": {},
     "output_type": "execute_result"
    }
   ],
   "source": [
    "data_set.head()"
   ]
  },
  {
   "cell_type": "code",
   "execution_count": 8,
   "metadata": {},
   "outputs": [],
   "source": [
    "hist_d = data_set.groupby(['new_id'])['Views'].sum()"
   ]
  },
  {
   "cell_type": "code",
   "execution_count": 9,
   "metadata": {},
   "outputs": [],
   "source": [
    "hist_d1 = hist_d.to_frame()"
   ]
  },
  {
   "cell_type": "code",
   "execution_count": 10,
   "metadata": {},
   "outputs": [],
   "source": [
    "hist_d2 = hist_d1.sort_values(by=['Views'])"
   ]
  },
  {
   "cell_type": "code",
   "execution_count": 11,
   "metadata": {},
   "outputs": [
    {
     "data": {
      "text/plain": [
       "<matplotlib.axes._subplots.AxesSubplot at 0x1233edc50>"
      ]
     },
     "execution_count": 11,
     "metadata": {},
     "output_type": "execute_result"
    },
    {
     "data": {
      "image/png": "[encoded data removed]",
      "text/plain": [
       "<Figure size 432x288 with 1 Axes>"
      ]
     },
     "metadata": {},
     "output_type": "display_data"
    }
   ],
   "source": [
    "hist_d2.plot.bar()"
   ]
  },
  {
   "cell_type": "code",
   "execution_count": 12,
   "metadata": {},
   "outputs": [],
   "source": [
    "# hist_d2 = hist_d1.reset_index()"
   ]
  },
  {
   "cell_type": "code",
   "execution_count": 40,
   "metadata": {},
   "outputs": [],
   "source": [
    "# Turn the id back to number for further classification \n",
    "# data_set['new_id'] = data['category_id']"
   ]
  },
  {
   "cell_type": "code",
   "execution_count": 9,
   "metadata": {},
   "outputs": [
    {
     "data": {
      "text/html": [
       "<div>\n",
       "<style scoped>\n",
       "    .dataframe tbody tr th:only-of-type {\n",
       "        vertical-align: middle;\n",
       "    }\n",
       "\n",
       "    .dataframe tbody tr th {\n",
       "        vertical-align: top;\n",
       "    }\n",
       "\n",
       "    .dataframe thead th {\n",
       "        text-align: right;\n",
       "    }\n",
       "</style>\n",
       "<table border=\"1\" class=\"dataframe\">\n",
       "  <thead>\n",
       "    <tr style=\"text-align: right;\">\n",
       "      <th></th>\n",
       "      <th>title</th>\n",
       "      <th>tags</th>\n",
       "      <th>description</th>\n",
       "      <th>new_id</th>\n",
       "      <th>Views</th>\n",
       "    </tr>\n",
       "    <tr>\n",
       "      <th>Unnamed: 0</th>\n",
       "      <th></th>\n",
       "      <th></th>\n",
       "      <th></th>\n",
       "      <th></th>\n",
       "      <th></th>\n",
       "    </tr>\n",
       "  </thead>\n",
       "  <tbody>\n",
       "    <tr>\n",
       "      <td>0</td>\n",
       "      <td>want talk marriag</td>\n",
       "      <td>shantel martin</td>\n",
       "      <td>shantel channel http www youtub com shantellma...</td>\n",
       "      <td>People &amp; Blogs</td>\n",
       "      <td>748374</td>\n",
       "    </tr>\n",
       "    <tr>\n",
       "      <td>1</td>\n",
       "      <td>trump presid last week tonight john oliv hbo</td>\n",
       "      <td>last week tonight trump presid last week tonig...</td>\n",
       "      <td>one year presidenti elect john oliv discuss le...</td>\n",
       "      <td>Entertainment</td>\n",
       "      <td>2418783</td>\n",
       "    </tr>\n",
       "    <tr>\n",
       "      <td>2</td>\n",
       "      <td>racist superman rudi mancuso king bach lele pon</td>\n",
       "      <td>racist superman rudi mancuso king bach racist ...</td>\n",
       "      <td>watch previou video n nsubscrib http www youtu...</td>\n",
       "      <td>Comedy</td>\n",
       "      <td>3191434</td>\n",
       "    </tr>\n",
       "    <tr>\n",
       "      <td>3</td>\n",
       "      <td>nickelback lyric real fake</td>\n",
       "      <td>rhett link gmm good mythic morn rhett link goo...</td>\n",
       "      <td>today find link nickelback amateur secret nick...</td>\n",
       "      <td>Entertainment</td>\n",
       "      <td>343168</td>\n",
       "    </tr>\n",
       "    <tr>\n",
       "      <td>4</td>\n",
       "      <td>dare go bald</td>\n",
       "      <td>ryan higa higatv nigahiga dare idi rhpc dare t...</td>\n",
       "      <td>know sinc show back might best episod yet nlea...</td>\n",
       "      <td>Entertainment</td>\n",
       "      <td>2095731</td>\n",
       "    </tr>\n",
       "  </tbody>\n",
       "</table>\n",
       "</div>"
      ],
      "text/plain": [
       "                                                      title  \\\n",
       "Unnamed: 0                                                    \n",
       "0                                         want talk marriag   \n",
       "1              trump presid last week tonight john oliv hbo   \n",
       "2           racist superman rudi mancuso king bach lele pon   \n",
       "3                                nickelback lyric real fake   \n",
       "4                                              dare go bald   \n",
       "\n",
       "                                                         tags  \\\n",
       "Unnamed: 0                                                      \n",
       "0                                              shantel martin   \n",
       "1           last week tonight trump presid last week tonig...   \n",
       "2           racist superman rudi mancuso king bach racist ...   \n",
       "3           rhett link gmm good mythic morn rhett link goo...   \n",
       "4           ryan higa higatv nigahiga dare idi rhpc dare t...   \n",
       "\n",
       "                                                  description          new_id  \\\n",
       "Unnamed: 0                                                                      \n",
       "0           shantel channel http www youtub com shantellma...  People & Blogs   \n",
       "1           one year presidenti elect john oliv discuss le...   Entertainment   \n",
       "2           watch previou video n nsubscrib http www youtu...          Comedy   \n",
       "3           today find link nickelback amateur secret nick...   Entertainment   \n",
       "4           know sinc show back might best episod yet nlea...   Entertainment   \n",
       "\n",
       "              Views  \n",
       "Unnamed: 0           \n",
       "0            748374  \n",
       "1           2418783  \n",
       "2           3191434  \n",
       "3            343168  \n",
       "4           2095731  "
      ]
     },
     "execution_count": 9,
     "metadata": {},
     "output_type": "execute_result"
    }
   ],
   "source": [
    "data_set.head()"
   ]
  },
  {
   "cell_type": "code",
   "execution_count": 10,
   "metadata": {},
   "outputs": [],
   "source": [
    "# combine mutiple columns together to make a corpus\n",
    "data_set['Combined_Corpus'] = data_set['title'] + data_set ['tags'] + data_set ['description']"
   ]
  },
  {
   "cell_type": "code",
   "execution_count": 11,
   "metadata": {},
   "outputs": [
    {
     "data": {
      "text/plain": [
       "array(['want talk marriagshantel martinshantel channel http www youtub com shantellmartin ncandic http www lovebilli com n nfilm video k http amzn stdnrz nwith len http amzn rujomd nbig drone http tinyurl com h ft oy nother gear http amzn glx nsoni camera http amzn nobmnv nold camera http amzn cqbt nmain len http amzn od gbj nbig soni camera http amzn nrdjro nbig canon camera http tinyurl com jn q vz nbendi tripod thing http tinyurl com gw ylz nyou need bendi tripod http tinyurl com j mzzua nwide len http tinyurl com jkfcm nmore expens wide len http tinyurl com zrdgtou nsmall camera http tinyurl com hrrzhor nmicrophon http tinyurl com zefm jy nother microphon http tinyurl com jxgpj nold drone cheaper still great http tinyurl com zcfmnmd n nfollow http instagram com caseyneistat non http www facebook com cneistat non http twitter com caseyneistat n namaz intro song http soundcloud com discoteeth n nad disclosur ad sell promot anyth samsung produc shantel video galaxi project initi enabl creator like shantel make project might otherwis opportun make hope clear ask comment answer specif',\n",
       "       'trump presid last week tonight john oliv hbolast week tonight trump presid last week tonight donald trump john oliv trump donald trumpone year presidenti elect john oliv discuss learn far enlist cathet cowboy teach donald trump n nconnect last week tonight onlin n nsubscrib last week tonight youtub channel almost news almost happen www youtub com user lastweektonight n nfind last week tonight facebook like mom would http facebook com lastweektonight n nfollow us twitter news joke joke news http twitter com lastweektonight n nvisit offici site stuff http www hbo com lastweektonight',\n",
       "       'racist superman rudi mancuso king bach lele ponracist superman rudi mancuso king bach racist superman love rudi mancuso poo bear black white offici music video iphon x pineappl lelepon hannahstock rudymancuso inanna anwar sarki shot shotsstudio alesso anitta brazil get driver licens lele ponwatch previou video n nsubscrib http www youtub com channel uc jkxpfnbhldjqh ir fsiq sub confirm n nthank watch like subscrib video n nfind ninstagram http instagram com rudymancuso ntwitter http twitter com rudymancuso nfacebook http facebook com rudymancuso n ncast nrudi mancuso http youtub com c rudymancuso nlele pon http youtub com c lelepon nking bach http youtub com user bachelorspadtv n nvideo effect ncaleb natal http instagram com calebnatal n npa npaulina gregori n n nshot studio channel nalesso http youtub com c alesso nanitta http youtub com c anitta nanwar jibawi http youtub com c anwar nawkward puppet http youtub com c awkwardpuppet nhannah stock http youtub com c hannahstock ninanna sarki http youtub com c inanna nlele pon http youtub com c lelepon nmaejor http youtub com c maejor nmike tyson http youtub com c miketyson nrudi mancuso http youtub com c rudymancuso nshot studio http youtub com c shot n n rudi n rudymancuso'],\n",
       "      dtype=object)"
      ]
     },
     "execution_count": 11,
     "metadata": {},
     "output_type": "execute_result"
    }
   ],
   "source": [
    "# check if it works\n",
    "data_x = data_set['Combined_Corpus'].values.ravel()\n",
    "data_x[0:3]"
   ]
  },
  {
   "cell_type": "code",
   "execution_count": 12,
   "metadata": {},
   "outputs": [
    {
     "name": "stdout",
     "output_type": "stream",
     "text": [
      "type of dtm: <class 'scipy.sparse.csr.csr_matrix'>\n",
      "size of tfidf matrix: (40949, 68116)\n"
     ]
    }
   ],
   "source": [
    "\n",
    "from sklearn.feature_extraction.text import TfidfVectorizer\n",
    "\n",
    "# initialize the TfidfVectorizer \n",
    "\n",
    "tfidf_vect = TfidfVectorizer() \n",
    "\n",
    "\n",
    "# generate tfidf matrix\n",
    "#Notice: 1. convert numpy.ndarray to 1-dimension, flatten() doesn't work; 2. encode it into binary\n",
    "dtm= tfidf_vect.fit_transform(data_set['Combined_Corpus'].values.ravel().astype('U'))\n",
    "\n",
    "print(\"type of dtm:\", type(dtm))\n",
    "print(\"size of tfidf matrix:\", dtm.shape)\n",
    "\n",
    "\n"
   ]
  },
  {
   "cell_type": "code",
   "execution_count": 13,
   "metadata": {},
   "outputs": [
    {
     "name": "stdout",
     "output_type": "stream",
     "text": [
      "total number of words: 68116\n",
      "type of vocabulary: <class 'dict'>\n",
      "index of word 'call' in vocabulary: 7451\n"
     ]
    }
   ],
   "source": [
    "# the number of words in the vocabulary\n",
    "print(\"total number of words:\", len(tfidf_vect.vocabulary_))\n",
    "\n",
    "print(\"type of vocabulary:\", \\\n",
    "      type(tfidf_vect.vocabulary_))\n",
    "print(\"index of word 'call' in vocabulary:\", \\\n",
    "      tfidf_vect.vocabulary_['call'])\n"
   ]
  },
  {
   "cell_type": "markdown",
   "metadata": {},
   "source": [
    "## Model 1: Naive Bayes"
   ]
  },
  {
   "cell_type": "code",
   "execution_count": 17,
   "metadata": {},
   "outputs": [],
   "source": [
    "# use MultinomialNB algorithm\n",
    "from sklearn.naive_bayes import MultinomialNB\n",
    "\n",
    "# import method for split train/test data set\n",
    "from sklearn.model_selection import train_test_split\n",
    "\n",
    "# import method to calculate metrics, support?\n",
    "from sklearn.metrics import precision_recall_fscore_support\n",
    "from sklearn.metrics import classification_report\n",
    "\n",
    "# split dataset into train (70%) and test sets (30%)\n",
    "X_train, X_test, y_train, y_test = train_test_split(dtm, data_set[\"new_id\"], test_size=0.3, random_state=0)\n",
    "# X_train\n",
    "# X_test\n",
    "# y_train\n",
    "# y_test\n"
   ]
  },
  {
   "cell_type": "code",
   "execution_count": 67,
   "metadata": {},
   "outputs": [
    {
     "data": {
      "text/plain": [
       "(12285,)"
      ]
     },
     "execution_count": 67,
     "metadata": {},
     "output_type": "execute_result"
    }
   ],
   "source": [
    "y_test.shape"
   ]
  },
  {
   "cell_type": "code",
   "execution_count": 33,
   "metadata": {},
   "outputs": [
    {
     "data": {
      "text/plain": [
       "Unnamed: 0\n",
       "8319     Film & Animation\n",
       "8679                Music\n",
       "30645              Comedy\n",
       "Name: new_id, dtype: object"
      ]
     },
     "execution_count": 33,
     "metadata": {},
     "output_type": "execute_result"
    }
   ],
   "source": [
    "start_time = time.time()\n",
    "\n",
    "# train a multinomial naive Bayes model using the testing data\n",
    "# clf = MultinomialNB().fit(X_sm, y_sm)\n",
    "clf = MultinomialNB().fit(X_train, y_train)\n",
    "# predict the news group for the test dataset\n",
    "predicted=clf.predict(X_test)\n",
    "\n",
    "print(\"-- %s seconds --\" % (time.time() - start_time))\n",
    "# check a few samples\n",
    "predicted[0:3]\n",
    "y_test[0:3]"
   ]
  },
  {
   "cell_type": "code",
   "execution_count": 34,
   "metadata": {
    "scrolled": true
   },
   "outputs": [
    {
     "name": "stderr",
     "output_type": "stream",
     "text": [
      "/Users/chenshunchao/opt/anaconda3/lib/python3.7/site-packages/sklearn/metrics/classification.py:1437: UndefinedMetricWarning: Precision and F-score are ill-defined and being set to 0.0 in labels with no predicted samples.\n",
      "  'precision', 'predicted', average, warn_for)\n"
     ]
    },
    {
     "name": "stdout",
     "output_type": "stream",
     "text": [
      "labels:  ['Autos & Vehicles', 'Comedy', 'Education', 'Entertainment', 'Film & Animation', 'Gaming', 'Howto & Style', 'Music', 'News & Politics', 'Nonprofits & Activism', 'People & Blogs', 'Pets & Animals', 'Science & Technology', 'Shows', 'Sports', 'Travel & Events']\n",
      "precision:  [1.         0.98887653 0.98901099 0.57131362 0.99280576 1.\n",
      " 0.92947702 0.96472393 0.9959596  0.         0.96314908 0.95555556\n",
      " 0.93656716 0.         0.97962649 1.        ]\n",
      "recall:  [0.04545455 0.82697674 0.6805293  0.9881698  0.58392102 0.18297872\n",
      " 0.93317422 0.96818881 0.66263441 0.         0.60526316 0.43143813\n",
      " 0.70013947 0.         0.84233577 0.14414414]\n",
      "f-score:  [0.08695652 0.90070922 0.806271   0.72402804 0.73534636 0.30935252\n",
      " 0.93132195 0.96645327 0.79580307 0.         0.74337427 0.59447005\n",
      " 0.80127694 0.         0.90580848 0.2519685 ]\n",
      "support:  [ 110 1075  529 2874  709  235 1257 1949  744   22  950  299  717   19\n",
      "  685  111]\n",
      "                       precision    recall  f1-score   support\n",
      "\n",
      "     Autos & Vehicles       1.00      0.05      0.09       110\n",
      "               Comedy       0.99      0.83      0.90      1075\n",
      "            Education       0.99      0.68      0.81       529\n",
      "        Entertainment       0.57      0.99      0.72      2874\n",
      "     Film & Animation       0.99      0.58      0.74       709\n",
      "               Gaming       1.00      0.18      0.31       235\n",
      "        Howto & Style       0.93      0.93      0.93      1257\n",
      "                Music       0.96      0.97      0.97      1949\n",
      "      News & Politics       1.00      0.66      0.80       744\n",
      "Nonprofits & Activism       0.00      0.00      0.00        22\n",
      "       People & Blogs       0.96      0.61      0.74       950\n",
      "       Pets & Animals       0.96      0.43      0.59       299\n",
      " Science & Technology       0.94      0.70      0.80       717\n",
      "                Shows       0.00      0.00      0.00        19\n",
      "               Sports       0.98      0.84      0.91       685\n",
      "      Travel & Events       1.00      0.14      0.25       111\n",
      "\n",
      "             accuracy                           0.81     12285\n",
      "            macro avg       0.83      0.54      0.60     12285\n",
      "         weighted avg       0.87      0.81      0.80     12285\n",
      "\n"
     ]
    }
   ],
   "source": [
    "# Performance evaluation: \n",
    "# precision, recall, f1-score\n",
    "\n",
    "# get the list of unique labels\n",
    "labels=sorted(data_set[\"new_id\"].unique())\n",
    "\n",
    "# calculate performance metrics. \n",
    "# Support is the number of occurrences of each label\n",
    "\n",
    "precision, recall, fscore, support=precision_recall_fscore_support(y_test, predicted, labels=labels)\n",
    "\n",
    "print(\"labels: \", labels)\n",
    "print(\"precision: \", precision)\n",
    "print(\"recall: \", recall)\n",
    "print(\"f-score: \", fscore)\n",
    "print(\"support: \", support)\n",
    "\n",
    "# get all performance metrics,y_test is ground truth \n",
    "print(classification_report (y_test, predicted, target_names=labels))"
   ]
  },
  {
   "cell_type": "code",
   "execution_count": 54,
   "metadata": {},
   "outputs": [
    {
     "data": {
      "text/plain": [
       "Entertainment            9964\n",
       "Music                    6472\n",
       "Howto & Style            4146\n",
       "Comedy                   3457\n",
       "People & Blogs           3210\n",
       "News & Politics          2487\n",
       "Science & Technology     2401\n",
       "Film & Animation         2345\n",
       "Sports                   2174\n",
       "Education                1656\n",
       "Pets & Animals            920\n",
       "Gaming                    817\n",
       "Travel & Events           402\n",
       "Autos & Vehicles          384\n",
       "Nonprofits & Activism      57\n",
       "Shows                      57\n",
       "Name: new_id, dtype: int64"
      ]
     },
     "execution_count": 54,
     "metadata": {},
     "output_type": "execute_result"
    }
   ],
   "source": [
    "# check how imbalance the data is\n",
    "\n",
    "data_set[\"new_id\"].value_counts()"
   ]
  },
  {
   "cell_type": "code",
   "execution_count": 56,
   "metadata": {},
   "outputs": [
    {
     "data": {
      "text/plain": [
       "numpy.ndarray"
      ]
     },
     "execution_count": 56,
     "metadata": {},
     "output_type": "execute_result"
    }
   ],
   "source": [
    "data_set[\"new_id\"].unique()"
   ]
  },
  {
   "cell_type": "markdown",
   "metadata": {},
   "source": [
    "### Model 2 ANN "
   ]
  },
  {
   "cell_type": "code",
   "execution_count": 16,
   "metadata": {},
   "outputs": [
    {
     "name": "stderr",
     "output_type": "stream",
     "text": [
      "Using TensorFlow backend.\n"
     ]
    }
   ],
   "source": [
    "import pickle\n",
    "from keras.preprocessing.text import Tokenizer\n",
    "from keras.models import Sequential, Model\n",
    "from keras.layers import Activation, Dense, Dropout\n",
    "from sklearn.preprocessing import LabelBinarizer\n",
    "import sklearn.datasets as skds\n",
    "from pathlib import Path\n",
    "import matplotlib.pyplot as plt\n",
    "import itertools\n",
    "from sklearn.metrics import confusion_matrix\n",
    "# For reproducibility\n",
    "np.random.seed(666)"
   ]
  },
  {
   "cell_type": "code",
   "execution_count": 20,
   "metadata": {},
   "outputs": [
    {
     "name": "stdout",
     "output_type": "stream",
     "text": [
      "(35719, 68116) (35719,)\n"
     ]
    }
   ],
   "source": [
    "# tackle imbalance by using SMOTE (Synthetic Minority Over-sampling Technique)\n",
    "# The outcome is unfourtunely not good\n",
    "\n",
    "from imblearn.over_sampling import SMOTE\n",
    "\n",
    "smote = SMOTE('minority')\n",
    "\n",
    "X_sm, y_sm = smote.fit_sample(X_train, y_train)\n",
    "print(X_sm.shape, y_sm.shape)"
   ]
  },
  {
   "cell_type": "code",
   "execution_count": 43,
   "metadata": {},
   "outputs": [],
   "source": [
    "# set up interactive shell\n",
    "from IPython.core.interactiveshell import InteractiveShell\n",
    "InteractiveShell.ast_node_interactivity = \"all\""
   ]
  },
  {
   "cell_type": "code",
   "execution_count": 37,
   "metadata": {},
   "outputs": [
    {
     "name": "stdout",
     "output_type": "stream",
     "text": [
      "Model: \"sequential_2\"\n",
      "_________________________________________________________________\n",
      "Layer (type)                 Output Shape              Param #   \n",
      "=================================================================\n",
      "dense_4 (Dense)              (None, 512)               34875904  \n",
      "_________________________________________________________________\n",
      "activation_4 (Activation)    (None, 512)               0         \n",
      "_________________________________________________________________\n",
      "dropout_3 (Dropout)          (None, 512)               0         \n",
      "_________________________________________________________________\n",
      "dense_5 (Dense)              (None, 512)               262656    \n",
      "_________________________________________________________________\n",
      "activation_5 (Activation)    (None, 512)               0         \n",
      "_________________________________________________________________\n",
      "dropout_4 (Dropout)          (None, 512)               0         \n",
      "_________________________________________________________________\n",
      "dense_6 (Dense)              (None, 16)                8208      \n",
      "_________________________________________________________________\n",
      "activation_6 (Activation)    (None, 16)                0         \n",
      "=================================================================\n",
      "Total params: 35,146,768\n",
      "Trainable params: 35,146,768\n",
      "Non-trainable params: 0\n",
      "_________________________________________________________________\n"
     ]
    }
   ],
   "source": [
    "\n",
    "# 16 different categories\n",
    "num_labels = 16\n",
    "vocab_size = 68116\n",
    "batch_size = 100\n",
    "num_epochs = 30\n",
    "\n",
    "\n",
    "\n",
    "#build a basic model\n",
    "model = Sequential()\n",
    "model.add(Dense(512, input_shape=(vocab_size,)))\n",
    "model.add(Activation('relu'))\n",
    "model.add(Dropout(0.3))\n",
    "model.add(Dense(512))\n",
    "model.add(Activation('relu'))\n",
    "model.add(Dropout(0.3))\n",
    "model.add(Dense(num_labels))\n",
    "model.add(Activation('softmax'))\n",
    "model.summary()\n",
    "\n",
    "model.compile(loss='categorical_crossentropy',\n",
    "              optimizer='adam',\n",
    "              metrics=['accuracy'])"
   ]
  },
  {
   "cell_type": "code",
   "execution_count": 49,
   "metadata": {},
   "outputs": [
    {
     "data": {
      "text/plain": [
       "LabelBinarizer(neg_label=0, pos_label=1, sparse_output=False)"
      ]
     },
     "execution_count": 49,
     "metadata": {},
     "output_type": "execute_result"
    },
    {
     "data": {
      "text/plain": [
       "array([3, 3, 7, ..., 7, 7, 7])"
      ]
     },
     "execution_count": 49,
     "metadata": {},
     "output_type": "execute_result"
    },
    {
     "data": {
      "text/plain": [
       "array([4, 7, 1, ..., 8, 7, 7])"
      ]
     },
     "execution_count": 49,
     "metadata": {},
     "output_type": "execute_result"
    }
   ],
   "source": [
    "# encode label to one-hot \n",
    "from sklearn.utils import class_weight\n",
    "\n",
    "encoder = LabelBinarizer()\n",
    "encoder.fit(y_train)\n",
    "y_train_code = encoder.transform(y_train)\n",
    "y_test_code = encoder.transform(y_test)\n",
    "\n",
    "\n",
    "y_train_labels = np.argmax(y_train_code, axis =1)\n",
    "y_train_labels\n",
    "\n",
    "y_test_labels = np.argmax(y_test_code, axis =1)\n",
    "y_test_labels"
   ]
  },
  {
   "cell_type": "code",
   "execution_count": 46,
   "metadata": {},
   "outputs": [
    {
     "name": "stdout",
     "output_type": "stream",
     "text": [
      "Train on 22931 samples, validate on 5733 samples\n",
      "Epoch 1/10\n",
      " - 132s - loss: 0.7368 - accuracy: 0.7931 - val_loss: 0.1228 - val_accuracy: 0.9691\n",
      "Epoch 2/10\n",
      " - 135s - loss: 0.0617 - accuracy: 0.9819 - val_loss: 0.0881 - val_accuracy: 0.9771\n",
      "Epoch 3/10\n",
      " - 144s - loss: 0.0440 - accuracy: 0.9863 - val_loss: 0.0914 - val_accuracy: 0.9773\n",
      "Epoch 4/10\n",
      " - 118s - loss: 0.0406 - accuracy: 0.9866 - val_loss: 0.0865 - val_accuracy: 0.9782\n",
      "Epoch 5/10\n",
      " - 128s - loss: 0.0393 - accuracy: 0.9862 - val_loss: 0.0907 - val_accuracy: 0.9770\n",
      "Epoch 6/10\n",
      " - 124s - loss: 0.0393 - accuracy: 0.9873 - val_loss: 0.0907 - val_accuracy: 0.9773\n",
      "Epoch 7/10\n",
      " - 114s - loss: 0.0387 - accuracy: 0.9868 - val_loss: 0.0911 - val_accuracy: 0.9780\n",
      "Epoch 8/10\n",
      " - 132s - loss: 0.0380 - accuracy: 0.9867 - val_loss: 0.0931 - val_accuracy: 0.9777\n",
      "Epoch 9/10\n",
      " - 134s - loss: 0.0381 - accuracy: 0.9868 - val_loss: 0.0933 - val_accuracy: 0.9773\n",
      "Epoch 10/10\n",
      " - 130s - loss: 0.0380 - accuracy: 0.9871 - val_loss: 0.0920 - val_accuracy: 0.9778\n"
     ]
    }
   ],
   "source": [
    "\n",
    "num_epochs =10\n",
    "batch_size = 128\n",
    "history = model.fit(X_train, y_train_labels,\n",
    "                    batch_size=batch_size,\n",
    "                    epochs=num_epochs,\n",
    "                    verbose=2,\n",
    "                    validation_split=0.2)"
   ]
  },
  {
   "cell_type": "code",
   "execution_count": 50,
   "metadata": {},
   "outputs": [
    {
     "name": "stdout",
     "output_type": "stream",
     "text": [
      "Test accuracy: 0.9763125777244568\n"
     ]
    }
   ],
   "source": [
    "\n",
    "score, acc = model.evaluate(X_test, y_test_labels,\n",
    "                       batch_size=batch_size, verbose=2)\n",
    "\n",
    "print('Test accuracy:', acc)"
   ]
  },
  {
   "cell_type": "code",
   "execution_count": 70,
   "metadata": {},
   "outputs": [
    {
     "name": "stdout",
     "output_type": "stream",
     "text": [
      "12285/12285 [==============================] - 20s 2ms/step\n",
      "\n",
      "accuracy: 97.63%\n",
      "[[4.9650026e-07 2.8057254e-06 3.1045799e-06 1.4449492e-05 9.9993265e-01\n",
      "  3.6000779e-06 3.1383431e-06 2.0465661e-05 3.3243131e-07 1.0965814e-06\n",
      "  1.7663605e-06 8.3245141e-08 1.4705563e-05 5.2730563e-08 1.0689005e-06\n",
      "  2.7675623e-07]\n",
      " [1.2403201e-09 1.5468615e-07 7.4464673e-08 5.7048032e-07 3.1982376e-07\n",
      "  9.8403763e-10 5.1178648e-09 9.9999809e-01 1.2696874e-07 9.9853219e-09\n",
      "  4.9231784e-07 4.3606729e-10 1.4110510e-07 4.7281142e-14 1.1739626e-08\n",
      "  2.8653078e-14]\n",
      " [2.6840257e-13 9.9999869e-01 5.7019427e-08 3.8406148e-07 1.2707862e-08\n",
      "  3.0771822e-08 1.1127504e-08 2.0675452e-09 6.8552337e-09 2.0908936e-11\n",
      "  7.9066945e-07 2.7508078e-08 5.2083802e-08 1.3409996e-12 6.4570941e-08\n",
      "  7.7080575e-10]\n",
      " [2.9764794e-06 2.9933369e-06 3.4281359e-06 1.3427123e-05 6.3796955e-07\n",
      "  3.3027127e-06 1.2899912e-07 1.1103193e-06 1.7026048e-05 9.0889884e-08\n",
      "  1.6453638e-05 1.3106293e-05 5.0062940e-06 1.5089711e-07 9.9992013e-01\n",
      "  7.1219425e-08]\n",
      " [1.4118604e-07 4.6741911e-06 1.0425388e-05 9.9979609e-01 2.1863276e-05\n",
      "  3.4285476e-06 1.9421839e-05 2.9275343e-06 4.5011206e-05 1.7020600e-08\n",
      "  2.3803035e-05 3.7634348e-07 2.9963343e-05 2.1413895e-09 4.0487932e-05\n",
      "  1.3415211e-06]]\n"
     ]
    }
   ],
   "source": [
    "from sklearn import metrics\n",
    "\n",
    "# evaluate the model using samples\n",
    "scores = model.evaluate(X_test, y_test_labels)\n",
    "\n",
    "print(\"\\n%s: %.2f%%\" % (model.metrics_names[1], scores[1]*100))\n",
    "\n",
    "# get prediction\n",
    "predicted=model.predict(X_test)\n",
    "print(predicted[0:5])\n"
   ]
  },
  {
   "cell_type": "code",
   "execution_count": null,
   "metadata": {},
   "outputs": [],
   "source": [
    "# classifier = KerasClassifier(build_fn = build_classifier)\n",
    "# parameters = {'batch_size' : [32, 64],\n",
    "#               'epochs' : [500, 100],\n",
    "#               'optimizer' : ['adam', 'rmsprop']}\n",
    "\n",
    "# grid_search = GridSearchCV(estimator = classifier,\n",
    "#                            param_grid = parameters,\n",
    "#                            scoring = 'accuracy',\n",
    "#                            cv = 10)\n",
    "# grid_search.fit(X_train, y_train)\n",
    "# best_parameters = grid_search.best_params_\n",
    "# best_accuracy = grid_search.best_score_"
   ]
  },
  {
   "cell_type": "code",
   "execution_count": 1,
   "metadata": {},
   "outputs": [],
   "source": [
    "\n",
    "\n",
    "# labels=sorted(data_set[\"new_id\"].unique())\n",
    "\n",
    "# precision, recall, fscore, support=precision_recall_fscore_support(y_test_labels, predicted, labels=labels)\n",
    "\n",
    "# print(\"labels: \", labels)\n",
    "# print(\"precision: \", precision)\n",
    "# print(\"recall: \", recall)\n",
    "# print(\"f-score: \", fscore)\n",
    "# print(\"support: \", support)\n",
    "\n",
    "# print(metrics.classification_report(y_test_labels, predicted.round()))"
   ]
  },
  {
   "cell_type": "code",
   "execution_count": null,
   "metadata": {},
   "outputs": [],
   "source": []
  },
  {
   "cell_type": "code",
   "execution_count": null,
   "metadata": {},
   "outputs": [],
   "source": []
  }
 ],
 "metadata": {
  "kernelspec": {
   "display_name": "Python 3",
   "language": "python",
   "name": "python3"
  },
  "language_info": {
   "codemirror_mode": {
    "name": "ipython",
    "version": 3
   },
   "file_extension": ".py",
   "mimetype": "text/x-python",
   "name": "python",
   "nbconvert_exporter": "python",
   "pygments_lexer": "ipython3",
   "version": "3.7.3"
  }
 },
 "nbformat": 4,
 "nbformat_minor": 2
}
