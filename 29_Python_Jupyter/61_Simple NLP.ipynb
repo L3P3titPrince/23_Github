{
 "cells": [
  {
   "cell_type": "code",
   "execution_count": 1,
   "metadata": {},
   "outputs": [
    {
     "data": {
      "text/plain": [
       "'     \\ntokenizer = Tokenizer(num_words=100000, oov_token=\"<OOV>\")\\ntokenizer.fit_on_texts(sentences_data)\\nword_index = tokenizer.word_index\\nsequences = tokenizer.texts_to_sequences(sentences_data)\\npadded = pad_sequences(sequences, padding=\\'post\\')\\n\\n#print(padded)\\n'"
      ]
     },
     "execution_count": 1,
     "metadata": {},
     "output_type": "execute_result"
    }
   ],
   "source": [
    "import json\n",
    "import tensorflow as tf\n",
    "import numpy as np \n",
    "from tensorflow import keras\n",
    "from tensorflow.keras.preprocessing.text import Tokenizer\n",
    "from tensorflow.keras.preprocessing.sequence import pad_sequences\n",
    "\n",
    "\n",
    "\n",
    "data = []\n",
    "with open(\"03_data/12_Sarcasm_bundle_archive/Sarcasm_Headlines_Dataset.json\") as f:\n",
    "    for line in f:\n",
    "        data.append(json.loads(line))\n",
    "\n",
    "sentences_data = []\n",
    "labels_data =[]\n",
    "urls_data = []\n",
    "for item in data:\n",
    "    sentences_data.append(item['headline'])\n",
    "    labels_data.append(item['is_sarcastic'])\n",
    "    urls_data.append(item['article_link'])\n",
    "    \n",
    "\"\"\"     \n",
    "tokenizer = Tokenizer(num_words=100000, oov_token=\"<OOV>\")\n",
    "tokenizer.fit_on_texts(sentences_data)\n",
    "word_index = tokenizer.word_index\n",
    "sequences = tokenizer.texts_to_sequences(sentences_data)\n",
    "padded = pad_sequences(sequences, padding='post')\n",
    "\n",
    "#print(padded)\n",
    "\"\"\" "
   ]
  },
  {
   "cell_type": "code",
   "execution_count": 2,
   "metadata": {},
   "outputs": [],
   "source": [
    "#train_ds, test_ds = tfds.load('mnist', split=['train', 'test'])\n",
    "\n",
    "#we have 26000 records so we set 20000 to be train set and 6709 to be test set\n",
    "training_size = 20000\n",
    "training_sentences = sentences_data[0:training_size]\n",
    "testing_sent = sentences_data[training_size:] \n",
    "training_label = labels_data[0:training_size]\n",
    "testing_label = labels_data[training_size:]\n",
    "\n",
    "\n",
    "\n"
   ]
  },
  {
   "cell_type": "code",
   "execution_count": 4,
   "metadata": {},
   "outputs": [
    {
     "data": {
      "text/plain": [
       "26709"
      ]
     },
     "execution_count": 4,
     "metadata": {},
     "output_type": "execute_result"
    }
   ],
   "source": [
    "len(sentences_data)"
   ]
  },
  {
   "cell_type": "code",
   "execution_count": 3,
   "metadata": {},
   "outputs": [],
   "source": [
    "def token(sentences):\n",
    "    \"\"\"\n",
    "    This is typical NLP process.\n",
    "    1.We use Tokenizer() to set condition about word-to-sequcen. num_words represent how many words will be reserver\n",
    "    2.fit_on_text() let data(sentences or words) to fit this model. This will change tokenizer into a dictonary with tokenizer configuration.\n",
    "      For instance, tokenizer.word_index = dict{'removed':3876} tokenizer.texts_to_sequence() = [234, 514] = tokenizer word\n",
    "    3.If we want to get a dictionary with {'word':index}, you can use feature word_index to get that\n",
    "    4.Fo now, we only translate corpus with numbers, each words in corps has its own number\n",
    "    \n",
    "    Parameters:\n",
    "    -----------\n",
    "    sentences:list\n",
    "        This input is coming for typical json file and each sentences contain some english wrods\n",
    "           \n",
    "    Return:\n",
    "    ----------\n",
    "    tokenizer:tokenizer configurat\n",
    "        python dict\n",
    "    \n",
    "    word_index:dictionary\n",
    "        every word matchup dictionary\n",
    "        \n",
    "    sequences:list\n",
    "        transfor every word into number according to tokenizer we generated before\n",
    "        \n",
    "    padded:list\n",
    "        fill every sentence into same length with 0\n",
    "    \n",
    "    \"\"\"\n",
    "    #we only want most 10,000 frequncy word.Although we can vector 29567 vector from our courps. \n",
    "    #Because we care most frequncy words in this sentence. for example \"to\" \"of\" \"in\". Maybe they are stopwords which should be eliminate\n",
    "    #When can see word_index is the integrated dictionary for {word:number} pair but, after texts_to_sequcens() we only get most frequcn 10000\n",
    "    vocab_size = 20000\n",
    "    \n",
    "    #max_lenght define the max lenght of each sentence. Because the length of sentence is unbalance, we should ignore that too long part\n",
    "    #after define this parameter, we also define the column of input matrix, which will be (No.examples , max_length)\n",
    "    max_length = 100\n",
    "    \n",
    "    #only keep most frequcey {vocab_size} words in croups\n",
    "    #tokenizer = Tokenizer(num_words=100, oov_token=\"<OOV>\")\n",
    "    tokenizer = Tokenizer(num_words=vocab_size, oov_token=\"<OOV>\")\n",
    "    \n",
    "    #transfor sentence to number vector\n",
    "    tokenizer.fit_on_texts(sentences)\n",
    "    \n",
    "    #a = tokenizer.tranform(sten)\n",
    "    \n",
    "    #get the index of each indivudule word\n",
    "    word_index = tokenizer.word_index\n",
    "    \n",
    "    #only choose most frequency 10,000 word_index and transfrom sentences with them into number vector like[564, 452, 23, 1]\n",
    "    #the out of vocabulary wiht be give 1. Maximize number of texts_to_sequences() will be 9999, which means the 10000th frequceny will \n",
    "    #not show in this sequcen\n",
    "    sequences = tokenizer.texts_to_sequences(sentences)\n",
    "    \n",
    "    #maintain the sentence into same length\n",
    "    #padded = pad_sequences(sequences)\n",
    "    #If you want zero at the end, using padding='post'\n",
    "    padded = pad_sequences(sequences, padding='post', maxlen=max_length, truncating='post')\n",
    "    \n",
    "    return tokenizer, word_index,sequences, padded"
   ]
  },
  {
   "cell_type": "code",
   "execution_count": 4,
   "metadata": {},
   "outputs": [],
   "source": [
    "def split_data(sentences_data, labels_data, size):\n",
    "    \"\"\"\n",
    "    This is demo part\n",
    "    Input:\n",
    "        the number of training example\n",
    "    Output:\n",
    "        train_x, test_x, train_y, test_y\n",
    "    \"\"\"\n",
    "    training_size = size\n",
    "    training_sentences = sentences_data[0:training_size]\n",
    "    testing_sentences = sentences_data[training_size:] \n",
    "    training_label = labels_data[0:training_size]\n",
    "    testing_label = labels_data[training_size:]\n",
    "    \n",
    "    return training_sentences, testing_sentences, training_label, testing_label\n",
    "    "
   ]
  },
  {
   "cell_type": "code",
   "execution_count": 5,
   "metadata": {},
   "outputs": [],
   "source": [
    "def embed_mod(training_padded, training_labels, word_index, testing_padded, testing_labels):\n",
    "    \"\"\"\n",
    "    Paramters:\n",
    "    ---------\n",
    "    padded matrix:array_like\n",
    "        \n",
    "        \n",
    "    Return:\n",
    "    ---------\n",
    "    \n",
    "    \n",
    "    \"\"\"\n",
    "    #vocab_size is the max integer word vector plus 1\n",
    "    vocab_size = training_padded.max()+1\n",
    "    #output layers of firts embedding layer\n",
    "    embedding_dim = 32\n",
    "    max_length = training_padded.shape[1]\n",
    "    num_epochs = 30\n",
    "    \n",
    "    \n",
    "    model = tf.keras.Sequential([\n",
    "        tf.keras.layers.Embedding(vocab_size, embedding_dim, input_length = max_length),\n",
    "        tf.keras.layers.GlobalAveragePooling1D(),\n",
    "        tf.keras.layers.Dense(24, activation = 'relu'),\n",
    "        tf.keras.layers.Dense(1, activation='sigmoid')\n",
    "    ])\n",
    "    \n",
    "    model.compile(loss='binary_crossentropy', optimizer='adam', metrics=['accuracy'])\n",
    "    model.summary()\n",
    "    \n",
    "    history = model.fit(training_padded, \\\n",
    "                        training_labels, \\\n",
    "                        epochs = num_epochs, \\\n",
    "                        validation_data = (testing_padded, testing_labels), \\\n",
    "                        verbose = 2\n",
    "                       )\n",
    "    \n",
    "    return model, history"
   ]
  },
  {
   "cell_type": "code",
   "execution_count": 6,
   "metadata": {},
   "outputs": [
    {
     "name": "stdout",
     "output_type": "stream",
     "text": [
      "Model: \"sequential\"\n",
      "_________________________________________________________________\n",
      "Layer (type)                 Output Shape              Param #   \n",
      "=================================================================\n",
      "embedding (Embedding)        (None, 100, 32)           640000    \n",
      "_________________________________________________________________\n",
      "global_average_pooling1d (Gl (None, 32)                0         \n",
      "_________________________________________________________________\n",
      "dense (Dense)                (None, 24)                792       \n",
      "_________________________________________________________________\n",
      "dense_1 (Dense)              (None, 1)                 25        \n",
      "=================================================================\n",
      "Total params: 640,817\n",
      "Trainable params: 640,817\n",
      "Non-trainable params: 0\n",
      "_________________________________________________________________\n",
      "Train on 20000 samples, validate on 6709 samples\n",
      "Epoch 1/30\n",
      "20000/20000 - 7s - loss: 0.6297 - accuracy: 0.6338 - val_loss: 0.6615 - val_accuracy: 0.5855\n",
      "Epoch 2/30\n",
      "20000/20000 - 5s - loss: 0.3589 - accuracy: 0.8578 - val_loss: 0.8371 - val_accuracy: 0.5888\n",
      "Epoch 3/30\n",
      "20000/20000 - 5s - loss: 0.2575 - accuracy: 0.9000 - val_loss: 0.9818 - val_accuracy: 0.5792\n",
      "Epoch 4/30\n",
      "20000/20000 - 5s - loss: 0.1983 - accuracy: 0.9257 - val_loss: 1.1234 - val_accuracy: 0.5618\n",
      "Epoch 5/30\n",
      "20000/20000 - 5s - loss: 0.1577 - accuracy: 0.9427 - val_loss: 1.3048 - val_accuracy: 0.5627\n",
      "Epoch 6/30\n",
      "20000/20000 - 5s - loss: 0.1241 - accuracy: 0.9577 - val_loss: 1.4490 - val_accuracy: 0.5587\n",
      "Epoch 7/30\n",
      "20000/20000 - 5s - loss: 0.0995 - accuracy: 0.9678 - val_loss: 1.5721 - val_accuracy: 0.5543\n",
      "Epoch 8/30\n",
      "20000/20000 - 5s - loss: 0.0779 - accuracy: 0.9755 - val_loss: 1.7819 - val_accuracy: 0.5519\n",
      "Epoch 9/30\n",
      "20000/20000 - 6s - loss: 0.0631 - accuracy: 0.9807 - val_loss: 1.9188 - val_accuracy: 0.5397\n",
      "Epoch 10/30\n",
      "20000/20000 - 5s - loss: 0.0506 - accuracy: 0.9849 - val_loss: 2.1981 - val_accuracy: 0.5563\n",
      "Epoch 11/30\n",
      "20000/20000 - 5s - loss: 0.0413 - accuracy: 0.9883 - val_loss: 2.3325 - val_accuracy: 0.5500\n",
      "Epoch 12/30\n",
      "20000/20000 - 7s - loss: 0.0319 - accuracy: 0.9917 - val_loss: 2.4433 - val_accuracy: 0.5348\n",
      "Epoch 13/30\n",
      "20000/20000 - 6s - loss: 0.0263 - accuracy: 0.9930 - val_loss: 2.6512 - val_accuracy: 0.5452\n",
      "Epoch 14/30\n",
      "20000/20000 - 5s - loss: 0.0200 - accuracy: 0.9951 - val_loss: 2.9203 - val_accuracy: 0.5466\n",
      "Epoch 15/30\n",
      "20000/20000 - 5s - loss: 0.0161 - accuracy: 0.9963 - val_loss: 3.0878 - val_accuracy: 0.5475\n",
      "Epoch 16/30\n",
      "20000/20000 - 6s - loss: 0.0138 - accuracy: 0.9966 - val_loss: 3.2929 - val_accuracy: 0.5519\n",
      "Epoch 17/30\n",
      "20000/20000 - 6s - loss: 0.0103 - accuracy: 0.9983 - val_loss: 3.3684 - val_accuracy: 0.5446\n",
      "Epoch 18/30\n",
      "20000/20000 - 6s - loss: 0.0074 - accuracy: 0.9987 - val_loss: 3.6169 - val_accuracy: 0.5443\n",
      "Epoch 19/30\n",
      "20000/20000 - 6s - loss: 0.0068 - accuracy: 0.9987 - val_loss: 3.8043 - val_accuracy: 0.5394\n",
      "Epoch 20/30\n",
      "20000/20000 - 6s - loss: 0.0053 - accuracy: 0.9987 - val_loss: 4.0138 - val_accuracy: 0.5443\n",
      "Epoch 21/30\n",
      "20000/20000 - 6s - loss: 0.0038 - accuracy: 0.9993 - val_loss: 4.1861 - val_accuracy: 0.5436\n",
      "Epoch 22/30\n",
      "20000/20000 - 6s - loss: 0.0037 - accuracy: 0.9990 - val_loss: 4.3797 - val_accuracy: 0.5446\n",
      "Epoch 23/30\n",
      "20000/20000 - 6s - loss: 0.0025 - accuracy: 0.9995 - val_loss: 4.5967 - val_accuracy: 0.5464\n",
      "Epoch 24/30\n",
      "20000/20000 - 6s - loss: 0.0031 - accuracy: 0.9992 - val_loss: 4.8316 - val_accuracy: 0.5469\n",
      "Epoch 25/30\n",
      "20000/20000 - 6s - loss: 0.0024 - accuracy: 0.9994 - val_loss: 4.8761 - val_accuracy: 0.5464\n",
      "Epoch 26/30\n",
      "20000/20000 - 6s - loss: 9.8184e-04 - accuracy: 0.9999 - val_loss: 5.0319 - val_accuracy: 0.5497\n",
      "Epoch 27/30\n",
      "20000/20000 - 6s - loss: 9.3889e-04 - accuracy: 0.9999 - val_loss: 5.1436 - val_accuracy: 0.5458\n",
      "Epoch 28/30\n",
      "20000/20000 - 6s - loss: 3.9018e-04 - accuracy: 1.0000 - val_loss: 5.3477 - val_accuracy: 0.5469\n",
      "Epoch 29/30\n",
      "20000/20000 - 6s - loss: 5.2663e-04 - accuracy: 1.0000 - val_loss: 5.3714 - val_accuracy: 0.5329\n",
      "Epoch 30/30\n",
      "20000/20000 - 6s - loss: 5.0065e-04 - accuracy: 1.0000 - val_loss: 5.6857 - val_accuracy: 0.5452\n"
     ]
    }
   ],
   "source": [
    "if __name__=='__main__':\n",
    "    \n",
    "    training_sentences, testing_sentences, training_labels, testing_labels = split_data(sentences_data, labels_data, training_size)\n",
    "    tokenizer, word_index_train, training_seq, training_padded = token(training_sentences)\n",
    "    _, word_index_test, _, testing_padded = token(testing_sentences)\n",
    "    \n",
    "    vocab_size = training_padded.shape[1]\n",
    "    \n",
    "    training_padded = np.array(training_padded)\n",
    "    training_labels = np.array(training_labels)\n",
    "    testing_padded = np.array(testing_padded)\n",
    "    testing_labels = np.array(testing_labels)\n",
    "    \n",
    "    model, history = embed_mod(training_padded, training_labels, word_index_train, testing_padded, testing_labels)"
   ]
  },
  {
   "cell_type": "code",
   "execution_count": 55,
   "metadata": {},
   "outputs": [
    {
     "data": {
      "image/png": "[encoded data removed]",
      "text/plain": [
       "<Figure size 432x288 with 1 Axes>"
      ]
     },
     "metadata": {
      "needs_background": "light"
     },
     "output_type": "display_data"
    },
    {
     "data": {
      "image/png": "[encoded data removed]",
      "text/plain": [
       "<Figure size 432x288 with 1 Axes>"
      ]
     },
     "metadata": {
      "needs_background": "light"
     },
     "output_type": "display_data"
    }
   ],
   "source": [
    "import matplotlib.pyplot as plt\n",
    "\n",
    "\n",
    "def plot_graphs(history, string):\n",
    "  plt.plot(history.history[string])\n",
    "  plt.plot(history.history['val_'+string])\n",
    "  plt.xlabel(\"Epochs\")\n",
    "  plt.ylabel(string)\n",
    "  plt.legend([string, 'val_'+string])\n",
    "  plt.show()\n",
    "  \n",
    "plot_graphs(history, \"accuracy\")\n",
    "plot_graphs(history, \"loss\")"
   ]
  },
  {
   "cell_type": "code",
   "execution_count": 56,
   "metadata": {},
   "outputs": [
    {
     "name": "stdout",
     "output_type": "stream",
     "text": [
      "[[9.9515307e-01]\n",
      " [8.5634895e-09]]\n"
     ]
    }
   ],
   "source": [
    "sentence = [\"granny starting to fear spiders in the garden might be real\", \"game of thrones season finale showing this sunday night\"]\n",
    "sequences = tokenizer.texts_to_sequences(sentence)\n",
    "padded = pad_sequences(sequences, maxlen=100, padding='post', truncating='post')\n",
    "print(model.predict(padded))"
   ]
  },
  {
   "cell_type": "code",
   "execution_count": null,
   "metadata": {},
   "outputs": [],
   "source": []
  },
  {
   "cell_type": "code",
   "execution_count": null,
   "metadata": {},
   "outputs": [],
   "source": []
  },
  {
   "cell_type": "code",
   "execution_count": null,
   "metadata": {},
   "outputs": [],
   "source": []
  },
  {
   "cell_type": "code",
   "execution_count": 278,
   "metadata": {},
   "outputs": [
    {
     "data": {
      "text/plain": [
       "numpy.ndarray"
      ]
     },
     "execution_count": 278,
     "metadata": {},
     "output_type": "execute_result"
    }
   ],
   "source": [
    "type(training_padded)"
   ]
  },
  {
   "cell_type": "code",
   "execution_count": 280,
   "metadata": {},
   "outputs": [],
   "source": [
    "t_p = np.array(training_padded)"
   ]
  },
  {
   "cell_type": "code",
   "execution_count": 281,
   "metadata": {},
   "outputs": [
    {
     "data": {
      "text/plain": [
       "numpy.ndarray"
      ]
     },
     "execution_count": 281,
     "metadata": {},
     "output_type": "execute_result"
    }
   ],
   "source": [
    "type(t_p)"
   ]
  },
  {
   "cell_type": "code",
   "execution_count": 270,
   "metadata": {},
   "outputs": [
    {
     "ename": "ValueError",
     "evalue": "Failed to find data adapter that can handle input: <class 'numpy.ndarray'>, (<class 'list'> containing values of types {\"<class 'int'>\"})",
     "output_type": "error",
     "traceback": [
      "\u001b[1;31m---------------------------------------------------------------------------\u001b[0m",
      "\u001b[1;31mValueError\u001b[0m                                Traceback (most recent call last)",
      "\u001b[1;32m<ipython-input-270-cdf3a1862c82>\u001b[0m in \u001b[0;36m<module>\u001b[1;34m\u001b[0m\n\u001b[1;32m----> 1\u001b[1;33m \u001b[0m_\u001b[0m\u001b[1;33m,\u001b[0m \u001b[0mhistory\u001b[0m \u001b[1;33m=\u001b[0m \u001b[0membed_mod\u001b[0m\u001b[1;33m(\u001b[0m\u001b[0mtraining_padded\u001b[0m\u001b[1;33m,\u001b[0m \u001b[0mtrainging_label\u001b[0m\u001b[1;33m,\u001b[0m \u001b[0mword_index\u001b[0m\u001b[1;33m,\u001b[0m \u001b[0mtesting_padded\u001b[0m\u001b[1;33m,\u001b[0m \u001b[0mtesting_label\u001b[0m\u001b[1;33m)\u001b[0m\u001b[1;33m\u001b[0m\u001b[1;33m\u001b[0m\u001b[0m\n\u001b[0m",
      "\u001b[1;32m<ipython-input-268-27732db43376>\u001b[0m in \u001b[0;36membed_mod\u001b[1;34m(training_padded, training_labels, word_index, testing_padded, testing_label)\u001b[0m\n\u001b[0;32m     30\u001b[0m     history = model.fit(training_padded, \\\n\u001b[0;32m     31\u001b[0m                         \u001b[0mtraining_labels\u001b[0m\u001b[1;33m,\u001b[0m\u001b[0;31m \u001b[0m\u001b[0;31m\\\u001b[0m\u001b[1;33m\u001b[0m\u001b[1;33m\u001b[0m\u001b[0m\n\u001b[1;32m---> 32\u001b[1;33m                         \u001b[0mepochs\u001b[0m \u001b[1;33m=\u001b[0m \u001b[1;36m10\u001b[0m\u001b[1;33m\u001b[0m\u001b[1;33m\u001b[0m\u001b[0m\n\u001b[0m\u001b[0;32m     33\u001b[0m                         \u001b[1;31m#validataion_data = (testing_padded, testing_label), \\\u001b[0m\u001b[1;33m\u001b[0m\u001b[1;33m\u001b[0m\u001b[1;33m\u001b[0m\u001b[0m\n\u001b[0;32m     34\u001b[0m                         \u001b[1;31m#verbose = 2\u001b[0m\u001b[1;33m\u001b[0m\u001b[1;33m\u001b[0m\u001b[1;33m\u001b[0m\u001b[0m\n",
      "\u001b[1;32mD:\\ProgramData\\Anaconda3\\envs\\06_ten_GPU_22\\lib\\site-packages\\tensorflow_core\\python\\keras\\engine\\training.py\u001b[0m in \u001b[0;36mfit\u001b[1;34m(self, x, y, batch_size, epochs, verbose, callbacks, validation_split, validation_data, shuffle, class_weight, sample_weight, initial_epoch, steps_per_epoch, validation_steps, validation_freq, max_queue_size, workers, use_multiprocessing, **kwargs)\u001b[0m\n\u001b[0;32m    817\u001b[0m         \u001b[0mmax_queue_size\u001b[0m\u001b[1;33m=\u001b[0m\u001b[0mmax_queue_size\u001b[0m\u001b[1;33m,\u001b[0m\u001b[1;33m\u001b[0m\u001b[1;33m\u001b[0m\u001b[0m\n\u001b[0;32m    818\u001b[0m         \u001b[0mworkers\u001b[0m\u001b[1;33m=\u001b[0m\u001b[0mworkers\u001b[0m\u001b[1;33m,\u001b[0m\u001b[1;33m\u001b[0m\u001b[1;33m\u001b[0m\u001b[0m\n\u001b[1;32m--> 819\u001b[1;33m         use_multiprocessing=use_multiprocessing)\n\u001b[0m\u001b[0;32m    820\u001b[0m \u001b[1;33m\u001b[0m\u001b[0m\n\u001b[0;32m    821\u001b[0m   def evaluate(self,\n",
      "\u001b[1;32mD:\\ProgramData\\Anaconda3\\envs\\06_ten_GPU_22\\lib\\site-packages\\tensorflow_core\\python\\keras\\engine\\training_v2.py\u001b[0m in \u001b[0;36mfit\u001b[1;34m(self, model, x, y, batch_size, epochs, verbose, callbacks, validation_split, validation_data, shuffle, class_weight, sample_weight, initial_epoch, steps_per_epoch, validation_steps, validation_freq, max_queue_size, workers, use_multiprocessing, **kwargs)\u001b[0m\n\u001b[0;32m    233\u001b[0m           \u001b[0mmax_queue_size\u001b[0m\u001b[1;33m=\u001b[0m\u001b[0mmax_queue_size\u001b[0m\u001b[1;33m,\u001b[0m\u001b[1;33m\u001b[0m\u001b[1;33m\u001b[0m\u001b[0m\n\u001b[0;32m    234\u001b[0m           \u001b[0mworkers\u001b[0m\u001b[1;33m=\u001b[0m\u001b[0mworkers\u001b[0m\u001b[1;33m,\u001b[0m\u001b[1;33m\u001b[0m\u001b[1;33m\u001b[0m\u001b[0m\n\u001b[1;32m--> 235\u001b[1;33m           use_multiprocessing=use_multiprocessing)\n\u001b[0m\u001b[0;32m    236\u001b[0m \u001b[1;33m\u001b[0m\u001b[0m\n\u001b[0;32m    237\u001b[0m       \u001b[0mtotal_samples\u001b[0m \u001b[1;33m=\u001b[0m \u001b[0m_get_total_number_of_samples\u001b[0m\u001b[1;33m(\u001b[0m\u001b[0mtraining_data_adapter\u001b[0m\u001b[1;33m)\u001b[0m\u001b[1;33m\u001b[0m\u001b[1;33m\u001b[0m\u001b[0m\n",
      "\u001b[1;32mD:\\ProgramData\\Anaconda3\\envs\\06_ten_GPU_22\\lib\\site-packages\\tensorflow_core\\python\\keras\\engine\\training_v2.py\u001b[0m in \u001b[0;36m_process_training_inputs\u001b[1;34m(model, x, y, batch_size, epochs, sample_weights, class_weights, steps_per_epoch, validation_split, validation_data, validation_steps, shuffle, distribution_strategy, max_queue_size, workers, use_multiprocessing)\u001b[0m\n\u001b[0;32m    531\u001b[0m                      'at same time.')\n\u001b[0;32m    532\u001b[0m \u001b[1;33m\u001b[0m\u001b[0m\n\u001b[1;32m--> 533\u001b[1;33m   \u001b[0madapter_cls\u001b[0m \u001b[1;33m=\u001b[0m \u001b[0mdata_adapter\u001b[0m\u001b[1;33m.\u001b[0m\u001b[0mselect_data_adapter\u001b[0m\u001b[1;33m(\u001b[0m\u001b[0mx\u001b[0m\u001b[1;33m,\u001b[0m \u001b[0my\u001b[0m\u001b[1;33m)\u001b[0m\u001b[1;33m\u001b[0m\u001b[1;33m\u001b[0m\u001b[0m\n\u001b[0m\u001b[0;32m    534\u001b[0m \u001b[1;33m\u001b[0m\u001b[0m\n\u001b[0;32m    535\u001b[0m   \u001b[1;31m# Handle validation_split, we want to split the data and get the training\u001b[0m\u001b[1;33m\u001b[0m\u001b[1;33m\u001b[0m\u001b[1;33m\u001b[0m\u001b[0m\n",
      "\u001b[1;32mD:\\ProgramData\\Anaconda3\\envs\\06_ten_GPU_22\\lib\\site-packages\\tensorflow_core\\python\\keras\\engine\\data_adapter.py\u001b[0m in \u001b[0;36mselect_data_adapter\u001b[1;34m(x, y)\u001b[0m\n\u001b[0;32m    996\u001b[0m         \u001b[1;34m\"Failed to find data adapter that can handle \"\u001b[0m\u001b[1;33m\u001b[0m\u001b[1;33m\u001b[0m\u001b[0m\n\u001b[0;32m    997\u001b[0m         \"input: {}, {}\".format(\n\u001b[1;32m--> 998\u001b[1;33m             _type_name(x), _type_name(y)))\n\u001b[0m\u001b[0;32m    999\u001b[0m   \u001b[1;32melif\u001b[0m \u001b[0mlen\u001b[0m\u001b[1;33m(\u001b[0m\u001b[0madapter_cls\u001b[0m\u001b[1;33m)\u001b[0m \u001b[1;33m>\u001b[0m \u001b[1;36m1\u001b[0m\u001b[1;33m:\u001b[0m\u001b[1;33m\u001b[0m\u001b[1;33m\u001b[0m\u001b[0m\n\u001b[0;32m   1000\u001b[0m     raise RuntimeError(\n",
      "\u001b[1;31mValueError\u001b[0m: Failed to find data adapter that can handle input: <class 'numpy.ndarray'>, (<class 'list'> containing values of types {\"<class 'int'>\"})"
     ]
    }
   ],
   "source": [
    "_, history = embed_mod(training_padded, training_label, word_index, testing_padded, testing_label)"
   ]
  },
  {
   "cell_type": "code",
   "execution_count": 206,
   "metadata": {},
   "outputs": [
    {
     "data": {
      "text/plain": [
       "29657"
      ]
     },
     "execution_count": 206,
     "metadata": {},
     "output_type": "execute_result"
    }
   ],
   "source": [
    "word_index[list(word_index)[-1]]"
   ]
  },
  {
   "cell_type": "code",
   "execution_count": 247,
   "metadata": {},
   "outputs": [
    {
     "data": {
      "text/plain": [
       "(20000, 40)"
      ]
     },
     "execution_count": 247,
     "metadata": {},
     "output_type": "execute_result"
    }
   ],
   "source": [
    "training_padded.shape"
   ]
  },
  {
   "cell_type": "code",
   "execution_count": 199,
   "metadata": {},
   "outputs": [
    {
     "data": {
      "text/plain": [
       "(20000, 40)"
      ]
     },
     "execution_count": 199,
     "metadata": {},
     "output_type": "execute_result"
    }
   ],
   "source": [
    "testing_padded.shape"
   ]
  },
  {
   "cell_type": "code",
   "execution_count": null,
   "metadata": {},
   "outputs": [],
   "source": []
  },
  {
   "cell_type": "code",
   "execution_count": null,
   "metadata": {},
   "outputs": [],
   "source": []
  },
  {
   "cell_type": "code",
   "execution_count": 31,
   "metadata": {},
   "outputs": [],
   "source": [
    "sentences = [\n",
    "    'I love my dog',\n",
    "    'I love my cat',\n",
    "    'You love my dog!'\n",
    "]\n",
    "\n",
    "tokenizer = Tokenizer(num_words = 100)\n",
    "\n",
    "tokenizer.fit_on_texts(sentences)\n",
    "\n",
    "word_index = tokenizer.word_index\n",
    "\n",
    "print(type(word_index))\n",
    "\n",
    "\n",
    "\n",
    "sentences = [\n",
    "    'I love my dog',\n",
    "    'I love my cat',\n",
    "    'You love my dog!',\n",
    "    'Do you think my dog is amazing?'\n",
    "]\n",
    "\n",
    "import tensorflow as tf\n",
    "import numpu as np \n",
    "from tensorflow import keras\n",
    "from tensorflow.keras.preprocessing.text import Tokenizer\n",
    "from tensorflow.keras.preprocessing.sequence import pad_sequences\n",
    "\n",
    "def token(sentences):\n",
    "    \"\"\"\n",
    "    Input:\n",
    "        sentcens in list type\n",
    "    Outpu:\n",
    "        dictionary with tokenizer configure, like.word_index = dict = {'words', 'index'}\n",
    "    \"\"\"\n",
    "    #only keep most frequcey 100 words in croups\n",
    "    #tokenizer = Tokenizer(num_words=100, oov_token=\"<OOV>\")\n",
    "    tokenizer = Tokenizer(num_words=1, oov_token=\"<OOV>\")\n",
    "    tokenizer.fit_on_texts(sentences)\n",
    "    word_index = tokenizer.word_index\n",
    "    sequences = tokenizer.texts_to_sequences(sentences)\n",
    "    #maintain the sentence into same length\n",
    "    #padded = pad_sequences(sequences)\n",
    "    #If you want zero at the end, using padding='post'\n",
    "    padded = pad_sequences(sequences, padding='post')\n",
    "    \n",
    "    return tokenizer, word_index,sequences, padded"
   ]
  },
  {
   "cell_type": "code",
   "execution_count": 145,
   "metadata": {},
   "outputs": [],
   "source": [
    "token, word_index, seq, padded = token(sentences_data)"
   ]
  },
  {
   "cell_type": "code",
   "execution_count": 149,
   "metadata": {},
   "outputs": [
    {
     "data": {
      "text/plain": [
       "array([[1, 1, 1, ..., 0, 0, 0],\n",
       "       [1, 1, 1, ..., 0, 0, 0],\n",
       "       [1, 1, 1, ..., 0, 0, 0],\n",
       "       ...,\n",
       "       [1, 1, 1, ..., 0, 0, 0],\n",
       "       [1, 1, 1, ..., 0, 0, 0],\n",
       "       [1, 1, 1, ..., 0, 0, 0]])"
      ]
     },
     "execution_count": 149,
     "metadata": {},
     "output_type": "execute_result"
    }
   ],
   "source": [
    "padded"
   ]
  },
  {
   "cell_type": "code",
   "execution_count": 146,
   "metadata": {},
   "outputs": [
    {
     "name": "stdout",
     "output_type": "stream",
     "text": [
      "[[1 1 1 ... 0 0 0]\n",
      " [1 1 1 ... 0 0 0]\n",
      " [1 1 1 ... 0 0 0]\n",
      " ...\n",
      " [1 1 1 ... 0 0 0]\n",
      " [1 1 1 ... 0 0 0]\n",
      " [1 1 1 ... 0 0 0]]\n"
     ]
    }
   ],
   "source": [
    "print(padded)"
   ]
  },
  {
   "cell_type": "code",
   "execution_count": 288,
   "metadata": {},
   "outputs": [
    {
     "name": "stdout",
     "output_type": "stream",
     "text": [
      "Model: \"sequential_15\"\n",
      "_________________________________________________________________\n",
      "Layer (type)                 Output Shape              Param #   \n",
      "=================================================================\n",
      "embedding_14 (Embedding)     (None, 100, 16)           160000    \n",
      "_________________________________________________________________\n",
      "global_average_pooling1d_14  (None, 16)                0         \n",
      "_________________________________________________________________\n",
      "dense_30 (Dense)             (None, 24)                408       \n",
      "_________________________________________________________________\n",
      "dense_31 (Dense)             (None, 1)                 25        \n",
      "=================================================================\n",
      "Total params: 160,433\n",
      "Trainable params: 160,433\n",
      "Non-trainable params: 0\n",
      "_________________________________________________________________\n"
     ]
    }
   ],
   "source": [
    "vocab_size = training_padded.max()+1\n",
    "    #output layers of firts embedding layer\n",
    "embedding_dim = 16\n",
    "max_length = training_padded.shape[1]\n",
    "num_epochs = 30\n",
    "    \n",
    "    \n",
    "model = tf.keras.Sequential([\n",
    "    tf.keras.layers.Embedding(vocab_size, embedding_dim, input_length = max_length),\n",
    "    tf.keras.layers.GlobalAveragePooling1D(),\n",
    "    tf.keras.layers.Dense(24, activation = 'relu'),\n",
    "    tf.keras.layers.Dense(1, activation='sigmoid')\n",
    "])\n",
    " \n",
    "model.compile(loss='binary_crossentropy', optimizer='adam', metrics=['accuracy'])\n",
    "model.summary()\n",
    "    "
   ]
  },
  {
   "cell_type": "code",
   "execution_count": 290,
   "metadata": {},
   "outputs": [
    {
     "name": "stdout",
     "output_type": "stream",
     "text": [
      "Train on 20000 samples\n",
      "Epoch 1/10\n",
      "20000/20000 [==============================] - 3s 170us/sample - loss: 0.6683 - accuracy: 0.5793\n",
      "Epoch 2/10\n",
      " 8192/20000 [===========>..................] - ETA: 1s - loss: 0.5037 - accuracy: 0.8075"
     ]
    },
    {
     "ename": "KeyboardInterrupt",
     "evalue": "",
     "output_type": "error",
     "traceback": [
      "\u001b[1;31m---------------------------------------------------------------------------\u001b[0m",
      "\u001b[1;31mKeyboardInterrupt\u001b[0m                         Traceback (most recent call last)",
      "\u001b[1;32m<ipython-input-290-fd64278473be>\u001b[0m in \u001b[0;36m<module>\u001b[1;34m\u001b[0m\n\u001b[1;32m----> 1\u001b[1;33m \u001b[0m_\u001b[0m\u001b[1;33m,\u001b[0m \u001b[0mhistory\u001b[0m \u001b[1;33m=\u001b[0m \u001b[0membed_mod\u001b[0m\u001b[1;33m(\u001b[0m\u001b[0mtraining_padded\u001b[0m\u001b[1;33m,\u001b[0m \u001b[0mtraining_labels\u001b[0m\u001b[1;33m,\u001b[0m \u001b[0mword_index\u001b[0m\u001b[1;33m,\u001b[0m \u001b[0mtesting_padded\u001b[0m\u001b[1;33m,\u001b[0m \u001b[0mtesting_labels\u001b[0m\u001b[1;33m)\u001b[0m\u001b[1;33m\u001b[0m\u001b[1;33m\u001b[0m\u001b[0m\n\u001b[0m",
      "\u001b[1;32m<ipython-input-283-8bb18b9881bf>\u001b[0m in \u001b[0;36membed_mod\u001b[1;34m(training_padded, training_labels, word_index, testing_padded, testing_label)\u001b[0m\n\u001b[0;32m     30\u001b[0m     history = model.fit(training_padded, \\\n\u001b[0;32m     31\u001b[0m                         \u001b[0mtraining_labels\u001b[0m\u001b[1;33m,\u001b[0m\u001b[0;31m \u001b[0m\u001b[0;31m\\\u001b[0m\u001b[1;33m\u001b[0m\u001b[1;33m\u001b[0m\u001b[0m\n\u001b[1;32m---> 32\u001b[1;33m                         \u001b[0mepochs\u001b[0m \u001b[1;33m=\u001b[0m \u001b[1;36m10\u001b[0m\u001b[1;33m\u001b[0m\u001b[1;33m\u001b[0m\u001b[0m\n\u001b[0m\u001b[0;32m     33\u001b[0m                         \u001b[1;31m#validataion_data = (testing_padded, testing_label), \\\u001b[0m\u001b[1;33m\u001b[0m\u001b[1;33m\u001b[0m\u001b[1;33m\u001b[0m\u001b[0m\n\u001b[0;32m     34\u001b[0m                         \u001b[1;31m#verbose = 2\u001b[0m\u001b[1;33m\u001b[0m\u001b[1;33m\u001b[0m\u001b[1;33m\u001b[0m\u001b[0m\n",
      "\u001b[1;32mD:\\ProgramData\\Anaconda3\\envs\\06_ten_GPU_22\\lib\\site-packages\\tensorflow_core\\python\\keras\\engine\\training.py\u001b[0m in \u001b[0;36mfit\u001b[1;34m(self, x, y, batch_size, epochs, verbose, callbacks, validation_split, validation_data, shuffle, class_weight, sample_weight, initial_epoch, steps_per_epoch, validation_steps, validation_freq, max_queue_size, workers, use_multiprocessing, **kwargs)\u001b[0m\n\u001b[0;32m    817\u001b[0m         \u001b[0mmax_queue_size\u001b[0m\u001b[1;33m=\u001b[0m\u001b[0mmax_queue_size\u001b[0m\u001b[1;33m,\u001b[0m\u001b[1;33m\u001b[0m\u001b[1;33m\u001b[0m\u001b[0m\n\u001b[0;32m    818\u001b[0m         \u001b[0mworkers\u001b[0m\u001b[1;33m=\u001b[0m\u001b[0mworkers\u001b[0m\u001b[1;33m,\u001b[0m\u001b[1;33m\u001b[0m\u001b[1;33m\u001b[0m\u001b[0m\n\u001b[1;32m--> 819\u001b[1;33m         use_multiprocessing=use_multiprocessing)\n\u001b[0m\u001b[0;32m    820\u001b[0m \u001b[1;33m\u001b[0m\u001b[0m\n\u001b[0;32m    821\u001b[0m   def evaluate(self,\n",
      "\u001b[1;32mD:\\ProgramData\\Anaconda3\\envs\\06_ten_GPU_22\\lib\\site-packages\\tensorflow_core\\python\\keras\\engine\\training_v2.py\u001b[0m in \u001b[0;36mfit\u001b[1;34m(self, model, x, y, batch_size, epochs, verbose, callbacks, validation_split, validation_data, shuffle, class_weight, sample_weight, initial_epoch, steps_per_epoch, validation_steps, validation_freq, max_queue_size, workers, use_multiprocessing, **kwargs)\u001b[0m\n\u001b[0;32m    340\u001b[0m                 \u001b[0mmode\u001b[0m\u001b[1;33m=\u001b[0m\u001b[0mModeKeys\u001b[0m\u001b[1;33m.\u001b[0m\u001b[0mTRAIN\u001b[0m\u001b[1;33m,\u001b[0m\u001b[1;33m\u001b[0m\u001b[1;33m\u001b[0m\u001b[0m\n\u001b[0;32m    341\u001b[0m                 \u001b[0mtraining_context\u001b[0m\u001b[1;33m=\u001b[0m\u001b[0mtraining_context\u001b[0m\u001b[1;33m,\u001b[0m\u001b[1;33m\u001b[0m\u001b[1;33m\u001b[0m\u001b[0m\n\u001b[1;32m--> 342\u001b[1;33m                 total_epochs=epochs)\n\u001b[0m\u001b[0;32m    343\u001b[0m             \u001b[0mcbks\u001b[0m\u001b[1;33m.\u001b[0m\u001b[0mmake_logs\u001b[0m\u001b[1;33m(\u001b[0m\u001b[0mmodel\u001b[0m\u001b[1;33m,\u001b[0m \u001b[0mepoch_logs\u001b[0m\u001b[1;33m,\u001b[0m \u001b[0mtraining_result\u001b[0m\u001b[1;33m,\u001b[0m \u001b[0mModeKeys\u001b[0m\u001b[1;33m.\u001b[0m\u001b[0mTRAIN\u001b[0m\u001b[1;33m)\u001b[0m\u001b[1;33m\u001b[0m\u001b[1;33m\u001b[0m\u001b[0m\n\u001b[0;32m    344\u001b[0m \u001b[1;33m\u001b[0m\u001b[0m\n",
      "\u001b[1;32mD:\\ProgramData\\Anaconda3\\envs\\06_ten_GPU_22\\lib\\site-packages\\tensorflow_core\\python\\keras\\engine\\training_v2.py\u001b[0m in \u001b[0;36mrun_one_epoch\u001b[1;34m(model, iterator, execution_function, dataset_size, batch_size, strategy, steps_per_epoch, num_samples, mode, training_context, total_epochs)\u001b[0m\n\u001b[0;32m    124\u001b[0m       \u001b[0mcurrent_batch_size\u001b[0m \u001b[1;33m=\u001b[0m \u001b[0mnum_samples\u001b[0m \u001b[1;33m-\u001b[0m \u001b[0mstep\u001b[0m \u001b[1;33m*\u001b[0m \u001b[0mbatch_size\u001b[0m\u001b[1;33m\u001b[0m\u001b[1;33m\u001b[0m\u001b[0m\n\u001b[0;32m    125\u001b[0m     with training_context.on_batch(\n\u001b[1;32m--> 126\u001b[1;33m         step=step, mode=mode, size=current_batch_size) as batch_logs:\n\u001b[0m\u001b[0;32m    127\u001b[0m       \u001b[1;32mtry\u001b[0m\u001b[1;33m:\u001b[0m\u001b[1;33m\u001b[0m\u001b[1;33m\u001b[0m\u001b[0m\n\u001b[0;32m    128\u001b[0m         \u001b[0mbatch_outs\u001b[0m \u001b[1;33m=\u001b[0m \u001b[0mexecution_function\u001b[0m\u001b[1;33m(\u001b[0m\u001b[0miterator\u001b[0m\u001b[1;33m)\u001b[0m\u001b[1;33m\u001b[0m\u001b[1;33m\u001b[0m\u001b[0m\n",
      "\u001b[1;32mD:\\ProgramData\\Anaconda3\\envs\\06_ten_GPU_22\\lib\\contextlib.py\u001b[0m in \u001b[0;36m__enter__\u001b[1;34m(self)\u001b[0m\n\u001b[0;32m    110\u001b[0m         \u001b[1;32mdel\u001b[0m \u001b[0mself\u001b[0m\u001b[1;33m.\u001b[0m\u001b[0margs\u001b[0m\u001b[1;33m,\u001b[0m \u001b[0mself\u001b[0m\u001b[1;33m.\u001b[0m\u001b[0mkwds\u001b[0m\u001b[1;33m,\u001b[0m \u001b[0mself\u001b[0m\u001b[1;33m.\u001b[0m\u001b[0mfunc\u001b[0m\u001b[1;33m\u001b[0m\u001b[1;33m\u001b[0m\u001b[0m\n\u001b[0;32m    111\u001b[0m         \u001b[1;32mtry\u001b[0m\u001b[1;33m:\u001b[0m\u001b[1;33m\u001b[0m\u001b[1;33m\u001b[0m\u001b[0m\n\u001b[1;32m--> 112\u001b[1;33m             \u001b[1;32mreturn\u001b[0m \u001b[0mnext\u001b[0m\u001b[1;33m(\u001b[0m\u001b[0mself\u001b[0m\u001b[1;33m.\u001b[0m\u001b[0mgen\u001b[0m\u001b[1;33m)\u001b[0m\u001b[1;33m\u001b[0m\u001b[1;33m\u001b[0m\u001b[0m\n\u001b[0m\u001b[0;32m    113\u001b[0m         \u001b[1;32mexcept\u001b[0m \u001b[0mStopIteration\u001b[0m\u001b[1;33m:\u001b[0m\u001b[1;33m\u001b[0m\u001b[1;33m\u001b[0m\u001b[0m\n\u001b[0;32m    114\u001b[0m             \u001b[1;32mraise\u001b[0m \u001b[0mRuntimeError\u001b[0m\u001b[1;33m(\u001b[0m\u001b[1;34m\"generator didn't yield\"\u001b[0m\u001b[1;33m)\u001b[0m \u001b[1;32mfrom\u001b[0m \u001b[1;32mNone\u001b[0m\u001b[1;33m\u001b[0m\u001b[1;33m\u001b[0m\u001b[0m\n",
      "\u001b[1;32mD:\\ProgramData\\Anaconda3\\envs\\06_ten_GPU_22\\lib\\site-packages\\tensorflow_core\\python\\keras\\engine\\training_v2.py\u001b[0m in \u001b[0;36mon_batch\u001b[1;34m(self, step, mode, size)\u001b[0m\n\u001b[0;32m    779\u001b[0m       \u001b[0mbatch_logs\u001b[0m \u001b[1;33m=\u001b[0m \u001b[1;33m{\u001b[0m\u001b[1;34m'batch'\u001b[0m\u001b[1;33m:\u001b[0m \u001b[0mstep\u001b[0m\u001b[1;33m,\u001b[0m \u001b[1;34m'size'\u001b[0m\u001b[1;33m:\u001b[0m \u001b[0msize\u001b[0m\u001b[1;33m}\u001b[0m\u001b[1;33m\u001b[0m\u001b[1;33m\u001b[0m\u001b[0m\n\u001b[0;32m    780\u001b[0m       self.callbacks._call_batch_hook(\n\u001b[1;32m--> 781\u001b[1;33m           mode, 'begin', step, batch_logs)\n\u001b[0m\u001b[0;32m    782\u001b[0m       \u001b[0mself\u001b[0m\u001b[1;33m.\u001b[0m\u001b[0mprogbar\u001b[0m\u001b[1;33m.\u001b[0m\u001b[0mon_batch_begin\u001b[0m\u001b[1;33m(\u001b[0m\u001b[0mstep\u001b[0m\u001b[1;33m,\u001b[0m \u001b[0mbatch_logs\u001b[0m\u001b[1;33m)\u001b[0m\u001b[1;33m\u001b[0m\u001b[1;33m\u001b[0m\u001b[0m\n\u001b[0;32m    783\u001b[0m       \u001b[1;32mtry\u001b[0m\u001b[1;33m:\u001b[0m\u001b[1;33m\u001b[0m\u001b[1;33m\u001b[0m\u001b[0m\n",
      "\u001b[1;32mD:\\ProgramData\\Anaconda3\\envs\\06_ten_GPU_22\\lib\\site-packages\\tensorflow_core\\python\\keras\\callbacks.py\u001b[0m in \u001b[0;36m_call_batch_hook\u001b[1;34m(self, mode, hook, batch, logs)\u001b[0m\n\u001b[0;32m    240\u001b[0m     \u001b[0mself\u001b[0m\u001b[1;33m.\u001b[0m\u001b[0m_delta_ts\u001b[0m\u001b[1;33m[\u001b[0m\u001b[0mhook_name\u001b[0m\u001b[1;33m]\u001b[0m\u001b[1;33m.\u001b[0m\u001b[0mappend\u001b[0m\u001b[1;33m(\u001b[0m\u001b[0mtime\u001b[0m\u001b[1;33m.\u001b[0m\u001b[0mtime\u001b[0m\u001b[1;33m(\u001b[0m\u001b[1;33m)\u001b[0m \u001b[1;33m-\u001b[0m \u001b[0mt_before_callbacks\u001b[0m\u001b[1;33m)\u001b[0m\u001b[1;33m\u001b[0m\u001b[1;33m\u001b[0m\u001b[0m\n\u001b[0;32m    241\u001b[0m \u001b[1;33m\u001b[0m\u001b[0m\n\u001b[1;32m--> 242\u001b[1;33m     \u001b[0mdelta_t_median\u001b[0m \u001b[1;33m=\u001b[0m \u001b[0mnp\u001b[0m\u001b[1;33m.\u001b[0m\u001b[0mmedian\u001b[0m\u001b[1;33m(\u001b[0m\u001b[0mself\u001b[0m\u001b[1;33m.\u001b[0m\u001b[0m_delta_ts\u001b[0m\u001b[1;33m[\u001b[0m\u001b[0mhook_name\u001b[0m\u001b[1;33m]\u001b[0m\u001b[1;33m)\u001b[0m\u001b[1;33m\u001b[0m\u001b[1;33m\u001b[0m\u001b[0m\n\u001b[0m\u001b[0;32m    243\u001b[0m     if (self._delta_t_batch > 0. and\n\u001b[0;32m    244\u001b[0m         delta_t_median > 0.95 * self._delta_t_batch and delta_t_median > 0.1):\n",
      "\u001b[1;32m<__array_function__ internals>\u001b[0m in \u001b[0;36mmedian\u001b[1;34m(*args, **kwargs)\u001b[0m\n",
      "\u001b[1;32mD:\\ProgramData\\Anaconda3\\envs\\06_ten_GPU_22\\lib\\site-packages\\numpy\\lib\\function_base.py\u001b[0m in \u001b[0;36mmedian\u001b[1;34m(a, axis, out, overwrite_input, keepdims)\u001b[0m\n\u001b[0;32m   3519\u001b[0m     \"\"\"\n\u001b[0;32m   3520\u001b[0m     r, k = _ureduce(a, func=_median, axis=axis, out=out,\n\u001b[1;32m-> 3521\u001b[1;33m                     overwrite_input=overwrite_input)\n\u001b[0m\u001b[0;32m   3522\u001b[0m     \u001b[1;32mif\u001b[0m \u001b[0mkeepdims\u001b[0m\u001b[1;33m:\u001b[0m\u001b[1;33m\u001b[0m\u001b[1;33m\u001b[0m\u001b[0m\n\u001b[0;32m   3523\u001b[0m         \u001b[1;32mreturn\u001b[0m \u001b[0mr\u001b[0m\u001b[1;33m.\u001b[0m\u001b[0mreshape\u001b[0m\u001b[1;33m(\u001b[0m\u001b[0mk\u001b[0m\u001b[1;33m)\u001b[0m\u001b[1;33m\u001b[0m\u001b[1;33m\u001b[0m\u001b[0m\n",
      "\u001b[1;32mD:\\ProgramData\\Anaconda3\\envs\\06_ten_GPU_22\\lib\\site-packages\\numpy\\lib\\function_base.py\u001b[0m in \u001b[0;36m_ureduce\u001b[1;34m(a, func, **kwargs)\u001b[0m\n\u001b[0;32m   3427\u001b[0m         \u001b[0mkeepdim\u001b[0m \u001b[1;33m=\u001b[0m \u001b[1;33m(\u001b[0m\u001b[1;36m1\u001b[0m\u001b[1;33m,\u001b[0m\u001b[1;33m)\u001b[0m \u001b[1;33m*\u001b[0m \u001b[0ma\u001b[0m\u001b[1;33m.\u001b[0m\u001b[0mndim\u001b[0m\u001b[1;33m\u001b[0m\u001b[1;33m\u001b[0m\u001b[0m\n\u001b[0;32m   3428\u001b[0m \u001b[1;33m\u001b[0m\u001b[0m\n\u001b[1;32m-> 3429\u001b[1;33m     \u001b[0mr\u001b[0m \u001b[1;33m=\u001b[0m \u001b[0mfunc\u001b[0m\u001b[1;33m(\u001b[0m\u001b[0ma\u001b[0m\u001b[1;33m,\u001b[0m \u001b[1;33m**\u001b[0m\u001b[0mkwargs\u001b[0m\u001b[1;33m)\u001b[0m\u001b[1;33m\u001b[0m\u001b[1;33m\u001b[0m\u001b[0m\n\u001b[0m\u001b[0;32m   3430\u001b[0m     \u001b[1;32mreturn\u001b[0m \u001b[0mr\u001b[0m\u001b[1;33m,\u001b[0m \u001b[0mkeepdim\u001b[0m\u001b[1;33m\u001b[0m\u001b[1;33m\u001b[0m\u001b[0m\n\u001b[0;32m   3431\u001b[0m \u001b[1;33m\u001b[0m\u001b[0m\n",
      "\u001b[1;32mD:\\ProgramData\\Anaconda3\\envs\\06_ten_GPU_22\\lib\\site-packages\\numpy\\lib\\function_base.py\u001b[0m in \u001b[0;36m_median\u001b[1;34m(a, axis, out, overwrite_input)\u001b[0m\n\u001b[0;32m   3553\u001b[0m             \u001b[0mpart\u001b[0m \u001b[1;33m=\u001b[0m \u001b[0ma\u001b[0m\u001b[1;33m\u001b[0m\u001b[1;33m\u001b[0m\u001b[0m\n\u001b[0;32m   3554\u001b[0m     \u001b[1;32melse\u001b[0m\u001b[1;33m:\u001b[0m\u001b[1;33m\u001b[0m\u001b[1;33m\u001b[0m\u001b[0m\n\u001b[1;32m-> 3555\u001b[1;33m         \u001b[0mpart\u001b[0m \u001b[1;33m=\u001b[0m \u001b[0mpartition\u001b[0m\u001b[1;33m(\u001b[0m\u001b[0ma\u001b[0m\u001b[1;33m,\u001b[0m \u001b[0mkth\u001b[0m\u001b[1;33m,\u001b[0m \u001b[0maxis\u001b[0m\u001b[1;33m=\u001b[0m\u001b[0maxis\u001b[0m\u001b[1;33m)\u001b[0m\u001b[1;33m\u001b[0m\u001b[1;33m\u001b[0m\u001b[0m\n\u001b[0m\u001b[0;32m   3556\u001b[0m \u001b[1;33m\u001b[0m\u001b[0m\n\u001b[0;32m   3557\u001b[0m     \u001b[1;32mif\u001b[0m \u001b[0mpart\u001b[0m\u001b[1;33m.\u001b[0m\u001b[0mshape\u001b[0m \u001b[1;33m==\u001b[0m \u001b[1;33m(\u001b[0m\u001b[1;33m)\u001b[0m\u001b[1;33m:\u001b[0m\u001b[1;33m\u001b[0m\u001b[1;33m\u001b[0m\u001b[0m\n",
      "\u001b[1;32m<__array_function__ internals>\u001b[0m in \u001b[0;36mpartition\u001b[1;34m(*args, **kwargs)\u001b[0m\n",
      "\u001b[1;32mD:\\ProgramData\\Anaconda3\\envs\\06_ten_GPU_22\\lib\\site-packages\\numpy\\core\\fromnumeric.py\u001b[0m in \u001b[0;36mpartition\u001b[1;34m(a, kth, axis, kind, order)\u001b[0m\n\u001b[0;32m    746\u001b[0m     \u001b[1;32melse\u001b[0m\u001b[1;33m:\u001b[0m\u001b[1;33m\u001b[0m\u001b[1;33m\u001b[0m\u001b[0m\n\u001b[0;32m    747\u001b[0m         \u001b[0ma\u001b[0m \u001b[1;33m=\u001b[0m \u001b[0masanyarray\u001b[0m\u001b[1;33m(\u001b[0m\u001b[0ma\u001b[0m\u001b[1;33m)\u001b[0m\u001b[1;33m.\u001b[0m\u001b[0mcopy\u001b[0m\u001b[1;33m(\u001b[0m\u001b[0morder\u001b[0m\u001b[1;33m=\u001b[0m\u001b[1;34m\"K\"\u001b[0m\u001b[1;33m)\u001b[0m\u001b[1;33m\u001b[0m\u001b[1;33m\u001b[0m\u001b[0m\n\u001b[1;32m--> 748\u001b[1;33m     \u001b[0ma\u001b[0m\u001b[1;33m.\u001b[0m\u001b[0mpartition\u001b[0m\u001b[1;33m(\u001b[0m\u001b[0mkth\u001b[0m\u001b[1;33m,\u001b[0m \u001b[0maxis\u001b[0m\u001b[1;33m=\u001b[0m\u001b[0maxis\u001b[0m\u001b[1;33m,\u001b[0m \u001b[0mkind\u001b[0m\u001b[1;33m=\u001b[0m\u001b[0mkind\u001b[0m\u001b[1;33m,\u001b[0m \u001b[0morder\u001b[0m\u001b[1;33m=\u001b[0m\u001b[0morder\u001b[0m\u001b[1;33m)\u001b[0m\u001b[1;33m\u001b[0m\u001b[1;33m\u001b[0m\u001b[0m\n\u001b[0m\u001b[0;32m    749\u001b[0m     \u001b[1;32mreturn\u001b[0m \u001b[0ma\u001b[0m\u001b[1;33m\u001b[0m\u001b[1;33m\u001b[0m\u001b[0m\n\u001b[0;32m    750\u001b[0m \u001b[1;33m\u001b[0m\u001b[0m\n",
      "\u001b[1;31mKeyboardInterrupt\u001b[0m: "
     ]
    }
   ],
   "source": [
    "_, history = embed_mod(training_padded, training_labels, word_index, testing_padded, testing_labels)"
   ]
  },
  {
   "cell_type": "code",
   "execution_count": null,
   "metadata": {},
   "outputs": [],
   "source": []
  },
  {
   "cell_type": "code",
   "execution_count": null,
   "metadata": {},
   "outputs": [],
   "source": [
    "v"
   ]
  },
  {
   "cell_type": "code",
   "execution_count": 3,
   "metadata": {},
   "outputs": [],
   "source": [
    "(x_train, y_train), (x_test, y_test) = mnist.load_data()\n",
    "x_train, x_test = x_train / 255.0, x_test / 255.0\n",
    "\n",
    "import os\n",
    "os.environ['TF_CPP_MIN_LOG_LEVEL']='2'\n",
    "\n",
    "mnist = tf.keras.datasets.mnist\n",
    "\n",
    "model = tf.keras.models.Sequential([\n",
    "  tf.keras.layers.Flatten(input_shape=(28, 28)),\n",
    "  tf.keras.layers.Dense(128, activation='relu'),\n",
    "  tf.keras.layers.Dropout(0.2),\n",
    "  tf.keras.layers.Dense(10)\n",
    "])\n",
    "\n",
    "predictions = model(x_train[:1]).numpy()\n",
    "predictions\n",
    "\n",
    "tf.nn.softmax(predictions).numpy()\n",
    "\n",
    "loss_fn = tf.keras.losses.SparseCategoricalCrossentropy(from_logits=True)\n",
    "\n",
    "loss_fn(y_train[:1], predictions).numpy()\n",
    "\n",
    "model.compile(optimizer='adam',\n",
    "              loss=loss_fn,\n",
    "              metrics=['accuracy'])\n",
    "\n",
    "model.fit(x_train, y_train, epochs=5)"
   ]
  },
  {
   "cell_type": "code",
   "execution_count": null,
   "metadata": {},
   "outputs": [],
   "source": []
  },
  {
   "cell_type": "code",
   "execution_count": null,
   "metadata": {},
   "outputs": [],
   "source": []
  },
  {
   "cell_type": "code",
   "execution_count": 47,
   "metadata": {},
   "outputs": [
    {
     "data": {
      "text/plain": [
       "[[4, 2, 1, 3], [4, 2, 1, 6], [5, 2, 1, 3], [7, 5, 8, 1, 3, 9, 10]]"
      ]
     },
     "execution_count": 47,
     "metadata": {},
     "output_type": "execute_result"
    }
   ],
   "source": [
    "seq"
   ]
  },
  {
   "cell_type": "code",
   "execution_count": 48,
   "metadata": {},
   "outputs": [],
   "source": [
    "test_data = [\n",
    "    'i really love my dog',\n",
    "    'my dog loves my manatee'\n",
    "]"
   ]
  },
  {
   "cell_type": "code",
   "execution_count": 76,
   "metadata": {},
   "outputs": [],
   "source": [
    "token_1, word_index_1, seq_1 = token(sentences)"
   ]
  },
  {
   "cell_type": "code",
   "execution_count": 77,
   "metadata": {},
   "outputs": [],
   "source": [
    "test_seq = token_1.texts_to_sequences(test_data)"
   ]
  },
  {
   "cell_type": "code",
   "execution_count": 78,
   "metadata": {},
   "outputs": [
    {
     "data": {
      "text/plain": [
       "[[5, 1, 3, 2, 4], [2, 4, 1, 2, 1]]"
      ]
     },
     "execution_count": 78,
     "metadata": {},
     "output_type": "execute_result"
    }
   ],
   "source": [
    "test_seq"
   ]
  },
  {
   "cell_type": "code",
   "execution_count": 79,
   "metadata": {},
   "outputs": [],
   "source": [
    "word_index_2 = token_1.word_index"
   ]
  },
  {
   "cell_type": "code",
   "execution_count": 80,
   "metadata": {},
   "outputs": [
    {
     "data": {
      "text/plain": [
       "{'<OOV>': 1,\n",
       " 'my': 2,\n",
       " 'love': 3,\n",
       " 'dog': 4,\n",
       " 'i': 5,\n",
       " 'you': 6,\n",
       " 'cat': 7,\n",
       " 'do': 8,\n",
       " 'think': 9,\n",
       " 'is': 10,\n",
       " 'amazing': 11}"
      ]
     },
     "execution_count": 80,
     "metadata": {},
     "output_type": "execute_result"
    }
   ],
   "source": [
    "word_index_2"
   ]
  },
  {
   "cell_type": "code",
   "execution_count": 52,
   "metadata": {},
   "outputs": [
    {
     "data": {
      "text/plain": [
       "{'my': 1, 'dog': 2, 'i': 3, 'really': 4, 'love': 5, 'loves': 6, 'manatee': 7}"
      ]
     },
     "execution_count": 52,
     "metadata": {},
     "output_type": "execute_result"
    }
   ],
   "source": [
    "word_index_1"
   ]
  },
  {
   "cell_type": "code",
   "execution_count": 53,
   "metadata": {},
   "outputs": [
    {
     "data": {
      "text/plain": [
       "[[3, 4, 5, 1, 2], [1, 2, 6, 1, 7]]"
      ]
     },
     "execution_count": 53,
     "metadata": {},
     "output_type": "execute_result"
    }
   ],
   "source": [
    "seq_1"
   ]
  },
  {
   "cell_type": "code",
   "execution_count": null,
   "metadata": {},
   "outputs": [],
   "source": []
  },
  {
   "cell_type": "code",
   "execution_count": null,
   "metadata": {},
   "outputs": [],
   "source": []
  },
  {
   "cell_type": "code",
   "execution_count": null,
   "metadata": {},
   "outputs": [],
   "source": []
  },
  {
   "cell_type": "code",
   "execution_count": 107,
   "metadata": {},
   "outputs": [
    {
     "data": {
      "text/plain": [
       "26709"
      ]
     },
     "execution_count": 107,
     "metadata": {},
     "output_type": "execute_result"
    }
   ],
   "source": [
    "len(sentences_data)"
   ]
  },
  {
   "cell_type": "code",
   "execution_count": 124,
   "metadata": {},
   "outputs": [
    {
     "data": {
      "text/plain": [
       "\"former versace store clerk sues over secret 'black code' for minority shoppers\""
      ]
     },
     "execution_count": 124,
     "metadata": {},
     "output_type": "execute_result"
    }
   ],
   "source": [
    "sentences_data[0]"
   ]
  },
  {
   "cell_type": "code",
   "execution_count": 99,
   "metadata": {},
   "outputs": [
    {
     "data": {
      "text/plain": [
       "26709"
      ]
     },
     "execution_count": 99,
     "metadata": {},
     "output_type": "execute_result"
    }
   ],
   "source": [
    "len(labels)"
   ]
  },
  {
   "cell_type": "code",
   "execution_count": 100,
   "metadata": {},
   "outputs": [
    {
     "data": {
      "text/plain": [
       "26709"
      ]
     },
     "execution_count": 100,
     "metadata": {},
     "output_type": "execute_result"
    }
   ],
   "source": [
    "len(urls)"
   ]
  },
  {
   "cell_type": "code",
   "execution_count": 131,
   "metadata": {},
   "outputs": [],
   "source": [
    "token, index, seq, padded = token(sentences_data)"
   ]
  },
  {
   "cell_type": "code",
   "execution_count": 110,
   "metadata": {},
   "outputs": [
    {
     "data": {
      "text/plain": [
       "array([  308, 15115,   679,  3337,  2298,    48,   382,  2576, 15116,\n",
       "           6,  2577,  8434,     0,     0,     0,     0,     0,     0,\n",
       "           0,     0,     0,     0,     0,     0,     0,     0,     0,\n",
       "           0,     0,     0,     0,     0,     0,     0,     0,     0,\n",
       "           0,     0,     0,     0])"
      ]
     },
     "execution_count": 110,
     "metadata": {},
     "output_type": "execute_result"
    }
   ],
   "source": [
    "padded[0]"
   ]
  },
  {
   "cell_type": "code",
   "execution_count": 111,
   "metadata": {},
   "outputs": [
    {
     "data": {
      "text/plain": [
       "(26709, 40)"
      ]
     },
     "execution_count": 111,
     "metadata": {},
     "output_type": "execute_result"
    }
   ],
   "source": [
    "padded.shape"
   ]
  },
  {
   "cell_type": "code",
   "execution_count": 112,
   "metadata": {},
   "outputs": [
    {
     "data": {
      "text/plain": [
       "[308, 15115, 679, 3337, 2298, 48, 382, 2576, 15116, 6, 2577, 8434]"
      ]
     },
     "execution_count": 112,
     "metadata": {},
     "output_type": "execute_result"
    }
   ],
   "source": [
    "seq[0]"
   ]
  },
  {
   "cell_type": "code",
   "execution_count": 132,
   "metadata": {},
   "outputs": [
    {
     "data": {
      "text/plain": [
       "{'<OOV>': 1,\n",
       " 'to': 2,\n",
       " 'of': 3,\n",
       " 'the': 4,\n",
       " 'in': 5,\n",
       " 'for': 6,\n",
       " 'a': 7,\n",
       " 'on': 8,\n",
       " 'and': 9,\n",
       " 'with': 10,\n",
       " 'is': 11,\n",
       " 'new': 12,\n",
       " 'trump': 13,\n",
       " 'man': 14,\n",
       " 'from': 15,\n",
       " 'at': 16,\n",
       " 'about': 17,\n",
       " 'you': 18,\n",
       " 'this': 19,\n",
       " 'by': 20,\n",
       " 'after': 21,\n",
       " 'up': 22,\n",
       " 'out': 23,\n",
       " 'be': 24,\n",
       " 'how': 25,\n",
       " 'as': 26,\n",
       " 'it': 27,\n",
       " 'that': 28,\n",
       " 'not': 29,\n",
       " 'are': 30,\n",
       " 'your': 31,\n",
       " 'his': 32,\n",
       " 'what': 33,\n",
       " 'he': 34,\n",
       " 'all': 35,\n",
       " 'just': 36,\n",
       " 'who': 37,\n",
       " 'has': 38,\n",
       " 'will': 39,\n",
       " 'more': 40,\n",
       " 'one': 41,\n",
       " 'into': 42,\n",
       " 'report': 43,\n",
       " 'year': 44,\n",
       " 'why': 45,\n",
       " 'have': 46,\n",
       " 'area': 47,\n",
       " 'over': 48,\n",
       " 'donald': 49,\n",
       " 'u': 50,\n",
       " 'day': 51,\n",
       " 'says': 52,\n",
       " 's': 53,\n",
       " 'can': 54,\n",
       " 'first': 55,\n",
       " 'woman': 56,\n",
       " 'time': 57,\n",
       " 'like': 58,\n",
       " 'her': 59,\n",
       " \"trump's\": 60,\n",
       " 'old': 61,\n",
       " 'no': 62,\n",
       " 'get': 63,\n",
       " 'off': 64,\n",
       " 'an': 65,\n",
       " 'life': 66,\n",
       " 'people': 67,\n",
       " 'obama': 68,\n",
       " 'now': 69,\n",
       " 'house': 70,\n",
       " 'still': 71,\n",
       " \"'\": 72,\n",
       " 'women': 73,\n",
       " 'make': 74,\n",
       " 'was': 75,\n",
       " 'than': 76,\n",
       " 'white': 77,\n",
       " 'back': 78,\n",
       " 'my': 79,\n",
       " 'i': 80,\n",
       " 'clinton': 81,\n",
       " 'down': 82,\n",
       " 'if': 83,\n",
       " '5': 84,\n",
       " 'when': 85,\n",
       " 'world': 86,\n",
       " 'could': 87,\n",
       " 'we': 88,\n",
       " 'their': 89,\n",
       " 'before': 90,\n",
       " 'americans': 91,\n",
       " 'way': 92,\n",
       " 'do': 93,\n",
       " 'family': 94,\n",
       " 'most': 95,\n",
       " 'gop': 96,\n",
       " 'they': 97,\n",
       " 'study': 98,\n",
       " 'school': 99,\n",
       " \"it's\": 100,\n",
       " 'black': 101,\n",
       " 'best': 102,\n",
       " 'years': 103,\n",
       " 'bill': 104,\n",
       " 'should': 105,\n",
       " '3': 106,\n",
       " 'him': 107,\n",
       " 'would': 108,\n",
       " 'so': 109,\n",
       " 'police': 110,\n",
       " 'only': 111,\n",
       " 'watch': 112,\n",
       " 'american': 113,\n",
       " 'really': 114,\n",
       " 'being': 115,\n",
       " 'but': 116,\n",
       " 'last': 117,\n",
       " 'know': 118,\n",
       " '10': 119,\n",
       " \"can't\": 120,\n",
       " 'death': 121,\n",
       " 'home': 122,\n",
       " 'during': 123,\n",
       " 'video': 124,\n",
       " 'finds': 125,\n",
       " 'state': 126,\n",
       " 'or': 127,\n",
       " 'president': 128,\n",
       " 'health': 129,\n",
       " 'going': 130,\n",
       " 'say': 131,\n",
       " 'show': 132,\n",
       " 'nation': 133,\n",
       " 'good': 134,\n",
       " 'things': 135,\n",
       " 'hillary': 136,\n",
       " \"'the\": 137,\n",
       " 'may': 138,\n",
       " '2': 139,\n",
       " 'against': 140,\n",
       " 'campaign': 141,\n",
       " 'every': 142,\n",
       " 'she': 143,\n",
       " 'love': 144,\n",
       " 'mom': 145,\n",
       " 'need': 146,\n",
       " 'big': 147,\n",
       " 'right': 148,\n",
       " 'party': 149,\n",
       " 'gets': 150,\n",
       " '000': 151,\n",
       " 'too': 152,\n",
       " 'getting': 153,\n",
       " 'these': 154,\n",
       " 'kids': 155,\n",
       " 'some': 156,\n",
       " 'parents': 157,\n",
       " 'work': 158,\n",
       " 'court': 159,\n",
       " 'little': 160,\n",
       " 'change': 161,\n",
       " 'take': 162,\n",
       " 'high': 163,\n",
       " 'makes': 164,\n",
       " 'self': 165,\n",
       " 'our': 166,\n",
       " 'calls': 167,\n",
       " 'john': 168,\n",
       " 'other': 169,\n",
       " 'news': 170,\n",
       " 'through': 171,\n",
       " \"doesn't\": 172,\n",
       " 'while': 173,\n",
       " \"here's\": 174,\n",
       " 'never': 175,\n",
       " 'child': 176,\n",
       " 'gay': 177,\n",
       " 'dead': 178,\n",
       " 'look': 179,\n",
       " 'election': 180,\n",
       " 'want': 181,\n",
       " 'own': 182,\n",
       " '4': 183,\n",
       " \"don't\": 184,\n",
       " 'see': 185,\n",
       " 'takes': 186,\n",
       " 'america': 187,\n",
       " '7': 188,\n",
       " 'local': 189,\n",
       " 'real': 190,\n",
       " 'where': 191,\n",
       " 'next': 192,\n",
       " 'stop': 193,\n",
       " 'even': 194,\n",
       " 'its': 195,\n",
       " \"he's\": 196,\n",
       " 'war': 197,\n",
       " 'college': 198,\n",
       " 'go': 199,\n",
       " '6': 200,\n",
       " \"nation's\": 201,\n",
       " 'sex': 202,\n",
       " 'bush': 203,\n",
       " 'made': 204,\n",
       " 'plan': 205,\n",
       " 'office': 206,\n",
       " 'again': 207,\n",
       " 'guy': 208,\n",
       " 'two': 209,\n",
       " 'dad': 210,\n",
       " 'another': 211,\n",
       " 'around': 212,\n",
       " 'dog': 213,\n",
       " 'got': 214,\n",
       " '1': 215,\n",
       " 'million': 216,\n",
       " 'ever': 217,\n",
       " 'week': 218,\n",
       " 'baby': 219,\n",
       " 'debate': 220,\n",
       " 'thing': 221,\n",
       " 'them': 222,\n",
       " 'gun': 223,\n",
       " 'wants': 224,\n",
       " 'care': 225,\n",
       " 'us': 226,\n",
       " 'help': 227,\n",
       " 'much': 228,\n",
       " 'long': 229,\n",
       " 'night': 230,\n",
       " 'congress': 231,\n",
       " 'job': 232,\n",
       " 'finally': 233,\n",
       " 'north': 234,\n",
       " 'been': 235,\n",
       " 'under': 236,\n",
       " \"man's\": 237,\n",
       " 'actually': 238,\n",
       " 'star': 239,\n",
       " 'national': 240,\n",
       " 'live': 241,\n",
       " 'climate': 242,\n",
       " 'season': 243,\n",
       " 'money': 244,\n",
       " 'couple': 245,\n",
       " \"won't\": 246,\n",
       " '8': 247,\n",
       " '9': 248,\n",
       " 'top': 249,\n",
       " 'god': 250,\n",
       " 'anti': 251,\n",
       " 'media': 252,\n",
       " 'food': 253,\n",
       " 'ways': 254,\n",
       " '20': 255,\n",
       " 'shows': 256,\n",
       " 'sexual': 257,\n",
       " 'better': 258,\n",
       " 'give': 259,\n",
       " 'shooting': 260,\n",
       " 'had': 261,\n",
       " 'teen': 262,\n",
       " 'face': 263,\n",
       " 'making': 264,\n",
       " 'game': 265,\n",
       " 'paul': 266,\n",
       " 'reveals': 267,\n",
       " 'me': 268,\n",
       " 'trying': 269,\n",
       " 'senate': 270,\n",
       " 'supreme': 271,\n",
       " 'announces': 272,\n",
       " 'there': 273,\n",
       " 'away': 274,\n",
       " 'men': 275,\n",
       " 'history': 276,\n",
       " 'business': 277,\n",
       " 'bad': 278,\n",
       " 'without': 279,\n",
       " 'students': 280,\n",
       " 'everyone': 281,\n",
       " 'attack': 282,\n",
       " 'end': 283,\n",
       " 'story': 284,\n",
       " 'fight': 285,\n",
       " 'facebook': 286,\n",
       " 'son': 287,\n",
       " 'free': 288,\n",
       " 'children': 289,\n",
       " 'enough': 290,\n",
       " 'tv': 291,\n",
       " 'law': 292,\n",
       " 'movie': 293,\n",
       " 'city': 294,\n",
       " 'any': 295,\n",
       " 'introduces': 296,\n",
       " 'pope': 297,\n",
       " 'deal': 298,\n",
       " 'government': 299,\n",
       " 'body': 300,\n",
       " 'part': 301,\n",
       " 'york': 302,\n",
       " '11': 303,\n",
       " 'tell': 304,\n",
       " 'great': 305,\n",
       " 'film': 306,\n",
       " 'does': 307,\n",
       " 'former': 308,\n",
       " 'single': 309,\n",
       " 'entire': 310,\n",
       " 'friends': 311,\n",
       " 'fire': 312,\n",
       " 'call': 313,\n",
       " 'found': 314,\n",
       " 'friend': 315,\n",
       " 'book': 316,\n",
       " 'wedding': 317,\n",
       " 'think': 318,\n",
       " 'come': 319,\n",
       " 'republican': 320,\n",
       " 'must': 321,\n",
       " 'girl': 322,\n",
       " 'find': 323,\n",
       " 'second': 324,\n",
       " 'middle': 325,\n",
       " 'morning': 326,\n",
       " 'support': 327,\n",
       " 'same': 328,\n",
       " 'speech': 329,\n",
       " 'public': 330,\n",
       " 'photos': 331,\n",
       " 'use': 332,\n",
       " 'talk': 333,\n",
       " 'line': 334,\n",
       " 'car': 335,\n",
       " 'sanders': 336,\n",
       " 'name': 337,\n",
       " 'keep': 338,\n",
       " 'thinks': 339,\n",
       " 'run': 340,\n",
       " 'already': 341,\n",
       " 'looking': 342,\n",
       " 'presidential': 343,\n",
       " 'coming': 344,\n",
       " 'james': 345,\n",
       " 'republicans': 346,\n",
       " 'email': 347,\n",
       " \"didn't\": 348,\n",
       " 'tax': 349,\n",
       " 'pretty': 350,\n",
       " 'case': 351,\n",
       " 'company': 352,\n",
       " 'behind': 353,\n",
       " 'rights': 354,\n",
       " 'power': 355,\n",
       " 'open': 356,\n",
       " 'future': 357,\n",
       " 'marriage': 358,\n",
       " 'between': 359,\n",
       " 'releases': 360,\n",
       " 'violence': 361,\n",
       " 'christmas': 362,\n",
       " 'security': 363,\n",
       " '2016': 364,\n",
       " \"world's\": 365,\n",
       " 'used': 366,\n",
       " 'human': 367,\n",
       " 'killed': 368,\n",
       " 'voters': 369,\n",
       " 'once': 370,\n",
       " 'control': 371,\n",
       " 'goes': 372,\n",
       " 'group': 373,\n",
       " 'vote': 374,\n",
       " 'win': 375,\n",
       " 'might': 376,\n",
       " 'democrats': 377,\n",
       " 'student': 378,\n",
       " 'full': 379,\n",
       " 'something': 380,\n",
       " 'doing': 381,\n",
       " 'secret': 382,\n",
       " 'asks': 383,\n",
       " 'fans': 384,\n",
       " '12': 385,\n",
       " 'having': 386,\n",
       " 'team': 387,\n",
       " 'bernie': 388,\n",
       " 'department': 389,\n",
       " 'twitter': 390,\n",
       " 'room': 391,\n",
       " 'ban': 392,\n",
       " 'ad': 393,\n",
       " 'because': 394,\n",
       " 'poll': 395,\n",
       " 'teacher': 396,\n",
       " 'female': 397,\n",
       " 'post': 398,\n",
       " 'each': 399,\n",
       " 'wife': 400,\n",
       " 'inside': 401,\n",
       " 'ryan': 402,\n",
       " 'sure': 403,\n",
       " 'race': 404,\n",
       " 'claims': 405,\n",
       " 'music': 406,\n",
       " 'three': 407,\n",
       " 'meet': 408,\n",
       " 'record': 409,\n",
       " 'art': 410,\n",
       " 'forced': 411,\n",
       " 'boy': 412,\n",
       " '15': 413,\n",
       " 'missing': 414,\n",
       " 'many': 415,\n",
       " 'political': 416,\n",
       " 'unveils': 417,\n",
       " 'perfect': 418,\n",
       " 'head': 419,\n",
       " 'super': 420,\n",
       " 'very': 421,\n",
       " 'photo': 422,\n",
       " 'judge': 423,\n",
       " 'running': 424,\n",
       " 'reports': 425,\n",
       " 'red': 426,\n",
       " 'father': 427,\n",
       " 'save': 428,\n",
       " 'class': 429,\n",
       " 'scientists': 430,\n",
       " 'month': 431,\n",
       " 'plans': 432,\n",
       " 'days': 433,\n",
       " 'country': 434,\n",
       " 'person': 435,\n",
       " 'living': 436,\n",
       " 'tells': 437,\n",
       " 'social': 438,\n",
       " 'minutes': 439,\n",
       " 'put': 440,\n",
       " 'summer': 441,\n",
       " 'everything': 442,\n",
       " 'dies': 443,\n",
       " 'california': 444,\n",
       " 'always': 445,\n",
       " 'until': 446,\n",
       " 'obamacare': 447,\n",
       " 'states': 448,\n",
       " 'here': 449,\n",
       " 'pay': 450,\n",
       " 'ready': 451,\n",
       " 'texas': 452,\n",
       " 'were': 453,\n",
       " 'michael': 454,\n",
       " 'looks': 455,\n",
       " 'employee': 456,\n",
       " 'talks': 457,\n",
       " 'candidate': 458,\n",
       " 'needs': 459,\n",
       " 'did': 460,\n",
       " 'eating': 461,\n",
       " 'working': 462,\n",
       " 'water': 463,\n",
       " 'list': 464,\n",
       " 'justice': 465,\n",
       " 'secretary': 466,\n",
       " 'shot': 467,\n",
       " 'hot': 468,\n",
       " 'warns': 469,\n",
       " 'times': 470,\n",
       " 'comes': 471,\n",
       " 'past': 472,\n",
       " 'admits': 473,\n",
       " 'set': 474,\n",
       " 'start': 475,\n",
       " 'taking': 476,\n",
       " 'wall': 477,\n",
       " 'heart': 478,\n",
       " 'ceo': 479,\n",
       " 'ex': 480,\n",
       " 'thought': 481,\n",
       " \"'i\": 482,\n",
       " 'lives': 483,\n",
       " 'age': 484,\n",
       " 'left': 485,\n",
       " 'mike': 486,\n",
       " 'mother': 487,\n",
       " 'town': 488,\n",
       " 'gives': 489,\n",
       " '30': 490,\n",
       " 'let': 491,\n",
       " 'cruz': 492,\n",
       " \"women's\": 493,\n",
       " 'kim': 494,\n",
       " 'russia': 495,\n",
       " 'idea': 496,\n",
       " 'drug': 497,\n",
       " 'chief': 498,\n",
       " 'phone': 499,\n",
       " \"you're\": 500,\n",
       " 'cancer': 501,\n",
       " 'george': 502,\n",
       " 'crisis': 503,\n",
       " 'service': 504,\n",
       " 'biden': 505,\n",
       " 'wins': 506,\n",
       " 'hours': 507,\n",
       " \"i'm\": 508,\n",
       " 'letter': 509,\n",
       " 'wrong': 510,\n",
       " 'tips': 511,\n",
       " 'meeting': 512,\n",
       " 'south': 513,\n",
       " 'korea': 514,\n",
       " 'lost': 515,\n",
       " 'breaking': 516,\n",
       " 'daughter': 517,\n",
       " 'air': 518,\n",
       " '50': 519,\n",
       " 'probably': 520,\n",
       " 'young': 521,\n",
       " 'fbi': 522,\n",
       " 'street': 523,\n",
       " 'dream': 524,\n",
       " 'percent': 525,\n",
       " 'yet': 526,\n",
       " 'education': 527,\n",
       " 'isis': 528,\n",
       " 'romney': 529,\n",
       " 'word': 530,\n",
       " 'thousands': 531,\n",
       " 'restaurant': 532,\n",
       " 'small': 533,\n",
       " 'nuclear': 534,\n",
       " 'fucking': 535,\n",
       " 'kill': 536,\n",
       " 'today': 537,\n",
       " 'believe': 538,\n",
       " 'king': 539,\n",
       " 'tweets': 540,\n",
       " 'together': 541,\n",
       " 'half': 542,\n",
       " 'someone': 543,\n",
       " 'ted': 544,\n",
       " 'hard': 545,\n",
       " 'questions': 546,\n",
       " 'military': 547,\n",
       " 'march': 548,\n",
       " \"she's\": 549,\n",
       " 'few': 550,\n",
       " 'administration': 551,\n",
       " 'owner': 552,\n",
       " 'feel': 553,\n",
       " 'cat': 554,\n",
       " 'leaves': 555,\n",
       " 'fan': 556,\n",
       " 'internet': 557,\n",
       " 'officials': 558,\n",
       " 'third': 559,\n",
       " 'talking': 560,\n",
       " 'nothing': 561,\n",
       " 'director': 562,\n",
       " 'federal': 563,\n",
       " 'sleep': 564,\n",
       " 'chris': 565,\n",
       " 'rock': 566,\n",
       " 'place': 567,\n",
       " \"what's\": 568,\n",
       " 'washington': 569,\n",
       " 'guide': 570,\n",
       " 'online': 571,\n",
       " 'attacks': 572,\n",
       " 'muslim': 573,\n",
       " 'earth': 574,\n",
       " 'giving': 575,\n",
       " 'move': 576,\n",
       " 'lot': 577,\n",
       " 'florida': 578,\n",
       " 'ask': 579,\n",
       " 'iran': 580,\n",
       " 'latest': 581,\n",
       " 'series': 582,\n",
       " 'holiday': 583,\n",
       " 'congressman': 584,\n",
       " 'community': 585,\n",
       " 'abortion': 586,\n",
       " 'well': 587,\n",
       " 'order': 588,\n",
       " 'buy': 589,\n",
       " 'personal': 590,\n",
       " 'less': 591,\n",
       " 'months': 592,\n",
       " 'majority': 593,\n",
       " 'birthday': 594,\n",
       " 'hour': 595,\n",
       " 't': 596,\n",
       " 'prison': 597,\n",
       " '2015': 598,\n",
       " 'democratic': 599,\n",
       " 'outside': 600,\n",
       " 'problem': 601,\n",
       " 'leave': 602,\n",
       " 'assault': 603,\n",
       " 'those': 604,\n",
       " 'shit': 605,\n",
       " 'travel': 606,\n",
       " 'hollywood': 607,\n",
       " 'wearing': 608,\n",
       " 'beautiful': 609,\n",
       " 'girlfriend': 610,\n",
       " \"isn't\": 611,\n",
       " 'ice': 612,\n",
       " 'reason': 613,\n",
       " 'bar': 614,\n",
       " 'francis': 615,\n",
       " 'told': 616,\n",
       " 'different': 617,\n",
       " 'favorite': 618,\n",
       " 'issues': 619,\n",
       " 'cover': 620,\n",
       " 'rules': 621,\n",
       " 'rise': 622,\n",
       " 'happy': 623,\n",
       " 'fox': 624,\n",
       " 'fun': 625,\n",
       " 'special': 626,\n",
       " 'mark': 627,\n",
       " 'system': 628,\n",
       " 'read': 629,\n",
       " 'watching': 630,\n",
       " 'reasons': 631,\n",
       " 'girls': 632,\n",
       " 'straight': 633,\n",
       " 'play': 634,\n",
       " \"america's\": 635,\n",
       " 'al': 636,\n",
       " 'celebrates': 637,\n",
       " \"obama's\": 638,\n",
       " 'minute': 639,\n",
       " 'thinking': 640,\n",
       " 'hate': 641,\n",
       " 'excited': 642,\n",
       " 'relationship': 643,\n",
       " 'trip': 644,\n",
       " 'hit': 645,\n",
       " 'response': 646,\n",
       " 'huffpost': 647,\n",
       " 'knows': 648,\n",
       " 'russian': 649,\n",
       " 'immigration': 650,\n",
       " 'protest': 651,\n",
       " 'scott': 652,\n",
       " 'following': 653,\n",
       " '100': 654,\n",
       " 'using': 655,\n",
       " 'offers': 656,\n",
       " 'front': 657,\n",
       " 'message': 658,\n",
       " 'trailer': 659,\n",
       " 'stars': 660,\n",
       " 'leaders': 661,\n",
       " 'visit': 662,\n",
       " 'stephen': 663,\n",
       " 'hair': 664,\n",
       " 'huge': 665,\n",
       " 'box': 666,\n",
       " 'gift': 667,\n",
       " 'david': 668,\n",
       " 'union': 669,\n",
       " 'kind': 670,\n",
       " 'kid': 671,\n",
       " 'since': 672,\n",
       " 'moment': 673,\n",
       " 'china': 674,\n",
       " 'chinese': 675,\n",
       " 'birth': 676,\n",
       " 'non': 677,\n",
       " 'cop': 678,\n",
       " 'store': 679,\n",
       " 'lessons': 680,\n",
       " 'late': 681,\n",
       " 'hope': 682,\n",
       " 'accused': 683,\n",
       " 'taylor': 684,\n",
       " 'date': 685,\n",
       " 'career': 686,\n",
       " 'interview': 687,\n",
       " 'himself': 688,\n",
       " 'politics': 689,\n",
       " 'weekend': 690,\n",
       " 'called': 691,\n",
       " 'early': 692,\n",
       " 'victims': 693,\n",
       " 'least': 694,\n",
       " 'bring': 695,\n",
       " 'senator': 696,\n",
       " 'whole': 697,\n",
       " 'tom': 698,\n",
       " 'conversation': 699,\n",
       " 'adorable': 700,\n",
       " 'waiting': 701,\n",
       " 'jimmy': 702,\n",
       " 'break': 703,\n",
       " 'sports': 704,\n",
       " 'syria': 705,\n",
       " 'powerful': 706,\n",
       " 'drunk': 707,\n",
       " 'c': 708,\n",
       " 'point': 709,\n",
       " 'united': 710,\n",
       " 'leader': 711,\n",
       " 'anything': 712,\n",
       " 'become': 713,\n",
       " 'investigation': 714,\n",
       " 'opens': 715,\n",
       " 'learned': 716,\n",
       " 'words': 717,\n",
       " 'millions': 718,\n",
       " 'k': 719,\n",
       " 'die': 720,\n",
       " 'fashion': 721,\n",
       " 'cops': 722,\n",
       " \"they're\": 723,\n",
       " 'reality': 724,\n",
       " 'billion': 725,\n",
       " 'fall': 726,\n",
       " 'key': 727,\n",
       " 'true': 728,\n",
       " 'host': 729,\n",
       " 'returns': 730,\n",
       " 'joe': 731,\n",
       " 'totally': 732,\n",
       " 'syrian': 733,\n",
       " 'killing': 734,\n",
       " 'massive': 735,\n",
       " '40': 736,\n",
       " 'almost': 737,\n",
       " 'turn': 738,\n",
       " 'breaks': 739,\n",
       " 'driving': 740,\n",
       " 'mass': 741,\n",
       " 'global': 742,\n",
       " 'dating': 743,\n",
       " 'far': 744,\n",
       " 'policy': 745,\n",
       " 'schools': 746,\n",
       " 'stand': 747,\n",
       " 'trans': 748,\n",
       " 'dinner': 749,\n",
       " 'oil': 750,\n",
       " 'apple': 751,\n",
       " 'un': 752,\n",
       " 'awards': 753,\n",
       " 'queer': 754,\n",
       " 'worried': 755,\n",
       " 'kills': 756,\n",
       " 'iraq': 757,\n",
       " 'low': 758,\n",
       " 'song': 759,\n",
       " 'dance': 760,\n",
       " 'turns': 761,\n",
       " 'puts': 762,\n",
       " 'spends': 763,\n",
       " 'stage': 764,\n",
       " 'sign': 765,\n",
       " 'candidates': 766,\n",
       " 'j': 767,\n",
       " 'vows': 768,\n",
       " 'risk': 769,\n",
       " 'bus': 770,\n",
       " 'names': 771,\n",
       " 'final': 772,\n",
       " 'planned': 773,\n",
       " 'feels': 774,\n",
       " 'anniversary': 775,\n",
       " 'lgbt': 776,\n",
       " 'signs': 777,\n",
       " 'jr': 778,\n",
       " 'murder': 779,\n",
       " 'seen': 780,\n",
       " 'prince': 781,\n",
       " 'reportedly': 782,\n",
       " 'hits': 783,\n",
       " 'light': 784,\n",
       " 'sick': 785,\n",
       " 'adds': 786,\n",
       " 'crash': 787,\n",
       " 'd': 788,\n",
       " 'worst': 789,\n",
       " 'surprise': 790,\n",
       " 'hands': 791,\n",
       " 'near': 792,\n",
       " 'transgender': 793,\n",
       " 'weird': 794,\n",
       " 'nfl': 795,\n",
       " 'return': 796,\n",
       " 'moving': 797,\n",
       " \"there's\": 798,\n",
       " 'pence': 799,\n",
       " 'mind': 800,\n",
       " 'center': 801,\n",
       " 'decision': 802,\n",
       " 'longer': 803,\n",
       " 'workers': 804,\n",
       " 'advice': 805,\n",
       " 'worth': 806,\n",
       " 'eat': 807,\n",
       " 'struggling': 808,\n",
       " 'discover': 809,\n",
       " 'oscar': 810,\n",
       " 'across': 811,\n",
       " 'style': 812,\n",
       " 'kardashian': 813,\n",
       " 'employees': 814,\n",
       " 'test': 815,\n",
       " '13': 816,\n",
       " 'cut': 817,\n",
       " 'keeps': 818,\n",
       " 'band': 819,\n",
       " 'industry': 820,\n",
       " 'experience': 821,\n",
       " 'side': 822,\n",
       " 'coffee': 823,\n",
       " 'check': 824,\n",
       " '2014': 825,\n",
       " 'number': 826,\n",
       " 'rubio': 827,\n",
       " 'brings': 828,\n",
       " 'door': 829,\n",
       " 'lead': 830,\n",
       " 'five': 831,\n",
       " 'completely': 832,\n",
       " 'hoping': 833,\n",
       " 'hand': 834,\n",
       " 'university': 835,\n",
       " '2017': 836,\n",
       " 'official': 837,\n",
       " 'starting': 838,\n",
       " 'lose': 839,\n",
       " 'whether': 840,\n",
       " 'force': 841,\n",
       " 'paris': 842,\n",
       " 'weight': 843,\n",
       " 'road': 844,\n",
       " 'space': 845,\n",
       " 'west': 846,\n",
       " 'audience': 847,\n",
       " 'important': 848,\n",
       " 'steve': 849,\n",
       " 'playing': 850,\n",
       " 'reform': 851,\n",
       " 'cool': 852,\n",
       " 'fighting': 853,\n",
       " 'suspect': 854,\n",
       " 'given': 855,\n",
       " 'defense': 856,\n",
       " 'program': 857,\n",
       " 'artist': 858,\n",
       " 'nyc': 859,\n",
       " 'williams': 860,\n",
       " 'role': 861,\n",
       " 'building': 862,\n",
       " 'michelle': 863,\n",
       " 'peace': 864,\n",
       " 'carolina': 865,\n",
       " 'remember': 866,\n",
       " 'chicago': 867,\n",
       " 'act': 868,\n",
       " 'pro': 869,\n",
       " 'possible': 870,\n",
       " 'apartment': 871,\n",
       " 'governor': 872,\n",
       " 'iowa': 873,\n",
       " 'executive': 874,\n",
       " 'success': 875,\n",
       " 'data': 876,\n",
       " 'chance': 877,\n",
       " 'ferguson': 878,\n",
       " 'amazon': 879,\n",
       " 'biggest': 880,\n",
       " 'protesters': 881,\n",
       " 'suicide': 882,\n",
       " 'hall': 883,\n",
       " 'abuse': 884,\n",
       " 'which': 885,\n",
       " 'clearly': 886,\n",
       " 'major': 887,\n",
       " 'push': 888,\n",
       " 'hurricane': 889,\n",
       " 'moore': 890,\n",
       " 'allegations': 891,\n",
       " 'halloween': 892,\n",
       " 'oscars': 893,\n",
       " 'homeless': 894,\n",
       " 'israel': 895,\n",
       " 'general': 896,\n",
       " 'mental': 897,\n",
       " 'coworker': 898,\n",
       " 'moms': 899,\n",
       " 'board': 900,\n",
       " 'close': 901,\n",
       " 'magazine': 902,\n",
       " 'question': 903,\n",
       " 'ben': 904,\n",
       " 'hear': 905,\n",
       " 'demands': 906,\n",
       " 'fear': 907,\n",
       " 'wishes': 908,\n",
       " 'opening': 909,\n",
       " 'members': 910,\n",
       " 'celebrate': 911,\n",
       " 'supporters': 912,\n",
       " 'google': 913,\n",
       " 'football': 914,\n",
       " 'voice': 915,\n",
       " 'easy': 916,\n",
       " 'teens': 917,\n",
       " 'card': 918,\n",
       " 'kerry': 919,\n",
       " 'wait': 920,\n",
       " 'try': 921,\n",
       " 'throws': 922,\n",
       " 'tour': 923,\n",
       " 'pregnant': 924,\n",
       " 'pizza': 925,\n",
       " 'dying': 926,\n",
       " 'press': 927,\n",
       " 'chicken': 928,\n",
       " 'urges': 929,\n",
       " 'reveal': 930,\n",
       " 'simple': 931,\n",
       " 'green': 932,\n",
       " 'economy': 933,\n",
       " 'problems': 934,\n",
       " 'culture': 935,\n",
       " 'lgbtq': 936,\n",
       " 'asking': 937,\n",
       " 'ebola': 938,\n",
       " 'robert': 939,\n",
       " 'learn': 940,\n",
       " 'performance': 941,\n",
       " 'album': 942,\n",
       " 'church': 943,\n",
       " 'begins': 944,\n",
       " 'officer': 945,\n",
       " 'shop': 946,\n",
       " 'poor': 947,\n",
       " 'uses': 948,\n",
       " 'plane': 949,\n",
       " 'families': 950,\n",
       " 'harassment': 951,\n",
       " 'picture': 952,\n",
       " 'jobs': 953,\n",
       " 'fails': 954,\n",
       " 'sean': 955,\n",
       " 'voter': 956,\n",
       " 'beauty': 957,\n",
       " 'demand': 958,\n",
       " 'doctor': 959,\n",
       " \"we're\": 960,\n",
       " 'spot': 961,\n",
       " 'shares': 962,\n",
       " 'leads': 963,\n",
       " 'hilarious': 964,\n",
       " 'suggests': 965,\n",
       " 'rally': 966,\n",
       " 'results': 967,\n",
       " 'ideas': 968,\n",
       " '18': 969,\n",
       " 'jenner': 970,\n",
       " 'arrested': 971,\n",
       " 'male': 972,\n",
       " 'fuck': 973,\n",
       " 'leaving': 974,\n",
       " 'address': 975,\n",
       " 'rest': 976,\n",
       " 'receives': 977,\n",
       " 'amid': 978,\n",
       " 'epa': 979,\n",
       " 'deadly': 980,\n",
       " 'netflix': 981,\n",
       " 'desperate': 982,\n",
       " 'planet': 983,\n",
       " 'cnn': 984,\n",
       " 'marijuana': 985,\n",
       " 'quietly': 986,\n",
       " 'action': 987,\n",
       " 'website': 988,\n",
       " 'pick': 989,\n",
       " 'explains': 990,\n",
       " 'table': 991,\n",
       " 'energy': 992,\n",
       " 'users': 993,\n",
       " 'feeling': 994,\n",
       " 'sales': 995,\n",
       " 'colbert': 996,\n",
       " 'apparently': 997,\n",
       " \"let's\": 998,\n",
       " 'amazing': 999,\n",
       " 'went': 1000,\n",
       " ...}"
      ]
     },
     "execution_count": 132,
     "metadata": {},
     "output_type": "execute_result"
    }
   ],
   "source": [
    "index"
   ]
  },
  {
   "cell_type": "code",
   "execution_count": null,
   "metadata": {},
   "outputs": [],
   "source": []
  },
  {
   "cell_type": "code",
   "execution_count": 3,
   "metadata": {},
   "outputs": [],
   "source": [
    "n_1 = np.array([1,2,3])"
   ]
  },
  {
   "cell_type": "code",
   "execution_count": 4,
   "metadata": {},
   "outputs": [
    {
     "data": {
      "text/plain": [
       "numpy.ndarray"
      ]
     },
     "execution_count": 4,
     "metadata": {},
     "output_type": "execute_result"
    }
   ],
   "source": [
    "type(n_1)"
   ]
  },
  {
   "cell_type": "code",
   "execution_count": 5,
   "metadata": {},
   "outputs": [
    {
     "data": {
      "text/plain": [
       "(3,)"
      ]
     },
     "execution_count": 5,
     "metadata": {},
     "output_type": "execute_result"
    }
   ],
   "source": [
    "n_1.shape"
   ]
  },
  {
   "cell_type": "code",
   "execution_count": 7,
   "metadata": {},
   "outputs": [
    {
     "data": {
      "text/plain": [
       "6"
      ]
     },
     "execution_count": 7,
     "metadata": {},
     "output_type": "execute_result"
    }
   ],
   "source": [
    "np.sum(n_1, axis=0)"
   ]
  },
  {
   "cell_type": "code",
   "execution_count": 8,
   "metadata": {},
   "outputs": [
    {
     "name": "stdout",
     "output_type": "stream",
     "text": [
      "[1 2 3]\n"
     ]
    }
   ],
   "source": [
    "print(np.array([1,2,3]))"
   ]
  },
  {
   "cell_type": "code",
   "execution_count": 9,
   "metadata": {},
   "outputs": [
    {
     "name": "stdout",
     "output_type": "stream",
     "text": [
      "[1 2 3]\n"
     ]
    }
   ],
   "source": [
    "print(np.array([1,2,3]).T)"
   ]
  },
  {
   "cell_type": "code",
   "execution_count": 11,
   "metadata": {},
   "outputs": [],
   "source": [
    "x = np.random.random((3,4))"
   ]
  },
  {
   "cell_type": "code",
   "execution_count": null,
   "metadata": {},
   "outputs": [],
   "source": []
  },
  {
   "cell_type": "code",
   "execution_count": 12,
   "metadata": {},
   "outputs": [
    {
     "data": {
      "text/plain": [
       "array([[0.88442187, 0.23795931, 0.98513482, 0.45393277],\n",
       "       [0.56744453, 0.72770561, 0.05958783, 0.29043551],\n",
       "       [0.22937902, 0.53647065, 0.78858252, 0.66278646]])"
      ]
     },
     "execution_count": 12,
     "metadata": {},
     "output_type": "execute_result"
    }
   ],
   "source": [
    "x\n"
   ]
  },
  {
   "cell_type": "code",
   "execution_count": 13,
   "metadata": {},
   "outputs": [],
   "source": [
    "y = np.random.random((3,1))"
   ]
  },
  {
   "cell_type": "code",
   "execution_count": 14,
   "metadata": {},
   "outputs": [
    {
     "data": {
      "text/plain": [
       "array([[0.99079802],\n",
       "       [0.14517528],\n",
       "       [0.14981482]])"
      ]
     },
     "execution_count": 14,
     "metadata": {},
     "output_type": "execute_result"
    }
   ],
   "source": [
    "y"
   ]
  },
  {
   "cell_type": "code",
   "execution_count": 15,
   "metadata": {},
   "outputs": [],
   "source": [
    "z = np.random.random((1,4))"
   ]
  },
  {
   "cell_type": "code",
   "execution_count": 16,
   "metadata": {},
   "outputs": [
    {
     "data": {
      "text/plain": [
       "array([[0.43804182, 0.82728974, 0.21750981, 0.42979067]])"
      ]
     },
     "execution_count": 16,
     "metadata": {},
     "output_type": "execute_result"
    }
   ],
   "source": [
    "z"
   ]
  },
  {
   "cell_type": "code",
   "execution_count": 18,
   "metadata": {},
   "outputs": [],
   "source": [
    "a = x+y"
   ]
  },
  {
   "cell_type": "code",
   "execution_count": 20,
   "metadata": {},
   "outputs": [
    {
     "data": {
      "text/plain": [
       "array([[1.87521989, 1.22875733, 1.97593284, 1.44473079],\n",
       "       [0.71261981, 0.87288088, 0.20476311, 0.43561079],\n",
       "       [0.37919383, 0.68628547, 0.93839734, 0.81260128]])"
      ]
     },
     "execution_count": 20,
     "metadata": {},
     "output_type": "execute_result"
    }
   ],
   "source": [
    "a"
   ]
  },
  {
   "cell_type": "code",
   "execution_count": 21,
   "metadata": {},
   "outputs": [],
   "source": [
    "b = y+y.T"
   ]
  },
  {
   "cell_type": "code",
   "execution_count": 22,
   "metadata": {},
   "outputs": [
    {
     "data": {
      "text/plain": [
       "array([[1.98159605, 1.1359733 , 1.14061284],\n",
       "       [1.1359733 , 0.29035055, 0.29499009],\n",
       "       [1.14061284, 0.29499009, 0.29962963]])"
      ]
     },
     "execution_count": 22,
     "metadata": {},
     "output_type": "execute_result"
    }
   ],
   "source": [
    "b\n"
   ]
  },
  {
   "cell_type": "code",
   "execution_count": 23,
   "metadata": {},
   "outputs": [
    {
     "data": {
      "text/plain": [
       "array([[0.88442187, 0.23795931, 0.98513482, 0.45393277],\n",
       "       [0.56744453, 0.72770561, 0.05958783, 0.29043551],\n",
       "       [0.22937902, 0.53647065, 0.78858252, 0.66278646]])"
      ]
     },
     "execution_count": 23,
     "metadata": {},
     "output_type": "execute_result"
    }
   ],
   "source": [
    "x"
   ]
  },
  {
   "cell_type": "code",
   "execution_count": 24,
   "metadata": {},
   "outputs": [
    {
     "data": {
      "text/plain": [
       "False"
      ]
     },
     "execution_count": 24,
     "metadata": {},
     "output_type": "execute_result"
    }
   ],
   "source": [
    "np.allclose(x,0)"
   ]
  },
  {
   "cell_type": "code",
   "execution_count": null,
   "metadata": {},
   "outputs": [],
   "source": []
  },
  {
   "cell_type": "code",
   "execution_count": null,
   "metadata": {},
   "outputs": [],
   "source": []
  },
  {
   "cell_type": "code",
   "execution_count": 59,
   "metadata": {},
   "outputs": [],
   "source": [
    "####!conda install -c anaconda tensorflow-datasets -y"
   ]
  },
  {
   "cell_type": "code",
   "execution_count": 61,
   "metadata": {},
   "outputs": [],
   "source": [
    "import io\n",
    "import matplotlib.pyplot as plt\n",
    "import tensorflow as tf\n",
    "import tensorflow_datasets as tfds\n",
    "\n",
    "from tensorflow import keras\n",
    "from tensorflow.keras import layers"
   ]
  },
  {
   "cell_type": "code",
   "execution_count": 78,
   "metadata": {},
   "outputs": [],
   "source": [
    "#we transfrom input as 1000 column vecter (only can represent 999 words)\n",
    "#5 is the output dimension\n",
    "embedding_layer = layers.Embedding(1000, 5)"
   ]
  },
  {
   "cell_type": "code",
   "execution_count": 79,
   "metadata": {},
   "outputs": [],
   "source": [
    "#we create a (3,) column vector as input\n",
    "result = embedding_layer(tf.constant([1,2,3,4]))"
   ]
  },
  {
   "cell_type": "code",
   "execution_count": 80,
   "metadata": {},
   "outputs": [
    {
     "name": "stdout",
     "output_type": "stream",
     "text": [
      "[[ 0.01711133 -0.010478   -0.04752811  0.044742    0.04195086]\n",
      " [-0.02242355  0.00757224 -0.0406887   0.0210263  -0.03903691]\n",
      " [ 0.01967318  0.03420434 -0.04607034  0.02640963 -0.04489746]\n",
      " [-0.01534332  0.04902101 -0.04665446  0.00828029 -0.03966467]]\n",
      "(4, 5)\n"
     ]
    }
   ],
   "source": [
    "print(result.numpy())\n",
    "print(result.shape)"
   ]
  },
  {
   "cell_type": "code",
   "execution_count": 82,
   "metadata": {},
   "outputs": [
    {
     "name": "stdout",
     "output_type": "stream",
     "text": [
      "\u001b[1mDownloading and preparing dataset imdb_reviews (80.23 MiB) to C:\\Users\\etern\\tensorflow_datasets\\imdb_reviews\\subwords8k\\0.1.0...\u001b[0m\n"
     ]
    },
    {
     "data": {
      "application/vnd.jupyter.widget-view+json": {
       "model_id": "c3b23924ba60429faa032638455f48d1",
       "version_major": 2,
       "version_minor": 0
      },
      "text/plain": [
       "HBox(children=(FloatProgress(value=1.0, bar_style='info', description='Dl Completed...', layout=Layout(width='…"
      ]
     },
     "metadata": {},
     "output_type": "display_data"
    },
    {
     "data": {
      "application/vnd.jupyter.widget-view+json": {
       "model_id": "4643ae1ded8542c2b0ddcb82c8715a71",
       "version_major": 2,
       "version_minor": 0
      },
      "text/plain": [
       "HBox(children=(FloatProgress(value=1.0, bar_style='info', description='Dl Size...', layout=Layout(width='20px'…"
      ]
     },
     "metadata": {},
     "output_type": "display_data"
    },
    {
     "name": "stdout",
     "output_type": "stream",
     "text": [
      "\n",
      "\n",
      "\n",
      "\n"
     ]
    },
    {
     "data": {
      "application/vnd.jupyter.widget-view+json": {
       "model_id": "",
       "version_major": 2,
       "version_minor": 0
      },
      "text/plain": [
       "HBox(children=(FloatProgress(value=1.0, bar_style='info', layout=Layout(width='20px'), max=1.0), HTML(value=''…"
      ]
     },
     "metadata": {},
     "output_type": "display_data"
    },
    {
     "data": {
      "application/vnd.jupyter.widget-view+json": {
       "model_id": "",
       "version_major": 2,
       "version_minor": 0
      },
      "text/plain": [
       "HBox(children=(FloatProgress(value=0.0, description='Shuffling...', max=10.0, style=ProgressStyle(description_…"
      ]
     },
     "metadata": {},
     "output_type": "display_data"
    },
    {
     "name": "stdout",
     "output_type": "stream",
     "text": [
      "WARNING:tensorflow:From D:\\ProgramData\\Anaconda3\\envs\\06_ten_GPU_22\\lib\\site-packages\\tensorflow_datasets\\core\\file_format_adapter.py:209: tf_record_iterator (from tensorflow.python.lib.io.tf_record) is deprecated and will be removed in a future version.\n",
      "Instructions for updating:\n",
      "Use eager execution and: \n",
      "`tf.data.TFRecordDataset(path)`\n"
     ]
    },
    {
     "name": "stderr",
     "output_type": "stream",
     "text": [
      "WARNING:tensorflow:From D:\\ProgramData\\Anaconda3\\envs\\06_ten_GPU_22\\lib\\site-packages\\tensorflow_datasets\\core\\file_format_adapter.py:209: tf_record_iterator (from tensorflow.python.lib.io.tf_record) is deprecated and will be removed in a future version.\n",
      "Instructions for updating:\n",
      "Use eager execution and: \n",
      "`tf.data.TFRecordDataset(path)`\n"
     ]
    },
    {
     "data": {
      "application/vnd.jupyter.widget-view+json": {
       "model_id": "",
       "version_major": 2,
       "version_minor": 0
      },
      "text/plain": [
       "HBox(children=(FloatProgress(value=1.0, bar_style='info', description='Reading...', layout=Layout(width='20px'…"
      ]
     },
     "metadata": {},
     "output_type": "display_data"
    },
    {
     "data": {
      "application/vnd.jupyter.widget-view+json": {
       "model_id": "",
       "version_major": 2,
       "version_minor": 0
      },
      "text/plain": [
       "HBox(children=(FloatProgress(value=0.0, description='Writing...', max=2500.0, style=ProgressStyle(description_…"
      ]
     },
     "metadata": {},
     "output_type": "display_data"
    },
    {
     "data": {
      "application/vnd.jupyter.widget-view+json": {
       "model_id": "",
       "version_major": 2,
       "version_minor": 0
      },
      "text/plain": [
       "HBox(children=(FloatProgress(value=1.0, bar_style='info', description='Reading...', layout=Layout(width='20px'…"
      ]
     },
     "metadata": {},
     "output_type": "display_data"
    },
    {
     "data": {
      "application/vnd.jupyter.widget-view+json": {
       "model_id": "",
       "version_major": 2,
       "version_minor": 0
      },
      "text/plain": [
       "HBox(children=(FloatProgress(value=0.0, description='Writing...', max=2500.0, style=ProgressStyle(description_…"
      ]
     },
     "metadata": {},
     "output_type": "display_data"
    },
    {
     "data": {
      "application/vnd.jupyter.widget-view+json": {
       "model_id": "",
       "version_major": 2,
       "version_minor": 0
      },
      "text/plain": [
       "HBox(children=(FloatProgress(value=1.0, bar_style='info', description='Reading...', layout=Layout(width='20px'…"
      ]
     },
     "metadata": {},
     "output_type": "display_data"
    },
    {
     "data": {
      "application/vnd.jupyter.widget-view+json": {
       "model_id": "",
       "version_major": 2,
       "version_minor": 0
      },
      "text/plain": [
       "HBox(children=(FloatProgress(value=0.0, description='Writing...', max=2500.0, style=ProgressStyle(description_…"
      ]
     },
     "metadata": {},
     "output_type": "display_data"
    },
    {
     "data": {
      "application/vnd.jupyter.widget-view+json": {
       "model_id": "",
       "version_major": 2,
       "version_minor": 0
      },
      "text/plain": [
       "HBox(children=(FloatProgress(value=1.0, bar_style='info', description='Reading...', layout=Layout(width='20px'…"
      ]
     },
     "metadata": {},
     "output_type": "display_data"
    },
    {
     "data": {
      "application/vnd.jupyter.widget-view+json": {
       "model_id": "",
       "version_major": 2,
       "version_minor": 0
      },
      "text/plain": [
       "HBox(children=(FloatProgress(value=0.0, description='Writing...', max=2500.0, style=ProgressStyle(description_…"
      ]
     },
     "metadata": {},
     "output_type": "display_data"
    },
    {
     "data": {
      "application/vnd.jupyter.widget-view+json": {
       "model_id": "",
       "version_major": 2,
       "version_minor": 0
      },
      "text/plain": [
       "HBox(children=(FloatProgress(value=1.0, bar_style='info', description='Reading...', layout=Layout(width='20px'…"
      ]
     },
     "metadata": {},
     "output_type": "display_data"
    },
    {
     "data": {
      "application/vnd.jupyter.widget-view+json": {
       "model_id": "",
       "version_major": 2,
       "version_minor": 0
      },
      "text/plain": [
       "HBox(children=(FloatProgress(value=0.0, description='Writing...', max=2500.0, style=ProgressStyle(description_…"
      ]
     },
     "metadata": {},
     "output_type": "display_data"
    },
    {
     "data": {
      "application/vnd.jupyter.widget-view+json": {
       "model_id": "",
       "version_major": 2,
       "version_minor": 0
      },
      "text/plain": [
       "HBox(children=(FloatProgress(value=1.0, bar_style='info', description='Reading...', layout=Layout(width='20px'…"
      ]
     },
     "metadata": {},
     "output_type": "display_data"
    },
    {
     "data": {
      "application/vnd.jupyter.widget-view+json": {
       "model_id": "",
       "version_major": 2,
       "version_minor": 0
      },
      "text/plain": [
       "HBox(children=(FloatProgress(value=0.0, description='Writing...', max=2500.0, style=ProgressStyle(description_…"
      ]
     },
     "metadata": {},
     "output_type": "display_data"
    },
    {
     "data": {
      "application/vnd.jupyter.widget-view+json": {
       "model_id": "",
       "version_major": 2,
       "version_minor": 0
      },
      "text/plain": [
       "HBox(children=(FloatProgress(value=1.0, bar_style='info', description='Reading...', layout=Layout(width='20px'…"
      ]
     },
     "metadata": {},
     "output_type": "display_data"
    },
    {
     "data": {
      "application/vnd.jupyter.widget-view+json": {
       "model_id": "",
       "version_major": 2,
       "version_minor": 0
      },
      "text/plain": [
       "HBox(children=(FloatProgress(value=0.0, description='Writing...', max=2500.0, style=ProgressStyle(description_…"
      ]
     },
     "metadata": {},
     "output_type": "display_data"
    },
    {
     "data": {
      "application/vnd.jupyter.widget-view+json": {
       "model_id": "",
       "version_major": 2,
       "version_minor": 0
      },
      "text/plain": [
       "HBox(children=(FloatProgress(value=1.0, bar_style='info', description='Reading...', layout=Layout(width='20px'…"
      ]
     },
     "metadata": {},
     "output_type": "display_data"
    },
    {
     "data": {
      "application/vnd.jupyter.widget-view+json": {
       "model_id": "",
       "version_major": 2,
       "version_minor": 0
      },
      "text/plain": [
       "HBox(children=(FloatProgress(value=0.0, description='Writing...', max=2500.0, style=ProgressStyle(description_…"
      ]
     },
     "metadata": {},
     "output_type": "display_data"
    },
    {
     "data": {
      "application/vnd.jupyter.widget-view+json": {
       "model_id": "",
       "version_major": 2,
       "version_minor": 0
      },
      "text/plain": [
       "HBox(children=(FloatProgress(value=1.0, bar_style='info', description='Reading...', layout=Layout(width='20px'…"
      ]
     },
     "metadata": {},
     "output_type": "display_data"
    },
    {
     "data": {
      "application/vnd.jupyter.widget-view+json": {
       "model_id": "",
       "version_major": 2,
       "version_minor": 0
      },
      "text/plain": [
       "HBox(children=(FloatProgress(value=0.0, description='Writing...', max=2500.0, style=ProgressStyle(description_…"
      ]
     },
     "metadata": {},
     "output_type": "display_data"
    },
    {
     "data": {
      "application/vnd.jupyter.widget-view+json": {
       "model_id": "",
       "version_major": 2,
       "version_minor": 0
      },
      "text/plain": [
       "HBox(children=(FloatProgress(value=1.0, bar_style='info', description='Reading...', layout=Layout(width='20px'…"
      ]
     },
     "metadata": {},
     "output_type": "display_data"
    },
    {
     "data": {
      "application/vnd.jupyter.widget-view+json": {
       "model_id": "",
       "version_major": 2,
       "version_minor": 0
      },
      "text/plain": [
       "HBox(children=(FloatProgress(value=0.0, description='Writing...', max=2500.0, style=ProgressStyle(description_…"
      ]
     },
     "metadata": {},
     "output_type": "display_data"
    },
    {
     "data": {
      "application/vnd.jupyter.widget-view+json": {
       "model_id": "",
       "version_major": 2,
       "version_minor": 0
      },
      "text/plain": [
       "HBox(children=(FloatProgress(value=1.0, bar_style='info', layout=Layout(width='20px'), max=1.0), HTML(value=''…"
      ]
     },
     "metadata": {},
     "output_type": "display_data"
    },
    {
     "data": {
      "application/vnd.jupyter.widget-view+json": {
       "model_id": "",
       "version_major": 2,
       "version_minor": 0
      },
      "text/plain": [
       "HBox(children=(FloatProgress(value=0.0, description='Shuffling...', max=10.0, style=ProgressStyle(description_…"
      ]
     },
     "metadata": {},
     "output_type": "display_data"
    },
    {
     "data": {
      "application/vnd.jupyter.widget-view+json": {
       "model_id": "",
       "version_major": 2,
       "version_minor": 0
      },
      "text/plain": [
       "HBox(children=(FloatProgress(value=1.0, bar_style='info', description='Reading...', layout=Layout(width='20px'…"
      ]
     },
     "metadata": {},
     "output_type": "display_data"
    },
    {
     "data": {
      "application/vnd.jupyter.widget-view+json": {
       "model_id": "",
       "version_major": 2,
       "version_minor": 0
      },
      "text/plain": [
       "HBox(children=(FloatProgress(value=0.0, description='Writing...', max=2500.0, style=ProgressStyle(description_…"
      ]
     },
     "metadata": {},
     "output_type": "display_data"
    },
    {
     "data": {
      "application/vnd.jupyter.widget-view+json": {
       "model_id": "",
       "version_major": 2,
       "version_minor": 0
      },
      "text/plain": [
       "HBox(children=(FloatProgress(value=1.0, bar_style='info', description='Reading...', layout=Layout(width='20px'…"
      ]
     },
     "metadata": {},
     "output_type": "display_data"
    },
    {
     "data": {
      "application/vnd.jupyter.widget-view+json": {
       "model_id": "",
       "version_major": 2,
       "version_minor": 0
      },
      "text/plain": [
       "HBox(children=(FloatProgress(value=0.0, description='Writing...', max=2500.0, style=ProgressStyle(description_…"
      ]
     },
     "metadata": {},
     "output_type": "display_data"
    },
    {
     "data": {
      "application/vnd.jupyter.widget-view+json": {
       "model_id": "",
       "version_major": 2,
       "version_minor": 0
      },
      "text/plain": [
       "HBox(children=(FloatProgress(value=1.0, bar_style='info', description='Reading...', layout=Layout(width='20px'…"
      ]
     },
     "metadata": {},
     "output_type": "display_data"
    },
    {
     "data": {
      "application/vnd.jupyter.widget-view+json": {
       "model_id": "",
       "version_major": 2,
       "version_minor": 0
      },
      "text/plain": [
       "HBox(children=(FloatProgress(value=0.0, description='Writing...', max=2500.0, style=ProgressStyle(description_…"
      ]
     },
     "metadata": {},
     "output_type": "display_data"
    },
    {
     "data": {
      "application/vnd.jupyter.widget-view+json": {
       "model_id": "",
       "version_major": 2,
       "version_minor": 0
      },
      "text/plain": [
       "HBox(children=(FloatProgress(value=1.0, bar_style='info', description='Reading...', layout=Layout(width='20px'…"
      ]
     },
     "metadata": {},
     "output_type": "display_data"
    },
    {
     "data": {
      "application/vnd.jupyter.widget-view+json": {
       "model_id": "",
       "version_major": 2,
       "version_minor": 0
      },
      "text/plain": [
       "HBox(children=(FloatProgress(value=0.0, description='Writing...', max=2500.0, style=ProgressStyle(description_…"
      ]
     },
     "metadata": {},
     "output_type": "display_data"
    },
    {
     "data": {
      "application/vnd.jupyter.widget-view+json": {
       "model_id": "",
       "version_major": 2,
       "version_minor": 0
      },
      "text/plain": [
       "HBox(children=(FloatProgress(value=1.0, bar_style='info', description='Reading...', layout=Layout(width='20px'…"
      ]
     },
     "metadata": {},
     "output_type": "display_data"
    },
    {
     "data": {
      "application/vnd.jupyter.widget-view+json": {
       "model_id": "",
       "version_major": 2,
       "version_minor": 0
      },
      "text/plain": [
       "HBox(children=(FloatProgress(value=0.0, description='Writing...', max=2500.0, style=ProgressStyle(description_…"
      ]
     },
     "metadata": {},
     "output_type": "display_data"
    },
    {
     "data": {
      "application/vnd.jupyter.widget-view+json": {
       "model_id": "",
       "version_major": 2,
       "version_minor": 0
      },
      "text/plain": [
       "HBox(children=(FloatProgress(value=1.0, bar_style='info', description='Reading...', layout=Layout(width='20px'…"
      ]
     },
     "metadata": {},
     "output_type": "display_data"
    },
    {
     "data": {
      "application/vnd.jupyter.widget-view+json": {
       "model_id": "",
       "version_major": 2,
       "version_minor": 0
      },
      "text/plain": [
       "HBox(children=(FloatProgress(value=0.0, description='Writing...', max=2500.0, style=ProgressStyle(description_…"
      ]
     },
     "metadata": {},
     "output_type": "display_data"
    },
    {
     "data": {
      "application/vnd.jupyter.widget-view+json": {
       "model_id": "",
       "version_major": 2,
       "version_minor": 0
      },
      "text/plain": [
       "HBox(children=(FloatProgress(value=1.0, bar_style='info', description='Reading...', layout=Layout(width='20px'…"
      ]
     },
     "metadata": {},
     "output_type": "display_data"
    },
    {
     "data": {
      "application/vnd.jupyter.widget-view+json": {
       "model_id": "",
       "version_major": 2,
       "version_minor": 0
      },
      "text/plain": [
       "HBox(children=(FloatProgress(value=0.0, description='Writing...', max=2500.0, style=ProgressStyle(description_…"
      ]
     },
     "metadata": {},
     "output_type": "display_data"
    },
    {
     "data": {
      "application/vnd.jupyter.widget-view+json": {
       "model_id": "",
       "version_major": 2,
       "version_minor": 0
      },
      "text/plain": [
       "HBox(children=(FloatProgress(value=1.0, bar_style='info', description='Reading...', layout=Layout(width='20px'…"
      ]
     },
     "metadata": {},
     "output_type": "display_data"
    },
    {
     "data": {
      "application/vnd.jupyter.widget-view+json": {
       "model_id": "",
       "version_major": 2,
       "version_minor": 0
      },
      "text/plain": [
       "HBox(children=(FloatProgress(value=0.0, description='Writing...', max=2500.0, style=ProgressStyle(description_…"
      ]
     },
     "metadata": {},
     "output_type": "display_data"
    },
    {
     "data": {
      "application/vnd.jupyter.widget-view+json": {
       "model_id": "",
       "version_major": 2,
       "version_minor": 0
      },
      "text/plain": [
       "HBox(children=(FloatProgress(value=1.0, bar_style='info', description='Reading...', layout=Layout(width='20px'…"
      ]
     },
     "metadata": {},
     "output_type": "display_data"
    },
    {
     "data": {
      "application/vnd.jupyter.widget-view+json": {
       "model_id": "",
       "version_major": 2,
       "version_minor": 0
      },
      "text/plain": [
       "HBox(children=(FloatProgress(value=0.0, description='Writing...', max=2500.0, style=ProgressStyle(description_…"
      ]
     },
     "metadata": {},
     "output_type": "display_data"
    },
    {
     "data": {
      "application/vnd.jupyter.widget-view+json": {
       "model_id": "",
       "version_major": 2,
       "version_minor": 0
      },
      "text/plain": [
       "HBox(children=(FloatProgress(value=1.0, bar_style='info', description='Reading...', layout=Layout(width='20px'…"
      ]
     },
     "metadata": {},
     "output_type": "display_data"
    },
    {
     "data": {
      "application/vnd.jupyter.widget-view+json": {
       "model_id": "",
       "version_major": 2,
       "version_minor": 0
      },
      "text/plain": [
       "HBox(children=(FloatProgress(value=0.0, description='Writing...', max=2500.0, style=ProgressStyle(description_…"
      ]
     },
     "metadata": {},
     "output_type": "display_data"
    },
    {
     "data": {
      "application/vnd.jupyter.widget-view+json": {
       "model_id": "",
       "version_major": 2,
       "version_minor": 0
      },
      "text/plain": [
       "HBox(children=(FloatProgress(value=1.0, bar_style='info', layout=Layout(width='20px'), max=1.0), HTML(value=''…"
      ]
     },
     "metadata": {},
     "output_type": "display_data"
    },
    {
     "data": {
      "application/vnd.jupyter.widget-view+json": {
       "model_id": "",
       "version_major": 2,
       "version_minor": 0
      },
      "text/plain": [
       "HBox(children=(FloatProgress(value=0.0, description='Shuffling...', max=20.0, style=ProgressStyle(description_…"
      ]
     },
     "metadata": {},
     "output_type": "display_data"
    },
    {
     "data": {
      "application/vnd.jupyter.widget-view+json": {
       "model_id": "",
       "version_major": 2,
       "version_minor": 0
      },
      "text/plain": [
       "HBox(children=(FloatProgress(value=1.0, bar_style='info', description='Reading...', layout=Layout(width='20px'…"
      ]
     },
     "metadata": {},
     "output_type": "display_data"
    },
    {
     "data": {
      "application/vnd.jupyter.widget-view+json": {
       "model_id": "",
       "version_major": 2,
       "version_minor": 0
      },
      "text/plain": [
       "HBox(children=(FloatProgress(value=0.0, description='Writing...', max=2500.0, style=ProgressStyle(description_…"
      ]
     },
     "metadata": {},
     "output_type": "display_data"
    },
    {
     "data": {
      "application/vnd.jupyter.widget-view+json": {
       "model_id": "",
       "version_major": 2,
       "version_minor": 0
      },
      "text/plain": [
       "HBox(children=(FloatProgress(value=1.0, bar_style='info', description='Reading...', layout=Layout(width='20px'…"
      ]
     },
     "metadata": {},
     "output_type": "display_data"
    },
    {
     "data": {
      "application/vnd.jupyter.widget-view+json": {
       "model_id": "",
       "version_major": 2,
       "version_minor": 0
      },
      "text/plain": [
       "HBox(children=(FloatProgress(value=0.0, description='Writing...', max=2500.0, style=ProgressStyle(description_…"
      ]
     },
     "metadata": {},
     "output_type": "display_data"
    },
    {
     "data": {
      "application/vnd.jupyter.widget-view+json": {
       "model_id": "",
       "version_major": 2,
       "version_minor": 0
      },
      "text/plain": [
       "HBox(children=(FloatProgress(value=1.0, bar_style='info', description='Reading...', layout=Layout(width='20px'…"
      ]
     },
     "metadata": {},
     "output_type": "display_data"
    },
    {
     "data": {
      "application/vnd.jupyter.widget-view+json": {
       "model_id": "",
       "version_major": 2,
       "version_minor": 0
      },
      "text/plain": [
       "HBox(children=(FloatProgress(value=0.0, description='Writing...', max=2500.0, style=ProgressStyle(description_…"
      ]
     },
     "metadata": {},
     "output_type": "display_data"
    },
    {
     "data": {
      "application/vnd.jupyter.widget-view+json": {
       "model_id": "",
       "version_major": 2,
       "version_minor": 0
      },
      "text/plain": [
       "HBox(children=(FloatProgress(value=1.0, bar_style='info', description='Reading...', layout=Layout(width='20px'…"
      ]
     },
     "metadata": {},
     "output_type": "display_data"
    },
    {
     "data": {
      "application/vnd.jupyter.widget-view+json": {
       "model_id": "",
       "version_major": 2,
       "version_minor": 0
      },
      "text/plain": [
       "HBox(children=(FloatProgress(value=0.0, description='Writing...', max=2500.0, style=ProgressStyle(description_…"
      ]
     },
     "metadata": {},
     "output_type": "display_data"
    },
    {
     "data": {
      "application/vnd.jupyter.widget-view+json": {
       "model_id": "",
       "version_major": 2,
       "version_minor": 0
      },
      "text/plain": [
       "HBox(children=(FloatProgress(value=1.0, bar_style='info', description='Reading...', layout=Layout(width='20px'…"
      ]
     },
     "metadata": {},
     "output_type": "display_data"
    },
    {
     "data": {
      "application/vnd.jupyter.widget-view+json": {
       "model_id": "",
       "version_major": 2,
       "version_minor": 0
      },
      "text/plain": [
       "HBox(children=(FloatProgress(value=0.0, description='Writing...', max=2500.0, style=ProgressStyle(description_…"
      ]
     },
     "metadata": {},
     "output_type": "display_data"
    },
    {
     "data": {
      "application/vnd.jupyter.widget-view+json": {
       "model_id": "",
       "version_major": 2,
       "version_minor": 0
      },
      "text/plain": [
       "HBox(children=(FloatProgress(value=1.0, bar_style='info', description='Reading...', layout=Layout(width='20px'…"
      ]
     },
     "metadata": {},
     "output_type": "display_data"
    },
    {
     "data": {
      "application/vnd.jupyter.widget-view+json": {
       "model_id": "",
       "version_major": 2,
       "version_minor": 0
      },
      "text/plain": [
       "HBox(children=(FloatProgress(value=0.0, description='Writing...', max=2500.0, style=ProgressStyle(description_…"
      ]
     },
     "metadata": {},
     "output_type": "display_data"
    },
    {
     "data": {
      "application/vnd.jupyter.widget-view+json": {
       "model_id": "",
       "version_major": 2,
       "version_minor": 0
      },
      "text/plain": [
       "HBox(children=(FloatProgress(value=1.0, bar_style='info', description='Reading...', layout=Layout(width='20px'…"
      ]
     },
     "metadata": {},
     "output_type": "display_data"
    },
    {
     "data": {
      "application/vnd.jupyter.widget-view+json": {
       "model_id": "",
       "version_major": 2,
       "version_minor": 0
      },
      "text/plain": [
       "HBox(children=(FloatProgress(value=0.0, description='Writing...', max=2500.0, style=ProgressStyle(description_…"
      ]
     },
     "metadata": {},
     "output_type": "display_data"
    },
    {
     "data": {
      "application/vnd.jupyter.widget-view+json": {
       "model_id": "",
       "version_major": 2,
       "version_minor": 0
      },
      "text/plain": [
       "HBox(children=(FloatProgress(value=1.0, bar_style='info', description='Reading...', layout=Layout(width='20px'…"
      ]
     },
     "metadata": {},
     "output_type": "display_data"
    },
    {
     "data": {
      "application/vnd.jupyter.widget-view+json": {
       "model_id": "",
       "version_major": 2,
       "version_minor": 0
      },
      "text/plain": [
       "HBox(children=(FloatProgress(value=0.0, description='Writing...', max=2500.0, style=ProgressStyle(description_…"
      ]
     },
     "metadata": {},
     "output_type": "display_data"
    },
    {
     "data": {
      "application/vnd.jupyter.widget-view+json": {
       "model_id": "",
       "version_major": 2,
       "version_minor": 0
      },
      "text/plain": [
       "HBox(children=(FloatProgress(value=1.0, bar_style='info', description='Reading...', layout=Layout(width='20px'…"
      ]
     },
     "metadata": {},
     "output_type": "display_data"
    },
    {
     "data": {
      "application/vnd.jupyter.widget-view+json": {
       "model_id": "",
       "version_major": 2,
       "version_minor": 0
      },
      "text/plain": [
       "HBox(children=(FloatProgress(value=0.0, description='Writing...', max=2500.0, style=ProgressStyle(description_…"
      ]
     },
     "metadata": {},
     "output_type": "display_data"
    },
    {
     "data": {
      "application/vnd.jupyter.widget-view+json": {
       "model_id": "",
       "version_major": 2,
       "version_minor": 0
      },
      "text/plain": [
       "HBox(children=(FloatProgress(value=1.0, bar_style='info', description='Reading...', layout=Layout(width='20px'…"
      ]
     },
     "metadata": {},
     "output_type": "display_data"
    },
    {
     "data": {
      "application/vnd.jupyter.widget-view+json": {
       "model_id": "",
       "version_major": 2,
       "version_minor": 0
      },
      "text/plain": [
       "HBox(children=(FloatProgress(value=0.0, description='Writing...', max=2500.0, style=ProgressStyle(description_…"
      ]
     },
     "metadata": {},
     "output_type": "display_data"
    },
    {
     "data": {
      "application/vnd.jupyter.widget-view+json": {
       "model_id": "",
       "version_major": 2,
       "version_minor": 0
      },
      "text/plain": [
       "HBox(children=(FloatProgress(value=1.0, bar_style='info', description='Reading...', layout=Layout(width='20px'…"
      ]
     },
     "metadata": {},
     "output_type": "display_data"
    },
    {
     "data": {
      "application/vnd.jupyter.widget-view+json": {
       "model_id": "",
       "version_major": 2,
       "version_minor": 0
      },
      "text/plain": [
       "HBox(children=(FloatProgress(value=0.0, description='Writing...', max=2500.0, style=ProgressStyle(description_…"
      ]
     },
     "metadata": {},
     "output_type": "display_data"
    },
    {
     "data": {
      "application/vnd.jupyter.widget-view+json": {
       "model_id": "",
       "version_major": 2,
       "version_minor": 0
      },
      "text/plain": [
       "HBox(children=(FloatProgress(value=1.0, bar_style='info', description='Reading...', layout=Layout(width='20px'…"
      ]
     },
     "metadata": {},
     "output_type": "display_data"
    },
    {
     "data": {
      "application/vnd.jupyter.widget-view+json": {
       "model_id": "",
       "version_major": 2,
       "version_minor": 0
      },
      "text/plain": [
       "HBox(children=(FloatProgress(value=0.0, description='Writing...', max=2500.0, style=ProgressStyle(description_…"
      ]
     },
     "metadata": {},
     "output_type": "display_data"
    },
    {
     "data": {
      "application/vnd.jupyter.widget-view+json": {
       "model_id": "",
       "version_major": 2,
       "version_minor": 0
      },
      "text/plain": [
       "HBox(children=(FloatProgress(value=1.0, bar_style='info', description='Reading...', layout=Layout(width='20px'…"
      ]
     },
     "metadata": {},
     "output_type": "display_data"
    },
    {
     "data": {
      "application/vnd.jupyter.widget-view+json": {
       "model_id": "",
       "version_major": 2,
       "version_minor": 0
      },
      "text/plain": [
       "HBox(children=(FloatProgress(value=0.0, description='Writing...', max=2500.0, style=ProgressStyle(description_…"
      ]
     },
     "metadata": {},
     "output_type": "display_data"
    },
    {
     "data": {
      "application/vnd.jupyter.widget-view+json": {
       "model_id": "",
       "version_major": 2,
       "version_minor": 0
      },
      "text/plain": [
       "HBox(children=(FloatProgress(value=1.0, bar_style='info', description='Reading...', layout=Layout(width='20px'…"
      ]
     },
     "metadata": {},
     "output_type": "display_data"
    },
    {
     "data": {
      "application/vnd.jupyter.widget-view+json": {
       "model_id": "",
       "version_major": 2,
       "version_minor": 0
      },
      "text/plain": [
       "HBox(children=(FloatProgress(value=0.0, description='Writing...', max=2500.0, style=ProgressStyle(description_…"
      ]
     },
     "metadata": {},
     "output_type": "display_data"
    },
    {
     "data": {
      "application/vnd.jupyter.widget-view+json": {
       "model_id": "",
       "version_major": 2,
       "version_minor": 0
      },
      "text/plain": [
       "HBox(children=(FloatProgress(value=1.0, bar_style='info', description='Reading...', layout=Layout(width='20px'…"
      ]
     },
     "metadata": {},
     "output_type": "display_data"
    },
    {
     "data": {
      "application/vnd.jupyter.widget-view+json": {
       "model_id": "",
       "version_major": 2,
       "version_minor": 0
      },
      "text/plain": [
       "HBox(children=(FloatProgress(value=0.0, description='Writing...', max=2500.0, style=ProgressStyle(description_…"
      ]
     },
     "metadata": {},
     "output_type": "display_data"
    },
    {
     "data": {
      "application/vnd.jupyter.widget-view+json": {
       "model_id": "",
       "version_major": 2,
       "version_minor": 0
      },
      "text/plain": [
       "HBox(children=(FloatProgress(value=1.0, bar_style='info', description='Reading...', layout=Layout(width='20px'…"
      ]
     },
     "metadata": {},
     "output_type": "display_data"
    },
    {
     "data": {
      "application/vnd.jupyter.widget-view+json": {
       "model_id": "",
       "version_major": 2,
       "version_minor": 0
      },
      "text/plain": [
       "HBox(children=(FloatProgress(value=0.0, description='Writing...', max=2500.0, style=ProgressStyle(description_…"
      ]
     },
     "metadata": {},
     "output_type": "display_data"
    },
    {
     "data": {
      "application/vnd.jupyter.widget-view+json": {
       "model_id": "",
       "version_major": 2,
       "version_minor": 0
      },
      "text/plain": [
       "HBox(children=(FloatProgress(value=1.0, bar_style='info', description='Reading...', layout=Layout(width='20px'…"
      ]
     },
     "metadata": {},
     "output_type": "display_data"
    },
    {
     "data": {
      "application/vnd.jupyter.widget-view+json": {
       "model_id": "",
       "version_major": 2,
       "version_minor": 0
      },
      "text/plain": [
       "HBox(children=(FloatProgress(value=0.0, description='Writing...', max=2500.0, style=ProgressStyle(description_…"
      ]
     },
     "metadata": {},
     "output_type": "display_data"
    },
    {
     "data": {
      "application/vnd.jupyter.widget-view+json": {
       "model_id": "",
       "version_major": 2,
       "version_minor": 0
      },
      "text/plain": [
       "HBox(children=(FloatProgress(value=1.0, bar_style='info', description='Reading...', layout=Layout(width='20px'…"
      ]
     },
     "metadata": {},
     "output_type": "display_data"
    },
    {
     "data": {
      "application/vnd.jupyter.widget-view+json": {
       "model_id": "",
       "version_major": 2,
       "version_minor": 0
      },
      "text/plain": [
       "HBox(children=(FloatProgress(value=0.0, description='Writing...', max=2500.0, style=ProgressStyle(description_…"
      ]
     },
     "metadata": {},
     "output_type": "display_data"
    },
    {
     "data": {
      "application/vnd.jupyter.widget-view+json": {
       "model_id": "",
       "version_major": 2,
       "version_minor": 0
      },
      "text/plain": [
       "HBox(children=(FloatProgress(value=1.0, bar_style='info', description='Reading...', layout=Layout(width='20px'…"
      ]
     },
     "metadata": {},
     "output_type": "display_data"
    },
    {
     "data": {
      "application/vnd.jupyter.widget-view+json": {
       "model_id": "",
       "version_major": 2,
       "version_minor": 0
      },
      "text/plain": [
       "HBox(children=(FloatProgress(value=0.0, description='Writing...', max=2500.0, style=ProgressStyle(description_…"
      ]
     },
     "metadata": {},
     "output_type": "display_data"
    },
    {
     "data": {
      "application/vnd.jupyter.widget-view+json": {
       "model_id": "",
       "version_major": 2,
       "version_minor": 0
      },
      "text/plain": [
       "HBox(children=(FloatProgress(value=1.0, bar_style='info', description='Reading...', layout=Layout(width='20px'…"
      ]
     },
     "metadata": {},
     "output_type": "display_data"
    },
    {
     "data": {
      "application/vnd.jupyter.widget-view+json": {
       "model_id": "",
       "version_major": 2,
       "version_minor": 0
      },
      "text/plain": [
       "HBox(children=(FloatProgress(value=0.0, description='Writing...', max=2500.0, style=ProgressStyle(description_…"
      ]
     },
     "metadata": {},
     "output_type": "display_data"
    },
    {
     "name": "stdout",
     "output_type": "stream",
     "text": [
      "\u001b[1mDataset imdb_reviews downloaded and prepared to C:\\Users\\etern\\tensorflow_datasets\\imdb_reviews\\subwords8k\\0.1.0. Subsequent calls will reuse this data.\u001b[0m"
     ]
    },
    {
     "name": "stderr",
     "output_type": "stream",
     "text": [
      "WARNING:absl:Warning: Setting shuffle_files=True because split=TRAIN and shuffle_files=None. This behavior will be deprecated on 2019-08-06, at which point shuffle_files=False will be the default for all splits.\n"
     ]
    },
    {
     "name": "stdout",
     "output_type": "stream",
     "text": [
      "\n"
     ]
    }
   ],
   "source": [
    "(train_data, test_data), info = tfds.load('imdb_reviews/subwords8k', \\\n",
    "                                         split=(tfds.Split.TRAIN, tfds.Split.TEST), \\\n",
    "                                         with_info=True, \\\n",
    "                                         as_supervised=True\n",
    "                                         )"
   ]
  },
  {
   "cell_type": "code",
   "execution_count": 83,
   "metadata": {},
   "outputs": [],
   "source": [
    "encoder = info.features['text'].encoder"
   ]
  },
  {
   "cell_type": "code",
   "execution_count": null,
   "metadata": {},
   "outputs": [],
   "source": [
    "print"
   ]
  }
 ],
 "metadata": {
  "kernelspec": {
   "display_name": "Python 3",
   "language": "python",
   "name": "python3"
  },
  "language_info": {
   "codemirror_mode": {
    "name": "ipython",
    "version": 3
   },
   "file_extension": ".py",
   "mimetype": "text/x-python",
   "name": "python",
   "nbconvert_exporter": "python",
   "pygments_lexer": "ipython3",
   "version": "3.7.9"
  }
 },
 "nbformat": 4,
 "nbformat_minor": 4
}
