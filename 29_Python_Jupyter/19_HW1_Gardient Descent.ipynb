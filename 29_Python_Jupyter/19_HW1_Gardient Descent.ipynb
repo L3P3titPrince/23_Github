{
 "cells": [
  {
   "cell_type": "markdown",
   "metadata": {},
   "source": [
    "## Assignment 1: Math Foundation and Programming"
   ]
  },
  {
   "cell_type": "markdown",
   "metadata": {},
   "source": [
    "This assignment intends to:\n",
    "- test your Python programming skills\n",
    "- understand differentiation and gradients\n",
    "- think classical regression problems with a deep learning mind"
   ]
  },
  {
   "cell_type": "markdown",
   "metadata": {},
   "source": [
    "- Suppose you have a model $\\hat{y} = \\sigma(z)$, where: \n",
    "    - $ z= w^T x + b,~i.e.~z=w_1*x_1+w_2*x_2+w_3*x_3+b$, \n",
    "    - $\\sigma$ is the sigmoid function, i.e. $\\sigma(z) = \\frac{1}{(1+e^{-z})}$, and\n",
    "    - $w, b$ are parameters. $b$ is a scalar, $x,w~\\in R^3$, specifically, $w = [w_1, w_2, w_3]^T$, $x = [x_1, x_2, x_3]^T$.\n",
    "- Your ground truth lable $y=0~or~1$. You measure your model performance by two possible cost functions:\n",
    "  - Squared error: $s=\\frac{1}{2}(y-\\hat{y})^2$\n",
    "  - Cross entropy: $e=-[y*\\ln{\\hat{y}}+(1-y)*ln{(1-\\hat{y})}]$\n",
    "- Note, for simplicity, let's assume there is only 1 training sample.\n",
    "- Following the instruction below to program your solution in Python notebook step by step carefully:"
   ]
  },
  {
   "cell_type": "markdown",
   "metadata": {},
   "source": [
    "1. Write a function to calculate each of the following partial derivatives. The inputs to the function are all the variables in the formula and the returned derivatives are expressions of these variables. An example is given below.\n",
    "   - $ \\frac{\\partial{z}}{\\partial{w}}$. Note $ \\frac{\\partial{z}}{\\partial{w}} \\in R^{1x3}$\n",
    "   - $ \\frac{dz}{db}$\n",
    "   - $ \\frac{d{\\hat{y}}}{d{z}}$\n",
    "   - $ \\frac{d{s}}{d{\\hat{y}}}$\n",
    "   - $ \\frac{d{e}}{d{\\hat{y}}}$"
   ]
  },
  {
   "cell_type": "markdown",
   "metadata": {},
   "source": [
    "2. Write a function $gradient\\_desc$ ($v$, $dev$, $r$) to adjust a parameter value ($v$) by its gradient ($dev$), i.e. return the new value of parameter $v$ as $v$ $\\leftarrow$ $v-\\lambda*dev$, where $\\lambda$ is the learning rate."
   ]
  },
  {
   "cell_type": "markdown",
   "metadata": {},
   "source": [
    "3. Write a function train($x, y, w_0, b_0, loss_fun, \\lambda, r$) as follows:\n",
    "   1. Initialize $w$, $b$ with w_0, b_0\n",
    "   2. Use a loop of $r$ rounds to do the following\n",
    "       1. Calculate $\\hat{y}$, and errors $s$ or $e$ depending on the value of the loss function $loss\\_fun$\n",
    "       2. Use chain rule to calculate the partial derivatives $\\frac{\\partial{s}}{\\partial{w}}, \\frac{\\partial{s}}{\\partial{b}}, \\frac{\\partial{e}}{\\partial{w}}, \\frac{\\partial{e}}{\\partial{b}}$\n",
    "       3. Update $w, b$ using the function $gradient\\_desc$\n",
    "       4. record $\\hat{y}$, $s$, $e$\n",
    "   3. Return the history of $\\hat{y}$, and $s$ or $e$ depending on the value $loss\\_fun$"
   ]
  },
  {
   "cell_type": "markdown",
   "metadata": {},
   "source": [
    "4. Test your program with these two test cases and plot the history of loss $s, e$ (i.e. learning curves) respectively. Sample plots have been given.\n",
    "    1. Case 1: $x=[1,0.5,-2]^T, y=1, w_0=[-1,-2,1]^T, b_0=-1, \\lambda = 0.1$\n",
    "    2. Case 2: $x=[1,0.5,-2]^T, y=1, w_0=[-3,-2,2]^T, b_0=-20,  \\lambda = 0.1$\n"
   ]
  },
  {
   "cell_type": "markdown",
   "metadata": {},
   "source": [
    "5. Analyze the differences between these two learning curves. Can you explain the differences in these two cases by using $\\hat{y}$ and the derivaties, i.e. $ \\frac{d{s}}{d{z}}, \\frac{d{e}}{d{z}}$? For example, it can be shown that $\\frac{d{s}}{d{z}} = (\\hat{y}-y)*\\hat{y}*(1-\\hat{y})$. <b>Write down your analysis at the end of your jupyter notebook as markdowns</b>."
   ]
  },
  {
   "cell_type": "markdown",
   "metadata": {},
   "source": [
    "<b>Please submit your solution using Jupyter Notebook </b>"
   ]
  },
  {
   "cell_type": "code",
   "execution_count": 2,
   "metadata": {},
   "outputs": [],
   "source": [
    "import numpy as np\n",
    "from matplotlib import pyplot as plt"
   ]
  },
  {
   "cell_type": "markdown",
   "metadata": {},
   "source": [
    "In this step, we don't use any derivative function, we just use current formula to get result. Matining the same "
   ]
  },
  {
   "cell_type": "code",
   "execution_count": 38,
   "metadata": {},
   "outputs": [],
   "source": [
    "#this part we only need calcuate \n",
    "def dz_dw(w, x, b):\n",
    "    return x\n",
    "\n",
    "# Add other gradients\n",
    "def dz_db(w, x, b):\n",
    "    return 1\n",
    "\n",
    "def dy_dz(w,x,b):\n",
    "    z=(w.T.dot(x)+b)\n",
    "    return (1/(1+np.exp(-z))*(1-1/(1+np.exp(-z))))\n",
    "\n",
    "def ds_dy(w, x, b):\n",
    "    y_hat=1/(1+np.exp(-w.T.dot(x)-b))\n",
    "    return y_hat-y\n",
    "\n",
    "def de_dy(w, x, b, y):\n",
    "    y_hat=1/(1+np.exp(-w.T.dot(x)-b))\n",
    "    return ((1-y)/(1-y_hat)-y/y_hat)"
   ]
  },
  {
   "cell_type": "code",
   "execution_count": 39,
   "metadata": {},
   "outputs": [],
   "source": [
    "#r=rotation\n",
    "def gradient_desc(v, dev, lam):\n",
    "    v=v-lam*dev\n",
    "    return v\n",
    "            \n",
    "    \n",
    "    # add yoru code"
   ]
  },
  {
   "cell_type": "code",
   "execution_count": 40,
   "metadata": {},
   "outputs": [],
   "source": [
    "def train_s(x, y, w0, b0, loss_fun, lam, r):\n",
    "    w=w0\n",
    "    b=b0\n",
    "    s_history=np.zeros(r) \n",
    "    y_s_prediction=np.zeros(r)\n",
    "    for i in range(1,r):\n",
    "        #loss_fun_s(w.x,b,y)\n",
    "        #loss_fun_e(w.x.b.y)\n",
    "        #print(\"train_e z:\",z)\n",
    "        ds_dw = ds_dy(w, x, b) * dy_dz(w, x, b) * dz_dw(w, x, b)\n",
    "        ds_db = ds_dy(w, x, b) * dy_dz(w, x, b) * dz_db(w, x, b)\n",
    "        #de_dw = de_dy(e,y_hat,y) * dy_dz(y,z) * dz_dw(w,x,b)\n",
    "        #de_db = de_dy(e,y_hat,y) * dy_dz(y,z) * dz_db(w,x,b)\n",
    "        #print(\"train_e z:\",z)\n",
    "        w=gradient_desc(w,ds_dw,lam)\n",
    "        b=gradient_desc(b,ds_db,lam)\n",
    "        \n",
    "        \n",
    "        s_history[i],y_s_prediction[i]=(loss_fun_s(w,x,b,y))\n",
    "        #print(\"loss_fun_s:\",loss_fun_s(w,x,b,y))\n",
    "    return s_history,y_s_prediction\n",
    "    \n",
    "   "
   ]
  },
  {
   "cell_type": "code",
   "execution_count": 41,
   "metadata": {},
   "outputs": [],
   "source": [
    "def train_e(x, y, w0, b0, loss_fun, lam, r):\n",
    "    w=w0\n",
    "    b=b0\n",
    "    e_history=np.zeros(r) \n",
    "    y_e_prediction=np.zeros(r)\n",
    "    for i in range(1,r):\n",
    "\n",
    "        #ds_dw = ds_dy(s,y_hat,y) * dy_dz(y,z) * dz_dw(w,x,b)\n",
    "        #ds_db = ds_dy(s,y_hat,y) * dy_dz(y,z) * dz_db(w,x,b)\n",
    "        de_dw = de_dy(w, x, b, y) * dy_dz(w,x,b) * dz_dw(w, x, b)\n",
    "        de_db = de_dy(w, x, b, y) * dy_dz(w, x, b) * dz_db(w, x, b)\n",
    "    \n",
    "        w=gradient_desc(w,de_dw,lam)\n",
    "        b=gradient_desc(b,de_db,lam)\n",
    "        #print(\"train_e w0:\",w)\n",
    "        \n",
    "        e_history[i],y_e_prediction[i]=loss_fun_e(w,x,b,y)\n",
    "        #y_e_prediction=y_hat\n",
    "    return e_history,y_e_prediction\n",
    "    \n",
    "   "
   ]
  },
  {
   "cell_type": "code",
   "execution_count": 42,
   "metadata": {},
   "outputs": [],
   "source": [
    "def loss_fun_s(w,x,b,y):\n",
    "    y_hat=1/(1+np.exp(-w.T.dot(x)-b))\n",
    "    #print(w,x,b,y)\n",
    "    #print(\"y_hat result is:\",y_hat,\"\\n\")\n",
    "    f1 = y_hat-y\n",
    "    f2 = 2\n",
    "    s = 1/2 * (np.power(f1,f2))\n",
    "    return s,y_hat"
   ]
  },
  {
   "cell_type": "code",
   "execution_count": 43,
   "metadata": {},
   "outputs": [],
   "source": [
    "def loss_fun_e(w,x,b,y):\n",
    "    y_hat=1/(1+np.exp(-w.T.dot(x)-b))\n",
    "    e = (-1* y * np.log(y_hat))-((1-y) * np.log(1-y_hat))\n",
    "    return e,y_hat"
   ]
  },
  {
   "cell_type": "code",
   "execution_count": 44,
   "metadata": {},
   "outputs": [
    {
     "name": "stdout",
     "output_type": "stream",
     "text": [
      "[0.         0.0123804  0.02271127 0.04104735 0.07230767 0.12217828\n",
      " 0.19414107 0.28502681 0.38395289 0.47807055 0.55932715 0.62570911\n",
      " 0.67869568 0.7208334  0.75455929 0.78184981 0.80421078 0.82276455\n",
      " 0.83834471 0.85157373 0.86292081 0.87274369 0.88131831 0.88886008\n",
      " 0.89553903 0.90149085 0.90682488 0.91163012 0.91597959 0.91993374\n",
      " 0.92354297 0.92684963 0.92988949 0.93269302 0.93528626 0.93769161\n",
      " 0.93992848 0.94201367 0.9439619  0.94578603 0.9474974  0.94910601\n",
      " 0.95062073 0.95204944 0.95339918 0.95467625 0.95588629 0.9570344\n",
      " 0.95812515 0.9591627  0.9601508  0.96109288 0.96199205 0.96285114\n",
      " 0.96367276 0.96445927 0.96521287 0.96593556 0.96662919 0.96729547\n",
      " 0.96793595 0.96855212 0.9691453  0.96971676 0.97026766 0.97079908\n",
      " 0.97131203 0.97180745 0.97228622 0.97274915 0.97319701 0.97363053\n",
      " 0.97405038 0.97445719 0.97485155 0.97523402 0.97560514 0.97596539\n",
      " 0.97631524 0.97665514 0.9769855  0.97730671 0.97761915 0.97792317\n",
      " 0.97821911 0.97850728 0.97878797 0.97906149 0.97932809 0.97958803\n",
      " 0.97984157 0.98008893 0.98033033 0.98056599 0.9807961  0.98102087\n",
      " 0.98124047 0.98145508 0.98166487 0.98186999 0.98207061 0.98226686\n",
      " 0.98245888 0.98264682 0.9828308  0.98301094 0.98318736 0.98336018\n",
      " 0.9835295  0.98369543 0.98385806 0.98401751 0.98417385 0.98432718\n",
      " 0.98447758 0.98462514 0.98476993 0.98491204 0.98505153 0.98518848\n",
      " 0.98532296 0.98545503 0.98558476 0.9857122  0.98583742 0.98596048\n",
      " 0.98608142 0.98620032 0.9863172  0.98643213 0.98654516 0.98665633\n",
      " 0.98676568 0.98687327 0.98697912 0.98708329 0.98718582 0.98728674\n",
      " 0.98738609 0.9874839  0.98758021 0.98767506 0.98776848 0.9878605\n",
      " 0.98795115 0.98804046 0.98812847 0.98821519 0.98830066 0.98838491\n",
      " 0.98846795 0.98854982 0.98863054 0.98871014 0.98878863 0.98886604\n",
      " 0.9889424  0.98901772 0.98909202 0.98916533 0.98923766 0.98930904\n",
      " 0.98937948 0.98944901 0.98951763 0.98958537 0.98965224 0.98971826\n",
      " 0.98978344 0.98984781 0.98991138 0.98997415 0.99003616 0.9900974\n",
      " 0.9901579  0.99021766 0.99027671 0.99033505 0.9903927  0.99044966\n",
      " 0.99050596 0.9905616  0.99061659 0.99067095 0.99072468 0.9907778\n",
      " 0.99083032 0.99088224 0.99093358 0.99098435 0.99103455 0.9910842\n",
      " 0.99113331 0.99118188 0.99122992 0.99127744 0.99132445 0.99137096\n",
      " 0.99141697 0.9914625  0.99150755 0.99155213 0.99159624 0.99163989\n",
      " 0.9916831  0.99172586 0.99176819 0.99181009 0.99185156 0.99189262\n",
      " 0.99193326 0.99197351 0.99201335 0.9920528  0.99209187 0.99213055\n",
      " 0.99216886 0.99220679 0.99224437 0.99228158 0.99231844 0.99235495\n",
      " 0.99239111 0.99242694 0.99246243 0.99249759 0.99253242 0.99256694\n",
      " 0.99260113 0.99263502 0.99266859 0.99270187 0.99273484 0.99276751\n",
      " 0.9927999  0.99283199 0.99286381 0.99289534 0.99292659 0.99295758\n",
      " 0.99298829 0.99301873 0.99304892 0.99307884 0.99310851 0.99313793\n",
      " 0.99316709 0.99319601 0.99322469 0.99325313 0.99328133 0.99330929\n",
      " 0.99333703 0.99336453 0.99339181 0.99341887 0.9934457  0.99347232\n",
      " 0.99349873 0.99352492 0.9935509  0.99357668 0.99360225 0.99362762\n",
      " 0.99365279 0.99367776 0.99370253 0.99372711 0.99375151 0.99377571\n",
      " 0.99379973 0.99382356 0.99384721 0.99387068 0.99389397 0.99391709\n",
      " 0.99394003 0.9939628  0.9939854  0.99400783 0.9940301  0.9940522\n",
      " 0.99407414 0.99409592 0.99411753 0.99413899 0.9941603  0.99418145\n",
      " 0.99420245 0.9942233  0.994244   0.99426455 0.99428495 0.99430522\n",
      " 0.99432533 0.99434531 0.99436515 0.99438485 0.99440441 0.99442383\n",
      " 0.99444313 0.99446228 0.99448131 0.99450021 0.99451898 0.99453762\n",
      " 0.99455614 0.99457453 0.99459279 0.99461094 0.99462896 0.99464686\n",
      " 0.99466465 0.99468232 0.99469987 0.9947173  0.99473462 0.99475183\n",
      " 0.99476893 0.99478591 0.99480279 0.99481956 0.99483622 0.99485277\n",
      " 0.99486922 0.99488556 0.9949018  0.99491794 0.99493397 0.9949499\n",
      " 0.99496574 0.99498147 0.99499711 0.99501265 0.9950281  0.99504345\n",
      " 0.9950587  0.99507386 0.99508893 0.99510391 0.9951188  0.99513359\n",
      " 0.9951483  0.99516292 0.99517745 0.99519189 0.99520625 0.99522052\n",
      " 0.99523471 0.99524882 0.99526284 0.99527677 0.99529063 0.99530441\n",
      " 0.9953181  0.99533172 0.99534526 0.99535872 0.9953721  0.9953854\n",
      " 0.99539863 0.99541178 0.99542486 0.99543787 0.9954508  0.99546366\n",
      " 0.99547644 0.99548915 0.9955018  0.99551437 0.99552687 0.9955393\n",
      " 0.99555167 0.99556396 0.99557619 0.99558835 0.99560044 0.99561247\n",
      " 0.99562443 0.99563633 0.99564816 0.99565993 0.99567164 0.99568328\n",
      " 0.99569486 0.99570638 0.99571784 0.99572923 0.99574057 0.99575185\n",
      " 0.99576306 0.99577422 0.99578532 0.99579636 0.99580734 0.99581827\n",
      " 0.99582914 0.99583995 0.99585071 0.99586141 0.99587206 0.99588265\n",
      " 0.99589319 0.99590367 0.99591411 0.99592448 0.99593481 0.99594508\n",
      " 0.99595531 0.99596548 0.9959756  0.99598567 0.99599568 0.99600565\n",
      " 0.99601557 0.99602544 0.99603527 0.99604504 0.99605476 0.99606444\n",
      " 0.99607407 0.99608366 0.99609319 0.99610268 0.99611213 0.99612153\n",
      " 0.99613088 0.99614019 0.99614945 0.99615867 0.99616785 0.99617698\n",
      " 0.99618607 0.99619512 0.99620412 0.99621308 0.996222   0.99623088\n",
      " 0.99623971 0.99624851 0.99625726 0.99626597 0.99627464 0.99628327\n",
      " 0.99629187 0.99630042 0.99630893 0.99631741 0.99632584 0.99633424\n",
      " 0.9963426  0.99635092 0.9963592  0.99636744 0.99637565 0.99638382\n",
      " 0.99639196 0.99640005 0.99640812 0.99641614 0.99642413 0.99643209\n",
      " 0.99644    0.99644789 0.99645574 0.99646355 0.99647133 0.99647908\n",
      " 0.99648679 0.99649447 0.99650212 0.99650973 0.99651731 0.99652485\n",
      " 0.99653237 0.99653985 0.9965473  0.99655471 0.9965621  0.99656945\n",
      " 0.99657678 0.99658407 0.99659133 0.99659856 0.99660576 0.99661292\n",
      " 0.99662006 0.99662717 0.99663425 0.9966413  0.99664832 0.99665531\n",
      " 0.99666227 0.9966692  0.99667611 0.99668298 0.99668983 0.99669665\n",
      " 0.99670344 0.9967102 ]\n"
     ]
    }
   ],
   "source": [
    "if __name__ == '__main__':\n",
    "    \n",
    "    # case 1:\n",
    "    x=np.array([[1],\n",
    "                [0.5],\n",
    "                [-2]])\n",
    "    w0=np.array([[-1],\n",
    "                 [-2],\n",
    "                 [1]])\n",
    "    b0=-1\n",
    "    y=1\n",
    "    w=w0\n",
    "    b=b0\n",
    "    lam = 0.1\n",
    "    r = 500\n",
    "    z = w.T.dot(x) + b\n",
    "    \n",
    "    # add your code\n",
    "    s=loss_fun_s(w,x,b,y)\n",
    "    e=loss_fun_e(w,x,b,y)\n",
    "    \n",
    "    \n",
    "    s_history,s_prediction=train_s(x,y,w,b,s,lam,r)\n",
    "    #print(s_history)\n",
    "    e_history,e_prediction=train_e(x,y,w,b,e,lam,r)\n",
    "    print(e_prediction)\n",
    "    \n",
    "    \n",
    "    "
   ]
  },
  {
   "cell_type": "code",
   "execution_count": 24,
   "metadata": {},
   "outputs": [
    {
     "name": "stdout",
     "output_type": "stream",
     "text": [
      "500\n"
     ]
    }
   ],
   "source": [
    "print(len(s_history))"
   ]
  },
  {
   "cell_type": "code",
   "execution_count": 25,
   "metadata": {},
   "outputs": [],
   "source": [
    "horizon=list(range(0,500))"
   ]
  },
  {
   "cell_type": "code",
   "execution_count": 26,
   "metadata": {},
   "outputs": [
    {
     "name": "stderr",
     "output_type": "stream",
     "text": [
      "d:\\ProgramData\\Anaconda3\\lib\\site-packages\\ipykernel_launcher.py:4: UserWarning: You have mixed positional and keyword arguments, some input may be discarded.\n",
      "  after removing the cwd from sys.path.\n"
     ]
    },
    {
     "data": {
      "image/png": "[encoded data removed]",
      "text/plain": [
       "<Figure size 432x288 with 1 Axes>"
      ]
     },
     "metadata": {
      "needs_background": "light"
     },
     "output_type": "display_data"
    }
   ],
   "source": [
    "\n",
    "p1=plt.plot(horizon,s_history)\n",
    "p2= plt.plot(horizon,e_history)\n",
    "plt.title(\"Cost VS Runs\")\n",
    "plt.legend([p1,p2],labels=['Squared Error','Cost Entropy'],loc=1)\n",
    "plt.show()"
   ]
  },
  {
   "cell_type": "code",
   "execution_count": 27,
   "metadata": {},
   "outputs": [
    {
     "name": "stderr",
     "output_type": "stream",
     "text": [
      "d:\\ProgramData\\Anaconda3\\lib\\site-packages\\ipykernel_launcher.py:4: UserWarning: You have mixed positional and keyword arguments, some input may be discarded.\n",
      "  after removing the cwd from sys.path.\n"
     ]
    },
    {
     "data": {
      "image/png": "[encoded data removed]",
      "text/plain": [
       "<Figure size 432x288 with 1 Axes>"
      ]
     },
     "metadata": {
      "needs_background": "light"
     },
     "output_type": "display_data"
    }
   ],
   "source": [
    "p3=plt.plot(horizon,s_prediction)\n",
    "p4=plt.plot(horizon,e_prediction)\n",
    "plt.title(\"Prediction vs. Runs\")\n",
    "plt.legend([p3,p4],labels=['Squared Error','Cost Entropy'],loc=0)\n",
    "plt.show()"
   ]
  },
  {
   "cell_type": "markdown",
   "metadata": {},
   "source": [
    "<br>"
   ]
  },
  {
   "cell_type": "markdown",
   "metadata": {},
   "source": [
    "<br>"
   ]
  },
  {
   "cell_type": "markdown",
   "metadata": {},
   "source": [
    "<br>"
   ]
  },
  {
   "cell_type": "markdown",
   "metadata": {},
   "source": [
    "<br>"
   ]
  },
  {
   "cell_type": "markdown",
   "metadata": {},
   "source": [
    "<br>"
   ]
  },
  {
   "cell_type": "code",
   "execution_count": 28,
   "metadata": {},
   "outputs": [
    {
     "name": "stdout",
     "output_type": "stream",
     "text": [
      "[0.         0.4998766  0.49987659 0.49987658 0.49987657 0.49987657\n",
      " 0.49987656 0.49987655 0.49987654 0.49987653 0.49987652 0.49987651\n",
      " 0.4998765  0.49987649 0.49987648 0.49987647 0.49987646 0.49987645\n",
      " 0.49987644 0.49987643 0.49987642 0.49987641 0.4998764  0.49987639\n",
      " 0.49987638 0.49987637 0.49987637 0.49987636 0.49987635 0.49987634\n",
      " 0.49987633 0.49987632 0.49987631 0.4998763  0.49987629 0.49987628\n",
      " 0.49987627 0.49987626 0.49987625 0.49987624 0.49987623 0.49987622\n",
      " 0.49987621 0.4998762  0.49987619 0.49987618 0.49987617 0.49987616\n",
      " 0.49987615 0.49987615 0.49987614 0.49987613 0.49987612 0.49987611\n",
      " 0.4998761  0.49987609 0.49987608 0.49987607 0.49987606 0.49987605\n",
      " 0.49987604 0.49987603 0.49987602 0.49987601 0.499876   0.49987599\n",
      " 0.49987598 0.49987597 0.49987596 0.49987595 0.49987594 0.49987593\n",
      " 0.49987592 0.49987591 0.49987591 0.4998759  0.49987589 0.49987588\n",
      " 0.49987587 0.49987586 0.49987585 0.49987584 0.49987583 0.49987582\n",
      " 0.49987581 0.4998758  0.49987579 0.49987578 0.49987577 0.49987576\n",
      " 0.49987575 0.49987574 0.49987573 0.49987572 0.49987571 0.4998757\n",
      " 0.49987569 0.49987568 0.49987567 0.49987566 0.49987565 0.49987564\n",
      " 0.49987564 0.49987563 0.49987562 0.49987561 0.4998756  0.49987559\n",
      " 0.49987558 0.49987557 0.49987556 0.49987555 0.49987554 0.49987553\n",
      " 0.49987552 0.49987551 0.4998755  0.49987549 0.49987548 0.49987547\n",
      " 0.49987546 0.49987545 0.49987544 0.49987543 0.49987542 0.49987541\n",
      " 0.4998754  0.49987539 0.49987538 0.49987537 0.49987536 0.49987535\n",
      " 0.49987534 0.49987533 0.49987533 0.49987532 0.49987531 0.4998753\n",
      " 0.49987529 0.49987528 0.49987527 0.49987526 0.49987525 0.49987524\n",
      " 0.49987523 0.49987522 0.49987521 0.4998752  0.49987519 0.49987518\n",
      " 0.49987517 0.49987516 0.49987515 0.49987514 0.49987513 0.49987512\n",
      " 0.49987511 0.4998751  0.49987509 0.49987508 0.49987507 0.49987506\n",
      " 0.49987505 0.49987504 0.49987503 0.49987502 0.49987501 0.499875\n",
      " 0.49987499 0.49987498 0.49987497 0.49987496 0.49987496 0.49987495\n",
      " 0.49987494 0.49987493 0.49987492 0.49987491 0.4998749  0.49987489\n",
      " 0.49987488 0.49987487 0.49987486 0.49987485 0.49987484 0.49987483\n",
      " 0.49987482 0.49987481 0.4998748  0.49987479 0.49987478 0.49987477\n",
      " 0.49987476 0.49987475 0.49987474 0.49987473 0.49987472 0.49987471\n",
      " 0.4998747  0.49987469 0.49987468 0.49987467 0.49987466 0.49987465\n",
      " 0.49987464 0.49987463 0.49987462 0.49987461 0.4998746  0.49987459\n",
      " 0.49987458 0.49987457 0.49987456 0.49987455 0.49987454 0.49987453\n",
      " 0.49987452 0.49987451 0.4998745  0.49987449 0.49987448 0.49987447\n",
      " 0.49987446 0.49987445 0.49987445 0.49987444 0.49987443 0.49987442\n",
      " 0.49987441 0.4998744  0.49987439 0.49987438 0.49987437 0.49987436\n",
      " 0.49987435 0.49987434 0.49987433 0.49987432 0.49987431 0.4998743\n",
      " 0.49987429 0.49987428 0.49987427 0.49987426 0.49987425 0.49987424\n",
      " 0.49987423 0.49987422 0.49987421 0.4998742  0.49987419 0.49987418\n",
      " 0.49987417 0.49987416 0.49987415 0.49987414 0.49987413 0.49987412\n",
      " 0.49987411 0.4998741  0.49987409 0.49987408 0.49987407 0.49987406\n",
      " 0.49987405 0.49987404 0.49987403 0.49987402 0.49987401 0.499874\n",
      " 0.49987399 0.49987398 0.49987397 0.49987396 0.49987395 0.49987394\n",
      " 0.49987393 0.49987392 0.49987391 0.4998739  0.49987389 0.49987388\n",
      " 0.49987387 0.49987386 0.49987385 0.49987384 0.49987383 0.49987382\n",
      " 0.49987381 0.4998738  0.49987379 0.49987378 0.49987377 0.49987376\n",
      " 0.49987375 0.49987374 0.49987373 0.49987372 0.49987371 0.4998737\n",
      " 0.49987369 0.49987368 0.49987367 0.49987366 0.49987365 0.49987364\n",
      " 0.49987363 0.49987362 0.49987361 0.4998736  0.49987359 0.49987358\n",
      " 0.49987357 0.49987356 0.49987355 0.49987354 0.49987353 0.49987352\n",
      " 0.49987351 0.4998735  0.49987349 0.49987348 0.49987347 0.49987346\n",
      " 0.49987345 0.49987344 0.49987343 0.49987342 0.49987341 0.4998734\n",
      " 0.49987339 0.49987338 0.49987337 0.49987336 0.49987335 0.49987334\n",
      " 0.49987333 0.49987332 0.49987331 0.4998733  0.49987329 0.49987328\n",
      " 0.49987327 0.49987326 0.49987325 0.49987324 0.49987323 0.49987322\n",
      " 0.49987321 0.4998732  0.49987319 0.49987318 0.49987317 0.49987316\n",
      " 0.49987315 0.49987314 0.49987313 0.49987312 0.49987311 0.4998731\n",
      " 0.49987309 0.49987308 0.49987307 0.49987306 0.49987305 0.49987304\n",
      " 0.49987303 0.49987302 0.49987301 0.499873   0.49987299 0.49987298\n",
      " 0.49987297 0.49987296 0.49987295 0.49987294 0.49987293 0.49987292\n",
      " 0.49987291 0.4998729  0.49987289 0.49987288 0.49987287 0.49987286\n",
      " 0.49987285 0.49987284 0.49987283 0.49987282 0.49987281 0.4998728\n",
      " 0.49987279 0.49987278 0.49987277 0.49987276 0.49987275 0.49987274\n",
      " 0.49987273 0.49987272 0.49987271 0.4998727  0.49987269 0.49987268\n",
      " 0.49987267 0.49987266 0.49987265 0.49987264 0.49987263 0.49987262\n",
      " 0.49987261 0.4998726  0.49987259 0.49987258 0.49987257 0.49987256\n",
      " 0.49987255 0.49987254 0.49987253 0.49987252 0.4998725  0.49987249\n",
      " 0.49987248 0.49987247 0.49987246 0.49987245 0.49987244 0.49987243\n",
      " 0.49987242 0.49987241 0.4998724  0.49987239 0.49987238 0.49987237\n",
      " 0.49987236 0.49987235 0.49987234 0.49987233 0.49987232 0.49987231\n",
      " 0.4998723  0.49987229 0.49987228 0.49987227 0.49987226 0.49987225\n",
      " 0.49987224 0.49987223 0.49987222 0.49987221 0.4998722  0.49987219\n",
      " 0.49987218 0.49987217 0.49987216 0.49987215 0.49987214 0.49987213\n",
      " 0.49987212 0.49987211 0.4998721  0.49987209 0.49987208 0.49987207\n",
      " 0.49987206 0.49987205 0.49987204 0.49987203 0.49987202 0.49987201\n",
      " 0.499872   0.49987198 0.49987197 0.49987196 0.49987195 0.49987194\n",
      " 0.49987193 0.49987192 0.49987191 0.4998719  0.49987189 0.49987188\n",
      " 0.49987187 0.49987186 0.49987185 0.49987184 0.49987183 0.49987182\n",
      " 0.49987181 0.4998718  0.49987179 0.49987178 0.49987177 0.49987176\n",
      " 0.49987175 0.49987174 0.49987173 0.49987172 0.49987171 0.4998717\n",
      " 0.49987169 0.49987168]\n",
      "[0.00000000e+00 8.37530764e+00 7.75065173e+00 7.12629423e+00\n",
      " 6.50249334e+00 5.87972929e+00 5.25889169e+00 4.64161660e+00\n",
      " 4.03087243e+00 3.43191235e+00 2.85361942e+00 2.30983658e+00\n",
      " 1.81924158e+00 1.40137515e+00 1.06846682e+00 8.18814302e-01\n",
      " 6.38660939e-01 5.10166465e-01 4.17705488e-01 3.49838849e-01\n",
      " 2.98824695e-01 2.59553093e-01 2.28644079e-01 2.03828407e-01\n",
      " 1.83551533e-01 1.66725238e-01 1.52571361e-01 1.40522152e-01\n",
      " 1.30155588e-01 1.21152562e-01 1.13267992e-01 1.06310957e-01\n",
      " 1.00130789e-01 9.46071705e-02 8.96429779e-02 8.51590307e-02\n",
      " 8.10901867e-02 7.73824029e-02 7.39904964e-02 7.08764213e-02\n",
      " 6.80079283e-02 6.53575125e-02 6.29015811e-02 6.06197877e-02\n",
      " 5.84944981e-02 5.65103565e-02 5.46539324e-02 5.29134304e-02\n",
      " 5.12784507e-02 4.97397902e-02 4.82892762e-02 4.69196276e-02\n",
      " 4.56243369e-02 4.43975712e-02 4.32340872e-02 4.21291593e-02\n",
      " 4.10785176e-02 4.00782943e-02 3.91249781e-02 3.82153740e-02\n",
      " 3.73465690e-02 3.65159014e-02 3.57209347e-02 3.49594343e-02\n",
      " 3.42293473e-02 3.35287842e-02 3.28560032e-02 3.22093961e-02\n",
      " 3.15874757e-02 3.09888649e-02 3.04122865e-02 2.98565544e-02\n",
      " 2.93205659e-02 2.88032942e-02 2.83037820e-02 2.78211361e-02\n",
      " 2.73545218e-02 2.69031583e-02 2.64663145e-02 2.60433052e-02\n",
      " 2.56334871e-02 2.52362564e-02 2.48510453e-02 2.44773193e-02\n",
      " 2.41145753e-02 2.37623388e-02 2.34201622e-02 2.30876230e-02\n",
      " 2.27643218e-02 2.24498809e-02 2.21439429e-02 2.18461691e-02\n",
      " 2.15562387e-02 2.12738474e-02 2.09987063e-02 2.07305410e-02\n",
      " 2.04690908e-02 2.02141079e-02 1.99653562e-02 1.97226111e-02\n",
      " 1.94856587e-02 1.92542949e-02 1.90283252e-02 1.88075640e-02\n",
      " 1.85918340e-02 1.83809659e-02 1.81747978e-02 1.79731750e-02\n",
      " 1.77759494e-02 1.75829793e-02 1.73941290e-02 1.72092685e-02\n",
      " 1.70282732e-02 1.68510235e-02 1.66774048e-02 1.65073072e-02\n",
      " 1.63406249e-02 1.61772565e-02 1.60171045e-02 1.58600753e-02\n",
      " 1.57060786e-02 1.55550278e-02 1.54068395e-02 1.52614333e-02\n",
      " 1.51187319e-02 1.49786607e-02 1.48411481e-02 1.47061247e-02\n",
      " 1.45735237e-02 1.44432809e-02 1.43153340e-02 1.41896231e-02\n",
      " 1.40660902e-02 1.39446794e-02 1.38253367e-02 1.37080098e-02\n",
      " 1.35926483e-02 1.34792033e-02 1.33676276e-02 1.32578756e-02\n",
      " 1.31499030e-02 1.30436670e-02 1.29391261e-02 1.28362404e-02\n",
      " 1.27349708e-02 1.26352796e-02 1.25371305e-02 1.24404880e-02\n",
      " 1.23453177e-02 1.22515863e-02 1.21592616e-02 1.20683123e-02\n",
      " 1.19787078e-02 1.18904187e-02 1.18034163e-02 1.17176728e-02\n",
      " 1.16331611e-02 1.15498548e-02 1.14677285e-02 1.13867574e-02\n",
      " 1.13069173e-02 1.12281847e-02 1.11505367e-02 1.10739513e-02\n",
      " 1.09984068e-02 1.09238822e-02 1.08503569e-02 1.07778112e-02\n",
      " 1.07062255e-02 1.06355810e-02 1.05658594e-02 1.04970426e-02\n",
      " 1.04291132e-02 1.03620543e-02 1.02958492e-02 1.02304817e-02\n",
      " 1.01659362e-02 1.01021972e-02 1.00392497e-02 9.97707914e-03\n",
      " 9.91567126e-03 9.85501211e-03 9.79508813e-03 9.73588606e-03\n",
      " 9.67739296e-03 9.61959621e-03 9.56248346e-03 9.50604267e-03\n",
      " 9.45026208e-03 9.39513019e-03 9.34063579e-03 9.28676789e-03\n",
      " 9.23351579e-03 9.18086900e-03 9.12881729e-03 9.07735064e-03\n",
      " 9.02645926e-03 8.97613358e-03 8.92636424e-03 8.87714208e-03\n",
      " 8.82845816e-03 8.78030370e-03 8.73267013e-03 8.68554907e-03\n",
      " 8.63893229e-03 8.59281178e-03 8.54717965e-03 8.50202821e-03\n",
      " 8.45734992e-03 8.41313739e-03 8.36938339e-03 8.32608084e-03\n",
      " 8.28322280e-03 8.24080248e-03 8.19881321e-03 8.15724847e-03\n",
      " 8.11610187e-03 8.07536713e-03 8.03503813e-03 7.99510883e-03\n",
      " 7.95557334e-03 7.91642587e-03 7.87766074e-03 7.83927239e-03\n",
      " 7.80125537e-03 7.76360431e-03 7.72631398e-03 7.68937922e-03\n",
      " 7.65279498e-03 7.61655630e-03 7.58065832e-03 7.54509626e-03\n",
      " 7.50986544e-03 7.47496126e-03 7.44037921e-03 7.40611484e-03\n",
      " 7.37216383e-03 7.33852188e-03 7.30518482e-03 7.27214851e-03\n",
      " 7.23940892e-03 7.20696207e-03 7.17480406e-03 7.14293105e-03\n",
      " 7.11133929e-03 7.08002506e-03 7.04898474e-03 7.01821475e-03\n",
      " 6.98771158e-03 6.95747179e-03 6.92749197e-03 6.89776880e-03\n",
      " 6.86829900e-03 6.83907936e-03 6.81010669e-03 6.78137790e-03\n",
      " 6.75288991e-03 6.72463973e-03 6.69662438e-03 6.66884095e-03\n",
      " 6.64128659e-03 6.61395848e-03 6.58685384e-03 6.55996995e-03\n",
      " 6.53330412e-03 6.50685372e-03 6.48061616e-03 6.45458887e-03\n",
      " 6.42876935e-03 6.40315511e-03 6.37774373e-03 6.35253281e-03\n",
      " 6.32751999e-03 6.30270294e-03 6.27807938e-03 6.25364706e-03\n",
      " 6.22940376e-03 6.20534730e-03 6.18147554e-03 6.15778635e-03\n",
      " 6.13427765e-03 6.11094739e-03 6.08779356e-03 6.06481415e-03\n",
      " 6.04200721e-03 6.01937080e-03 5.99690303e-03 5.97460202e-03\n",
      " 5.95246592e-03 5.93049290e-03 5.90868119e-03 5.88702901e-03\n",
      " 5.86553461e-03 5.84419629e-03 5.82301235e-03 5.80198113e-03\n",
      " 5.78110097e-03 5.76037027e-03 5.73978742e-03 5.71935085e-03\n",
      " 5.69905901e-03 5.67891037e-03 5.65890342e-03 5.63903667e-03\n",
      " 5.61930865e-03 5.59971793e-03 5.58026307e-03 5.56094267e-03\n",
      " 5.54175533e-03 5.52269970e-03 5.50377442e-03 5.48497815e-03\n",
      " 5.46630960e-03 5.44776745e-03 5.42935044e-03 5.41105731e-03\n",
      " 5.39288680e-03 5.37483769e-03 5.35690877e-03 5.33909884e-03\n",
      " 5.32140674e-03 5.30383128e-03 5.28637132e-03 5.26902574e-03\n",
      " 5.25179341e-03 5.23467322e-03 5.21766409e-03 5.20076494e-03\n",
      " 5.18397472e-03 5.16729236e-03 5.15071683e-03 5.13424713e-03\n",
      " 5.11788222e-03 5.10162113e-03 5.08546286e-03 5.06940644e-03\n",
      " 5.05345092e-03 5.03759535e-03 5.02183880e-03 5.00618033e-03\n",
      " 4.99061904e-03 4.97515403e-03 4.95978440e-03 4.94450929e-03\n",
      " 4.92932781e-03 4.91423912e-03 4.89924236e-03 4.88433670e-03\n",
      " 4.86952132e-03 4.85479539e-03 4.84015811e-03 4.82560868e-03\n",
      " 4.81114632e-03 4.79677024e-03 4.78247968e-03 4.76827387e-03\n",
      " 4.75415207e-03 4.74011354e-03 4.72615753e-03 4.71228333e-03\n",
      " 4.69849022e-03 4.68477749e-03 4.67114445e-03 4.65759039e-03\n",
      " 4.64411463e-03 4.63071651e-03 4.61739535e-03 4.60415049e-03\n",
      " 4.59098127e-03 4.57788706e-03 4.56486722e-03 4.55192110e-03\n",
      " 4.53904810e-03 4.52624759e-03 4.51351896e-03 4.50086161e-03\n",
      " 4.48827494e-03 4.47575836e-03 4.46331130e-03 4.45093316e-03\n",
      " 4.43862339e-03 4.42638142e-03 4.41420669e-03 4.40209865e-03\n",
      " 4.39005674e-03 4.37808044e-03 4.36616921e-03 4.35432252e-03\n",
      " 4.34253985e-03 4.33082068e-03 4.31916449e-03 4.30757079e-03\n",
      " 4.29603907e-03 4.28456884e-03 4.27315960e-03 4.26181088e-03\n",
      " 4.25052219e-03 4.23929306e-03 4.22812301e-03 4.21701159e-03\n",
      " 4.20595834e-03 4.19496279e-03 4.18402450e-03 4.17314303e-03\n",
      " 4.16231792e-03 4.15154875e-03 4.14083508e-03 4.13017649e-03\n",
      " 4.11957256e-03 4.10902285e-03 4.09852697e-03 4.08808449e-03\n",
      " 4.07769501e-03 4.06735814e-03 4.05707347e-03 4.04684060e-03\n",
      " 4.03665915e-03 4.02652874e-03 4.01644897e-03 4.00641948e-03\n",
      " 3.99643988e-03 3.98650981e-03 3.97662889e-03 3.96679677e-03\n",
      " 3.95701308e-03 3.94727746e-03 3.93758957e-03 3.92794906e-03\n",
      " 3.91835557e-03 3.90880877e-03 3.89930831e-03 3.88985386e-03\n",
      " 3.88044508e-03 3.87108166e-03 3.86176325e-03 3.85248953e-03\n",
      " 3.84326019e-03 3.83407491e-03 3.82493337e-03 3.81583526e-03\n",
      " 3.80678027e-03 3.79776811e-03 3.78879845e-03 3.77987101e-03\n",
      " 3.77098549e-03 3.76214159e-03 3.75333903e-03 3.74457750e-03\n",
      " 3.73585674e-03 3.72717644e-03 3.71853634e-03 3.70993616e-03\n",
      " 3.70137561e-03 3.69285443e-03 3.68437234e-03 3.67592908e-03\n",
      " 3.66752438e-03 3.65915797e-03 3.65082960e-03 3.64253902e-03\n",
      " 3.63428595e-03 3.62607015e-03 3.61789136e-03 3.60974934e-03\n",
      " 3.60164385e-03 3.59357462e-03 3.58554143e-03 3.57754403e-03\n",
      " 3.56958218e-03 3.56165565e-03 3.55376420e-03 3.54590760e-03\n",
      " 3.53808562e-03 3.53029803e-03 3.52254461e-03 3.51482512e-03\n",
      " 3.50713936e-03 3.49948710e-03 3.49186811e-03 3.48428219e-03\n",
      " 3.47672912e-03 3.46920869e-03 3.46172068e-03 3.45426488e-03\n",
      " 3.44684110e-03 3.43944912e-03 3.43208874e-03 3.42475976e-03\n",
      " 3.41746198e-03 3.41019519e-03 3.40295921e-03 3.39575384e-03\n",
      " 3.38857887e-03 3.38143413e-03 3.37431942e-03 3.36723455e-03\n",
      " 3.36017934e-03 3.35315359e-03 3.34615713e-03 3.33918978e-03]\n"
     ]
    }
   ],
   "source": [
    "   \n",
    "    # case 2:\n",
    "    x=np.array([[1],\n",
    "                [0.5],\n",
    "                [-2]])\n",
    "    w0=np.array([[-3],\n",
    "                 [-2],\n",
    "                 [2]])\n",
    "    b0=-1\n",
    "    y=1\n",
    "    w=w0\n",
    "    b=b0\n",
    "    lam = 0.1\n",
    "    r = 500\n",
    "    z = w.T.dot(x) + b\n",
    "    \n",
    "    s=loss_fun_s(w,x,b,y)\n",
    "    e=loss_fun_e(w,x,b,y)\n",
    "    \n",
    "    \n",
    "    s_history,s_prediction=train_s(x,y,w,b,s,lam,r)\n",
    "    print(s_history)\n",
    "    e_history,e_prediction=train_e(x,y,w,b,e,lam,r)\n",
    "    print(e_history)\n",
    "    "
   ]
  },
  {
   "cell_type": "code",
   "execution_count": 29,
   "metadata": {},
   "outputs": [
    {
     "name": "stderr",
     "output_type": "stream",
     "text": [
      "d:\\ProgramData\\Anaconda3\\lib\\site-packages\\ipykernel_launcher.py:4: UserWarning: You have mixed positional and keyword arguments, some input may be discarded.\n",
      "  after removing the cwd from sys.path.\n"
     ]
    },
    {
     "data": {
      "image/png": "[encoded data removed]",
      "text/plain": [
       "<Figure size 432x288 with 1 Axes>"
      ]
     },
     "metadata": {
      "needs_background": "light"
     },
     "output_type": "display_data"
    }
   ],
   "source": [
    "p5=plt.plot(horizon,s_history)\n",
    "p6= plt.plot(horizon,e_history)\n",
    "plt.title(\"Prediction vs. Runs\")\n",
    "plt.legend([p5,p6],labels=['Squared Error','Cost Entropy'],loc=0)\n",
    "plt.show()"
   ]
  },
  {
   "cell_type": "code",
   "execution_count": 30,
   "metadata": {},
   "outputs": [
    {
     "name": "stderr",
     "output_type": "stream",
     "text": [
      "d:\\ProgramData\\Anaconda3\\lib\\site-packages\\ipykernel_launcher.py:4: UserWarning: You have mixed positional and keyword arguments, some input may be discarded.\n",
      "  after removing the cwd from sys.path.\n"
     ]
    },
    {
     "data": {
      "image/png": "[encoded data removed]",
      "text/plain": [
       "<Figure size 432x288 with 1 Axes>"
      ]
     },
     "metadata": {
      "needs_background": "light"
     },
     "output_type": "display_data"
    }
   ],
   "source": [
    "p7=plt.plot(horizon,s_prediction)\n",
    "p8=plt.plot(horizon,e_prediction)\n",
    "plt.title(\"Prediction vs. Runs\")\n",
    "plt.legend([p7,p8],labels=['Squared Error','Cost Entropy'],loc=0)\n",
    "plt.show()"
   ]
  },
  {
   "cell_type": "code",
   "execution_count": null,
   "metadata": {},
   "outputs": [],
   "source": []
  },
  {
   "cell_type": "code",
   "execution_count": null,
   "metadata": {},
   "outputs": [],
   "source": []
  },
  {
   "cell_type": "markdown",
   "metadata": {},
   "source": [
    "### Question 5"
   ]
  },
  {
   "cell_type": "markdown",
   "metadata": {},
   "source": [
    "- The only different between these two data set it the initial w1(the first element of w), So the inital start point is very sensitive to gradient descent. And we can see Data set 2 did change it's sigmod loss functio from begining. Maybe this point is already the local optimical minizie for this dataset and gradient descent can't find global minization.\n",
    "- After a instert a moniter to see vecter w, we can see in case 2,vecter w is actully never change from first begining, which means \n",
    "$ \\frac{d{\\hat{y}}}{d{w}}$ = 0 and \n",
    "after first caculation. So this is weakness of Squared Loss fucntion and can be avoid by Cost Entropy Lost Functoin."
   ]
  }
 ],
 "metadata": {
  "kernelspec": {
   "display_name": "Python 3",
   "language": "python",
   "name": "python3"
  },
  "language_info": {
   "codemirror_mode": {
    "name": "ipython",
    "version": 3
   },
   "file_extension": ".py",
   "mimetype": "text/x-python",
   "name": "python",
   "nbconvert_exporter": "python",
   "pygments_lexer": "ipython3",
   "version": "3.7.3"
  }
 },
 "nbformat": 4,
 "nbformat_minor": 2
}
