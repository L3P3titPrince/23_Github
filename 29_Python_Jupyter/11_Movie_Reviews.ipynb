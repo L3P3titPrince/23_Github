{
 "cells": [
  {
   "cell_type": "code",
   "execution_count": 25,
   "metadata": {},
   "outputs": [],
   "source": [
    "import pandas as pd\n",
    "import numpy as np\n",
    "#for some corpus work\n",
    "import re\n",
    "import nltk\n",
    "from nltk.corpus import stopwords\n",
    "from nltk.stem.porter import PorterStemmer"
   ]
  },
  {
   "cell_type": "code",
   "execution_count": 9,
   "metadata": {},
   "outputs": [],
   "source": [
    "df_1=pd.read_csv(\"03_data/11_movie_reviews.csv\")"
   ]
  },
  {
   "cell_type": "code",
   "execution_count": 10,
   "metadata": {},
   "outputs": [
    {
     "data": {
      "text/html": [
       "<div>\n",
       "<style scoped>\n",
       "    .dataframe tbody tr th:only-of-type {\n",
       "        vertical-align: middle;\n",
       "    }\n",
       "\n",
       "    .dataframe tbody tr th {\n",
       "        vertical-align: top;\n",
       "    }\n",
       "\n",
       "    .dataframe thead th {\n",
       "        text-align: right;\n",
       "    }\n",
       "</style>\n",
       "<table border=\"1\" class=\"dataframe\">\n",
       "  <thead>\n",
       "    <tr style=\"text-align: right;\">\n",
       "      <th></th>\n",
       "      <th>reviewid</th>\n",
       "      <th>content</th>\n",
       "      <th>polarity</th>\n",
       "    </tr>\n",
       "  </thead>\n",
       "  <tbody>\n",
       "    <tr>\n",
       "      <th>0</th>\n",
       "      <td>cv000_29416.txt</td>\n",
       "      <td>plot : two teen couples go to a church party ,...</td>\n",
       "      <td>0</td>\n",
       "    </tr>\n",
       "    <tr>\n",
       "      <th>1</th>\n",
       "      <td>cv001_19502.txt</td>\n",
       "      <td>the happy bastard's quick movie review damn th...</td>\n",
       "      <td>0</td>\n",
       "    </tr>\n",
       "    <tr>\n",
       "      <th>2</th>\n",
       "      <td>cv002_17424.txt</td>\n",
       "      <td>it is movies like these that make a jaded movi...</td>\n",
       "      <td>0</td>\n",
       "    </tr>\n",
       "    <tr>\n",
       "      <th>3</th>\n",
       "      <td>cv003_12683.txt</td>\n",
       "      <td>\" quest for camelot \" is warner bros . ' firs...</td>\n",
       "      <td>0</td>\n",
       "    </tr>\n",
       "    <tr>\n",
       "      <th>4</th>\n",
       "      <td>cv004_12641.txt</td>\n",
       "      <td>synopsis : a mentally unstable man undergoing ...</td>\n",
       "      <td>0</td>\n",
       "    </tr>\n",
       "  </tbody>\n",
       "</table>\n",
       "</div>"
      ],
      "text/plain": [
       "          reviewid                                            content  \\\n",
       "0  cv000_29416.txt  plot : two teen couples go to a church party ,...   \n",
       "1  cv001_19502.txt  the happy bastard's quick movie review damn th...   \n",
       "2  cv002_17424.txt  it is movies like these that make a jaded movi...   \n",
       "3  cv003_12683.txt   \" quest for camelot \" is warner bros . ' firs...   \n",
       "4  cv004_12641.txt  synopsis : a mentally unstable man undergoing ...   \n",
       "\n",
       "   polarity  \n",
       "0         0  \n",
       "1         0  \n",
       "2         0  \n",
       "3         0  \n",
       "4         0  "
      ]
     },
     "execution_count": 10,
     "metadata": {},
     "output_type": "execute_result"
    }
   ],
   "source": [
    "df_1.head()"
   ]
  },
  {
   "cell_type": "code",
   "execution_count": 11,
   "metadata": {},
   "outputs": [],
   "source": [
    "#collect content into a curpus\n",
    "review_corpus=df_1[\"content\"].values.ravel()"
   ]
  },
  {
   "cell_type": "code",
   "execution_count": 12,
   "metadata": {},
   "outputs": [
    {
     "data": {
      "text/plain": [
       "array(['plot : two teen couples go to a church party , drink and then drive . they get into an accident . one of the guys dies , but his girlfriend continues to see him in her life , and has nightmares . what\\'s the deal ? watch the movie and \" sorta \" find out . . . critique : a mind-fuck movie for the teen generation that touches on a very cool idea , but presents it in a very bad package . which is what makes this review an even harder one to write , since i generally applaud films which attempt to break the mold , mess with your head and such ( lost highway & memento ) , but there are good and bad ways of making all types of films , and these folks just didn\\'t snag this one correctly . they seem to have taken this pretty neat concept , but executed it terribly . so what are the problems with the movie ? well , its main problem is that it\\'s simply too jumbled . it starts off \" normal \" but then downshifts into this \" fantasy \" world in which you , as an audience member , have no idea what\\'s going on . there are dreams , there are characters coming back from the dead , there are others who look like the dead , there are strange apparitions , there are disappearances , there are a looooot of chase scenes , there are tons of weird things that happen , and most of it is simply not explained . now i personally don\\'t mind trying to unravel a film every now and then , but when all it does is give me the same clue over and over again , i get kind of fed up after a while , which is this film\\'s biggest problem . it\\'s obviously got this big secret to hide , but it seems to want to hide it completely until its final five minutes . and do they make things entertaining , thrilling or even engaging , in the meantime ? not really . the sad part is that the arrow and i both dig on flicks like this , so we actually figured most of it out by the half-way point , so all of the strangeness after that did start to make a little bit of sense , but it still didn\\'t the make the film all that more entertaining . i guess the bottom line with movies like this is that you should always make sure that the audience is \" into it \" even before they are given the secret password to enter your world of understanding . i mean , showing melissa sagemiller running away from visions for about 20 minutes throughout the movie is just plain lazy ! ! okay , we get it . . . there are people chasing her and we don\\'t know who they are . do we really need to see it over and over again ? how about giving us different scenes offering further insight into all of the strangeness going down in the movie ? apparently , the studio took this film away from its director and chopped it up themselves , and it shows . there might\\'ve been a pretty decent teen mind-fuck movie in here somewhere , but i guess \" the suits \" decided that turning it into a music video with little edge , would make more sense . the actors are pretty good for the most part , although wes bentley just seemed to be playing the exact same character that he did in american beauty , only in a new neighborhood . but my biggest kudos go out to sagemiller , who holds her own throughout the entire film , and actually has you feeling her character\\'s unraveling . overall , the film doesn\\'t stick because it doesn\\'t entertain , it\\'s confusing , it rarely excites and it feels pretty redundant for most of its runtime , despite a pretty cool ending and explanation to all of the craziness that came before it . oh , and by the way , this is not a horror or teen slasher flick . . . it\\'s just packaged to look that way because someone is apparently assuming that the genre is still hot with the kids . it also wrapped production two years ago and has been sitting on the shelves ever since . whatever . . . skip it ! where\\'s joblo coming from ? a nightmare of elm street 3 ( 7/10 ) - blair witch 2 ( 7/10 ) - the crow ( 9/10 ) - the crow : salvation ( 4/10 ) - lost highway ( 10/10 ) - memento ( 10/10 ) - the others ( 9/10 ) - stir of echoes ( 8/10 ) ',\n",
       "       'the happy bastard\\'s quick movie review damn that y2k bug . it\\'s got a head start in this movie starring jamie lee curtis and another baldwin brother ( william this time ) in a story regarding a crew of a tugboat that comes across a deserted russian tech ship that has a strangeness to it when they kick the power back on . little do they know the power within . . . going for the gore and bringing on a few action sequences here and there , virus still feels very empty , like a movie going for all flash and no substance . we don\\'t know why the crew was really out in the middle of nowhere , we don\\'t know the origin of what took over the ship ( just that a big pink flashy thing hit the mir ) , and , of course , we don\\'t know why donald sutherland is stumbling around drunkenly throughout . here , it\\'s just \" hey , let\\'s chase these people around with some robots \" . the acting is below average , even from the likes of curtis . you\\'re more likely to get a kick out of her work in halloween h20 . sutherland is wasted and baldwin , well , he\\'s acting like a baldwin , of course . the real star here are stan winston\\'s robot design , some schnazzy cgi , and the occasional good gore shot , like picking into someone\\'s brain . so , if robots and body parts really turn you on , here\\'s your movie . otherwise , it\\'s pretty much a sunken ship of a movie . ',\n",
       "       \"it is movies like these that make a jaded movie viewer thankful for the invention of the timex indiglo watch . based on the late 1960's television show by the same name , the mod squad tells the tale of three reformed criminals under the employ of the police to go undercover . however , things go wrong as evidence gets stolen and they are immediately under suspicion . of course , the ads make it seem like so much more . quick cuts , cool music , claire dane's nice hair and cute outfits , car chases , stuff blowing up , and the like . sounds like a cool movie , does it not ? after the first fifteen minutes , it quickly becomes apparent that it is not . the mod squad is certainly a slick looking production , complete with nice hair and costumes , but that simply isn't enough . the film is best described as a cross between an hour-long cop show and a music video , both stretched out into the span of an hour and a half . and with it comes every single clich ? . it doesn't really matter that the film is based on a television show , as most of the plot elements have been recycled from everything we've already seen . the characters and acting is nothing spectacular , sometimes even bordering on wooden . claire danes and omar epps deliver their lines as if they are bored , which really transfers onto the audience . the only one to escape relatively unscathed is giovanni ribisi , who plays the resident crazy man , ultimately being the only thing worth watching . unfortunately , even he's not enough to save this convoluted mess , as all the characters don't do much apart from occupying screen time . with the young cast , cool clothes , nice hair , and hip soundtrack , it appears that the film is geared towards the teenage mindset . despite an american 'r' rating ( which the content does not justify ) , the film is way too juvenile for the older mindset . information on the characters is literally spoon-fed to the audience ( would it be that hard to show us instead of telling us ? ) , dialogue is poorly written , and the plot is extremely predictable . the way the film progresses , you likely won't even care if the heroes are in any jeopardy , because you'll know they aren't . basing the show on a 1960's television show that nobody remembers is of questionable wisdom , especially when one considers the target audience and the fact that the number of memorable films based on television shows can be counted on one hand ( even one that's missing a finger or two ) . the number of times that i checked my watch ( six ) is a clear indication that this film is not one of them . it is clear that the film is nothing more than an attempt to cash in on the teenage spending dollar , judging from the rash of really awful teen-flicks that we've been seeing as of late . avoid this film at all costs . \",\n",
       "       ...,\n",
       "       'glory--starring matthew broderick , denzel washington , and morgan freeman--is the true story of the 54th regiment of massachusetts , the first black fighting unit recruited by the north during the civil war . broderick plays robert gould shaw , the young white officer who led the black soldiers into battle . shaw , the son of well-to-do abolitionists , hailed from boston high society . the letters he wrote home to his parents during the war are on display at harvard , and were , evidently , the inspiration for glory . as the film begins in 1862 , shaw is a captain in the northern forces . like private eriksson ( michael j . fox ) in casualties of war , shaw initially is naive and idealistic about the war--that is , until his company is attacked by enemy forces . shaw experiences first hand the horror and chaos of battle , witnessing mass slaughter and receiving a minor wound himself when a bullet grazes his neck . soon after his recovery , shaw is promoted to colonel and assigned to enlist and train blacks in the war effort . glory is the story not only of colonel shaw , but also of the black soldiers who laid down their lives to free their brothers from slavery . the film periodically jumps between shaw\\'s point of view and the perspective of the black soldiers . the movie introduces us to a handful of black recruits , and we follow them from their enlistment through basic training and finally into action . the large black cast is uniformly outstanding , especially washington who is electrifying as a runaway slave with a big mouth . he is brash and pushy , always getting into trouble and always looking for a fight . his bitter , tough guy facade is really just a mask for his loneliness and vulnerability . washington provides much of the film\\'s intensity and emotional power . in one heartbreaking scene , he is whipped for allegedly deserting the army . when he removes his shirt to receive the punishment , you cringe at the sight of his back , which is riddled with ugly scars from his days as a slave . it makes your blood boil . the humiliation of the beating is far more traumatic than the actual physical pain it brings ; a tear rolls down washington\\'s cheek--and will probably run down your cheek as well . the episode becomes even more tragic when we learn that washington wasn\\'t deserting the army at all ; he left camp to look for shoes because his feet were covered with oozing sores . freeman is , as usual , a strong presence , even in a small supporting role . he plays a grave digger who has buried more white soldiers than he cares to remember . he quickly becomes a leader among the black soldiers , holding the group together and serving as a liaison to the white officers . colonel shaw recognizes freeman\\'s leadership ability and promotes him to sergeant major , making him the first black officer in the army . andre braugher makes an impressive film debut in the role of thomas searles , a free black who is one of shaw\\'s close childhood friends . searles is educated and refined , like a white man , prompting washington to nickname him \" snow flake . \" the burning question is whether searles is tough enough to survive basic training and to kill in combat . the road from marching drills to battle action is a bumpy one for the black regiment . the soldiers suffer innumerable hardships , but somehow they never lose their morale . the army treats the black soldiers like second class citizens , subjecting them to racism and discrimination . they are paid only $10 a month , whereas their white counterparts earn thirteen , and , for a long time , they have to go without shoes , guns , or uniforms . to make matters worse , the white military hierarchy is extremely reluctant to allow the blacks into action , preferring instead to use them for manual labor . eventually , however , the regiment receives its boots , uniforms , rifles , and right to fight , thanks to the stubborn resolve of colonel shaw . shaw has absolute faith in his soldiers , and he fights tooth and nail to get them what they deserve , even if it means threatening a general with blackmail . broderick , in fact , is most convincing in the scenes where shaw stands up for the regiment . unfortunately , however , broderick\\'s uneven performance is , in many respects , the weak link in the movie . in an effort to look more mature , broderick sports a mustache and a goatee , and throughout the film he slips in and out of a phony boston accent . he is never altogether convincing as shaw since much of the time his emotions seem forced . the film places too much weight on broderick\\'s character and not enough on the black soldiers , who are more intriguing . glory regains lost ground with its harrowing depiction of war . the movie shows the devastation of war without resorting to the unnecessarily graphic gore which marred born on the fourth of july . glory does not try to rattle you with nauseating blood and guts . except for a few bullet wounds and one exploding head , the film , for the most part , leaves the gore to your imagination , which is not to say that the battle scenes in glory are timid . to the contrary , they are chaotic and horrifying ; it\\'s just that director edward zwick ( the co-creator of \" thirtysomething \" ) films them with far more subtlety and restraint than oliver stone could ever muster . the key to glory is the group dynamic among the black soldiers . the movie depicts some of ( but not enough of ) their customs and rituals . in one scene , for example , the soldiers motivate themselves by singing prayers around the campfire . each man has a chance to relay a few words of inspiration . a couple of the movie\\'s most touching moments involve young black children looking up to the black soldiers with awe , disbelief and pride . the regiment\\'s greatest triumph comes when the soldiers distinguish themselves in battle , thereby earning the respect of their white peers and earning the honor of leading the climactic assault on fort wagner . like any war film , glory has its share of gloom and despair , but ultimately it proves to be a truly uplifting experience and an important history lesson , a valuable reminder that despite what the history books say ( or , more precisely , what they do not say ) , blacks played a critically important role in the north\\'s victory over the south--forever changing the evolution of america . ',\n",
       "       'steven spielberg\\'s second epic film on world war ii is an unquestioned masterpiece of film . spielberg , ever the student on film , has managed to resurrect the war genre by producing one of its grittiest , and most powerful entries . he also managed to cast this era\\'s greatest answer to jimmy stewart , tom hanks , who delivers a performance that is nothing short of an astonishing miracle . for about 160 out of its 170 minutes , \" saving private ryan \" is flawless . literally . the plot is simple enough . after the epic d-day invasion ( whose sequences are nothing short of spectacular ) , capt . john miller ( hanks ) and his team are forced to search for a pvt . james ryan ( damon ) , whose brothers have all died in battle . once they find him , they are to bring him back for immediate discharge so that he can go home . accompanying miller are his crew , played with astonishing perfection by a group of character actors that are simply sensational . barry pepper , adam goldberg , vin diesel , giovanni ribisi , davies , and burns are the team sent to find one man , and bring him home . the battle sequences that bookend the film are extraordinary . literally . there is nothing in film that has ever been recorded that will prepare you for the sheer onslaught of terrorizing violence in the film\\'s first 20 minutes . spielberg films almost the entire movie without music , leaving it up to the characters to generate emotion , and they do to perfection . the sequences in france , all of them , beginning with the battle and ending with the battle , are fabulous , especially the dialogues between the men as they walk through the hills and countrysides , trying to save private ryan . there are no words i can use to describe the true horror and power of these sequences . this is what coppola was looking for in \" apocalypse now \" , but couldn\\'t create . the sheer horror of these sequences all but condemn war . the performance by hanks as the leader of this gang is also extraordinary . he is head and shoulders above of the rest of the actors in the world , with his comic timing , dramatic flair , his quiet emotion that stirs an entire nation to tears . hanks is this country\\'s finest actor , and he proves it here . however , spielberg almost destroys his own masterpiece . with a chance to make it the one of the greatest films of all time , spielberg creates 10 minutes of purely worthless film . the sequence involving army chief-of-stafff george marshall and mrs . ryan is decent , but doesn\\'t hold up to the rest of the film , relying on wartime cliches to power it . but that is forgivable . what isn\\'t is the bookends of the film , the cemetary sequences . the first one is quite good , a decent introduction into the lives of these men . the last sequence is atrocious . the forced emotion , accompanied by a ridiculous piece of music , is simply horrible compared to the rest of the magical film . these flaws are what downgrade \" ryan \" from the greatest film of our era , to the greatest war film of our era . spielberg should have trusted his own material , and he should have trusted hanks to deliver the most chilling line of the movie , to end his masterpiece right there . the use of the flag , though patriotic , is in contrast to the movie\\'s theme . the power of the bulk of the film , however , is astonishing . spielberg has truly made a wondrous work of art , that persists even after first viewing of the film , is extraordinary . this is the film of the year . ',\n",
       "       'truman ( \" true-man \" ) burbank is the perfect name for jim carrey\\'s character in this film . president truman was an unassuming man who became known worldwide , in spite of ( or was it because of ) his stature .  \" truman \" also recalls an era of plenty following a grim war , an era when planned communities built by government scientists promised an idyllic life for americans . and burbank , california , brings to mind the tonight show and the home of nbc . if hollywood is the center of the film world , burbank is , or was , the center of tv\\'s world , the world where our protagonist lives . combine all these names and concepts into \" truman burbank , \" and you get something that well describes him and his artificial world . truman leads the perfect life . his town , his car , and his wife are picture perfect . his idea of reality comes under attack one day when a studio light falls from the sky . the radio explains that an overflying airplane started coming apart .  .  . but then why would an airplane be carrying a studio light ? the next day during the drive to work , the radio jams and he starts picking up a voice that exactly describes his movements . he is so distracted that he nearly hits a pedestrian . when the radio comes back to normal , the announcer warns listeners to drive carefully . his suspicion aroused , he wanders around the town square looking for other oddities . the world appears to be functioning properly until he enters an office building and tries to take the elevator . the elevator doors open up on a small lounge with people on coffee breaks . a grip sees truman him and quickly moves a paneled door , made to look like the back of an elevator , into place . two security guards grab him and throw him out . truman is really suspicious now . it gets even worse the next day when his wife , a nurse , describes an elevator accident in the building where he saw the lounge .  \" it\\'s best not to think about it , \" she says , trying vainly to change truman\\'s memory . truman becomes determined to see who or what is behind this apparently elaborate hoax at his expense . at every turn he is stopped by an amazing coincidence that just happens to keep him in his own little town . his last hope is to quell his fear of the ocean and sail to the edge of the world . you know by now that truman\\'s life is the subject of a television program . his actions are \" real \" but everything else is carefully scripted , from the death of his father to the choice of his wife . truman is determined to find out what the big hoax is . meanwhile , christof , the all-seeing creator of truman\\'s world does his best to keep him unaware and happy . it\\'s sort of like westworld told from the robots\\' point of view , or jurassic park from the dinosaurs\\' point of view . we root for the captive of the cage-world . our protagonist is counting on \" chaos theory \" to help him escape his elaborate trap . the story , written by andrew niccol ( writer/director of gattaca ) , introduces some interesting questions , such as the ethics of subjecting a person to this type of life , or the psychological impact of learning that your entire life has all been fake . although these questions came to mind , i don\\'t think the film itself asked them . it certainly didn\\'t address them or try to answer them . i was particularly disappointed that the film didn\\'t deal more with the trauma of learning one\\'s life is a tv show . carrey\\'s performance at the end showed a smidgen of truman\\'s pain , but i almost felt that he got over it too easily for the sake of the film\\'s pacing . earlier in the movie i found myself wondering if it would be better for truman to find out the truth or whether i should root for him to be well . the two seemed exclusive of one another , but weir and niccol didn\\'t see it that way . perhaps it\\'s not fair to criticize a movie for what it isn\\'t , but it seems like there were some missed opportunities here . but on its own terms , the movie is well made . sight , sound and pacing are all handled competently . much of the first part of the movie is the truman show . the scenes are all apparently shot from hidden cameras , with snoots and obstructions covering the corners of the screen . one hidden camera is apparently in his car radio , the green led numbers obscuring the lower part of the screen . the music is well-chosen and scored . the film opens with what sounds like family drama theme music , when truman\\'s world is still beautiful and perfect . when the movie ends , the score sounds more like a frantic , driven , tangerine dream opus , while still keeping the same timbre . philip glass\\' epic music ( from powaqqatsi ) permeates truman\\'s scenes of suspicion and awakening .  ( glass has a small cameo as a keyboardist for the show . ) and the pacing of the story was brisk . there was no unnecessarily long setup explaining the concept behind the truman show , just a few quick title cards , a few interviews , and then right into the show , and the movie . one of the first scenes is of the studio light falling ; there was no token scene of truman\\'s idyllic life before it falls apart , because it wasn\\'t necessary , we pick up the story at the first sign of trouble , and no sooner . there\\'s also no point in the movie where the plot slows down . it\\'s a quick , straight shot to the movie\\'s end . in terms of overall quality , i would compare the truman show to niccol\\'s gattaca . both films are well made with interesting stories set in interesting worlds . but neither film really felt like it capitalized on all the great ideas ; neither film \" clicked \" and became an instant classic . nevertheless , i look forward to niccol\\'s next film , whatever it may be . '],\n",
       "      dtype=object)"
      ]
     },
     "execution_count": 12,
     "metadata": {},
     "output_type": "execute_result"
    }
   ],
   "source": [
    "review_corpus"
   ]
  },
  {
   "cell_type": "code",
   "execution_count": 22,
   "metadata": {},
   "outputs": [
    {
     "data": {
      "text/plain": [
       "'truman ( \" true-man \" ) burbank is the perfect name for jim carrey\\'s character in this film . president truman was an unassuming man who became known worldwide , in spite of ( or was it because of ) his stature .  \" truman \" also recalls an era of plenty following a grim war , an era when planned communities built by government scientists promised an idyllic life for americans . and burbank , california , brings to mind the tonight show and the home of nbc . if hollywood is the center of the film world , burbank is , or was , the center of tv\\'s world , the world where our protagonist lives . combine all these names and concepts into \" truman burbank , \" and you get something that well describes him and his artificial world . truman leads the perfect life . his town , his car , and his wife are picture perfect . his idea of reality comes under attack one day when a studio light falls from the sky . the radio explains that an overflying airplane started coming apart .  .  . but then why would an airplane be carrying a studio light ? the next day during the drive to work , the radio jams and he starts picking up a voice that exactly describes his movements . he is so distracted that he nearly hits a pedestrian . when the radio comes back to normal , the announcer warns listeners to drive carefully . his suspicion aroused , he wanders around the town square looking for other oddities . the world appears to be functioning properly until he enters an office building and tries to take the elevator . the elevator doors open up on a small lounge with people on coffee breaks . a grip sees truman him and quickly moves a paneled door , made to look like the back of an elevator , into place . two security guards grab him and throw him out . truman is really suspicious now . it gets even worse the next day when his wife , a nurse , describes an elevator accident in the building where he saw the lounge .  \" it\\'s best not to think about it , \" she says , trying vainly to change truman\\'s memory . truman becomes determined to see who or what is behind this apparently elaborate hoax at his expense . at every turn he is stopped by an amazing coincidence that just happens to keep him in his own little town . his last hope is to quell his fear of the ocean and sail to the edge of the world . you know by now that truman\\'s life is the subject of a television program . his actions are \" real \" but everything else is carefully scripted , from the death of his father to the choice of his wife . truman is determined to find out what the big hoax is . meanwhile , christof , the all-seeing creator of truman\\'s world does his best to keep him unaware and happy . it\\'s sort of like westworld told from the robots\\' point of view , or jurassic park from the dinosaurs\\' point of view . we root for the captive of the cage-world . our protagonist is counting on \" chaos theory \" to help him escape his elaborate trap . the story , written by andrew niccol ( writer/director of gattaca ) , introduces some interesting questions , such as the ethics of subjecting a person to this type of life , or the psychological impact of learning that your entire life has all been fake . although these questions came to mind , i don\\'t think the film itself asked them . it certainly didn\\'t address them or try to answer them . i was particularly disappointed that the film didn\\'t deal more with the trauma of learning one\\'s life is a tv show . carrey\\'s performance at the end showed a smidgen of truman\\'s pain , but i almost felt that he got over it too easily for the sake of the film\\'s pacing . earlier in the movie i found myself wondering if it would be better for truman to find out the truth or whether i should root for him to be well . the two seemed exclusive of one another , but weir and niccol didn\\'t see it that way . perhaps it\\'s not fair to criticize a movie for what it isn\\'t , but it seems like there were some missed opportunities here . but on its own terms , the movie is well made . sight , sound and pacing are all handled competently . much of the first part of the movie is the truman show . the scenes are all apparently shot from hidden cameras , with snoots and obstructions covering the corners of the screen . one hidden camera is apparently in his car radio , the green led numbers obscuring the lower part of the screen . the music is well-chosen and scored . the film opens with what sounds like family drama theme music , when truman\\'s world is still beautiful and perfect . when the movie ends , the score sounds more like a frantic , driven , tangerine dream opus , while still keeping the same timbre . philip glass\\' epic music ( from powaqqatsi ) permeates truman\\'s scenes of suspicion and awakening .  ( glass has a small cameo as a keyboardist for the show . ) and the pacing of the story was brisk . there was no unnecessarily long setup explaining the concept behind the truman show , just a few quick title cards , a few interviews , and then right into the show , and the movie . one of the first scenes is of the studio light falling ; there was no token scene of truman\\'s idyllic life before it falls apart , because it wasn\\'t necessary , we pick up the story at the first sign of trouble , and no sooner . there\\'s also no point in the movie where the plot slows down . it\\'s a quick , straight shot to the movie\\'s end . in terms of overall quality , i would compare the truman show to niccol\\'s gattaca . both films are well made with interesting stories set in interesting worlds . but neither film really felt like it capitalized on all the great ideas ; neither film \" clicked \" and became an instant classic . nevertheless , i look forward to niccol\\'s next film , whatever it may be . '"
      ]
     },
     "execution_count": 22,
     "metadata": {},
     "output_type": "execute_result"
    }
   ],
   "source": [
    "review_corpus[1999]"
   ]
  },
  {
   "cell_type": "code",
   "execution_count": 20,
   "metadata": {},
   "outputs": [
    {
     "data": {
      "text/plain": [
       "2000"
      ]
     },
     "execution_count": 20,
     "metadata": {},
     "output_type": "execute_result"
    }
   ],
   "source": [
    "len(review_corpus)"
   ]
  },
  {
   "cell_type": "code",
   "execution_count": 29,
   "metadata": {},
   "outputs": [
    {
     "name": "stderr",
     "output_type": "stream",
     "text": [
      "Exception ignored in: <function SeekableUnicodeStreamReader.__del__ at 0x0000015E1F542F28>\n",
      "Traceback (most recent call last):\n",
      "  File \"d:\\ProgramData\\Anaconda3\\lib\\site-packages\\nltk\\data.py\", line 1281, in __del__\n",
      "    self.close()\n",
      "  File \"d:\\ProgramData\\Anaconda3\\lib\\site-packages\\nltk\\data.py\", line 1310, in close\n",
      "    self.stream.close()\n",
      "KeyboardInterrupt\n"
     ]
    }
   ],
   "source": [
    "review_corpus_2=[]\n",
    "for i in range(0,len(review_corpus)):\n",
    "    review_corpus_1=re.sub('[^a-zA-Z]', ' ', review_corpus[i])\n",
    "    review_corpus_1=review_corpus_1.lower().split()\n",
    "    ps = PorterStemmer()\n",
    "    review_corpus_1 = [ps.stem(word) for word in review_corpus_1 if not word in set(stopwords.words ('english'))]\n",
    "#    tag = ' '.join(tag)\n",
    "    review_corpus_2.append(review_corpus_1)"
   ]
  }
 ],
 "metadata": {
  "kernelspec": {
   "display_name": "Python 3",
   "language": "python",
   "name": "python3"
  },
  "language_info": {
   "codemirror_mode": {
    "name": "ipython",
    "version": 3
   },
   "file_extension": ".py",
   "mimetype": "text/x-python",
   "name": "python",
   "nbconvert_exporter": "python",
   "pygments_lexer": "ipython3",
   "version": "3.7.3"
  }
 },
 "nbformat": 4,
 "nbformat_minor": 2
}
