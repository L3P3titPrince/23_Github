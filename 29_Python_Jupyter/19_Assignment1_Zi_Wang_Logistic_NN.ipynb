{
 "cells": [
  {
   "cell_type": "markdown",
   "metadata": {},
   "source": [
    "<a id=\"1.Summary\"></a>\n",
    "# 1.Summary"
   ]
  },
  {
   "cell_type": "markdown",
   "metadata": {},
   "source": [
    "Document Classifcation. You need to classify text paragraphs into three categories: Fyodor Dostoyevsky, Arthur Conan Doyle, and Jane Austen by building your own classifers. The data provided is from Project Gutenberg.\n",
    "Most of parts have been writen into function. But for the final <code>__main__ </code>part, there are still some parts write didn't that well. Need future improvement.\n",
    "<code>Logistci Regressan, Mini-batch and Stochasitc gradient descent</code> didn't use packages. Others, including <code>Neural Network</code> used packages"
   ]
  },
  {
   "cell_type": "markdown",
   "metadata": {},
   "source": [
    "<a id=\"2.Contents\"></a>\n",
    "# 2.Contents\n",
    "<a href=\"#1.Summary\">Click this Link back to Top</a>"
   ]
  },
  {
   "cell_type": "markdown",
   "metadata": {},
   "source": [
    "<ol>\n",
    "    <li><a href=\"#1.Summary\">Summary</a></li>\n",
    "    <li><a href=\"#2.Contents\">Contents</a></li>\n",
    "    <li><a href=\"#3.Construct examples\">Construct examples</a></li>\n",
    "    <li><a href=\"#4.Preprocess data\">4.Preprocess data / Feature Extraction</a></li>\n",
    "    <li><a href=\"#5.Data split\">Data split</a></li>\n",
    "    <li><a href=\"#6.Train\">Train</a></li>\n",
    "    <ul>\n",
    "       <li><a href=\"#6.1 Gradien Descent\">6.1 Gradien Descent</a></li>\n",
    "       <li><a href=\"#6.2 Mini-batch Gradient Descent\">6.2 Mini-batch Gradient Descent</a></li> \n",
    "       <li><a href=\"#6.3 stochastic gradient descent\">6.3 stochastic gradient descent</a></li>\n",
    "       <li><a href=\"#6.4 Multilayer Perceptron\">6.4 Multilayer Perceptron</a></li> \n",
    "    </ul>\n",
    "    <li><a href=\"#7.Main\">Main</a></li>\n",
    "    <li><a href=\"#8.Cross-validation\">Cross-validation</a></li>\n",
    "    <li><a href=\"#9.Plot\">Plot</a></li>\n",
    "    <li><a href=\"#10.Compare Conclusion\">Compare Conclusion</a></li>\n",
    "</ol>\n"
   ]
  },
  {
   "cell_type": "code",
   "execution_count": 1,
   "metadata": {},
   "outputs": [
    {
     "name": "stdout",
     "output_type": "stream",
     "text": [
      "Active code page: 437\n"
     ]
    }
   ],
   "source": [
    "#if you want to rebuild identical environment, you can install follow this requirments\n",
    "!conda list --export > requirements.txt"
   ]
  },
  {
   "cell_type": "code",
   "execution_count": 2,
   "metadata": {},
   "outputs": [],
   "source": [
    "import os\n",
    "import re\n",
    "import string\n",
    "import numpy as np\n",
    "import pandas as pd\n",
    "import tensorflow as tf\n",
    "\n",
    "#we need use bs4 to eliminate html\n",
    "from bs4 import BeautifulSoup\n",
    "\n",
    "#it seems not working well\n",
    "from sklearn.feature_extraction.text import TfidfVectorizer\n",
    "from sklearn.model_selection import train_test_split\n",
    "from sklearn.metrics import classification_report\n",
    "from sklearn.model_selection import KFold\n",
    "\n",
    "#for the neural network part, we need use tensorflow and keras as backend\n",
    "from tensorflow import keras\n",
    "#keras only can complete simple text preprocess work\n",
    "from tensorflow.keras.preprocessing.text import Tokenizer\n",
    "from tensorflow.keras.preprocessing.sequence import pad_sequences\n",
    "from tensorflow.keras.layers import Embedding, Dense, Conv1D, MaxPooling1D, \\\n",
    "Dropout, Activation, Input, Flatten, Concatenate\n",
    "from tensorflow.keras.models import Model\n",
    "\n",
    "\n",
    "import matplotlib.pyplot as plt\n",
    "\n",
    "#this function is used to monitor \n",
    "from tqdm import tqdm"
   ]
  },
  {
   "cell_type": "markdown",
   "metadata": {},
   "source": [
    "<br>"
   ]
  },
  {
   "cell_type": "markdown",
   "metadata": {},
   "source": [
    "<br>"
   ]
  },
  {
   "cell_type": "markdown",
   "metadata": {},
   "source": [
    "<a id=\"3.Construct examples\"></a>\n",
    "# 3.Construct examples\n",
    "<a href=\"#1.Summary\">Click this Link back to Top</a>"
   ]
  },
  {
   "cell_type": "markdown",
   "metadata": {},
   "source": [
    "Divde each document into multiple paragramps. Each graph will be one example, one element in list. Text in the begining to demenstrate info will be discarded. All data will be formed into a DataFrame, which have \"AUTHOR\" and \"CLASSIFY\" column"
   ]
  },
  {
   "cell_type": "code",
   "execution_count": 3,
   "metadata": {},
   "outputs": [],
   "source": [
    "def data_import():\n",
    "    \"\"\"\n",
    "    Each text have different issues, so i can not use one function to process all raw data\n",
    "    \n",
    "    Return:\n",
    "    --------\n",
    "    df:DataFrame\n",
    "        concatenate all data into one DataFrame and add column name\n",
    "    data_1:list\n",
    "        from Fyodor Dostoyevsky,\n",
    "    data_2:list\n",
    "        from Arthur Conan Doyle,\n",
    "    data_3:list\n",
    "        from Jane Austen\n",
    "    \"\"\"\n",
    "    #Due to txt contain 'gbk', we have to read this file as binary code style, but binary leave more issues\n",
    "    with open('03_data/11_Project Gutenberg Data/28054-0.txt', 'rb') as f:\n",
    "        #First we use normal read\n",
    "        #Second, we should decode binary with utf-8, which will turn binary back to string\n",
    "        #Thrid, we need split raw text into paragraph, according to data, \n",
    "        #every paragraph are seperated by '\\r\\n\\r\\n'\n",
    "        #In binary new line is\"\\r\\n\\r\\n\". In string new line is \"\\n\\n\"\n",
    "        lines_1 = f.read().decode('utf-8').split('\\r\\n\\r\\n')\n",
    "    #we only need main content, so eliminate header of each raw data. \n",
    "    #We only keep content from first paragraph title\n",
    "    index_1 = lines_1.index('Chapter I. Fyodor Pavlovitch Karamazov')\n",
    "    data_1 = lines_1[index_1+1:]\n",
    "    while(\"\" in data_1) : \n",
    "        data_1.remove(\"\") \n",
    "    print(f'For category one, Fyodor Dostoyevsky, we have {len(data_1)} examples')\n",
    "    \n",
    "    \n",
    "    #lines_2 can read directly\n",
    "    with open('03_data/11_Project Gutenberg Data/pg1661.txt') as f:\n",
    "        #we can use '\\n\\n' to split paragraph\n",
    "        lines_2 = f.read().split('\\n\\n')\n",
    "    #we only want main content of this book\n",
    "    index_2 = lines_2.index('\\nADVENTURE I. A SCANDAL IN BOHEMIA') \n",
    "    #due to technical reason, i can't elimiate some extra paragraph, so we add two after index\n",
    "    data_2 = lines_2[index_2+2:]\n",
    "    while(\"\" in data_2) : \n",
    "        data_2.remove(\"\") \n",
    "    print(f'For category two, Arthur Conan Doyle, we have {len(data_2)} examples')\n",
    "    \n",
    "    \n",
    "    with open('03_data/11_Project Gutenberg Data/pg31100.txt',  'rb') as f:\n",
    "        lines_3 = f.read().decode('utf-8').split('\\r\\n\\r\\n')\n",
    "    index_3 = lines_3.index('\\r\\nChapter 1')\n",
    "    data_3 = lines_3[index_3+1:]\n",
    "    while(\"\" in data_3) : \n",
    "        data_3.remove(\"\") \n",
    "    print(f'For category three, Fyodor Dostoyevsky, we have {len(data_3)} examples')\n",
    "    \n",
    "    #it's more convient to transform data into pandas DataFrame\n",
    "    data = {'AUTHOR':data_1+data_2+data_3, 'CLASSIFY':[1]*len(data_1)+[2]*len(data_2)+[3]*len(data_3)}\n",
    "    df = pd.DataFrame(data)\n",
    "    \n",
    "    \"\"\"\n",
    "    for i in range(0,len(lines_1)):\n",
    "        try:\n",
    "            lines_3[i] = lines_3[i].decode('utf-8')\n",
    "    except:\n",
    "        #n+=1\n",
    "    print(\"'ascii' codec can't decode byte 0xe2 in position 47: ordinal not in\")\n",
    "    f.close()\n",
    "    \"\"\"\n",
    "    \n",
    "    return df"
   ]
  },
  {
   "cell_type": "markdown",
   "metadata": {},
   "source": [
    "<br>"
   ]
  },
  {
   "cell_type": "markdown",
   "metadata": {},
   "source": [
    "<br>"
   ]
  },
  {
   "cell_type": "markdown",
   "metadata": {},
   "source": [
    "<br>"
   ]
  },
  {
   "cell_type": "markdown",
   "metadata": {},
   "source": [
    "<a id=\"4.Preprocess data\"></a>\n",
    "# 4.Preprocess data / Feature Extraction\n",
    "<a href=\"#1.Summary\">Click this Link back to Top</a>"
   ]
  },
  {
   "cell_type": "markdown",
   "metadata": {},
   "source": [
    "Remove punctuation, irrelevant symbols, urls, and numbers. You can remove the unrelated text in the beginning of each file."
   ]
  },
  {
   "cell_type": "markdown",
   "metadata": {},
   "source": [
    "I have two way to complete preprocessing progress. One is using keras.preprocess, another is using sklearn"
   ]
  },
  {
   "cell_type": "code",
   "execution_count": 4,
   "metadata": {},
   "outputs": [],
   "source": [
    "def remove_pun(text):\n",
    "    \"\"\"\n",
    "    The reason i use seperate function is that pandas.apply can manipulate with column value. \n",
    "    If we use loop directly, we will get a join corpus without paragraph structure\n",
    "    \"\"\"\n",
    "    no_pun = \"\".join([c for c in text if c not in string.punctuation])\n",
    "    return no_pun"
   ]
  },
  {
   "cell_type": "code",
   "execution_count": 5,
   "metadata": {},
   "outputs": [],
   "source": [
    "def remove_html(text):\n",
    "    \"\"\"\n",
    "    Use bs4 to extract text\n",
    "    \"\"\"\n",
    "    soup = BeautifulSoup(text, 'lxml')\n",
    "    no_html = soup.get_text()\n",
    "    return no_html"
   ]
  },
  {
   "cell_type": "code",
   "execution_count": 6,
   "metadata": {},
   "outputs": [],
   "source": [
    "def remove_regex(text):\n",
    "    \"\"\"\n",
    "    It was designed to remove punctuation, but we can't manipulate with non string effectively\n",
    "    \"\"\"\n",
    "    #remove url\n",
    "    no_reg = re.sub(r'^https?:\\/\\/.*[\\r\\n]*', '', text)\n",
    "    #remove numbers\n",
    "    no_reg = re.sub('\\w*\\d\\w*', '', no_reg)\n",
    "    return no_reg"
   ]
  },
  {
   "cell_type": "code",
   "execution_count": 16,
   "metadata": {},
   "outputs": [],
   "source": [
    "def tfidf(df, vectorizer=None):\n",
    "    \"\"\"\n",
    "    we use this function to complete preprocessing cleaning and tfidf function. Becuase we have to mentain \n",
    "    the relationship between corpus and his lable, we have several times list to DataFrame processes.\n",
    "    I didn't show EDA part for setting up \n",
    "    \n",
    "    Parameters:\n",
    "    ------------\n",
    "    df:pandas.DataFrame\n",
    "        DataFrame, contain ['AUTHOR'] and ['CLASSIFY']. This is raw data.\n",
    "        \n",
    "    vectorizer:cofig\n",
    "        When we apply to \n",
    "            \n",
    "    Return:\n",
    "    -------\n",
    "    X_vector:array\n",
    "        Dimension = (cleaned example, MAX_LEN).Cleaned data and transformed to TFIDF format \n",
    "        with original sequence, which means can be matched withcooresponding y_labels.\n",
    "        \n",
    "    y_vector:\n",
    "        Dimension = (no. cleaned examples, NUM_LABELS)=(9630,3)\n",
    "        \n",
    "    \n",
    "    \"\"\"\n",
    "    MAX_LEN = 10000\n",
    "    \n",
    "    #tokens = corpus.apply(lambda x: x.split())\n",
    "    #tokens = word_tokenize(tokens)\n",
    "    #tokens = word_tokenize(corpus.str)\n",
    "    \n",
    "    #Stemming and Lemmatizing:   \n",
    "    #Coreference resolution\n",
    "    \n",
    "    #original datatype is serise, first transfrom to string and get lower() case text\n",
    "    corpus_2 = df['AUTHOR'].str.lower()\n",
    "    \n",
    "    #using bs4 to eliminate html\n",
    "    #soup = BeautifulSoup(corpus_2, 'lxml')\n",
    "    #corpus_3 = soup.get_text()\n",
    "    corpus_3 = corpus_2.apply(lambda x: remove_html(x))\n",
    "    \n",
    "    \n",
    "    #any speical punctuation in filter sring should add \"\\\" before it\n",
    "    #corpus_3 = re.sub('\\[.*?\\]', '', corpus_2.to_string)\n",
    "    #corpus_2.str.replace('\\\\r','',regex=True)\n",
    "    #!\"#$%&()*\\+,-./:;<=>\\?@\\[\\\\\\]^_`{|}~\\\\t\\\\n\\\\r\\“\n",
    "    corpus_4 = corpus_3.apply(lambda x: remove_regex(x))\n",
    "    \n",
    "    #use sring.puncutation to eliminate, but we should first remove url. I believe this should be last step\n",
    "    corpus_5 = corpus_4.apply(lambda x: remove_pun(x))\n",
    "    \n",
    "    #only reserve words\n",
    "    pattern=r'[a-zA-Z][-._a-zA-Z]*[a-zA-Z]'\n",
    "    corpus_6 = [\" \".join(re.findall(pattern, x)) for x in corpus_5]\n",
    "    \n",
    "    #we sitll need to manipulate with index because it contain important relationship between corpus and claasify\n",
    "    #list to pd.Series\n",
    "    corpus_7 = pd.Series(np.array(corpus_6))\n",
    "    #extract classify column\n",
    "    classify_col = df['CLASSIFY']\n",
    "    #build a new data dictionary for generating DataFrame\n",
    "    data_2 = {'AUTHOR':corpus_7, 'CLASSIFY':classify_col}\n",
    "    #build a dataFrame with AUTHOR and CLASSIFY infomation. For now, the index of df and corpus_8 are identical\n",
    "    corpus_8 = pd.DataFrame(data_2)\n",
    "    \n",
    "    \n",
    "    #we can't directly drop column because index will dynamicly decrease, but we can gather index of drop\n",
    "    index_drop=[]\n",
    "    #iteration through all DataFrame\n",
    "    for i in range(len(corpus_8)):\n",
    "        #according to plot and statitc result,>600 have 2628, <60 have 3540, so we only need 60<data<600\n",
    "        if len(corpus_8.iloc[i,0])<60 or len(corpus_8.iloc[i,0])>600:\n",
    "            #delete too big and too small\n",
    "            index_drop.append(i)\n",
    "    print(f\"before drop shape={corpus_8.shape}\")\n",
    "    \n",
    "    #drop row by list but remain old index number\n",
    "    corpus_9 = corpus_8.drop(index_drop,axis=0)\n",
    "    print(f\"after drop shape={corpus_9.shape}\")\n",
    "    #re.finall(\\w+)  \n",
    "    \n",
    "    #inintial \n",
    "\n",
    "    if vectorizer == None:\n",
    "        vectorizer = TfidfVectorizer(stop_words='english',max_features = MAX_LEN)\n",
    "        #when we built a vect, we need to import all words as corpus combination to generate a TFIDF dictornary\n",
    "        vect = vectorizer.fit([\" \".join(corpus_9['AUTHOR'].tolist())])\n",
    "        #after fit, we need to use dictionary to transform our coupus into TFIDF(we can use sum() to check sparse)\n",
    "        data_2 = vect.transform(corpus_9['AUTHOR']).toarray()\n",
    "        X_vector = np.array(data_2)\n",
    "    else:\n",
    "        vect = vectorizer.fit([\" \".join(corpus_9['AUTHOR'].tolist())])\n",
    "        #after fit, we need to use dictionary to transform our coupus into TFIDF(we can use sum() to check sparse)\n",
    "        X_vector = vect.transform(corpus_9['AUTHOR']).toarray()\n",
    "\n",
    "    #To remain the relation between AUTHOR vector and CLASSIFY labels, we also output y_vector coorespondingly\n",
    "    y_vector = mapped(corpus_9['CLASSIFY'])\n",
    "#     data=None\n",
    "#     vect=None\n",
    "    return corpus_9, X_vector, y_vector, vect"
   ]
  },
  {
   "cell_type": "code",
   "execution_count": null,
   "metadata": {},
   "outputs": [],
   "source": []
  },
  {
   "cell_type": "code",
   "execution_count": 9,
   "metadata": {},
   "outputs": [
    {
     "data": {
      "text/plain": [
       "'\\n#This part is used for verify processing result\\n#this will show which vector was transfromed back to words. We use this output to compare with corpus[0]\\n#for instance, we can check data[5] related to corpus_9[5]. Except stopwords, they have same stem words\\n\\ncorpus_9, X_test_1, y_test_1, vect = tfidf(df)\\nvect.inverse_transform(data_4)[0]\\ncorpus[0]\\n'"
      ]
     },
     "execution_count": 9,
     "metadata": {},
     "output_type": "execute_result"
    }
   ],
   "source": [
    "\"\"\"\n",
    "#This part is used for verify processing result\n",
    "#this will show which vector was transfromed back to words. We use this output to compare with corpus[0]\n",
    "#for instance, we can check data[5] related to corpus_9[5]. Except stopwords, they have same stem words\n",
    "\n",
    "corpus_9, X_test_1, y_test_1, vect = tfidf(df)\n",
    "vect.inverse_transform(data_4)[0]\n",
    "corpus[0]\n",
    "\"\"\""
   ]
  },
  {
   "cell_type": "markdown",
   "metadata": {},
   "source": [
    "<br>"
   ]
  },
  {
   "cell_type": "markdown",
   "metadata": {},
   "source": [
    "<br>"
   ]
  },
  {
   "cell_type": "markdown",
   "metadata": {},
   "source": [
    "<a id=\"5.Data split\"></a>\n",
    "# 5.Data split\n",
    "<a href=\"#1.Summary\">Click this Link back to Top</a>"
   ]
  },
  {
   "cell_type": "markdown",
   "metadata": {},
   "source": [
    "We split data equally into three pieces. Train 60%, Calidation 20%, Test 20%"
   ]
  },
  {
   "cell_type": "code",
   "execution_count": 10,
   "metadata": {},
   "outputs": [],
   "source": [
    "def split(X_vector,y_vector, test_size=0.2):\n",
    "    \"\"\"\n",
    "    Parameters:\n",
    "    -----------\n",
    "    df:DataFrame\n",
    "        This is coming from data_import. This is still raw data with corpus inside. After data split\n",
    "        tfidf() function will complete data preprocess\n",
    "        \n",
    "    test_size:float\n",
    "        you can change percentage\n",
    "    \"\"\"\n",
    "    X_train, X_test, y_train, y_test = train_test_split(X_vector, y_vector, \\\n",
    "                                                        test_size=0.2, random_state=0)\n",
    "    return X_train, X_test, y_train, y_test"
   ]
  },
  {
   "cell_type": "code",
   "execution_count": 10,
   "metadata": {},
   "outputs": [],
   "source": [
    "def data_split(data, label):\n",
    "    \"\"\"\n",
    "    This function is used to split data into three part, 60% as traning, 20%as validataion and 20% as test\n",
    "    In this part we still manipulate raw corpus, not vector result\n",
    "    \n",
    "    Parameters:\n",
    "    ----------\n",
    "    df:pd.DataFrame\n",
    "        Contain column 'AUTHOR' and 'CLASSIFY'\n",
    "        \n",
    "        \n",
    "    Return:\n",
    "    ----------\n",
    "    train_X:\n",
    "    validation_X:\n",
    "    test_X:\n",
    "    train_y:\n",
    "    validation_y:\n",
    "    test_y:\n",
    "    \n",
    "    \"\"\"\n",
    "    #we can arrange percentage in this place\n",
    "    m = data.shape[0]\n",
    "    training_size = int(m * 0.6)\n",
    "    validation_size = int(m * 0.8)\n",
    "    print(f'Split data into three parts 0-{training_size} is train_part.\\n')\n",
    "    print(f'{training_size}-{validation_size} is validation_part.\\n')       \n",
    "    print(f'{validation_size}-{m} is test_part.\\n')\n",
    "    \n",
    "    train_X = data[0:training_size]\n",
    "    validation_X = data[training_size:validation_size]\n",
    "    test_X = data[validation_size:]\n",
    "    train_y = label[0:training_size]\n",
    "    validation_y = label[training_size:validation_size]\n",
    "    test_y = label[validation_size:]\n",
    "\n",
    "    \n",
    "    return train_X, validation_X, test_X, train_y, validation_y, test_y\n",
    "\n",
    "#train_X, validation_X, test_X, train_y, validation_y, test_y = data_split(data_1, label_1)\n",
    "\n",
    "def concatenate_df(df):\n",
    "    \"\"\"\n",
    "    This function is used to merge train/validatoin/test with three different classfy\n",
    "    \n",
    "    Parameters:\n",
    "    ----------\n",
    "    \n",
    "    Return:\n",
    "    -------\n",
    "    \n",
    "    \"\"\"\n",
    "    #\n",
    "    data_1 = df.loc[df['CLASSIFY']==1]['AUTHOR']\n",
    "    label_1 = df.loc[df['CLASSIFY']==1]['CLASSIFY']\n",
    "    data_2 = df.loc[df['CLASSIFY']==2]['AUTHOR']\n",
    "    label_2 = df.loc[df['CLASSIFY']==2]['CLASSIFY']\n",
    "    data_3 = df.loc[df['CLASSIFY']==3]['AUTHOR']\n",
    "    label_3 = df.loc[df['CLASSIFY']==3]['CLASSIFY']\n",
    "    \n",
    "    #caculate each part of DataFrame\n",
    "    train_X1, validation_X1, test_X1, train_y1, validation_y1, test_y1 = data_split(data_1, label_1)\n",
    "    train_X2, validation_X2, test_X2, train_y2, validation_y2, test_y2 = data_split(data_2, label_2)\n",
    "    train_X3, validation_X3, test_X3, train_y3, validation_y3, test_y3 = data_split(data_3, label_3)\n",
    "    \n",
    "    train_X = pd.concat( [train_X1, train_X2, train_X3] )\n",
    "    train_y = pd.concat( [train_y1, train_y2, train_y3] )\n",
    "    data = {'AUTHOR':train_X, 'CLASSIFY':train_y}\n",
    "    train_df = pd.DataFrame(data)\n",
    "    #validataion_X = pd.concat( [validation_X1, validation_X2, validation_X3] )\n",
    "    #test_X = \n",
    "    \n",
    "    return train_df"
   ]
  },
  {
   "cell_type": "markdown",
   "metadata": {},
   "source": [
    "<br>"
   ]
  },
  {
   "cell_type": "markdown",
   "metadata": {},
   "source": [
    "<br>"
   ]
  },
  {
   "cell_type": "markdown",
   "metadata": {},
   "source": [
    "<br>"
   ]
  },
  {
   "cell_type": "markdown",
   "metadata": {},
   "source": [
    "<a id=\"6.Train\"></a>\n",
    "# 6.Train\n",
    "<a href=\"#1.Summary\">Click this Link back to Top</a>"
   ]
  },
  {
   "cell_type": "markdown",
   "metadata": {},
   "source": [
    "<a id=\"6.1 Gradien Descent\"></a>\n",
    "### 6.1 Logistic Regression Gradien Descent\n",
    "<a href=\"#1.Summary\">Click this Link back to Top</a>"
   ]
  },
  {
   "cell_type": "markdown",
   "metadata": {},
   "source": [
    "Implement a Logistic Regression (LR) model with L2 regularization from scratch:"
   ]
  },
  {
   "cell_type": "code",
   "execution_count": 11,
   "metadata": {},
   "outputs": [],
   "source": [
    "def softmax(z):\n",
    "    \"\"\"\n",
    "    z = np.dot(x, theta)\n",
    "    \"\"\"\n",
    "    #z = z - np.max(z)\n",
    "    sm = np.exp(z)/ np.sum(np.exp(z))\n",
    "    return sm"
   ]
  },
  {
   "cell_type": "code",
   "execution_count": 12,
   "metadata": {},
   "outputs": [],
   "source": [
    "def softmax_shift(z):\n",
    "    \"\"\"\n",
    "    https://eli.thegreenplace.net/2016/the-softmax-function-and-its-derivative/\n",
    "    \"\"\"\n",
    "    shift_z = z - np.max(z)\n",
    "    sm = np.exp(shift_z) / np.sum(np.exp(shift_z))\n",
    "    \n",
    "    return sm"
   ]
  },
  {
   "cell_type": "code",
   "execution_count": 13,
   "metadata": {},
   "outputs": [],
   "source": [
    "def mapped(y):\n",
    "    \"\"\"\n",
    "    one-hot vector classifier\n",
    "    \"\"\"\n",
    "    #we set label dimension as (m, num_labels)\n",
    "    NUM_LABELS = 3\n",
    "    m=y.shape[0]\n",
    "    y_mapped=np.zeros((m, NUM_LABELS))\n",
    "    #Due to y is DataFrame, we need to manipulate it with .iloc[]\n",
    "    #y.iloc[i] = 1/2/3 which is not convinent index of columns(0-2), so we need minus 1, which menas 1/2/3 will appear ONE at 0/1/2 postion\n",
    "    for i in range(0,m):\n",
    "        y_mapped[i, y.iloc[i]-1]=1;\n",
    "    \n",
    "    return y_mapped"
   ]
  },
  {
   "cell_type": "code",
   "execution_count": 14,
   "metadata": {},
   "outputs": [],
   "source": [
    "def LR_cost(X_t, y, theta, lr, lambda_t):\n",
    "    \"\"\"\n",
    "    Parameters:\n",
    "    ----------\n",
    "    X_t:matrix\n",
    "        (m, 10000) 10000 is MAX_LEN max features\n",
    "        \n",
    "    y_t:matrix\n",
    "        (m, 3) with one-hot vector to represent \n",
    "        \n",
    "    theta_t:matrx\n",
    "        should be MAX_LEN+1 = features + bias (MAX_LEN+1, NUM_LABELS)\n",
    "    \n",
    "    \"\"\"\n",
    "    NUM_LABELS = 3\n",
    "    #m = number of exmaples, n = number of features\n",
    "    [m,n] = X_t.shape\n",
    "    #print(type(m))\n",
    "    #the input has benn transposed into one-hot form\n",
    "    \n",
    "    #initial J value\n",
    "    J = 0\n",
    "    #and bias for X. np.ones create a (m,1) column vector add before X_t as a column operation(axis=1)\n",
    "    #i think we still need add bias in this NLP problems\n",
    "    #X_bias = (m, n+1) = (m, 10001)\n",
    "    X_bias = np.concatenate( (np.ones((m,1)),X_t), axis=1 )\n",
    "    #print(f'shape of X_bias = {X_bias.shape}')\n",
    "    \n",
    "    #initial theta as matrix, first dimentsion is number of features, second is NUM_LABEls\n",
    "    #theta = np.ones((n+1,NUM_LABELS))\n",
    "    #print(f'shape of theta = {theta.shape}')\n",
    "    \n",
    "    #hx is our hypothyesis function, x=(m,n+1) theta=(n+1,3) so hx = (m, 3)\n",
    "    hx = softmax_shift(np.dot(X_bias, theta))\n",
    "    #print(f'shape of hx = {lambda_t}')\n",
    "    \n",
    "    #y=(m,3), (3,m)*(m,3)\n",
    "    #add L2 regulation, but only sum w WITHOUT bias, so we only caculate row after first row(first row is bias)\n",
    "    J = (-1/m) * np.sum( np.dot( np.transpose(y), np.log(hx)) ) + \\\n",
    "        (lambda_t/(2*m)) * np.sum(theta[1:,:]**2)\n",
    "    \n",
    "    #we need to caculate bias grad and theta seperately\n",
    "    grad = np.zeros((n+1, NUM_LABELS))\n",
    "    #only caculate bias, only first row is our bias\n",
    "    #X_bias[:,0] =(m,1) (hx-y)=(m,3) so np.dot=(1,m)*(m,3) = grad[0,:]\n",
    "    grad[0,:] = (-1/m) * np.dot( np.transpose(X_bias[:,0]),(hx -y)) \n",
    "    \n",
    "    #updata other parameters\n",
    "    grad[1:,:] = (-1/m) * np.dot( np.transpose(X_bias[:,1:]),(hx-y) ) + lambda_t/m * theta[1:,:]\n",
    "    \n",
    "    new_theta = theta - lr*grad\n",
    "    \n",
    "    #****************Predicat part******************************8\n",
    "    #because theta is include bias, so we still need add bias\n",
    "    #find the max of each example/row. we transfor all label into same format\n",
    "    y_hat = softmax_shift(np.dot(X_bias, new_theta))\n",
    "    pred = np.argmax(y_hat, axis=1)\n",
    "    ground_truth = np.argmax(y, axis = 1)\n",
    "\n",
    "    #if pred and ground_truth have same result, sum them and divide by total number of example\n",
    "    accuracy = sum(pred == ground_truth)/(float(m))\n",
    "    \n",
    "    return J, grad, new_theta, accuracy"
   ]
  },
  {
   "cell_type": "code",
   "execution_count": 15,
   "metadata": {},
   "outputs": [],
   "source": [
    "#_,_, new_theta, acc = LR_cost(X_train, y_train, theta, lr=1-3, lambda_t=0.01)"
   ]
  },
  {
   "cell_type": "code",
   "execution_count": 16,
   "metadata": {},
   "outputs": [],
   "source": [
    "def theta_initial(X):\n",
    "    [m,n] = X.shape\n",
    "    NUM_LABELS = 3\n",
    "    theta = np.random.randn(n+1,NUM_LABELS)\n",
    "    return theta"
   ]
  },
  {
   "cell_type": "code",
   "execution_count": 17,
   "metadata": {},
   "outputs": [],
   "source": [
    "def gradient_descent(X, y, lr, epochs, theta):\n",
    "    [m,n] = X.shape\n",
    "    NUM_LABELS = 3\n",
    "    #initial theta as matrix, first dimentsion is number of features, second is NUM_LABEls\n",
    "    #theta = np.random.randn(n+1,NUM_LABELS)\n",
    "    \n",
    "    J_history=[]\n",
    "    grad_history=[]\n",
    "    theta_history=[]\n",
    "    for i in range(0,epochs):\n",
    "        J, grad, theta, accuracy = LR_cost(X, y, theta, lr, lambda_t=1) \n",
    "        \n",
    "        J_history.append(J)\n",
    "        theta_history.append(theta)\n",
    "        grad_history.append(grad)\n",
    "        \n",
    "    return theta_history, J_history, grad_history, theta\n",
    "        "
   ]
  },
  {
   "cell_type": "code",
   "execution_count": 18,
   "metadata": {},
   "outputs": [],
   "source": [
    "# theta = theta_initial(X_vector_train)\n",
    "# theta_history, J_history,grad_history, theta= gradient_descent(X_vector_train, y_vector_train, 0.03, 30, theta)"
   ]
  },
  {
   "cell_type": "markdown",
   "metadata": {},
   "source": [
    "<br>"
   ]
  },
  {
   "cell_type": "markdown",
   "metadata": {},
   "source": [
    "<br>"
   ]
  },
  {
   "cell_type": "markdown",
   "metadata": {},
   "source": [
    "<br>"
   ]
  },
  {
   "cell_type": "markdown",
   "metadata": {},
   "source": [
    "<a id=\"6.2 Mini-batch Gradient Descent\"></a>\n",
    "### 6.2 Mini-batch Gradient Descent\n",
    "<a href=\"#1.Summary\">Click this Link back to Top</a>"
   ]
  },
  {
   "cell_type": "code",
   "execution_count": 19,
   "metadata": {},
   "outputs": [],
   "source": [
    "def mini_batch(X,y, batch_size):\n",
    "    \"\"\"\n",
    "    mini_batch is extract 'batch_size' part of data one by one through the data order.\n",
    "    For instacne, extract 32(batch_size) from 1000(examples), Typically, we can't exact division, so we let \n",
    "    the reminder, which size will be smaller than batch_size, to be the last iteration batch part\n",
    "    \n",
    "    \n",
    "    Parameters:\n",
    "    ----------\n",
    "    X:array-like\n",
    "        Input X will be vector with shape (m,n) m=number of exmaples and n=number of features.\n",
    "        In this exmaple, we might imput a (6093, 10000) dimension.\n",
    "    y:array-like\n",
    "        Input y will be vector with shape (m,NUM_LABELS) NUM_LABLES=number of labels, for example, 10 classifiers\n",
    "        In this example, we might input a (6093, 3) dimension matrix\n",
    "        \n",
    "        \n",
    "    batch_size:int\n",
    "        typically is 2^n result\n",
    "      \n",
    "    Return:\n",
    "    -------\n",
    "    X_batch_list:list\n",
    "        list of array, which contain (batch_size, 10000) dimension. Len(list) is depend on m//batch_size\n",
    "        \n",
    "    y_batch_list:list\n",
    "        list of array, which consist of (batch_size, 3) dimension\n",
    "        \n",
    "    \"\"\"\n",
    "\n",
    "    #size of examples\n",
    "    m = X.shape[0]\n",
    "    X_batch_list = []\n",
    "    y_batch_list = []\n",
    "    #print(m//batch_size)\n",
    "    #ignore the decimal part，only reserve the integer part, we use this floor divsion result to build a \n",
    "    #loop and add index number into a list\n",
    "    for i in range(m//batch_size):\n",
    "        #print(i)\n",
    "        X_batch_list.append( X[i*batch_size:(i+1)*batch_size,:])\n",
    "        y_batch_list.append( y[i*batch_size:(i+1)*batch_size,:])\n",
    "    #if m divison batch_size have a remainder, we should add the reaming into the mini_batch list loop\n",
    "    if m % batch_size > 0:\n",
    "        X_batch_list.append( X[m//batch_size * batch_size:, :])\n",
    "        y_batch_list.append( y[m//batch_size * batch_size:, :])\n",
    "        \n",
    "    #mini_batches = []\n",
    "    #join X and y into one np.array\n",
    "    #data = np.hstack( (X,y) )\n",
    "    #shuffle the data and let pick more random\n",
    "    #np.random.shuffle(data)\n",
    "    #print(type(data))\n",
    "    #print(data.shape)\n",
    "    #m = number of examples / batch_size\n",
    "    #m = data.shape[0]\n",
    "    \n",
    "    #idk why we need plus 1 in here\n",
    "    #for i in range(m+1):\n",
    "        #the first mini_batch should be the first block of data of mini_batch_size, which is [0,batch_size]\n",
    "        #mini_batch = data[i * batch_size:(i+1)*batch_size,:]\n",
    "\n",
    "    return X_batch_list, y_batch_list"
   ]
  },
  {
   "cell_type": "code",
   "execution_count": 20,
   "metadata": {},
   "outputs": [],
   "source": [
    "def mini_batch_GD(X_batch_list, y_batch_list, theta, lambda_t, \\\n",
    "                  lr=1e-3, decay_factor=0.99, epochs=10, \\\n",
    "                  optimizer='mini_batch', epsilon = 1e-1):\n",
    "    \"\"\"\n",
    "    Parameters:\n",
    "    -----------\n",
    "    X_batch_list:list\n",
    "        list of array. This is set of all batched X_train data. one list is one batch\n",
    "        \n",
    "    y_batch_list:list\n",
    "        list of array. consist of each batch_sized (32, 3) array\n",
    "        \n",
    "    lr:float\n",
    "        learning rate, classical numerical is 0.01\n",
    "    \n",
    "    decay_factor:float\n",
    "        we use decay_factor to reduce learning rate step by step. Classical numerical is 0.99\n",
    "        \n",
    "    lambda_t:float\n",
    "        parameters for L2 regulaizaion \n",
    "        \n",
    "    epochs:int\n",
    "        iteration numbers\n",
    "        \n",
    "    X:array\n",
    "        original dataset\n",
    "        \n",
    "    optimizer:string\n",
    "        default is \"mini_batch\", use this paramter to switch between \"mini_batch\" and \"SGD\"\n",
    "    \n",
    "    epsilon:float\n",
    "        SGD use epsilon to stop convergence\n",
    "        \n",
    "    Return:\n",
    "    -------\n",
    "        \n",
    "    \n",
    "    \"\"\"\n",
    "    \n",
    "    [m,n] = X_vector.shape\n",
    "    \n",
    "    #print(f\"Current Lambda:{lambda_t}\")\n",
    "    J_history=[]\n",
    "    theta_history=[]\n",
    "    grad_history=[]\n",
    "    acc_history=[]\n",
    "   \n",
    "    if optimizer =='mini_batch':\n",
    "        for j in tqdm(range(epochs)):\n",
    "            #everytime we need random our data pool before we start next epochs. \n",
    "            #If we didn't shuffle our data pool, we may face non convergence gradient descent\n",
    "            #we generate a list from 0 to len(X_batch_list) and shuffle it. \n",
    "            #This type of random can make sure all batch can be used\n",
    "            idx = np.arange(len(X_batch_list))\n",
    "            np.random.shuffle(idx)\n",
    "            #reconstrcution batch_list from new random index, every epochs we will use new idx\n",
    "            X_batch_list = [X_batch_list[i] for i in idx]\n",
    "            y_batch_list = [y_batch_list[i] for i in idx]\n",
    "            \n",
    "            \n",
    "            \"\"\"\n",
    "            #another way\n",
    "            idx = np.random.randint(0, len(X_batch_list), len(X_batch_list))\n",
    "            \"\"\"\n",
    "            \n",
    "            #update lr to smaller through epochs\n",
    "            #for now i only use decay_factor to slowly decrease, for the future, i need to use \n",
    "            #learning optimizer and built learning rate matrix to update lr for each parameters\n",
    "            lr = lr*decay_factor\n",
    "            for i in range(len(X_batch_list)):\n",
    "                #extract every piece size batch to caculate cost function\n",
    "                X_batch = X_batch_list[i]\n",
    "                y_batch = y_batch_list[i]\n",
    "\n",
    "                J, grad,theta, accuracy = LR_cost(X_batch, y_batch, theta, lr, lambda_t) \n",
    "\n",
    "                J_history.append(J)\n",
    "                theta_history.append(theta)\n",
    "                grad_history.append(grad)\n",
    "                acc_history.append(accuracy)\n",
    "                \n",
    "    #stochastic gradient descent, the only different is that we should use epsilon to stop iteration\n",
    "    elif optimizer =='sgd':\n",
    "        for j in tqdm(range(epochs)):\n",
    "            #everytime we need random our data pool before we start next epochs. \n",
    "            #If we didn't shuffle our data pool, we may face non convergence gradient descent\n",
    "            #we generate a list from 0 to len(X_batch_list) and shuffle it. \n",
    "            #This type of random can make sure all batch can be used\n",
    "            idx = np.arange(len(X_batch_list))\n",
    "            np.random.shuffle(idx)\n",
    "            #reconstrcution batch_list from new random index, every epochs we will use new idx\n",
    "            X_batch_list = [X_batch_list[i] for i in idx]\n",
    "            y_batch_list = [y_batch_list[i] for i in idx]\n",
    "            \n",
    "            \n",
    "            \"\"\"\n",
    "            #another way\n",
    "            idx = np.random.randint(0, len(X_batch_list), len(X_batch_list))\n",
    "            \"\"\"\n",
    "            \n",
    "            #update lr to smaller through epochs\n",
    "            #for now i only use decay_factor to slowly decrease, for the future, i need to use \n",
    "            #learning optimizer and built learning rate matrix to update lr for each parameters\n",
    "            lr = lr*decay_factor\n",
    "            for i in range(len(X_batch_list)):\n",
    "                #extract every piece size batch to caculate cost function\n",
    "                X_batch = X_batch_list[i]\n",
    "                y_batch = y_batch_list[i]\n",
    "                \n",
    "                theta_old = theta\n",
    "                J, grad,theta, accuracy = LR_cost(X_batch, y_batch, theta, lr, lambda_t) \n",
    "\n",
    "                J_history.append(J)\n",
    "                theta_history.append(theta)\n",
    "                grad_history.append(grad)\n",
    "                acc_history.append(accuracy)\n",
    "                \n",
    "                #\n",
    "                if np.abs(theta_old - theta).sum()<epsilon:\n",
    "                    print('Early stop')\n",
    "                    break\n",
    "                \n",
    "    else:\n",
    "        print(\"Please enter your algothem choice\")\n",
    "    \n",
    "    return J_history, theta_history, acc_history\n",
    "        "
   ]
  },
  {
   "cell_type": "code",
   "execution_count": 21,
   "metadata": {},
   "outputs": [],
   "source": [
    "#*****************TEST SECTION*******************88\n",
    "# X_batch_list, y_batch_list = mini_batch(X_train, y_train, batch_size =8)\n",
    "# J_history_valid, theta_history_valid, acc_history_valid = mini_batch_GD(X_batch_list, y_batch_list, theta, \\\n",
    "#                                                    lambda_t=0.1, X_train=X_train, y_train=y_train, \\\n",
    "#                                                     lr=1e-3, decay_factor = 0.99, \\\n",
    "#                                                     epochs=30, \\\n",
    "#                                                    optimizer='mini_batch', epsilon = 1e-1)\n",
    "\n",
    "# plt.plot(range(len(J_history_valid)), J_history_valid)\n",
    "\n",
    "\n",
    "\n",
    "# y_hat, pred, ground_truth, accuracy = predict(theta)\n",
    "# accuracy\n",
    "# class MiniBatch(Object):\n",
    "#     def __init___(self):\n",
    "        \n",
    "#     def algo(slef, fit):\n",
    "#         self.fit=mini_batch_GD()\n",
    "#         print()"
   ]
  },
  {
   "cell_type": "markdown",
   "metadata": {},
   "source": [
    "<br>"
   ]
  },
  {
   "cell_type": "markdown",
   "metadata": {},
   "source": [
    "<br>"
   ]
  },
  {
   "cell_type": "markdown",
   "metadata": {},
   "source": [
    "<br>"
   ]
  },
  {
   "cell_type": "markdown",
   "metadata": {},
   "source": [
    "<a id=\"6.3 stochastic gradient descent\"></a>\n",
    "### 6.3 stochastic gradient descent\n",
    "<a href=\"#1.Summary\">Click this Link back to Top</a>"
   ]
  },
  {
   "cell_type": "code",
   "execution_count": 22,
   "metadata": {},
   "outputs": [],
   "source": [
    "def sgd_GD(X_vector, y_vector, theta, lr, \\\n",
    "           decay_factor=0.99, lambda_t=0.1, epochs=10, epsilon = 1e-1):\n",
    "    \"\"\"\n",
    "    Theoretically, sgd is simple version of mini-batch, we set mini-batch=1\n",
    "    \n",
    "    \"\"\"\n",
    "    [m,n] = X_vector.shape\n",
    "    J_history=[]\n",
    "    theta_history=[]\n",
    "    grad_history=[]\n",
    "    acc_history=[]\n",
    "    for i in tqdm(range(epochs)):\n",
    "        #generate a random idx and select it from whole train corpus\n",
    "        random_idx = np.random.randint(0, m)\n",
    "        X_i = X_vector[random_idx,:]\n",
    "        y_i = y_vector[random_idx,:]\n",
    "\n",
    "        #update lr to smaller through epochs\n",
    "        #for now i only use decay_factor to slowly decrease, for the future, i need to use \n",
    "        #learning optimizer and built learning rate matrix to update lr for each parameters\n",
    "        lr = lr*decay_factor\n",
    "        theta_old = theta\n",
    "        J, grad,theta, accuracy = LR_cost(X_vector, y_vector, theta, lr, lambda_t) \n",
    "        \n",
    "        J_history.append(J)\n",
    "        theta_history.append(theta)\n",
    "        grad_history.append(grad)\n",
    "        acc_history.append(accuracy)\n",
    "        \n",
    "        #if difference between old and new theta is smaller than epsilon (1e-3), then stop \n",
    "        if np.abs(theta_old - theta).sum()<epsilon:\n",
    "            print('Early stop')\n",
    "            break\n",
    "    return J_history, theta_history, acc_history"
   ]
  },
  {
   "cell_type": "markdown",
   "metadata": {},
   "source": [
    "<br>"
   ]
  },
  {
   "cell_type": "markdown",
   "metadata": {},
   "source": [
    "<br>"
   ]
  },
  {
   "cell_type": "markdown",
   "metadata": {},
   "source": [
    "<br>"
   ]
  },
  {
   "cell_type": "markdown",
   "metadata": {},
   "source": [
    "<a id=\"6.4 Multilayer Perceptron\"></a>\n",
    "### 6.4 Multilayer Perceptron\n",
    "<a href=\"#1.Summary\">Click this Link back to Top</a>"
   ]
  },
  {
   "cell_type": "code",
   "execution_count": 23,
   "metadata": {},
   "outputs": [],
   "source": [
    "def NN(X_train, y_train, X_valid, y_valid):\n",
    "    \"\"\"\n",
    "    Neural Network Mode\n",
    "    \n",
    "    Parameters:\n",
    "    ----------\n",
    "    X_train:array-like\n",
    "        n / NUM_FEATURES = 10000 = MAX_DOC_LEN. This paramters is decided by tfidf function\n",
    "    \"\"\"\n",
    "    #this hyperparamter linkage with tfidf() function\n",
    "    MAX_DOC_LEN = 10000\n",
    "    #because this is three classify problem\n",
    "    NUM_LABLES =3\n",
    "    \n",
    "    #*****************model built******************************\n",
    "    input_layer = Input(shape=(MAX_DOC_LEN,), dtype='float32', name='input_layer')\n",
    "    #\n",
    "    dense_layer_1 = Dense(1024, activation='relu', name='dense_1')(input_layer)\n",
    "    dense_layer_2 = Dense(64, activation='relu',name=\"dense_2\")(dense_layer_1)\n",
    "    #Due to multi-classify problem, we choose softmax as our output activation function\n",
    "    output_layer = Dense(NUM_LABLES, activation='softmax',name=\"output\")(dense_layer_2)\n",
    "    model_a = Model(inputs=input_layer, outputs=output_layer, name='model_a')\n",
    "    model_a.summary()\n",
    "    #***************model built****************************\n",
    "    \n",
    "    \n",
    "    dot_img_file = '04_images/10_model.png'\n",
    "    tf.keras.utils.plot_model(model_a, to_file=dot_img_file, show_shapes=True)\n",
    "    model_a.compile(loss='binary_crossentropy', optimizer='adam', metrics=['accuracy'])\n",
    "    history = model_a.fit(X_train, \\\n",
    "                          y_train, \\\n",
    "                            epochs = 30, \\\n",
    "                            validation_data = (X_valid, y_valid), \\\n",
    "                            verbose = 1\n",
    "                           )\n",
    "    return history"
   ]
  },
  {
   "cell_type": "code",
   "execution_count": null,
   "metadata": {},
   "outputs": [],
   "source": []
  },
  {
   "cell_type": "code",
   "execution_count": 24,
   "metadata": {},
   "outputs": [],
   "source": [
    "# #test section\n",
    "# NN_history = {dic[0]:history.history['val_loss'], \\\n",
    "#               dic[1]:history.history['loss'], \\\n",
    "#               dic[2]:history.history['accuracy']}"
   ]
  },
  {
   "cell_type": "code",
   "execution_count": null,
   "metadata": {},
   "outputs": [],
   "source": []
  },
  {
   "cell_type": "code",
   "execution_count": null,
   "metadata": {},
   "outputs": [],
   "source": []
  },
  {
   "cell_type": "markdown",
   "metadata": {},
   "source": [
    "<a id=\"7.Main\"></a>\n",
    "# 7.Main Function\n",
    "<a href=\"#1.Summary\">Click this Link back to Top</a>"
   ]
  },
  {
   "cell_type": "markdown",
   "metadata": {},
   "source": [
    "Flollowing is the processing sequence:\n",
    "<ol>\n",
    "    <li>Construct examples. This step will output DataFrame with <code>AUTHOR</code> and <code>CLASSIFY</code></li>\n",
    "    <li>Preprocess Data. This step contain feature extraction (TFIDF).And we get vector result </li>\n",
    "    <li>Data Split.</li>\n",
    "    <li>Train in LR model</li>\n",
    "    <li>Train in NN model</li>\n",
    "    <li>Cross-validation</li>\n",
    "    <li>Plot</li>\n",
    "</ol>"
   ]
  },
  {
   "cell_type": "code",
   "execution_count": 63,
   "metadata": {},
   "outputs": [
    {
     "name": "stdout",
     "output_type": "stream",
     "text": [
      "For category one, Fyodor Dostoyevsky, we have 6039 examples\n",
      "For category two, Arthur Conan Doyle, we have 2590 examples\n",
      "For category three, Fyodor Dostoyevsky, we have 11105 examples\n",
      "before drop shape=(19734, 2)\n",
      "after drop shape=(12038, 2)\n"
     ]
    }
   ],
   "source": [
    "if __name__ == \"__main__\":\n",
    "    #********Step1.Construct examples**********\n",
    "    df = data_import()\n",
    "    #********Step2.Clean Data*******************\n",
    "    corpus_train, X_vector, y_vector, vect_train = tfidf(df)\n",
    "    #****************Step3.Data split**************\n",
    "    X_train, X_test, y_train, y_test = split(X_vector, y_vector, 0.2)\n",
    "        \n",
    "    #*************************NEED OPTIMIZE********************\n",
    "    theta = theta_initial(X_train)\n",
    "    #*************************NEED OPTIMIZE***********************\n",
    "#     #Preprocess Data\n",
    "#     corpus_train, X_vector_train, y_vector_train, vect_train = tfidf(X_train)\n",
    "    \n",
    "#     corpus_test, X_vector_test, vect_train = tfidf(X_test, vectorizer=vect_train)\n",
    "#     y_vector_test = mapped(y_test)\n",
    "#     theta_history, J_history, grad_history, theta_old= gradient_descent(X_vector_train, y_vector_train, \\\n",
    "#                                                                         0.1, 5, theta)  "
   ]
  },
  {
   "cell_type": "markdown",
   "metadata": {},
   "source": [
    "<br>"
   ]
  },
  {
   "cell_type": "markdown",
   "metadata": {},
   "source": [
    "<a id=\"8.Cross-validation\"></a>\n",
    "# 8.Cross-validation\n",
    "<a href=\"#1.Summary\">Click this Link back to Top</a>"
   ]
  },
  {
   "cell_type": "code",
   "execution_count": 26,
   "metadata": {},
   "outputs": [],
   "source": [
    "def predict(theta, X_vector=X_train, y_vector=y_train):\n",
    "    \"\"\"\n",
    "    For now, we merge this function with LR_cost\n",
    "    Parameters:\n",
    "    -----------\n",
    "    X_vector:array-like\n",
    "        It can be train/validataion/train dataset, but should be matrix(m,n+1)\n",
    "        \n",
    "    y_vector:array_like\n",
    "        (m,NUM_LABELS)\n",
    "\n",
    "    \"\"\"\n",
    "    [m,n] = X_vector.shape\n",
    "    #because theta is include bias, so we still need add bias\n",
    "    X_bias = np.concatenate( (np.ones((m,1)),X_vector), axis=1 )\n",
    "    #X_bias=(m,NUM_FEATURE)=(15787, 10001), theta_his\n",
    "    y_hat = np.dot(X_bias, theta)\n",
    "    \n",
    "    #find the max of each example/row. we transfor all label into same format\n",
    "    pred = np.argmax(y_hat, axis=1)\n",
    "    ground_truth = np.argmax(y_vector, axis = 1)\n",
    "    \n",
    "    #if pred and ground_truth have same result, sum them and divide by total number of example\n",
    "    accuracy = sum(pred == ground_truth)/(float(m))\n",
    "    \n",
    "    return y_hat, pred, ground_truth, accuracy"
   ]
  },
  {
   "cell_type": "code",
   "execution_count": 27,
   "metadata": {},
   "outputs": [],
   "source": [
    "def report(X_vector, y_vector, theta):\n",
    "    \"\"\"\n",
    "    This function is used to output classfiy report. We use one of paramters in result to determine \n",
    "    using which dataset\n",
    "    \"\"\"\n",
    "    y_hat, pred, ground_truth, accuracy = predict(theta, X_vector=X_vector, y_vector=y_vector)\n",
    "    target_names = ['class 0', 'class 1', 'class 2']\n",
    "    report = classification_report(ground_truth, pred, target_names=target_names, output_dict=True)\n",
    "    return report"
   ]
  },
  {
   "cell_type": "code",
   "execution_count": 28,
   "metadata": {},
   "outputs": [],
   "source": [
    "def cross_val_LR(X, y, theta):\n",
    "    \"\"\"\n",
    "    Manually split data into train and validataion, and each validation import to one combination of \n",
    "    lambda list.\n",
    "    \n",
    "    \n",
    "    \"\"\"\n",
    "    lambda_list = [0.01, 0.1, 0, 1]\n",
    "    report_list = []\n",
    "    random_index = np.random.randint(len(lambda_list))\n",
    "    #kf = KFold(n_splits=k_fold)\n",
    "    #KFold(n_splits=k_fold, random_state=None, shuffle=False)\n",
    "    for j in range(len(lambda_list)):\n",
    "        X_train, X_valid, y_train, y_valid = train_test_split(X, y, test_size=0.2, \\\n",
    "                                                              random_state=np.random.randint(0,10000,1)[0])\n",
    "        X_batch_list, y_batch_list = mini_batch(X_valid, y_valid, batch_size =256)\n",
    "        J_history, theta_history, acc_history = mini_batch_GD(X_batch_list, y_batch_list, theta, \\\n",
    "                                                   lambda_t=0.1, \\\n",
    "                                                    lr=1e-3, decay_factor = 0.99, \\\n",
    "                                                    epochs=5, \\\n",
    "                                                   optimizer='mini_batch', epsilon = 1e-1)\n",
    "        report_new = report(X_valid, y_valid, theta_history[-1])\n",
    "        report_list.append(report_new['macro avg']['precision'])\n",
    "    #we get the best\n",
    "    best_lambda = report_list.index(max(report_list))    \n",
    "    print(f\"The {best_lambda}th lambda_list={lambda_list[best_lambda]} is better\")\n",
    "    return X_valid, y_valid"
   ]
  },
  {
   "cell_type": "code",
   "execution_count": 29,
   "metadata": {},
   "outputs": [
    {
     "name": "stderr",
     "output_type": "stream",
     "text": [
      "100%|████████████████████████████████████████████████████████████████████████████████████| 5/5 [00:01<00:00,  3.19it/s]\n",
      "100%|████████████████████████████████████████████████████████████████████████████████████| 5/5 [00:01<00:00,  3.08it/s]\n",
      "100%|████████████████████████████████████████████████████████████████████████████████████| 5/5 [00:01<00:00,  3.26it/s]\n",
      "100%|████████████████████████████████████████████████████████████████████████████████████| 5/5 [00:01<00:00,  3.32it/s]"
     ]
    },
    {
     "name": "stdout",
     "output_type": "stream",
     "text": [
      "The 3th lambda_list=1 is better\n"
     ]
    },
    {
     "name": "stderr",
     "output_type": "stream",
     "text": [
      "\n"
     ]
    }
   ],
   "source": [
    "X_valid, y_valid = cross_val_LR(X_train, y_train, theta)"
   ]
  },
  {
   "cell_type": "code",
   "execution_count": 30,
   "metadata": {},
   "outputs": [
    {
     "name": "stderr",
     "output_type": "stream",
     "text": [
      "100%|██████████████████████████████████████████████████████████████████████████████████| 30/30 [00:07<00:00,  4.08it/s]\n"
     ]
    }
   ],
   "source": [
    "#*********************mini_batch*******************************\n",
    "X_batch_list, y_batch_list = mini_batch(X_valid, y_valid, batch_size =8)\n",
    "J_history_valid, theta_history_valid, acc_history_valid = mini_batch_GD(X_batch_list, y_batch_list, theta, \\\n",
    "                                                   lambda_t=0.1, lr=1e-3, decay_factor = 0.99, \\\n",
    "                                                    epochs=30, optimizer='mini_batch', epsilon = 1e-1)"
   ]
  },
  {
   "cell_type": "code",
   "execution_count": 31,
   "metadata": {},
   "outputs": [
    {
     "name": "stderr",
     "output_type": "stream",
     "text": [
      "100%|██████████████████████████████████████████████████████████████████████████████████| 30/30 [00:59<00:00,  1.99s/it]\n"
     ]
    }
   ],
   "source": [
    "X_batch_list, y_batch_list = mini_batch(X_train, y_train, batch_size =8)\n",
    "J_history_train, theta_history_train, acc_history_train = mini_batch_GD(X_batch_list, y_batch_list, theta, \\\n",
    "                                                   lr=1e-3, decay_factor = 0.99, \\\n",
    "                                                   lambda_t=0.1, epochs=30, \\\n",
    "                                                   optimizer='mini_batch', epsilon = 1e-1)"
   ]
  },
  {
   "cell_type": "code",
   "execution_count": 32,
   "metadata": {},
   "outputs": [],
   "source": [
    "#because every iteration is differnt, and we need to present them in a single plot, so we only extract \n",
    "#data point to dictionary\n",
    "index_2 = np.arange(0,7230,241)\n",
    "sublist_2 = [J_history_valid[i] for i in index_2]\n",
    "\n",
    "index_3 = np.arange(0,len(J_history_train), len(J_history_train)/30)\n",
    "sublist_3 = [J_history_train[i] for i in index_2]\n",
    "sublist_4 = [acc_history_train[i] for i in index_2]"
   ]
  },
  {
   "cell_type": "code",
   "execution_count": 33,
   "metadata": {},
   "outputs": [],
   "source": [
    "\n",
    "#plot val_loss, train_loss, train_acc\n",
    "dic = ['val_loss', 'train_loss', 'train_acc']\n",
    "minibatch_dict = {dic[0]:sublist_2, dic[1]:sublist_3, dic[2]:sublist_4}"
   ]
  },
  {
   "cell_type": "code",
   "execution_count": 34,
   "metadata": {},
   "outputs": [
    {
     "name": "stderr",
     "output_type": "stream",
     "text": [
      "100%|██████████████████████████████████████████████████████████████████████████████████| 30/30 [01:30<00:00,  3.01s/it]\n",
      "100%|██████████████████████████████████████████████████████████████████████████████████| 30/30 [00:15<00:00,  1.97it/s]\n"
     ]
    }
   ],
   "source": [
    "#***************************SGD************************************************\n",
    "theta = theta_initial(X_valid)\n",
    "J_sgd_history_train, theta_sgd_history_train, acc_sgd_history_train= sgd_GD(X_train, y_train, theta, \\\n",
    "                                                   lr=1e-3, decay_factor = 0.99, \\\n",
    "                                                   lambda_t=0.01, epochs=30, epsilon = 1e-3)\n",
    "theta = theta_initial(X_valid)\n",
    "J_sgd_history_valid, theta_sgd_history_valid, acc_sgd_history_valid= sgd_GD(X_valid, y_valid, theta, \\\n",
    "                                                   lr=1e-2, decay_factor = 0.99, \\\n",
    "                                                   lambda_t=0.01, epochs=30, epsilon = 1e-3)\n",
    "\n",
    "\n",
    "sgd = {dic[0]:J_sgd_history_valid, dic[1]:J_sgd_history_train, dic[2]:acc_sgd_history_train,}"
   ]
  },
  {
   "cell_type": "code",
   "execution_count": 35,
   "metadata": {},
   "outputs": [
    {
     "name": "stdout",
     "output_type": "stream",
     "text": [
      "Model: \"model_a\"\n",
      "_________________________________________________________________\n",
      "Layer (type)                 Output Shape              Param #   \n",
      "=================================================================\n",
      "input_layer (InputLayer)     [(None, 10000)]           0         \n",
      "_________________________________________________________________\n",
      "dense_1 (Dense)              (None, 1024)              10241024  \n",
      "_________________________________________________________________\n",
      "dense_2 (Dense)              (None, 64)                65600     \n",
      "_________________________________________________________________\n",
      "output (Dense)               (None, 3)                 195       \n",
      "=================================================================\n",
      "Total params: 10,306,819\n",
      "Trainable params: 10,306,819\n",
      "Non-trainable params: 0\n",
      "_________________________________________________________________\n",
      "Train on 9630 samples, validate on 1926 samples\n",
      "Epoch 1/30\n",
      "9630/9630 [==============================] - 8s 881us/sample - loss: 0.2010 - accuracy: 0.9122 - val_loss: 0.0453 - val_accuracy: 0.9856\n",
      "Epoch 2/30\n",
      "9630/9630 [==============================] - 6s 644us/sample - loss: 0.0441 - accuracy: 0.9832 - val_loss: 0.0175 - val_accuracy: 0.9934\n",
      "Epoch 3/30\n",
      "9630/9630 [==============================] - 6s 643us/sample - loss: 0.0153 - accuracy: 0.9935 - val_loss: 0.0075 - val_accuracy: 0.9972\n",
      "Epoch 4/30\n",
      "9630/9630 [==============================] - 6s 642us/sample - loss: 0.0085 - accuracy: 0.9961 - val_loss: 0.0041 - val_accuracy: 0.9979\n",
      "Epoch 5/30\n",
      "9630/9630 [==============================] - 6s 650us/sample - loss: 0.0060 - accuracy: 0.9965 - val_loss: 0.0034 - val_accuracy: 0.9977\n",
      "Epoch 6/30\n",
      "9630/9630 [==============================] - 6s 649us/sample - loss: 0.0047 - accuracy: 0.9970 - val_loss: 0.0031 - val_accuracy: 0.9978\n",
      "Epoch 7/30\n",
      "9630/9630 [==============================] - 6s 648us/sample - loss: 0.0048 - accuracy: 0.9968 - val_loss: 0.0029 - val_accuracy: 0.9981\n",
      "Epoch 8/30\n",
      "9630/9630 [==============================] - 6s 655us/sample - loss: 0.0044 - accuracy: 0.9973 - val_loss: 0.0045 - val_accuracy: 0.9983\n",
      "Epoch 9/30\n",
      "9630/9630 [==============================] - 6s 641us/sample - loss: 0.0046 - accuracy: 0.9967 - val_loss: 0.0028 - val_accuracy: 0.9984\n",
      "Epoch 10/30\n",
      "9630/9630 [==============================] - 6s 642us/sample - loss: 0.0042 - accuracy: 0.9966 - val_loss: 0.0029 - val_accuracy: 0.9981\n",
      "Epoch 11/30\n",
      "9630/9630 [==============================] - 6s 658us/sample - loss: 0.0042 - accuracy: 0.9970 - val_loss: 0.0027 - val_accuracy: 0.9984\n",
      "Epoch 12/30\n",
      "9630/9630 [==============================] - 6s 664us/sample - loss: 0.0039 - accuracy: 0.9973 - val_loss: 0.0024 - val_accuracy: 0.9984\n",
      "Epoch 13/30\n",
      "9630/9630 [==============================] - 6s 639us/sample - loss: 0.0043 - accuracy: 0.9972 - val_loss: 0.0027 - val_accuracy: 0.9984\n",
      "Epoch 14/30\n",
      "9630/9630 [==============================] - 6s 647us/sample - loss: 0.0043 - accuracy: 0.9971 - val_loss: 0.0030 - val_accuracy: 0.9983\n",
      "Epoch 15/30\n",
      "9630/9630 [==============================] - 6s 655us/sample - loss: 0.0040 - accuracy: 0.9975 - val_loss: 0.0027 - val_accuracy: 0.9984\n",
      "Epoch 16/30\n",
      "9630/9630 [==============================] - 6s 652us/sample - loss: 0.0039 - accuracy: 0.9975 - val_loss: 0.0027 - val_accuracy: 0.9983\n",
      "Epoch 17/30\n",
      "9630/9630 [==============================] - 6s 653us/sample - loss: 0.0038 - accuracy: 0.9975 - val_loss: 0.0026 - val_accuracy: 0.9983\n",
      "Epoch 18/30\n",
      "9630/9630 [==============================] - 6s 654us/sample - loss: 0.0039 - accuracy: 0.9970 - val_loss: 0.0027 - val_accuracy: 0.9984\n",
      "Epoch 19/30\n",
      "9630/9630 [==============================] - 6s 652us/sample - loss: 0.0039 - accuracy: 0.9971 - val_loss: 0.0026 - val_accuracy: 0.9983\n",
      "Epoch 20/30\n",
      "9630/9630 [==============================] - 6s 652us/sample - loss: 0.0041 - accuracy: 0.9979 - val_loss: 0.0027 - val_accuracy: 0.9979\n",
      "Epoch 21/30\n",
      "9630/9630 [==============================] - 6s 649us/sample - loss: 0.0039 - accuracy: 0.9975 - val_loss: 0.0025 - val_accuracy: 0.9984\n",
      "Epoch 22/30\n",
      "9630/9630 [==============================] - 6s 644us/sample - loss: 0.0050 - accuracy: 0.9975 - val_loss: 0.0030 - val_accuracy: 0.9981\n",
      "Epoch 23/30\n",
      "9630/9630 [==============================] - 6s 645us/sample - loss: 0.0042 - accuracy: 0.9975 - val_loss: 0.0026 - val_accuracy: 0.9983\n",
      "Epoch 24/30\n",
      "9630/9630 [==============================] - 6s 648us/sample - loss: 0.0039 - accuracy: 0.9973 - val_loss: 0.0026 - val_accuracy: 0.9979\n",
      "Epoch 25/30\n",
      "9630/9630 [==============================] - 6s 661us/sample - loss: 0.0036 - accuracy: 0.9972 - val_loss: 0.0026 - val_accuracy: 0.9979\n",
      "Epoch 26/30\n",
      "9630/9630 [==============================] - 6s 648us/sample - loss: 0.0040 - accuracy: 0.9975 - val_loss: 0.0025 - val_accuracy: 0.9986\n",
      "Epoch 27/30\n",
      "9630/9630 [==============================] - 6s 648us/sample - loss: 0.0036 - accuracy: 0.9974 - val_loss: 0.0027 - val_accuracy: 0.9981\n",
      "Epoch 28/30\n",
      "9630/9630 [==============================] - 6s 642us/sample - loss: 0.0057 - accuracy: 0.9970 - val_loss: 0.0080 - val_accuracy: 0.9965\n",
      "Epoch 29/30\n",
      "9630/9630 [==============================] - 6s 651us/sample - loss: 0.0175 - accuracy: 0.9935 - val_loss: 0.0058 - val_accuracy: 0.9972\n",
      "Epoch 30/30\n",
      "9630/9630 [==============================] - 6s 652us/sample - loss: 0.0081 - accuracy: 0.9960 - val_loss: 0.0030 - val_accuracy: 0.9981\n"
     ]
    }
   ],
   "source": [
    "#*********************************Neural NetWork********************************************\n",
    "history = NN(X_train, y_train, X_valid, y_valid)\n",
    "NN_history = {dic[0]:history.history['val_loss'], \\\n",
    "              dic[1]:history.history['loss'], \\\n",
    "              dic[2]:history.history['accuracy']}"
   ]
  },
  {
   "cell_type": "markdown",
   "metadata": {},
   "source": [
    "<br>"
   ]
  },
  {
   "cell_type": "markdown",
   "metadata": {},
   "source": [
    "<a id=\"9.Plot\"></a>\n",
    "# 9.Plot\n",
    "<a href=\"#1.Summary\">Click this Link back to Top</a>"
   ]
  },
  {
   "cell_type": "code",
   "execution_count": 76,
   "metadata": {},
   "outputs": [
    {
     "name": "stdout",
     "output_type": "stream",
     "text": [
      "**************************************************\n"
     ]
    },
    {
     "data": {
      "image/png": "[encoded data removed]",
      "text/plain": [
       "<Figure size 432x288 with 1 Axes>"
      ]
     },
     "metadata": {
      "needs_background": "light"
     },
     "output_type": "display_data"
    },
    {
     "name": "stdout",
     "output_type": "stream",
     "text": [
      "**************************************************\n"
     ]
    },
    {
     "data": {
      "image/png": "[encoded data removed]",
      "text/plain": [
       "<Figure size 432x288 with 1 Axes>"
      ]
     },
     "metadata": {
      "needs_background": "light"
     },
     "output_type": "display_data"
    },
    {
     "name": "stdout",
     "output_type": "stream",
     "text": [
      "**************************************************\n"
     ]
    },
    {
     "data": {
      "image/png": "[encoded data removed]",
      "text/plain": [
       "<Figure size 432x288 with 1 Axes>"
      ]
     },
     "metadata": {
      "needs_background": "light"
     },
     "output_type": "display_data"
    }
   ],
   "source": []
  },
  {
   "cell_type": "code",
   "execution_count": 43,
   "metadata": {},
   "outputs": [],
   "source": [
    "#because matrix will occupy a lot of memory, so we need to delete them and release memory\n",
    "# %reset array\n",
    "# %xdel theta_history_train"
   ]
  },
  {
   "cell_type": "code",
   "execution_count": 47,
   "metadata": {},
   "outputs": [
    {
     "name": "stderr",
     "output_type": "stream",
     "text": [
      "100%|██████████████████████████████████████████████████████████████████████████████████| 50/50 [02:45<00:00,  3.31s/it]\n"
     ]
    }
   ],
   "source": [
    "#*****************mini-batch loss plot****************************\n",
    "# X_batch_list, y_batch_list = mini_batch(X_train, y_train, batch_size =8)\n",
    "# J_history_train, theta_history_train, acc_history_train = mini_batch_GD(X_batch_list, y_batch_list, theta, \\\n",
    "#                                                    lr=1e-3, decay_factor = 0.99, \\\n",
    "#                                                    lambda_t=0.1, epochs=50, \\\n",
    "#                                                    optimizer='mini_batch', epsilon = 1e-1)"
   ]
  },
  {
   "cell_type": "code",
   "execution_count": 53,
   "metadata": {},
   "outputs": [
    {
     "data": {
      "image/png": "[encoded data removed]",
      "text/plain": [
       "<Figure size 432x288 with 1 Axes>"
      ]
     },
     "metadata": {
      "needs_background": "light"
     },
     "output_type": "display_data"
    }
   ],
   "source": [
    "plt.plot(np.arange(len(J_history_train)), J_history_train)\n",
    "plt.xlabel('Epochs')\n",
    "plt.ylabel('Loss')\n",
    "plt.title('Mini-batch Train Loss')\n",
    "plt.show()"
   ]
  },
  {
   "cell_type": "code",
   "execution_count": 62,
   "metadata": {},
   "outputs": [],
   "source": [
    "# %xdel theta_history_train"
   ]
  },
  {
   "cell_type": "code",
   "execution_count": 83,
   "metadata": {},
   "outputs": [
    {
     "name": "stderr",
     "output_type": "stream",
     "text": [
      "100%|████████████████████████████████████████████████████████████████████████████████| 100/100 [04:34<00:00,  2.74s/it]\n"
     ]
    }
   ],
   "source": [
    "theta = theta_initial(X_train)\n",
    "J_sgd_history_train, theta_sgd_history_train, acc_sgd_history_train= sgd_GD(X_train, y_train, theta, \\\n",
    "                                                   lr=0.008, decay_factor = 0.99, \\\n",
    "                                                   lambda_t=0.1, epochs=100, epsilon = 1e-3)"
   ]
  },
  {
   "cell_type": "code",
   "execution_count": 84,
   "metadata": {},
   "outputs": [
    {
     "data": {
      "image/png": "[encoded data removed]",
      "text/plain": [
       "<Figure size 432x288 with 1 Axes>"
      ]
     },
     "metadata": {
      "needs_background": "light"
     },
     "output_type": "display_data"
    }
   ],
   "source": [
    "plt.plot(np.arange(len(J_sgd_history_train)), J_sgd_history_train)\n",
    "plt.xlabel('Epochs')\n",
    "plt.ylabel('Loss')\n",
    "plt.title('SGD Train Loss')\n",
    "plt.show()"
   ]
  },
  {
   "cell_type": "code",
   "execution_count": 38,
   "metadata": {},
   "outputs": [],
   "source": [
    "#def plot():\n",
    "\n",
    "# #plot val_loss, train_loss, train_acc\n",
    "# dic = ['val_loss', 'train_loss', 'train_acc']\n",
    "\n",
    "# #each model build one dictionary\n",
    "# X_valid, y_valid = cross_val(X_vector_train, y_vector_train, theta)\n",
    "# X_batch_list, y_batch_list = mini_batch(X_valid, y_valid, batch_size =8)\n",
    "# J_history_valid, theta_history_valid, acc_history_valid = mini_batch_GD(X_batch_list, y_batch_list, theta, \\\n",
    "#                                                    lambda_t=0.1,X_train=X_train, y_train=y_train, \\\n",
    "#                                                     lr=1e-3, decay_factor = 0.99, \\\n",
    "#                                                     epochs=30, \\\n",
    "#                                                    optimizer='mini_batch', epsilon = 1e-1)\n",
    "\n",
    "# X_batch_list, y_batch_list = mini_batch(X_vector_train, y_vector_train, batch_size =8)\n",
    "# J_history_train, theta_history_train, acc_history_train = mini_batch_GD(X_batch_list, y_batch_list, theta, \\\n",
    "#                                                    lr=1e-3, decay_factor = 0.99, \\\n",
    "#                                                    lambda_t=0.1, epochs=30, \\\n",
    "#                                                    optimizer='mini_batch', epsilon = 1e-1)\n",
    "\n",
    "# #y_hat, pred, accuracy = predict(X_vector_train, y_vector_train,theta_history_train)\n",
    "# mini_batch = {dic[0]:J_history_valid, dic[1]:J_history_train, dic[2]:acc_history_train,}\n",
    "# for i in range(len(dic)):\n",
    "\n",
    "#     print(\"*\"*50)\n",
    "#     x_index = list(range(0,30))\n",
    "#     plt.plot(x_index, mini_batch[dic[i]], color = 'g', lw = 2, label = 'mini_batch '+str(dic[i]))\n",
    "#     print(\"*\"*50)\n",
    "\n",
    "\n",
    "# # J_history, grad_history, theta_history = sgd_GD(X_vector_train, y_vector_train, theta, \\\n",
    "# #                                                    lr=1e-3, decay_factor = 0.99, \\\n",
    "# #                                                    lambda_t=0.1, epochs=30, epsilon = 1e-3)\n",
    "\n",
    "\n",
    "\n",
    "# # sgd = {dic[0]:J_history_valid, dic[1]:J_history_train, dic[2]:acc_history_train,}\n",
    "    "
   ]
  },
  {
   "cell_type": "markdown",
   "metadata": {},
   "source": [
    "<br>"
   ]
  },
  {
   "cell_type": "markdown",
   "metadata": {},
   "source": [
    "<br>"
   ]
  },
  {
   "cell_type": "markdown",
   "metadata": {},
   "source": [
    "<a id=\"10.Compare Conclusion\"></a>\n",
    "# 10.Compare Conclusion\n",
    "<a href=\"#1.Summary\">Click this Link back to Top</a>"
   ]
  },
  {
   "cell_type": "markdown",
   "metadata": {},
   "source": [
    "if we don't use binomial in Logistic Regression, we only can get a line as our boundary, which is not perfect."
   ]
  },
  {
   "cell_type": "markdown",
   "metadata": {},
   "source": [
    "<ol>\n",
    "    <li>We use two classifers, one is Logistic Regression and another is Neural Network. The big difference between these is Decsion Boundary. Decision boundary of LR is linear function, even in high dimension space, it is still a straight line. But decision boundary of Neural Network can fit non-linear classify task. So in this aspect, using LR in NLP task maybe not a good choice</li>\n",
    "    <li>In NLP task, cleaning data occupy a dominated posion. Garbage in garbage out. If we didn't use a better cleaning algorithm, you will get good accuracy/performance even you use great model to fit. For this task, I believe I still have imporvement aspect and that is also a important reason i did't get beautiful plot.</li>\n",
    "    <ul>\n",
    "        <li>Using stemming and lemmatization for raw corpus. That is standard step for NLP task</li>\n",
    "        <li>At present, I apply a rule which contain length of examples between 80% length and 20% length. This is only a mild stragegy. Within this strategy, I deleted too many valueable corpus. Drop raw corpus is not a good rule. Maybe droping raw corpus example by important and frequency is a good choice</li>\n",
    "        <li>TFIDF is default choice. Maybe i can try embedding</li>\n",
    "    </ul>\n",
    "    <li>In cross-validation part, 5-flod cross-validation should be a good point, but I only use my own code to evluate one single paramaters</li>\n",
    "    <li>Mini-batch is a more effective gradient descent algorithm compare to valina gradient descent. Especailly in NLP high dimension task, mini-batch will decreae runing time and increase convergence speed. But mini-bathc have its own difficult part.</li>\n",
    "    <ul>\n",
    "        <li>You have too decide your appropriate batch size acoording to corpus data type and your computer hardware configuration.</li>\n",
    "        <li>Once you change batch size a little bit, you have too change other parameters correspondingly. If you don't change other parameters, like learning rate and lambda, you loss might not convergence</li>\n",
    "    </ul>\n",
    "    <li>Stochastic gradient descent is a more cost cheap choice. It will only import one example and will accelerate descent process.Most of important, I think in this NLP task, SGD is more appropriate than mini-batch. Because our corpus is one example one paragraph. If we use mini-batch shuffle every example, we will get a less meaning relationship combination, although they belong to a single Author. But SGD can matain a meaningful exmaple and train model with it.</li>\n",
    "    <li>But the real problem of accuracy and performance is epochs number or laptop computation. You can see loss decrease from plot but not significant. If i have more powerful server, i can iterate 10 thousand times to get a small loss</li>\n",
    "    <li>From this aspect, Neural network is good choice. NN use costless calculation to get a more valid result.</li>\n",
    "    <li>There are a lot of aspect and algorithm i can apply. I record them in next chapter</li>\n",
    "</ol>"
   ]
  },
  {
   "cell_type": "markdown",
   "metadata": {},
   "source": [
    "<br>"
   ]
  },
  {
   "cell_type": "markdown",
   "metadata": {},
   "source": [
    "<br>"
   ]
  },
  {
   "cell_type": "markdown",
   "metadata": {},
   "source": [
    "# 12. Need Improve"
   ]
  },
  {
   "cell_type": "markdown",
   "metadata": {},
   "source": [
    "<ol>\n",
    "    <li>stemming and lemming</li>\n",
    "    <li>shuffle corpus order</li>\n",
    "    <li>plot length of sentence, eliminate that too long, and set MAX_LEN in a reasonable range</li>\n",
    "    <li>import too much parameter for some complex function and need to build a GLOBAL hyperparamters system</li>\n",
    "    <li>provide lr for every paramter, and momentoumn</li>\n",
    "</ol>"
   ]
  },
  {
   "cell_type": "markdown",
   "metadata": {},
   "source": [
    "<br>"
   ]
  },
  {
   "cell_type": "markdown",
   "metadata": {},
   "source": [
    "# 12. Don't use code"
   ]
  },
  {
   "cell_type": "code",
   "execution_count": 39,
   "metadata": {},
   "outputs": [
    {
     "data": {
      "text/plain": [
       "'\\ndef load_data():\\n    file_path = \"03_data/11_Project Gutenberg Data/28054-0.txt\"\\n    \\n    f = open(file_path, \\'r\\')\\n    print(f.read())\\n\\nDIRECTORY_PATH = \\'03_data/11_Project Gutenberg Data/\\'\\nFILE_NAMES = [\\'28054-0.txt\\', \\'pg1661.txt\\', \\'pg31100.txt\\']\\n\\nfor name in FILE_NAMES:\\n    text_dir = tf.keras.utils.get_file(name, origin=DIRECTORY_PATH+name)\\nparent_dir = os.path.dirname(text_dir)\\n\\ndef labeler(example, index):\\n    return example, tf.cast(index, tf.int64)  \\n\\nlabeled_data_sets = []\\n\\nfor i, file_name in enumerate(FILE_NAMES):\\n    lines_dataset = tf.data.TextLineDataset(os.path.join(parent_dir, file_name))\\n    labeled_dataset = lines_dataset.map(lambda ex: labeler(ex, i))\\n    labeled_data_sets.append(labeled_dataset)\\n\\n\\n\\nimport scipy.sparse\\ndef oneHotIt(Y):\\n    m = Y.shape[0]\\n    #Y = Y[:,0]\\n    OHX = scipy.sparse.csr_matrix((np.ones(m), (Y, np.array(range(m)))))\\n    OHX = np.array(OHX.todense()).T\\n    return OHX\\n\\nimport utils\\n\\n\\n\\n\\n x=[\\'a\\' , \\'b\\']\\n\\nx.extend([\\'5\\',  \\'6\\']),\\n\\nx\\n\\nlen(x)\\n\\nx =[0, 1, 2, 3, 4, 5, 6]\\n\\nx[-3]\\n\\nimport numpy as np\\n\\nx=np.random.random((3,4))\\n\\ny = np.random.random((3,1))\\n\\nx+y\\n\\nx = np.random.random((3, 4))\\n\\nfor i in range(100,1000):\\n    for j in range(x.shape[1]):\\n        x[i,j] += 5\\n\\nx[np.arange(100,1000), :] +=5\\n\\ndef test_fun(a=None):\\n    print(a)\\n\\ntest_fun(a=8)\\n\\nvector_1.shape\\n\\nvector_2 = np.random.randn(3,5)\\nvector_2\\n\\nnp.random.shuffle(vector_2)\\n\\nvector_2\\n\\narr = np.arange(12).reshape(3,4)\\n\\narr\\n\\nnp.random.shuffle(arr)\\narr\\n\\n\\n\\n#     for train_index, valid_index in kf.split(X):\\n#         print(\"TRAIN:\", len(train_index), \"VALID:\", len(valid_index))\\n#         X_train, X_valid = X[train_index,:], X[valid_index,:]\\n#         y_train, y_valid = y[train_index,:], y[valid_index,:]\\n#         J_history, grad_history, theta_history = mini_batch_GD(X_valid, y_valid, lambda_t = lambda_list[i])\\n#         i = i + 1\\n#         report = report(X_valid, y_valid)\\n#         report_list.append()\\n\\n\\n\\n\\n# This part is used for verify processing result\\n# #this will show which vector was transfromed back to words. We use this output to compare with corpus[0]\\n\\n# vect.inverse_transform(data_4)[0]\\n# corpus[0]\\n\\n\\n'"
      ]
     },
     "execution_count": 39,
     "metadata": {},
     "output_type": "execute_result"
    }
   ],
   "source": [
    "\n",
    "\"\"\"\n",
    "def load_data():\n",
    "    file_path = \"03_data/11_Project Gutenberg Data/28054-0.txt\"\n",
    "    \n",
    "    f = open(file_path, 'r')\n",
    "    print(f.read())\n",
    "\n",
    "DIRECTORY_PATH = '03_data/11_Project Gutenberg Data/'\n",
    "FILE_NAMES = ['28054-0.txt', 'pg1661.txt', 'pg31100.txt']\n",
    "\n",
    "for name in FILE_NAMES:\n",
    "    text_dir = tf.keras.utils.get_file(name, origin=DIRECTORY_PATH+name)\n",
    "parent_dir = os.path.dirname(text_dir)\n",
    "\n",
    "def labeler(example, index):\n",
    "    return example, tf.cast(index, tf.int64)  \n",
    "\n",
    "labeled_data_sets = []\n",
    "\n",
    "for i, file_name in enumerate(FILE_NAMES):\n",
    "    lines_dataset = tf.data.TextLineDataset(os.path.join(parent_dir, file_name))\n",
    "    labeled_dataset = lines_dataset.map(lambda ex: labeler(ex, i))\n",
    "    labeled_data_sets.append(labeled_dataset)\n",
    "\n",
    "\n",
    "\n",
    "import scipy.sparse\n",
    "def oneHotIt(Y):\n",
    "    m = Y.shape[0]\n",
    "    #Y = Y[:,0]\n",
    "    OHX = scipy.sparse.csr_matrix((np.ones(m), (Y, np.array(range(m)))))\n",
    "    OHX = np.array(OHX.todense()).T\n",
    "    return OHX\n",
    "\n",
    "import utils\n",
    "\n",
    "\n",
    "\n",
    "\n",
    " x=['a' , 'b']\n",
    "\n",
    "x.extend(['5',  '6']),\n",
    "\n",
    "x\n",
    "\n",
    "len(x)\n",
    "\n",
    "x =[0, 1, 2, 3, 4, 5, 6]\n",
    "\n",
    "x[-3]\n",
    "\n",
    "import numpy as np\n",
    "\n",
    "x=np.random.random((3,4))\n",
    "\n",
    "y = np.random.random((3,1))\n",
    "\n",
    "x+y\n",
    "\n",
    "x = np.random.random((3, 4))\n",
    "\n",
    "for i in range(100,1000):\n",
    "    for j in range(x.shape[1]):\n",
    "        x[i,j] += 5\n",
    "\n",
    "x[np.arange(100,1000), :] +=5\n",
    "\n",
    "def test_fun(a=None):\n",
    "    print(a)\n",
    "\n",
    "test_fun(a=8)\n",
    "\n",
    "vector_1.shape\n",
    "\n",
    "vector_2 = np.random.randn(3,5)\n",
    "vector_2\n",
    "\n",
    "np.random.shuffle(vector_2)\n",
    "\n",
    "vector_2\n",
    "\n",
    "arr = np.arange(12).reshape(3,4)\n",
    "\n",
    "arr\n",
    "\n",
    "np.random.shuffle(arr)\n",
    "arr\n",
    "\n",
    "\n",
    "\n",
    "#     for train_index, valid_index in kf.split(X):\n",
    "#         print(\"TRAIN:\", len(train_index), \"VALID:\", len(valid_index))\n",
    "#         X_train, X_valid = X[train_index,:], X[valid_index,:]\n",
    "#         y_train, y_valid = y[train_index,:], y[valid_index,:]\n",
    "#         J_history, grad_history, theta_history = mini_batch_GD(X_valid, y_valid, lambda_t = lambda_list[i])\n",
    "#         i = i + 1\n",
    "#         report = report(X_valid, y_valid)\n",
    "#         report_list.append()\n",
    "\n",
    "\n",
    "\n",
    "\n",
    "# This part is used for verify processing result\n",
    "# #this will show which vector was transfromed back to words. We use this output to compare with corpus[0]\n",
    "\n",
    "# vect.inverse_transform(data_4)[0]\n",
    "# corpus[0]\n",
    "\n",
    "\n",
    "\"\"\""
   ]
  },
  {
   "cell_type": "code",
   "execution_count": null,
   "metadata": {},
   "outputs": [],
   "source": []
  },
  {
   "cell_type": "code",
   "execution_count": 40,
   "metadata": {},
   "outputs": [
    {
     "data": {
      "text/plain": [
       "'\\ndef token(dataset):\\n\\n#     For now, we didn\\'t use this function\\n#     Parameters:\\n#     -----------\\n#     dataset:list\\n#         Contain all raw data, we need use tokenizer to preprocess data\\n    \\n#     Return:\\n#     -------\\n#     tokenizer:tensorflow config\\n\\n    #remove punctuation and irrelvant symbols\\n    #we use fillter to remove punctuation\\n    vocab_size = 100000\\n    max_length = 100\\n    \\n    tokenizer = Tokenizer(num_words=vocab_size,                           oov_token=\"<OOV>\",                           filters=\\'!\"#$%&()*+,-./:;<=>?@[\\\\]^_`{|}~\\t\\n\\r”\\', \\n                          lower=True\\n                         )\\n    #dataset_1 = tokenizer.get_config()\\n\\n    #transfor sentence to number vector\\n    a = tokenizer.fit_on_texts(dataset)\\n    \\n    \\n        \\n    #get the index of each indivudule word\\n    word_index = tokenizer.word_index\\n    \\n    #only choose most frequency 10,000 word_index and transfrom sentences with them into number vector \\n    #like[564, 452, 23, 1]\\n    #the out of vocabulary wiht be give 1. \\n    #Maximize number of texts_to_sequences() will be 9999, which means the 10000th frequceny will \\n    #not show in this sequcen\\n    sequences = tokenizer.texts_to_sequences(dataset)\\n    \\n    #maintain the sentence into same length\\n    #padded = pad_sequences(sequences)\\n    #If you want zero at the end, using padding=\\'post\\'\\n    padded = pad_sequences(sequences, padding=\\'post\\', maxlen=max_length, truncating=\\'post\\')\\n\\n    \\n    return tokenizer, word_index, sequences, padded\\n\\n#tokenizer, word_index, sequences, padded = token(data_1)\\n\\n\\n\\nlen(corpus_train[8])\\n\\nlength_list=[]\\nlength_corpus = len(corpus_6)\\nlength_arr = np.zeros(length_corpus)\\nfor i in range(0, length_corpus):\\n    #print(i)\\n    try:\\n        length_arr[i]=(len(corpus_6[i]))\\n    except:\\n        length_arr[i]=0\\narray_2 = np.arange(length_corpus) \\nplt.plot(array_2, length_arr)\\n\\ncorpus_9[\\'AUTHOR\\']\\n\\nlength_arr = np.zeros(length_corpus)\\nfor i in range(0, length_corpus):\\n    #print(i)\\n    try:\\n        length_arr[i]=(len(corpus_9.iloc[i,0]))\\n    except:\\n        length_arr[i]=0\\nlength_corpus = len(corpus_9)\\narray_3 = np.arange(length_corpus) \\nplt.plot(array_3, length_arr)\\n\\nplt.plot(array_3, np.sort(length_arr))\\n\\nlength_corpus = len(corpus_9)\\n\\nlength_corpus\\n\\nplt.plot(array_2, np.sort(length_arr))\\n\\ncorpus_8[\\'AUTHOR\\']\\n\\nfrom scipy import stats\\nstats.describe(corpus_8[\\'AUTHOR\\'])\\n\\nlen(length_arr)\\n\\nlen(length_arr[length_arr>600])\\n\\nlen(length_arr[length_arr<60])\\n\\nlen(length_arr[length_arr==0])\\n\\nlen(corpus_train[1235])\\n\\n\\n\\n'"
      ]
     },
     "execution_count": 40,
     "metadata": {},
     "output_type": "execute_result"
    }
   ],
   "source": [
    "\n",
    "#This is another token way\n",
    "\"\"\"\n",
    "def token(dataset):\n",
    "\n",
    "#     For now, we didn't use this function\n",
    "#     Parameters:\n",
    "#     -----------\n",
    "#     dataset:list\n",
    "#         Contain all raw data, we need use tokenizer to preprocess data\n",
    "    \n",
    "#     Return:\n",
    "#     -------\n",
    "#     tokenizer:tensorflow config\n",
    "\n",
    "    #remove punctuation and irrelvant symbols\n",
    "    #we use fillter to remove punctuation\n",
    "    vocab_size = 100000\n",
    "    max_length = 100\n",
    "    \n",
    "    tokenizer = Tokenizer(num_words=vocab_size, \\\n",
    "                          oov_token=\"<OOV>\", \\\n",
    "                          filters='!\"#$%&()*+,-./:;<=>?@[\\\\]^_`{|}~\\t\\n\\r”', \n",
    "                          lower=True\n",
    "                         )\n",
    "    #dataset_1 = tokenizer.get_config()\n",
    "\n",
    "    #transfor sentence to number vector\n",
    "    a = tokenizer.fit_on_texts(dataset)\n",
    "    \n",
    "    \n",
    "        \n",
    "    #get the index of each indivudule word\n",
    "    word_index = tokenizer.word_index\n",
    "    \n",
    "    #only choose most frequency 10,000 word_index and transfrom sentences with them into number vector \n",
    "    #like[564, 452, 23, 1]\n",
    "    #the out of vocabulary wiht be give 1. \n",
    "    #Maximize number of texts_to_sequences() will be 9999, which means the 10000th frequceny will \n",
    "    #not show in this sequcen\n",
    "    sequences = tokenizer.texts_to_sequences(dataset)\n",
    "    \n",
    "    #maintain the sentence into same length\n",
    "    #padded = pad_sequences(sequences)\n",
    "    #If you want zero at the end, using padding='post'\n",
    "    padded = pad_sequences(sequences, padding='post', maxlen=max_length, truncating='post')\n",
    "\n",
    "    \n",
    "    return tokenizer, word_index, sequences, padded\n",
    "\n",
    "#tokenizer, word_index, sequences, padded = token(data_1)\n",
    "\n",
    "\n",
    "\n",
    "len(corpus_train[8])\n",
    "\n",
    "length_list=[]\n",
    "length_corpus = len(corpus_6)\n",
    "length_arr = np.zeros(length_corpus)\n",
    "for i in range(0, length_corpus):\n",
    "    #print(i)\n",
    "    try:\n",
    "        length_arr[i]=(len(corpus_6[i]))\n",
    "    except:\n",
    "        length_arr[i]=0\n",
    "array_2 = np.arange(length_corpus) \n",
    "plt.plot(array_2, length_arr)\n",
    "\n",
    "corpus_9['AUTHOR']\n",
    "\n",
    "length_arr = np.zeros(length_corpus)\n",
    "for i in range(0, length_corpus):\n",
    "    #print(i)\n",
    "    try:\n",
    "        length_arr[i]=(len(corpus_9.iloc[i,0]))\n",
    "    except:\n",
    "        length_arr[i]=0\n",
    "length_corpus = len(corpus_9)\n",
    "array_3 = np.arange(length_corpus) \n",
    "plt.plot(array_3, length_arr)\n",
    "\n",
    "plt.plot(array_3, np.sort(length_arr))\n",
    "\n",
    "length_corpus = len(corpus_9)\n",
    "\n",
    "length_corpus\n",
    "\n",
    "plt.plot(array_2, np.sort(length_arr))\n",
    "\n",
    "corpus_8['AUTHOR']\n",
    "\n",
    "from scipy import stats\n",
    "stats.describe(corpus_8['AUTHOR'])\n",
    "\n",
    "len(length_arr)\n",
    "\n",
    "len(length_arr[length_arr>600])\n",
    "\n",
    "len(length_arr[length_arr<60])\n",
    "\n",
    "len(length_arr[length_arr==0])\n",
    "\n",
    "len(corpus_train[1235])\n",
    "\n",
    "\n",
    "\n",
    "\"\"\""
   ]
  }
 ],
 "metadata": {
  "kernelspec": {
   "display_name": "Python 3",
   "language": "python",
   "name": "python3"
  },
  "language_info": {
   "codemirror_mode": {
    "name": "ipython",
    "version": 3
   },
   "file_extension": ".py",
   "mimetype": "text/x-python",
   "name": "python",
   "nbconvert_exporter": "python",
   "pygments_lexer": "ipython3",
   "version": "3.7.9"
  }
 },
 "nbformat": 4,
 "nbformat_minor": 4
}
