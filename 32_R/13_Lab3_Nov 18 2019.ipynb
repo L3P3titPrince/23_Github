{
 "cells": [
  {
   "cell_type": "markdown",
   "metadata": {},
   "source": [
    "---\n",
    "title: \"Lab 3-Link Prediction\"\n",
    "author: \"Prof.Feng Mai, Zihan Chen\"\n",
    "output: html_document\n",
    "---\n",
    "In this lab, we will use a supervised learning approach to solve the link prediction problem. The main idea is that instead of using a single measure to rank the missing links, we use node and link features to output a probability that the link would be added in the future. To do this, we need to\n",
    "\n",
    "- Create a training set that contains positive samples (y = 1, a propotion of links that are missing but should be added) and negative samples (y = 0, the links that were never added).  \n",
    "- Create features from the network. Each link is an observation, the features can be node features (e.g. centrality) from both end of the link or the node similarity measures we demonstrated.   \n",
    "- Train statistical models.  \n",
    "- Create the same features on the test set and apply the trained model.\n",
    "- Assess the accuracy.\n",
    "\n",
    "*Important Note*: In this graph, the node (vertex) names are numbers. But it is important to keep them as characters (strings) throughout the lab so igraph functions do not confuse names (characters) with ids (integers). For example, `degree(g, '45')` gives the degree of node whose name is `\"45\"`, whereas `degree(g, 45)` gives the degree of node whose id is `45`. The former is what we want. Therefore. if an edge list is a dataframe, make sure the variable types are characters (chr). You can check the variable types of a df using `glimpse(df)`."
   ]
  },
  {
   "cell_type": "code",
   "execution_count": 1,
   "metadata": {},
   "outputs": [
    {
     "name": "stderr",
     "output_type": "stream",
     "text": [
      "\n",
      "Attaching package: 'igraph'\n",
      "\n",
      "The following objects are masked from 'package:stats':\n",
      "\n",
      "    decompose, spectrum\n",
      "\n",
      "The following object is masked from 'package:base':\n",
      "\n",
      "    union\n",
      "\n",
      "Registered S3 methods overwritten by 'ggplot2':\n",
      "  method         from \n",
      "  [.quosures     rlang\n",
      "  c.quosures     rlang\n",
      "  print.quosures rlang\n",
      "Registered S3 method overwritten by 'rvest':\n",
      "  method            from\n",
      "  read_xml.response xml2\n",
      "-- Attaching packages --------------------------------------- tidyverse 1.2.1 --\n",
      "v ggplot2 3.1.1       v purrr   0.3.2  \n",
      "v tibble  2.1.1       v dplyr   0.8.0.1\n",
      "v tidyr   0.8.3       v stringr 1.4.0  \n",
      "v readr   1.3.1       v forcats 0.4.0  \n",
      "-- Conflicts ------------------------------------------ tidyverse_conflicts() --\n",
      "x dplyr::as_data_frame() masks tibble::as_data_frame(), igraph::as_data_frame()\n",
      "x purrr::compose()       masks igraph::compose()\n",
      "x tidyr::crossing()      masks igraph::crossing()\n",
      "x dplyr::filter()        masks stats::filter()\n",
      "x dplyr::groups()        masks igraph::groups()\n",
      "x dplyr::lag()           masks stats::lag()\n",
      "x purrr::simplify()      masks igraph::simplify()\n"
     ]
    },
    {
     "ename": "ERROR",
     "evalue": "Error in library(Metrics): there is no package called 'Metrics'\n",
     "output_type": "error",
     "traceback": [
      "Error in library(Metrics): there is no package called 'Metrics'\nTraceback:\n",
      "1. library(Metrics)"
     ]
    }
   ],
   "source": [
    "library(igraph)\n",
    "library(tidyverse)\n",
    "library(e1071)\n",
    "library(Metrics)"
   ]
  },
  {
   "cell_type": "code",
   "execution_count": 3,
   "metadata": {},
   "outputs": [
    {
     "ename": "ERROR",
     "evalue": "Error in as.data.frame(t(apply(train_edges, 1, sort)), stringsAsFactors = F) %>% : could not find function \"%>%\"\n",
     "output_type": "error",
     "traceback": [
      "Error in as.data.frame(t(apply(train_edges, 1, sort)), stringsAsFactors = F) %>% : could not find function \"%>%\"\nTraceback:\n"
     ]
    }
   ],
   "source": [
    "load(\"02_data/05_train_edges.rdata\")\n",
    "load(\"02_data/04_test_nodes_names.rdata\")\n",
    "# For speed reasons, we only use the first 50 nodes in the test set. \n",
    "test_nodes_names <- test_nodes_names[1:50]\n",
    "# we sort each row so that the node with smaller node is V1 \n",
    "train_edges <- as.data.frame(t(apply(train_edges, 1, sort)), stringsAsFactors = F)%>% mutate_all(as.character) \n",
    "colnames(train_edges) <- c('X1', 'X2')\n",
    "g <- graph.data.frame(train_edges, directed = F)"
   ]
  }
 ],
 "metadata": {
  "kernelspec": {
   "display_name": "R",
   "language": "R",
   "name": "ir"
  },
  "language_info": {
   "codemirror_mode": "r",
   "file_extension": ".r",
   "mimetype": "text/x-r-source",
   "name": "R",
   "pygments_lexer": "r",
   "version": "3.6.1"
  }
 },
 "nbformat": 4,
 "nbformat_minor": 2
}
