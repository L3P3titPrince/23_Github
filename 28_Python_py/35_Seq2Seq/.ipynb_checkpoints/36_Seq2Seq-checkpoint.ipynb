{
 "cells": [
  {
   "cell_type": "code",
   "execution_count": 1,
   "metadata": {},
   "outputs": [],
   "source": [
    "from IPython.display import Image"
   ]
  },
  {
   "cell_type": "markdown",
   "metadata": {},
   "source": [
    "# <a id=\"1.Summary\"> 1.Summary</a>"
   ]
  },
  {
   "cell_type": "markdown",
   "metadata": {},
   "source": [
    "Seq2Seq in machine translate"
   ]
  },
  {
   "cell_type": "markdown",
   "metadata": {},
   "source": [
    "<br>"
   ]
  },
  {
   "cell_type": "markdown",
   "metadata": {},
   "source": [
    "# <a id=\"2.Table of Contents\">2.Tabole of Contents</a>\n",
    "<a href=\"#1.Summary\">Click this Link back to Top</a>"
   ]
  },
  {
   "cell_type": "markdown",
   "metadata": {},
   "source": [
    "<ol>\n",
    "    <li><a href=\"#1.Summary\">Summary</a></li>\n",
    "    <li><a href=\"#2.Tabole of Contents\">Tabole of Contents</a></li>\n",
    "    <li><a href=\"#3.Preprocess\">Preprocess</a>\n",
    "    <ul>\n",
    "        <li><a href=\"#3.1 Hyperparameter\">3.1 Hyperparameter</a></li>\n",
    "        <li><a href=\"#3.2 Import Data\">3.2 Import Data</a></li>\n",
    "        <li><a href=\"#3.3 Preprocess Data\">3.3 Preprocess Data</a></li> \n",
    "        <li><a href=\"#3.5 EDA\">3.5 EDA</a></li>  \n",
    "        <li><a href=\"#3.6 Tokenize\">3.6 Tokenize</a></li>\n",
    "        <li><a href=\"#3.7 category\">3.7 Category</a></li>\n",
    "    </ul>\n",
    "    </li>\n",
    "    <li><a href=\"#5.Models\">Models</a>\n",
    "    <ul>\n",
    "        <li><a href=\"#6.1 Seq2Seq Attention\">6.1 DNN</a></li>\n",
    "        <li><a href=\"#6.2 Complile and Fit\">6.2 Complile and Fit</a></li>\n",
    "    </ul>\n",
    "    </li>\n",
    "    <li><a href=\"#6.Analysis and Plot\">Analysis and Plot</a></li>\n",
    "    <li><a href=\"#7.Main Function\">Main Function</a></li>\n",
    "    <li><a href=\"#9.Test Code\">Test Code</a></li>\n",
    "</ol>\n"
   ]
  },
  {
   "cell_type": "markdown",
   "metadata": {},
   "source": [
    "<br>"
   ]
  },
  {
   "cell_type": "markdown",
   "metadata": {},
   "source": [
    "# <a id=\"3.Preprocess\">3.Preprocess</a>\n",
    "<a href=\"#2.Table of Contents\">Click this Link back to Top</a>"
   ]
  },
  {
   "cell_type": "markdown",
   "metadata": {},
   "source": [
    "### <a id=\"3.1 HyperParameters\">3.1 HyperParameters</a>\n",
    "<a href=\"#2.Table of Contents\">Click this Link back to Top</a>"
   ]
  },
  {
   "cell_type": "code",
   "execution_count": 2,
   "metadata": {},
   "outputs": [],
   "source": [
    "\n",
    "class HyperParameter(object):\n",
    "    def __init__(self):\n",
    "        \"\"\"\n",
    "\n",
    "        \"\"\"\n",
    "        # we can change read file path\n",
    "        self.PATH = \"03_data/\"\n",
    "\n",
    "        # whole dataset is too large, we only use a small sample\n",
    "        self.SAMPLE = 10000\n",
    "        self.TEST_SAMPLE = 2000\n",
    "\n",
    "\n",
    "        # max_words decided how many frequence words will present to you.\n",
    "        # For instance, if we use max_unique words, 12175 for english part, this menas we will not abnondan any words in sentecne\n",
    "        # if we set MAX_WORDS=1000, this menas, we only reserve most frequence Top 1000 words in each sentence. On this condition,\n",
    "        # only some most common words will be resvers\n",
    "        # if we set MAX_WORDS = 10, only stop words will be resever.\n",
    "        # in the meantime, word_index and index_word will rematin same and full dictionray\n",
    "\n",
    "        # self.MAX_WORDS_EN = 12175\n",
    "        self.MAX_WORDS_EN = 5000\n",
    "        # the max unique wrod is 16419, but we need to set this paramter in to max+1,\n",
    "        # because keras.Tokenize() function only keep num_words-1 words, so if we want to keep all words\n",
    "        # we either add 1 in tokenzie() function, or we set this parameters+1\n",
    "        # Most important is in to_category() function, keras expect an integer vector from 0 to num_calss\n",
    "        # but Tokenize() function provide word_index start from 1 to num_words-1,\n",
    "        # so if we set parameters here as max+1, to_category can find 16419(max word)\n",
    "        # 16420, memeory out....\n",
    "        self.MAX_WORDS_ES = 5000\n",
    "        # self.MAX_WORDS_EN = 1000\n",
    "        # self.MAX_WORDS_ES = 16419\n",
    "        # self.MAX_WORDS_ES = 10\n",
    "        # self.MAX_WORDS_ES = 500\n",
    "\n",
    "        self.MAX_SEQ_LEN_EN = 100\n",
    "        self.MAX_SEQ_LEN_ES = 100\n",
    "\n",
    "\n",
    "        self.EMBEDDING_DIM = 50\n",
    "\n",
    "\n",
    "        self.BATCH_SIZE = 8\n",
    "        self.EPOCHS = 1\n",
    "\n",
    "        self.NAME_STR = 'Seq2Seq'\n",
    "        \"\"\"\n",
    "        If we use max_len to cut sentence, it's ok for english part, but for spanish part\n",
    "        we will cut the <end>\n",
    "        \n",
    "        \"\"\"\n"
   ]
  },
  {
   "cell_type": "markdown",
   "metadata": {},
   "source": [
    "### <a id=\"3.2 Import Data\">3.2 Import Data</a>\n",
    "<a href=\"#2.Table of Contents\">Click this Link back to Top</a>"
   ]
  },
  {
   "cell_type": "code",
   "execution_count": 17,
   "metadata": {},
   "outputs": [],
   "source": [
    "import pandas as pd\n",
    "from sklearn.model_selection import train_test_split\n",
    "\n",
    "\n",
    "from class_31_HyperParameter import HyperParameter\n",
    "\n",
    "class ImportData(HyperParameter):\n",
    "    \"\"\"\n",
    "    Include process moduel\n",
    "\n",
    "    \"\"\"\n",
    "    def __init__(self):\n",
    "        \"\"\"\n",
    "\n",
    "        \"\"\"\n",
    "        HyperParameter.__init__(self)\n",
    "\n",
    "    def import_data(self):\n",
    "        \"\"\"\n",
    "\n",
    "        :return:\n",
    "        \"\"\"\n",
    "        # we use assign root path + file name to read this firl\n",
    "        en_path = self.PATH + \"europarl-v7.es-en.en\"\n",
    "        # this file didn't use potifix, so we need use open() function to read it into list\n",
    "        # try to use 'utf-8' decode\n",
    "        with open(en_path, 'r', encoding = 'utf-8') as f:\n",
    "            # each sentence is seperate by line\n",
    "            corpus_en_list = f.read().split('\\n')\n",
    "\n",
    "        # read spanish part\n",
    "        es_path = self.PATH + \"europarl-v7.es-en.es\"\n",
    "        with open(es_path, 'r', encoding = 'utf-8') as f:\n",
    "            # each sentence is seperate by line\n",
    "            corpus_es_list = f.read().split('\\n')\n",
    "\n",
    "        # build a dictionary first and then concatneate into a dataframe\n",
    "        data = {'english': corpus_en_list[:-1],\n",
    "                'spanish': corpus_es_list[:-1]}\n",
    "        df = pd.DataFrame(data)\n",
    "\n",
    "        # we have almost 2 million pairs, so I only use 10k as my running sample\n",
    "        self.df_sample = df.sample(n = self.SAMPLE, random_state = 1024)\n",
    "\n",
    "        return self.df_sample\n",
    "\n",
    "\n",
    "    def split_data(self):\n",
    "        \"\"\"\n",
    "\n",
    "        :return:\n",
    "        \"\"\"\n",
    "        X_train, X_test = train_test_split(self.df_sample, test_size = 0.2, random_state = 1024)\n",
    "\n",
    "        return X_train, X_test\n",
    "    #\n"
   ]
  },
  {
   "cell_type": "code",
   "execution_count": 4,
   "metadata": {},
   "outputs": [],
   "source": [
    "# pre_class = Preprocess()\n",
    "# df_en = pre_class.import_data()"
   ]
  },
  {
   "cell_type": "markdown",
   "metadata": {},
   "source": [
    "<br>"
   ]
  },
  {
   "cell_type": "markdown",
   "metadata": {},
   "source": [
    "### <a id=\"3.3 Preprocess Data\">3.3 Preprocess Data</a>\n",
    "<a href=\"#2.Table of Contents\">Click this Link back to Top</a>"
   ]
  },
  {
   "cell_type": "code",
   "execution_count": 5,
   "metadata": {},
   "outputs": [],
   "source": [
    "import unicodedata\n",
    "import re\n",
    "\n",
    "from class_31_HyperParameter import HyperParameter\n",
    "\n",
    "class PreProcess(HyperParameter):\n",
    "    \"\"\"\n",
    "\n",
    "    \"\"\"\n",
    "    def __init__(self):\n",
    "        \"\"\"\n",
    "\n",
    "        \"\"\"\n",
    "        HyperParameter.__init__(self)\n",
    "\n",
    "    def unicode_to_ascii(self, s):\n",
    "        \"\"\"\n",
    "        transform unicode to ascii. Because French have special letter\n",
    "        that English don't have, so we need transform them into same format\n",
    "        if we want to train or use them.\n",
    "        We use unicodeatta.normlize to transoform single character by 'NFC',\n",
    "        if this character is not Nonspcsing_Mark,\n",
    "        which means most of time character is 'Lu' and 'Ll'\n",
    "        https://towardsdatascience.com/difference-between-nfd-nfc-nfkd-and-nfkc-explained-with-python-code-e2631f96ae6c\n",
    "\n",
    "        'Mn' = Nonspacing_Mark = a nonspacing combining mark (zero advance width)\n",
    "        \"\"\"\n",
    "        #     return ''.join(c for c in unicodedata.normalize('NFD', s) if unicodedata.category(c) != 'Mn')\n",
    "        return ''.join(c for c in unicodedata.normalize('NFC', s) if unicodedata.category(c) != 'Mn')\n",
    "\n",
    "    def normalize_string(self, s):\n",
    "        \"\"\"\n",
    "        normalize function complete\n",
    "        \"\"\"\n",
    "        s = self.unicode_to_ascii(s)\n",
    "        #  \\1 is the replacement to use in case of a match, so a repeated word will be replaced by a single word.\n",
    "        s = re.sub(r'([!.?])', r' \\1', s)\n",
    "        # replace any not letter and .!? with whitespace\n",
    "        s = re.sub(r'[^a-zA-Z.!?]+', r' ', s)\n",
    "        # replace several white space into one whitespace. because we replace a lot of non-charcters\n",
    "        # into whitespace, so we may got multi-whitespace, we need substract to one\n",
    "        s = re.sub(r'\\s+', r' ', s)\n",
    "        return s\n",
    "\n",
    "    def transform(self, df):\n",
    "        \"\"\"\n",
    "        clean up text, transfrom 'en' column to normalize and restore them as list\n",
    "        :return:\n",
    "        \"\"\"\n",
    "        # transform and clean ['english'] column\n",
    "        corpus_en_list = [self.normalize_string(s) for s in df['english']]\n",
    "\n",
    "        # add special token <start>/<end> to indicate the beginning and end of a sentence\n",
    "        # <start> = <BOS>, <end> = <EOS>\n",
    "        # so raw_in like timestep t, and raw_out like timestep t+1\n",
    "        corpus_es_in = ['<start> ' + self.normalize_string(s) for s in df[\"spanish\"]]\n",
    "        corpus_es_out = [self.normalize_string(s) + ' <end>' for s in df[\"spanish\"]]\n",
    "\n",
    "        return corpus_en_list, corpus_es_in, corpus_es_out"
   ]
  },
  {
   "cell_type": "markdown",
   "metadata": {},
   "source": [
    "<br>"
   ]
  },
  {
   "cell_type": "markdown",
   "metadata": {},
   "source": [
    "### <a id=\"3.5 EDA\">3.5 EDA</a>\n",
    "<a href=\"#2.Table of Contents\">Click this Link back to Top</a>"
   ]
  },
  {
   "cell_type": "code",
   "execution_count": 6,
   "metadata": {},
   "outputs": [],
   "source": [
    "# make picture\n",
    "import matplotlib.pyplot as plt\n",
    "# draw picture\n",
    "import seaborn as sns\n",
    "import numpy as np\n",
    "\n",
    "class EDA(object):\n",
    "\n",
    "    def eda_length(self, raw_list):\n",
    "        sentence_len = [len(x) for x in raw_list]\n",
    "        sentence_len_arr = np.array(sentence_len)\n",
    "        # change the type to numpy array and get 95%/90%/85%th percentile of the data value\n",
    "        print(f\"100%th percentile of sentence lenght is {np.percentile(sentence_len_arr, 100)}\")\n",
    "        print(f\"95%th percentile of sentence lenght is {np.percentile(sentence_len_arr, 95)}\")\n",
    "        print(f\"90%th percentile of sentence lenght is {np.percentile(sentence_len_arr, 90)}\")\n",
    "        print(f\"85%th percentile of sentence lenght is {np.percentile(sentence_len_arr, 85)}\")\n",
    "        print(f\"80%th percentile of sentence lenght is {np.percentile(sentence_len_arr, 80)}\")\n",
    "        print(f\"70%th percentile of sentence lenght is {np.percentile(sentence_len_arr, 70)}\")\n",
    "        print(f\"50%th percentile of sentence lenght is {np.percentile(sentence_len_arr, 50)}\")\n",
    "        # get sorted\n",
    "        sentence_len.sort()\n",
    "        plt.plot(np.arange(len(sentence_len)), sentence_len)\n",
    "        plt.title(\"Sentence Length Distribution\")\n",
    "        plt.xlabel(\"Sentence Amount\")\n",
    "        plt.ylabel(\"Sentence Length\")\n",
    "        plt.show()\n",
    "        print(\n",
    "            f\"For MAX_SEQ_LEN, 1000 words in one sentce will reasonable to preseve 90% sentence and delete outlier value\")\n",
    "\n",
    "        return None"
   ]
  },
  {
   "cell_type": "code",
   "execution_count": 7,
   "metadata": {},
   "outputs": [],
   "source": [
    "# eda_class = EDA()\n",
    "# eda_class.eda_length(corpus_es_in)\n",
    "\n",
    "# eda_class = EDA()\n",
    "# eda_class.eda_length(corpus_es_out)\n",
    "\n"
   ]
  },
  {
   "cell_type": "markdown",
   "metadata": {},
   "source": [
    "### <a id=\"3.6 Tokenize\">3.6 Tokenize</a>\n",
    "<a href=\"#2.Table of Contents\">Click this Link back to Top</a>"
   ]
  },
  {
   "cell_type": "code",
   "execution_count": 8,
   "metadata": {},
   "outputs": [],
   "source": [
    "from tensorflow.keras.preprocessing.text import Tokenizer\n",
    "from tensorflow.keras.preprocessing.sequence import pad_sequences\n",
    "\n",
    "from class_31_HyperParameter import HyperParameter\n",
    "\n",
    "class Tokenize(HyperParameter):\n",
    "    \"\"\"\n",
    "\n",
    "    \"\"\"\n",
    "\n",
    "    def __init__(self):\n",
    "        \"\"\"\n",
    "\n",
    "        \"\"\"\n",
    "        HyperParameter.__init__(self)\n",
    "\n",
    "\n",
    "    def tokenize(self, corpus_en_list, corpus_es_in, corpus_es_out, language ,token=None):\n",
    "        \"\"\"\n",
    "        Argus:\n",
    "        -----\n",
    "        language:str\n",
    "            we use this to control which paramters we use\n",
    "\n",
    "        token:\n",
    "            When we provide token we train_tokenize, we means use train_tokenzie to fit test dataset\n",
    "        :return:\n",
    "        \"\"\"\n",
    "        if language == 'en':\n",
    "            MAX_WORDS = self.MAX_WORDS_EN\n",
    "            corpus = corpus_en_list\n",
    "            MAX_SEQ_LEN = self.MAX_SEQ_LEN_EN\n",
    "        elif language == 'es_in':\n",
    "            MAX_WORDS = self.MAX_WORDS_ES\n",
    "            corpus = corpus_es_in\n",
    "            MAX_SEQ_LEN = self.MAX_SEQ_LEN_ES\n",
    "        elif language == 'es_out':\n",
    "            MAX_WORDS = self.MAX_WORDS_ES\n",
    "            corpus = corpus_es_out\n",
    "            MAX_SEQ_LEN = self.MAX_SEQ_LEN_ES\n",
    "        else:\n",
    "            print(\"language input error\")\n",
    "\n",
    "        # this is test part\n",
    "        if token!=None:\n",
    "            # because we don't have <OOV> requirement\n",
    "            # (each words need to be represent in translate task), so we don't assign <OOV>\n",
    "            print(f\"MAX_WORDS is {MAX_WORDS}\")\n",
    "            # This function only keep the most common num_words-1 words to be kept.\n",
    "            # So, if we want to keep all words, we need to plus 1 in here\n",
    "            # tokenizer = Tokenizer(filters='', num_words = MAX_WORDS, oov_token=\"<OOV>\")\n",
    "            # use training tokenizer\n",
    "            tokenizer = token\n",
    "            tokenizer.fit_on_texts(corpus)\n",
    "            seq = tokenizer.texts_to_sequences(corpus)\n",
    "            print(f\"MAX_SEQ_LEN is {MAX_SEQ_LEN}\")\n",
    "            padded = pad_sequences(seq, maxlen=MAX_SEQ_LEN, padding='post')\n",
    "            word_index, index_word = tokenizer.word_index, tokenizer.index_word\n",
    "\n",
    "        # this is train part\n",
    "        else:\n",
    "            # because we don't have <OOV> requirement\n",
    "            # (each words need to be represent in translate task), so we don't assign <OOV>\n",
    "            print(f\"MAX_WORDS is {MAX_WORDS}\")\n",
    "            # This function only keep the most common num_words-1 words to be kept.\n",
    "            # So, if we want to keep all words, we need to plus 1 in here\n",
    "            tokenizer = Tokenizer(filters='', num_words = MAX_WORDS, oov_token=\"<OOV>\")\n",
    "            tokenizer.fit_on_texts(corpus)\n",
    "            seq = tokenizer.texts_to_sequences(corpus)\n",
    "            print(f\"MAX_SEQ_LEN is {MAX_SEQ_LEN}\")\n",
    "            padded = pad_sequences(seq, maxlen=MAX_SEQ_LEN, padding='post')\n",
    "            word_index, index_word = tokenizer.word_index, tokenizer.index_word\n",
    "\n",
    "\n",
    "        return word_index, index_word, seq, padded, tokenizer\n",
    "\n",
    "\n",
    "\n",
    "    def sequence_to_text(self, padded, index_word):\n",
    "        \"\"\"\n",
    "        Use this function to convert padded sequnce back to text according to word_index\n",
    "        \"\"\"\n",
    "        # create a empty list\n",
    "        word_list = []\n",
    "        for idx, i in enumerate(padded):\n",
    "            # for every word in self.question_padded[0]=sentence, put it into a list\n",
    "            words = np.array([index_word.get(word) for word in i])\n",
    "            # insert into list\n",
    "            word_list.append(words)\n",
    "        # create a dictionary to build DataFrame\n",
    "        dic = {\"sequence_to_text\": word_list}\n",
    "        word_df = pd.DataFrame(dic)\n",
    "        return word_df\n",
    "\n",
    "\n"
   ]
  },
  {
   "cell_type": "code",
   "execution_count": 9,
   "metadata": {},
   "outputs": [],
   "source": [
    "# "
   ]
  },
  {
   "cell_type": "code",
   "execution_count": null,
   "metadata": {},
   "outputs": [],
   "source": []
  },
  {
   "cell_type": "code",
   "execution_count": null,
   "metadata": {},
   "outputs": [],
   "source": []
  },
  {
   "cell_type": "markdown",
   "metadata": {},
   "source": [
    "### <a id=\"3.7 category\">3.7 category</a>\n",
    "<a href=\"#2.Table of Contents\">Click this Link back to Top</a>"
   ]
  },
  {
   "cell_type": "code",
   "execution_count": 10,
   "metadata": {},
   "outputs": [],
   "source": [
    "from tensorflow.keras.utils import to_categorical\n",
    "\n",
    "\n",
    "from class_31_HyperParameter import HyperParameter\n",
    "\n",
    "\n",
    "class ToCategory(HyperParameter):\n",
    "    \"\"\"\n",
    "\n",
    "    \"\"\"\n",
    "    def __init__(self):\n",
    "        \"\"\"\n",
    "\n",
    "        \"\"\"\n",
    "        # HyperParameter.__init__(sefl)\n",
    "        super(ToCategory, self).__init__()\n",
    "\n",
    "    def to_category(self, padded):\n",
    "        \"\"\"\n",
    "        Argus:\n",
    "        -----\n",
    "\n",
    "        :param padded:\n",
    "        :return:\n",
    "        \"\"\"\n",
    "        padded_cat = to_categorical(padded, num_classes = self.MAX_WORDS_ES)\n",
    "        print(padded_cat.shape)\n",
    "\n",
    "        return padded_cat\n",
    "\n",
    "\n"
   ]
  },
  {
   "cell_type": "code",
   "execution_count": 11,
   "metadata": {},
   "outputs": [],
   "source": [
    "# cate_class = ToCategory()\n",
    "# es_out_padded_cat = cate_class.to_category(es_out_padded)"
   ]
  },
  {
   "cell_type": "code",
   "execution_count": null,
   "metadata": {},
   "outputs": [],
   "source": []
  },
  {
   "cell_type": "code",
   "execution_count": null,
   "metadata": {},
   "outputs": [],
   "source": []
  },
  {
   "cell_type": "code",
   "execution_count": null,
   "metadata": {},
   "outputs": [],
   "source": []
  },
  {
   "cell_type": "code",
   "execution_count": null,
   "metadata": {},
   "outputs": [],
   "source": []
  },
  {
   "cell_type": "markdown",
   "metadata": {},
   "source": [
    "# <a id=\"5.Models\">5.Models</a>\n",
    "<a href=\"#2.Table of Contents\">Click this Link back to Top</a>"
   ]
  },
  {
   "cell_type": "markdown",
   "metadata": {},
   "source": [
    "### <a id=\"5.1 Seq2Seq Attention\">5.1 Seq2Seq Attention</a>\n",
    "<a href=\"#2.Table of Contents\">Click this Link back to Top</a>"
   ]
  },
  {
   "cell_type": "code",
   "execution_count": 12,
   "metadata": {},
   "outputs": [],
   "source": [
    "from tensorflow.keras.layers import Embedding, Lambda, Dot, Activation, Concatenate, Dropout, Input, LSTM, Dense\n",
    "from tensorflow.keras import Model\n",
    "from tensorflow.keras import backend as K\n",
    "\n",
    "# draw the structure of this model\n",
    "from tensorflow.keras.utils import model_to_dot, plot_model\n",
    "# dispaly structure and saved picture\n",
    "from IPython.display import Image, display\n",
    "\n",
    "\n",
    "from class_31_HyperParameter import HyperParameter\n",
    "\n",
    "class Seq2Seq(HyperParameter):\n",
    "    \"\"\"\n",
    "\n",
    "    \"\"\"\n",
    "\n",
    "    def __init__(self):\n",
    "        \"\"\"\n",
    "\n",
    "        \"\"\"\n",
    "        HyperParameter.__init__(self)\n",
    "\n",
    "    def seq_atten(self):\n",
    "        \"\"\"\n",
    "\n",
    "        :return:\n",
    "        \"\"\"\n",
    "        self.encoder_input_1 = Input(shape=(self.MAX_SEQ_LEN_EN,), name='encoder_input_layer')\n",
    "        # if we didn't assign input_shape, Embedding layer will use input_length as input_shape\n",
    "        # which means it will fit Input layers and input_shape will be padded with english part sentence length\n",
    "        # enghlish sentence maximize we set as 100, but actually it should longer than that, as least 300\n",
    "        # Typically, input_dim show be max\n",
    "        encoder_embed_2 = Embedding(input_dim=self.MAX_WORDS_EN,\n",
    "                                    output_dim=self.EMBEDDING_DIM,\n",
    "                                    input_length=self.MAX_SEQ_LEN_EN,\n",
    "                                    name='encoder_embedding_layer')(self.encoder_input_1)\n",
    "        # this layer can be imporoved and replaced\n",
    "        # LSTM is read each word, so input is individual word vector\n",
    "        encoder_lstm_3 = LSTM(units=self.EMBEDDING_DIM,\n",
    "                              return_sequences=True,\n",
    "                              return_state=True,\n",
    "                              dropout=0.2,\n",
    "                              name='encoder_lstm_3')\n",
    "        encoder_outputs, state_h, state_c = encoder_lstm_3(encoder_embed_2)\n",
    "        self.encoder_states = [state_h, state_c]\n",
    "\n",
    "        # Set up the decoder, using `encoder_states` as initial state.\n",
    "        # the shape of decoder_inputs is set to None so it can translate\n",
    "        # with a single word input, not necessary a sentence input\n",
    "        self.decoder_inputs_4 = Input(shape=(None,), name='decoder_input_4')\n",
    "        # deocder didn't have input_length, it seems no sentence length limitation\n",
    "        self.decoder_embedding_5 = Embedding(input_dim=self.MAX_WORDS_ES,\n",
    "                                        output_dim=self.EMBEDDING_DIM,\n",
    "                                        name='decoder_embedding_5')(self.decoder_inputs_4)\n",
    "        self.decoder_lstm_6 = LSTM(units=self.EMBEDDING_DIM,\n",
    "                              return_sequences=True,\n",
    "                              return_state=True,\n",
    "                              dropout=0.2,\n",
    "                              name='decoder_lstm_6')\n",
    "        decoder_output, _, _ = self.decoder_lstm_6(self.decoder_embedding_5, initial_state=self.encoder_states)\n",
    "\n",
    "        # Transform encoder outputs to a space which can be aligned with decoder output\n",
    "        encoder_outputs_transformed = Dense(units=self.EMBEDDING_DIM,\n",
    "                                            activation=None,\n",
    "                                            use_bias=False)(encoder_outputs)\n",
    "\n",
    "        # calculate alignment between decoder and encoder\n",
    "        attention = Dot(axes=[2, 2])([decoder_output, encoder_outputs_transformed])\n",
    "        attention = Activation('tanh')(attention)\n",
    "\n",
    "        # Normalize alignment score\n",
    "        attention = Activation('softmax')(attention)\n",
    "\n",
    "        # weighted sum\n",
    "        context = Dot(axes=[2, 1])([attention, encoder_outputs])\n",
    "\n",
    "        # Concatenate context with decoder output\n",
    "        decoder_combined_context = Concatenate(axis=-1)([context, decoder_output])\n",
    "\n",
    "        self.decoder_dense = Dense(units=self.MAX_WORDS_ES, activation='softmax')(decoder_combined_context)\n",
    "        # decoder_dense = Dense(units = self.MAX_WORDS_ES, activation = 'softmax')\n",
    "        # decoder_final_output = decoder_dense(decoder_combined_context)\n",
    "\n",
    "        model = Model(inputs=[self.encoder_input_1, self.decoder_inputs_4],\n",
    "                      outputs=self.decoder_dense)\n",
    "\n",
    "        model.summary()\n",
    "\n",
    "        dot_img_file = '04_images/10_Seq2Seq_attention.png'\n",
    "        plot_model(model, to_file=dot_img_file, show_shapes=True)\n",
    "        display(Image(filename='04_images/10_Seq2Seq_attention.png'))\n",
    "\n",
    "        return model\n",
    "\n",
    "    def predict(self):\n",
    "        \"\"\"\n",
    "\n",
    "        :return:\n",
    "        \"\"\"\n",
    "        # encoder_input_1 = Input(shape=(self.MAX_SEQ_LEN_EN,), name='encoder_input_layer')\n",
    "        # # if we didn't assign input_shape, Embedding layer will use input_length as input_shape\n",
    "        # # which means it will fit Input layers and input_shape will be padded with english part sentence length\n",
    "        # # enghlish sentence maximize we set as 100, but actually it should longer than that, as least 300\n",
    "        # # Typically, input_dim show be max\n",
    "        # encoder_embed_2 = Embedding(input_dim=self.MAX_WORDS_EN,\n",
    "        #                             output_dim=self.EMBEDDING_DIM,\n",
    "        #                             input_length=self.MAX_SEQ_LEN_EN,\n",
    "        #                             name='encoder_embedding_layer')(encoder_input_1)\n",
    "        # # this layer can be imporoved and replaced\n",
    "        # # LSTM is read each word, so input is individual word vector\n",
    "        # encoder_lstm_3 = LSTM(units=self.EMBEDDING_DIM,\n",
    "        #                       return_sequences=True,\n",
    "        #                       return_state=True,\n",
    "        #                       dropout=0.2,\n",
    "        #                       name='encoder_lstm_3')\n",
    "        # encoder_outputs, state_h, state_c = encoder_lstm_3(encoder_embed_2)\n",
    "        # encoder_states = [state_h, state_c]\n",
    "\n",
    "        # encoder and decoder models in inference\n",
    "        # encoder_inputs comes from english input layer\n",
    "        # encoder_states also come from output of encoder_LSTM\n",
    "        encoder_model = Model(inputs = self.encoder_input_1,\n",
    "                              outputs = self.encoder_states)\n",
    "\n",
    "        decoder_state_input_h = Input(shape = (self.EMBEDDING_DIM,), name = \"decoder_h\")\n",
    "        decoder_state_input_c = Input(shape=(self.EMBEDDING_DIM,), name=\"decoder_c\")\n",
    "        decoder_state_inputs = [decoder_state_input_h, decoder_state_input_c]\n",
    "\n",
    "        # decoder_embedding comes from france decoder part, which have\n",
    "        decoder_embed = self.decoder_embedding_5(self.decoder_inputs_4)\n",
    "        decoder_outputs, state_h, state_c = self.decoder_lstm_6(decoder_embed,\n",
    "                                                                initial_state = decoder_state_inputs)\n",
    "\n",
    "        deocder_states = [state_h, state_c]\n",
    "        decoder_outputs = self.decoder_dense(deocder_states)\n",
    "\n",
    "        decoder_model = Model(inputs = [self.decoder_inputs_4] + decoder_state_inputs,\n",
    "                              outpus = [decoder_outputs]  + deocder_states)\n",
    "\n",
    "        decoder_model.summary()\n",
    "\n",
    "        dot_img_file = '04_images/11_encoder_model.png'\n",
    "        plot_model(decoder_model, to_file=dot_img_file, show_shapes=True)\n",
    "        display(Image(filename='04_images/11_encoder_model.png'))\n",
    "\n",
    "        dot_img_file = '04_images/12_decoder_model.png'\n",
    "        plot_model(decoder_model, to_file=dot_img_file, show_shapes=True)\n",
    "        display(Image(filename='04_images/12_decoder_model.png'))\n",
    "\n",
    "        return encoder_model, decoder_model\n",
    "\n",
    "    def decode_sequence(input_seq):  # input_seq is a English sentence\n",
    "\n",
    "        # Encode the input as state vectors.\n",
    "        states_value = encoder_model.predict(input_seq)\n",
    "\n",
    "        # Generate empty target sequence of length 1. (i.e. we translate word by word)\n",
    "        target_seq = np.zeros((1, 1))\n",
    "\n",
    "        # Populate the start symbol of target sequence with the start character.\n",
    "        target_seq[0, 0] = fr_tokenizer.word_index[\"<start>\"]\n",
    "\n",
    "        # Generate word by word using the encode state and the last\n",
    "        # generated word\n",
    "\n",
    "        decoded_sentence = []\n",
    "\n",
    "        while True:\n",
    "\n",
    "            output_tokens, h, c = decoder_model.predict(\n",
    "                [target_seq] + states_value)\n",
    "\n",
    "            # Get the most likely word\n",
    "            sampled_token_index = np.argmax(output_tokens[0, 0, :])\n",
    "\n",
    "            # Look up the word by id\n",
    "            sampled_word = reverse_fr_word_index[sampled_token_index]\n",
    "\n",
    "            decoded_sentence.append(sampled_word)\n",
    "\n",
    "            # Exit condition: either hit max length\n",
    "            # or find stop character.\n",
    "            if (sampled_word == '<end>' or len(decoded_sentence) == max_fr_len):\n",
    "                break\n",
    "\n",
    "            # Update the target sequence with newly generated word.\n",
    "            target_seq[0, 0] = sampled_token_index\n",
    "\n",
    "            # Update states\n",
    "            states_value = [h, c]\n",
    "\n",
    "        return ' '.join(decoded_sentence)"
   ]
  },
  {
   "cell_type": "code",
   "execution_count": 13,
   "metadata": {},
   "outputs": [],
   "source": [
    "# seq_class = Seq2Seq()\n",
    "# model = seq_class.seq_atten()"
   ]
  },
  {
   "cell_type": "code",
   "execution_count": null,
   "metadata": {},
   "outputs": [],
   "source": []
  },
  {
   "cell_type": "markdown",
   "metadata": {},
   "source": [
    "### <a id=\"5.2 Complie and Fit\">5.2 Complie and Fit</a>\n",
    "<a href=\"#2.Table of Contents\">Click this Link back to Top</a>"
   ]
  },
  {
   "cell_type": "code",
   "execution_count": 14,
   "metadata": {},
   "outputs": [],
   "source": [
    "from tensorflow.keras import losses\n",
    "from tensorflow.keras import metrics\n",
    "from class_31_HyperParameter import HyperParameter\n",
    "\n",
    "class CompileFit(HyperParameter):\n",
    "    \"\"\"\n",
    "\n",
    "    \"\"\"\n",
    "    def __init__(self):\n",
    "        \"\"\"\n",
    "\n",
    "        \"\"\"\n",
    "        super(CompileFit, self).__init__()\n",
    "\n",
    "    def complie_fit(self, model, en_padded, es_in_padded, es_out_padded_cat):\n",
    "        \"\"\"\n",
    "\n",
    "        :return:\n",
    "        \"\"\"\n",
    "        model.compile(optimizer = 'rmsprop',\n",
    "                      loss = 'categorical_crossentropy',\n",
    "                      metrics=['categorical_accuracy']\n",
    "                      # loss = losses.SparseCategoricalCrossentropy()\n",
    "                      # metrics = metrics.sparse_categorical_accuracy()\n",
    "                      )\n",
    "        history = model.fit(x = [en_padded, es_in_padded],\n",
    "                            y = es_out_padded_cat,\n",
    "                            batch_size = self.BATCH_SIZE,\n",
    "                            epochs = self.EPOCHS,\n",
    "                            verbose = 1,\n",
    "                            validation_split = 0.2)\n",
    "\n",
    "        history_dict = [x for x in history.history]\n",
    "\n",
    "        return history, history_dict"
   ]
  },
  {
   "cell_type": "code",
   "execution_count": null,
   "metadata": {},
   "outputs": [],
   "source": []
  },
  {
   "cell_type": "markdown",
   "metadata": {},
   "source": [
    "# <a id=\"6.Analysis\">6. Analysis</a>\n",
    "<a href=\"#2.Table of Contents\">Click this Link back to Top</a>"
   ]
  },
  {
   "cell_type": "code",
   "execution_count": 15,
   "metadata": {},
   "outputs": [],
   "source": [
    "import pandas as pd\n",
    "import numpy as np\n",
    "# plot image\n",
    "import matplotlib.pyplot as plt\n",
    "from class_31_HyperParameter import HyperParameter\n",
    "\n",
    "class Analysis(HyperParameter):\n",
    "    \"\"\"\n",
    "\n",
    "    \"\"\"\n",
    "\n",
    "    def plot_history(self, history):\n",
    "        \"\"\"\n",
    "        This function is used for plot classification self.history result\n",
    "        :param self.history:\n",
    "        :return:\n",
    "        \"\"\"\n",
    "        hist = pd.DataFrame(history.history)\n",
    "        hist['epoch'] = history.epoch\n",
    "\n",
    "        # ****loss plost *******************\n",
    "        plt.figure()\n",
    "        plt.xlabel('Epoch')\n",
    "        plt.ylabel('loss')\n",
    "        plt.plot(hist['epoch'], hist['loss'],\n",
    "                 label='Train loss')\n",
    "        plt.plot(hist['epoch'], hist['val_loss'],\n",
    "                 label='Val loss')\n",
    "        plt.ylim([0, 3])\n",
    "        plt.legend()\n",
    "        plt.savefig(f'04_images/{self.NAME_STR}_loss.png', dpi=150, format='png')\n",
    "        # plt.savefig(f'/googledrive/MyDrive/04_images/{self.NAME_STR}_loss.png', dpi=150, format='png')\n",
    "\n",
    "        # ****************accuracy plot******************\n",
    "        plt.figure()\n",
    "        plt.xlabel('Epoch')\n",
    "        plt.ylabel('Accuracy')\n",
    "        plt.plot(hist['epoch'], hist['accuracy'],\n",
    "                 label='Train Accuracy')\n",
    "        plt.plot(hist['epoch'], hist['val_accuracy'],\n",
    "                 label='Val Accuracy')\n",
    "        plt.ylim([0, 1])\n",
    "        plt.legend()\n",
    "        plt.savefig(f'04_images/{self.NAME_STR}_acc.png', dpi=150, format='png')\n",
    "        # plt.savefig(f'/googledrive/MyDrive/04_images/{self.NAME_STR}_acc.png', dpi=150, format='png')\n",
    "        plt.show()\n",
    "        return hist\n",
    "\n",
    "\n"
   ]
  },
  {
   "cell_type": "markdown",
   "metadata": {},
   "source": [
    "<br>"
   ]
  },
  {
   "cell_type": "markdown",
   "metadata": {},
   "source": [
    "<br>"
   ]
  },
  {
   "cell_type": "markdown",
   "metadata": {},
   "source": [
    "<br>"
   ]
  },
  {
   "cell_type": "markdown",
   "metadata": {},
   "source": [
    "# <a id=\"7.Main Function\">7.Main Function</a>\n",
    "<a href=\"#2.Table of Contents\">Click this Link back to Top</a>"
   ]
  },
  {
   "cell_type": "code",
   "execution_count": null,
   "metadata": {},
   "outputs": [
    {
     "name": "stdout",
     "output_type": "stream",
     "text": [
      "MAX_WORDS is 5000\n",
      "MAX_SEQ_LEN is 100\n",
      "MAX_WORDS is 5000\n",
      "MAX_SEQ_LEN is 100\n",
      "MAX_WORDS is 5000\n",
      "MAX_SEQ_LEN is 100\n",
      "MAX_WORDS is 5000\n",
      "MAX_SEQ_LEN is 100\n",
      "MAX_WORDS is 5000\n",
      "MAX_SEQ_LEN is 100\n",
      "MAX_WORDS is 5000\n",
      "MAX_SEQ_LEN is 100\n",
      "(8000, 100, 5000)\n",
      "(2000, 100, 5000)\n",
      "Model: \"model_1\"\n",
      "__________________________________________________________________________________________________\n",
      "Layer (type)                    Output Shape         Param #     Connected to                     \n",
      "==================================================================================================\n",
      "encoder_input_layer (InputLayer [(None, 100)]        0                                            \n",
      "__________________________________________________________________________________________________\n",
      "decoder_input_4 (InputLayer)    [(None, None)]       0                                            \n",
      "__________________________________________________________________________________________________\n",
      "encoder_embedding_layer (Embedd (None, 100, 50)      250000      encoder_input_layer[0][0]        \n",
      "__________________________________________________________________________________________________\n",
      "decoder_embedding_5 (Embedding) (None, None, 50)     250000      decoder_input_4[0][0]            \n",
      "__________________________________________________________________________________________________\n",
      "encoder_lstm_3 (LSTM)           [(None, 100, 50), (N 20200       encoder_embedding_layer[0][0]    \n",
      "__________________________________________________________________________________________________\n",
      "decoder_lstm_6 (LSTM)           [(None, None, 50), ( 20200       decoder_embedding_5[0][0]        \n",
      "                                                                 encoder_lstm_3[0][1]             \n",
      "                                                                 encoder_lstm_3[0][2]             \n",
      "__________________________________________________________________________________________________\n",
      "dense_2 (Dense)                 (None, 100, 50)      2500        encoder_lstm_3[0][0]             \n",
      "__________________________________________________________________________________________________\n",
      "dot_2 (Dot)                     (None, None, 100)    0           decoder_lstm_6[0][0]             \n",
      "                                                                 dense_2[0][0]                    \n",
      "__________________________________________________________________________________________________\n",
      "activation_2 (Activation)       (None, None, 100)    0           dot_2[0][0]                      \n",
      "__________________________________________________________________________________________________\n",
      "activation_3 (Activation)       (None, None, 100)    0           activation_2[0][0]               \n",
      "__________________________________________________________________________________________________\n",
      "dot_3 (Dot)                     (None, None, 50)     0           activation_3[0][0]               \n",
      "                                                                 encoder_lstm_3[0][0]             \n",
      "__________________________________________________________________________________________________\n",
      "concatenate_1 (Concatenate)     (None, None, 100)    0           dot_3[0][0]                      \n",
      "                                                                 decoder_lstm_6[0][0]             \n",
      "__________________________________________________________________________________________________\n",
      "dense_3 (Dense)                 (None, None, 5000)   505000      concatenate_1[0][0]              \n",
      "==================================================================================================\n",
      "Total params: 1,047,900\n",
      "Trainable params: 1,047,900\n",
      "Non-trainable params: 0\n",
      "__________________________________________________________________________________________________\n"
     ]
    },
    {
     "data": {
      "image/png": "[encoded data removed]",
      "text/plain": [
       "<IPython.core.display.Image object>"
      ]
     },
     "metadata": {},
     "output_type": "display_data"
    },
    {
     "name": "stdout",
     "output_type": "stream",
     "text": [
      "Train on 6400 samples, validate on 1600 samples\n",
      "Epoch 1/3\n",
      "6400/6400 [==============================] - 86s 13ms/sample - loss: 1.8797 - categorical_accuracy: 0.7245 - val_loss: 1.5982 - val_categorical_accuracy: 0.7474\n",
      "Epoch 2/3\n",
      "6400/6400 [==============================] - 80s 12ms/sample - loss: 1.5752 - categorical_accuracy: 0.7499 - val_loss: 1.5184 - val_categorical_accuracy: 0.7577\n",
      "Epoch 3/3\n",
      "1456/6400 [=====>........................] - ETA: 55s - loss: 1.5425 - categorical_accuracy: 0.7529"
     ]
    }
   ],
   "source": [
    "\n",
    "# from class_31_HyperParameter import HyperParameter\n",
    "# from class_32_ImportData import ImportData\n",
    "# from class_33_PreProcess import PreProcess\n",
    "# from class_35_EDA import EDA\n",
    "# from class_36_Tokenize import Tokenize\n",
    "# from class_37_categoory import ToCategory\n",
    "# from class_51_models import Seq2Seq\n",
    "# from class_52_compile_fit import CompileFit\n",
    "# from class_61_analysis import Analysis\n",
    "\n",
    "\n",
    "def main():\n",
    "    \"\"\"\n",
    "    Pipeline:\n",
    "    1.Import Data\n",
    "    :return:\n",
    "    \"\"\"\n",
    "    #************1.Import Data****************\n",
    "    import_class = ImportData()\n",
    "    df = import_class.import_data()\n",
    "    df_train, df_test = import_class.split_data()\n",
    "\n",
    "\n",
    "    #****************2.Preprocess*************\n",
    "    pre_class = PreProcess()\n",
    "    corpus_train_en_list, corpus_train_es_in, corpus_train_es_out = pre_class.transform(df_train)\n",
    "    corpus_test_en_list, corpus_test_es_in, corpus_test_es_out = pre_class.transform(df_test)\n",
    "\n",
    "    #****************EDA******************\n",
    "    # eda_class = EDA()\n",
    "    # eda_class.eda_length(corpus_en_list)\n",
    "\n",
    "    #*************tokenize*****************\n",
    "    token_class = Tokenize()\n",
    "    _, _, _, train_en_padded, train_en_token = token_class.tokenize(corpus_train_en_list,\n",
    "                                                                    corpus_train_es_in,\n",
    "                                                                    corpus_train_es_out,\n",
    "                                                                    language='en')\n",
    "\n",
    "    _, _, _, train_es_in_padded, train_es_in_token = token_class.tokenize(corpus_train_en_list,\n",
    "                                                                          corpus_train_es_in,\n",
    "                                                                          corpus_train_es_out,\n",
    "                                                                          language='es_in')\n",
    "\n",
    "    _, _, _, train_es_out_padded, train_es_out_token = token_class.tokenize(corpus_train_en_list,\n",
    "                                                                     corpus_train_es_in,\n",
    "                                                                     corpus_train_es_out,\n",
    "                                                                     language='es_out')\n",
    "\n",
    "    _, _, _, test_en_padded, test_en_token = token_class.tokenize(corpus_test_en_list,\n",
    "                                                                  corpus_test_es_in,\n",
    "                                                                  corpus_test_es_out,\n",
    "                                                                  language='en',\n",
    "                                                                  token = train_en_token)\n",
    "\n",
    "    _, _, _, test_es_in_padded, test_es_in_token = token_class.tokenize(corpus_test_en_list,\n",
    "                                                                  corpus_test_es_in,\n",
    "                                                                  corpus_test_es_out,\n",
    "                                                                  language='es_in',\n",
    "                                                                  token = train_es_in_token)\n",
    "\n",
    "    _, _, _, test_es_out_padded, test_es_out_token = token_class.tokenize(corpus_test_en_list,\n",
    "                                                                  corpus_test_es_in,\n",
    "                                                                  corpus_test_es_out,\n",
    "                                                                  language='es_out',\n",
    "                                                                  token = train_es_out_token)\n",
    "\n",
    "    #******************category************************\n",
    "    cat_class = ToCategory()\n",
    "    train_es_out_padded_cat = cat_class.to_category(train_es_out_padded)\n",
    "    test_es_out_padded_cat = cat_class.to_category(test_es_out_padded)\n",
    "    #\n",
    "    model_class = Seq2Seq()\n",
    "    seq_model = model_class.seq_atten()\n",
    "\n",
    "    compile_class = CompileFit()\n",
    "    history, hist_dict = compile_class.complie_fit(\n",
    "        seq_model, train_en_padded, train_es_in_padded, train_es_out_padded_cat\n",
    "    )\n",
    "\n",
    "    #***************Analysis***************\n",
    "    plt_class = Analysis()\n",
    "    plt_class.plot_history(history)\n",
    "\n",
    "\n",
    "\n",
    "    return (df, df_train, df_test,\n",
    "            corpus_train_en_list, corpus_train_es_in, corpus_train_es_out,\n",
    "           train_en_padded, train_es_in_padded, train_es_out_padded,\n",
    "            history)\n",
    "\n",
    "\n",
    "if __name__==\"__main__\":\n",
    "    (df, df_train, df_test,\n",
    "     corpus_train_en_list, corpus_train_es_in, corpus_train_es_out,\n",
    "     train_en_padded, train_es_in_padded, train_es_out_padded,\n",
    "     history) = main()\n",
    "    print(\"OVER\")"
   ]
  },
  {
   "cell_type": "markdown",
   "metadata": {},
   "source": [
    "<br>"
   ]
  },
  {
   "cell_type": "code",
   "execution_count": null,
   "metadata": {},
   "outputs": [],
   "source": []
  },
  {
   "cell_type": "code",
   "execution_count": null,
   "metadata": {},
   "outputs": [],
   "source": []
  },
  {
   "cell_type": "code",
   "execution_count": null,
   "metadata": {},
   "outputs": [],
   "source": []
  },
  {
   "cell_type": "code",
   "execution_count": null,
   "metadata": {},
   "outputs": [],
   "source": []
  },
  {
   "cell_type": "code",
   "execution_count": null,
   "metadata": {},
   "outputs": [],
   "source": []
  },
  {
   "cell_type": "markdown",
   "metadata": {},
   "source": [
    "# <a id=\"9.Test Code\">9.Test Code</a>\n",
    "<a href=\"#2.Table of Contents\">Click this Link back to Top</a>"
   ]
  },
  {
   "cell_type": "code",
   "execution_count": null,
   "metadata": {},
   "outputs": [],
   "source": [
    "# def test(token=None):\n",
    "#     if token != None:\n",
    "#         print(\"123\")\n",
    "#     else:\n",
    "#         print(\"345\")\n",
    "        \n",
    "# test()"
   ]
  },
  {
   "cell_type": "code",
   "execution_count": null,
   "metadata": {},
   "outputs": [],
   "source": []
  },
  {
   "cell_type": "code",
   "execution_count": null,
   "metadata": {},
   "outputs": [],
   "source": [
    "# token_class = Tokenize()\n",
    "# word_index, index_word, seq, padded = token_class.tokenize(corpus_en_list, corpus_es_in, corpus_es_out, language = 'es_out')\n",
    "\n",
    "# token_class = Tokenize()\n",
    "# en_word_index, en_index_word, es_out_seq, es_out_padded = token_class.tokenize(corpus_en_list,\n",
    "#                                                                  corpus_es_in,\n",
    "#                                                                  corpus_es_out,\n",
    "#                                                                  language='es_out')\n",
    "\n",
    "# es_out_padded.max()\n",
    "\n",
    "# en_index_word[16419]\n",
    "\n",
    "# word_df = token_class.sequence_to_text(padded, index_word)\n",
    "# word_df.iloc[0,0]\n",
    "\n",
    "# index_word.get(3430)\n",
    "\n",
    "# padded\n",
    "\n",
    "# word_df\n",
    "\n",
    "# word_index\n",
    "\n",
    "# index_word\n",
    "\n",
    "# len(word_index)\n",
    "\n",
    "# type(padded)\n",
    "\n",
    "# padded.shape\n",
    "\n",
    "# np.amax(padded)\n",
    "\n",
    "# padded.max()\n",
    "\n",
    "# corpus_es_out[0]\n",
    "\n",
    "# padded[0,:]\n",
    "\n",
    "# es_out_padded.max()"
   ]
  },
  {
   "cell_type": "code",
   "execution_count": null,
   "metadata": {},
   "outputs": [],
   "source": []
  },
  {
   "cell_type": "code",
   "execution_count": null,
   "metadata": {},
   "outputs": [],
   "source": [
    "# es_out_padded"
   ]
  },
  {
   "cell_type": "code",
   "execution_count": null,
   "metadata": {},
   "outputs": [],
   "source": [
    "# import tensorflow as tf\n",
    "# # test for CuDNN\n",
    "# batch_size = 64\n",
    "# # Each MNIST image batch is a tensor of shape (batch_size, 28, 28).\n",
    "# # Each input sequence will be of size (28, 28) (height is treated like time).\n",
    "# input_dim = 28\n",
    "\n",
    "# units = 64\n",
    "# output_size = 10  # labels are from 0 to 9\n",
    "\n",
    "# # Build the RNN model\n",
    "# def build_model(allow_cudnn_kernel=True):\n",
    "#     # CuDNN is only available at the layer level, and not at the cell level.\n",
    "#     # This means `LSTM(units)` will use the CuDNN kernel,\n",
    "#     # while RNN(LSTMCell(units)) will run on non-CuDNN kernel.\n",
    "#     if allow_cudnn_kernel:\n",
    "#         # The LSTM layer with default options uses CuDNN.\n",
    "#         lstm_layer = tf.keras.layers.LSTM(units, input_shape=(None, input_dim))\n",
    "#     else:\n",
    "#         # Wrapping a LSTMCell in a RNN layer will not use CuDNN.\n",
    "# #         lstm_layer = tf.keras.layers.RNN(\n",
    "# #             tf.keras.layers.LSTMCell(units), input_shape=(None, input_dim)\n",
    "# #         )\n",
    "#         lstm_layer = tf.keras.layers.LSTM(units, input_shape=(None, input_dim), recurrent_dropout = 0)\n",
    "#     model = tf.keras.models.Sequential(\n",
    "#         [\n",
    "#             lstm_layer,\n",
    "#             tf.keras.layers.BatchNormalization(),\n",
    "#             tf.keras.layers.Dense(output_size),\n",
    "#         ]\n",
    "#     )\n",
    "#     return model"
   ]
  },
  {
   "cell_type": "code",
   "execution_count": null,
   "metadata": {},
   "outputs": [],
   "source": [
    "# mnist = tf.keras.datasets.mnist\n",
    "\n",
    "# (x_train, y_train), (x_test, y_test) = mnist.load_data()\n",
    "# x_train, x_test = x_train / 255.0, x_test / 255.0\n",
    "# sample, sample_label = x_train[0], y_train[0]"
   ]
  },
  {
   "cell_type": "code",
   "execution_count": null,
   "metadata": {},
   "outputs": [],
   "source": [
    "# model = build_model(allow_cudnn_kernel=True)\n",
    "\n",
    "# model.compile(\n",
    "#     loss=tf.keras.losses.SparseCategoricalCrossentropy(from_logits=True),\n",
    "#     optimizer=\"sgd\",\n",
    "#     metrics=[\"accuracy\"],\n",
    "# )\n",
    "\n",
    "\n",
    "# model.fit(\n",
    "#     x_train, y_train, validation_data=(x_test, y_test), batch_size=batch_size, epochs=1\n",
    "# )"
   ]
  },
  {
   "cell_type": "code",
   "execution_count": null,
   "metadata": {},
   "outputs": [],
   "source": [
    "# noncudnn_model = build_model(allow_cudnn_kernel=False)\n",
    "# noncudnn_model.set_weights(model.get_weights())\n",
    "# noncudnn_model.compile(\n",
    "#     loss=tf.keras.losses.SparseCategoricalCrossentropy(from_logits=True),\n",
    "#     optimizer=\"sgd\",\n",
    "#     metrics=[\"accuracy\"],\n",
    "# )\n",
    "# noncudnn_model.fit(\n",
    "#     x_train, y_train, validation_data=(x_test, y_test), batch_size=batch_size, epochs=1\n",
    "# )"
   ]
  },
  {
   "cell_type": "code",
   "execution_count": null,
   "metadata": {},
   "outputs": [],
   "source": []
  },
  {
   "cell_type": "code",
   "execution_count": null,
   "metadata": {},
   "outputs": [],
   "source": []
  },
  {
   "cell_type": "code",
   "execution_count": null,
   "metadata": {},
   "outputs": [],
   "source": []
  },
  {
   "cell_type": "code",
   "execution_count": null,
   "metadata": {},
   "outputs": [],
   "source": [
    "def token(corpus):\n",
    "    print(str(corpus))"
   ]
  },
  {
   "cell_type": "code",
   "execution_count": null,
   "metadata": {},
   "outputs": [],
   "source": []
  },
  {
   "cell_type": "code",
   "execution_count": null,
   "metadata": {},
   "outputs": [],
   "source": [
    "corpus_en_list.__dir__"
   ]
  },
  {
   "cell_type": "code",
   "execution_count": null,
   "metadata": {},
   "outputs": [],
   "source": [
    "dir(corpus_en_list)"
   ]
  },
  {
   "cell_type": "code",
   "execution_count": null,
   "metadata": {},
   "outputs": [],
   "source": [
    "token(corpus_en_list)"
   ]
  },
  {
   "cell_type": "code",
   "execution_count": null,
   "metadata": {},
   "outputs": [],
   "source": []
  },
  {
   "cell_type": "code",
   "execution_count": null,
   "metadata": {},
   "outputs": [],
   "source": []
  },
  {
   "cell_type": "code",
   "execution_count": null,
   "metadata": {},
   "outputs": [],
   "source": [
    "from tensorflow.keras.preprocessing.text import Tokenizer\n",
    "check_tokenizer = Tokenizer(filters='')\n",
    "check_tokenizer.fit_on_texts(corpus_en_list)\n",
    "word_index, word_count = check_tokenizer.word_index, check_tokenizer.word_counts\n",
    "print(f\"we got unique {len(word_index)} words\")\n",
    "MAX_WORD = 0\n",
    "for i in word_count.values():\n",
    "    if i > 5:\n",
    "        MAX_WORD += 1\n",
    "print(f\"we have {MAX_WORD} words appear more than 5 times\")"
   ]
  },
  {
   "cell_type": "code",
   "execution_count": null,
   "metadata": {},
   "outputs": [],
   "source": []
  },
  {
   "cell_type": "code",
   "execution_count": null,
   "metadata": {},
   "outputs": [],
   "source": [
    "check_tokenizer = Tokenizer(filters='')\n",
    "check_tokenizer.fit_on_texts(corpus_es_in)\n",
    "word_index, word_count = check_tokenizer.word_index, check_tokenizer.word_counts\n",
    "print(f\"we got unique {len(word_index)} words\")\n",
    "MAX_WORD = 0\n",
    "for i in word_count.values():\n",
    "    if i > 5:\n",
    "        MAX_WORD += 1\n",
    "print(f\"we have {MAX_WORD} words appear more than 5 times\")"
   ]
  },
  {
   "cell_type": "code",
   "execution_count": null,
   "metadata": {},
   "outputs": [],
   "source": []
  },
  {
   "cell_type": "code",
   "execution_count": null,
   "metadata": {},
   "outputs": [],
   "source": []
  },
  {
   "cell_type": "code",
   "execution_count": null,
   "metadata": {},
   "outputs": [],
   "source": [
    "import pandas as pd\n",
    "# df_1 = pd.read_csv(\"\")\n",
    "# f = open(\"03_data/europarl-v7.es-en.en\", \"r\")\n",
    "# print(f.read())\n",
    "df_1 = pd.read_json(\"03_data/europarl-v7.es-en.en\", orient = 'split')"
   ]
  },
  {
   "cell_type": "code",
   "execution_count": null,
   "metadata": {},
   "outputs": [],
   "source": [
    "df_1.shape"
   ]
  },
  {
   "cell_type": "code",
   "execution_count": null,
   "metadata": {},
   "outputs": [],
   "source": [
    "df_1.head(6)"
   ]
  },
  {
   "cell_type": "code",
   "execution_count": null,
   "metadata": {},
   "outputs": [],
   "source": [
    "f = open(\"03_data/europarl-v7.es-en.en\", \"r\",  encoding='utf-8')\n",
    "print(f.read())"
   ]
  },
  {
   "cell_type": "code",
   "execution_count": null,
   "metadata": {},
   "outputs": [],
   "source": [
    "with open('03_data/europarl-v7.es-en.en', 'r', encoding = 'utf-8') as f:\n",
    "    lines_1 = f.read().split('\\n')"
   ]
  },
  {
   "cell_type": "code",
   "execution_count": null,
   "metadata": {},
   "outputs": [],
   "source": [
    "# with open('03_data/europarl-v7.es-en.en', 'r') as f:\n",
    "#     lines_1 = f.read().split('\\n')"
   ]
  },
  {
   "cell_type": "code",
   "execution_count": null,
   "metadata": {},
   "outputs": [],
   "source": [
    "with open('03_data/europarl-v7.es-en.es', 'r', encoding = 'utf-8') as f:\n",
    "    lines_1 = f.read().split('\\n')"
   ]
  },
  {
   "cell_type": "code",
   "execution_count": null,
   "metadata": {},
   "outputs": [],
   "source": [
    "type(lines_1)"
   ]
  },
  {
   "cell_type": "code",
   "execution_count": null,
   "metadata": {},
   "outputs": [],
   "source": [
    "len(lines_1)"
   ]
  },
  {
   "cell_type": "code",
   "execution_count": null,
   "metadata": {},
   "outputs": [],
   "source": [
    "list_2 = lines_1[:-1]"
   ]
  },
  {
   "cell_type": "code",
   "execution_count": null,
   "metadata": {},
   "outputs": [],
   "source": [
    "len(list_2)"
   ]
  },
  {
   "cell_type": "code",
   "execution_count": null,
   "metadata": {},
   "outputs": [],
   "source": [
    "list_2[-1]"
   ]
  },
  {
   "cell_type": "code",
   "execution_count": null,
   "metadata": {},
   "outputs": [],
   "source": []
  }
 ],
 "metadata": {
  "kernelspec": {
   "display_name": "Python 3",
   "language": "python",
   "name": "python3"
  },
  "language_info": {
   "codemirror_mode": {
    "name": "ipython",
    "version": 3
   },
   "file_extension": ".py",
   "mimetype": "text/x-python",
   "name": "python",
   "nbconvert_exporter": "python",
   "pygments_lexer": "ipython3",
   "version": "3.7.9"
  }
 },
 "nbformat": 4,
 "nbformat_minor": 4
}
